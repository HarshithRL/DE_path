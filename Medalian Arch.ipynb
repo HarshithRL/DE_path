{
 "cells": [
  {
   "cell_type": "code",
   "execution_count": 0,
   "metadata": {
    "application/vnd.databricks.v1+cell": {
     "cellMetadata": {
      "byteLimit": 2048000,
      "rowLimit": 10000
     },
     "inputWidgets": {},
     "nuid": "a69ce010-906f-45fb-b626-1e8dff8e7786",
     "showTitle": false,
     "title": ""
    }
   },
   "outputs": [],
   "source": [
    "import requests\n",
    "from pyspark.sql import Row\n",
    "from pyspark.sql.functions import *\n",
    "from pyspark.sql.types import StructType, StructField, IntegerType,FloatType"
   ]
  },
  {
   "cell_type": "code",
   "execution_count": 0,
   "metadata": {
    "application/vnd.databricks.v1+cell": {
     "cellMetadata": {
      "byteLimit": 2048000,
      "rowLimit": 10000
     },
     "inputWidgets": {},
     "nuid": "1ece8620-aa12-44ff-8ebb-aa5e862d2f0d",
     "showTitle": false,
     "title": ""
    }
   },
   "outputs": [],
   "source": [
    "def read_file(fileformat,path,**options):\n",
    "    df=spark.read.format(fileformat).options(**options).load(path)\n",
    "    return df"
   ]
  },
  {
   "cell_type": "code",
   "execution_count": 0,
   "metadata": {
    "application/vnd.databricks.v1+cell": {
     "cellMetadata": {
      "byteLimit": 2048000,
      "rowLimit": 10000
     },
     "inputWidgets": {},
     "nuid": "75543d67-1f2c-4628-8457-532da66ced9e",
     "showTitle": false,
     "title": ""
    }
   },
   "outputs": [],
   "source": [
    "df_customer=spark.read.csv(\"dbfs:/FileStore/Customer.csv\",header=True)"
   ]
  },
  {
   "cell_type": "code",
   "execution_count": 0,
   "metadata": {
    "application/vnd.databricks.v1+cell": {
     "cellMetadata": {
      "byteLimit": 2048000,
      "rowLimit": 10000
     },
     "inputWidgets": {},
     "nuid": "b061c391-9a96-41cb-b02f-af095492d06e",
     "showTitle": false,
     "title": ""
    }
   },
   "outputs": [
    {
     "output_type": "stream",
     "name": "stdout",
     "output_type": "stream",
     "text": [
      "Out[50]: True"
     ]
    }
   ],
   "source": [
    "dbutils.fs.rm('dbfs:/FileStore/Arch/sliver' , True)"
   ]
  },
  {
   "cell_type": "code",
   "execution_count": 0,
   "metadata": {
    "application/vnd.databricks.v1+cell": {
     "cellMetadata": {
      "byteLimit": 2048000,
      "rowLimit": 10000
     },
     "inputWidgets": {},
     "nuid": "d3da561d-9b78-4fad-be5b-7db4439ba61a",
     "showTitle": false,
     "title": ""
    }
   },
   "outputs": [],
   "source": [
    "df_product=spark.read.csv('dbfs:/FileStore/Products.csv',header=True)"
   ]
  },
  {
   "cell_type": "code",
   "execution_count": 0,
   "metadata": {
    "application/vnd.databricks.v1+cell": {
     "cellMetadata": {
      "byteLimit": 2048000,
      "rowLimit": 10000
     },
     "inputWidgets": {},
     "nuid": "68b70a6a-daee-4f40-aba9-16aac980d1b0",
     "showTitle": false,
     "title": ""
    }
   },
   "outputs": [],
   "source": [
    "def write_file(df,Type,path):\n",
    "    df.write.format(Type).mode(\"overwrite\").save(path)"
   ]
  },
  {
   "cell_type": "code",
   "execution_count": 0,
   "metadata": {
    "application/vnd.databricks.v1+cell": {
     "cellMetadata": {
      "byteLimit": 2048000,
      "rowLimit": 10000
     },
     "inputWidgets": {},
     "nuid": "c0bf17af-b980-4f73-bbb3-bce9fbb9def7",
     "showTitle": false,
     "title": ""
    }
   },
   "outputs": [],
   "source": [
    "df_product.write.parquet('dbfs:/FileStore/Arch/Bronze/product')"
   ]
  },
  {
   "cell_type": "code",
   "execution_count": 0,
   "metadata": {
    "application/vnd.databricks.v1+cell": {
     "cellMetadata": {
      "byteLimit": 2048000,
      "rowLimit": 10000
     },
     "inputWidgets": {},
     "nuid": "114a2a05-07f4-44ab-8b4e-002570a92fad",
     "showTitle": false,
     "title": ""
    }
   },
   "outputs": [],
   "source": [
    "df_customer.write.parquet('dbfs:/FileStore/Arch/Bronze/Customer')"
   ]
  },
  {
   "cell_type": "code",
   "execution_count": 0,
   "metadata": {
    "application/vnd.databricks.v1+cell": {
     "cellMetadata": {
      "byteLimit": 2048000,
      "rowLimit": 10000
     },
     "inputWidgets": {},
     "nuid": "6c45da43-1e67-4197-b4bb-6cb2596d3fcb",
     "showTitle": false,
     "title": ""
    }
   },
   "outputs": [],
   "source": [
    "df_b_p=spark.read.parquet('dbfs:/FileStore/Arch/Bronze/product')"
   ]
  },
  {
   "cell_type": "code",
   "execution_count": 0,
   "metadata": {
    "application/vnd.databricks.v1+cell": {
     "cellMetadata": {
      "byteLimit": 2048000,
      "rowLimit": 10000
     },
     "inputWidgets": {},
     "nuid": "40c9d249-39ad-4215-8f64-f75847ee1f6d",
     "showTitle": false,
     "title": ""
    }
   },
   "outputs": [],
   "source": [
    "df_b_c=spark.read.parquet('dbfs:/FileStore/Arch/Bronze/Customer')"
   ]
  },
  {
   "cell_type": "code",
   "execution_count": 0,
   "metadata": {
    "application/vnd.databricks.v1+cell": {
     "cellMetadata": {
      "byteLimit": 2048000,
      "rowLimit": 10000
     },
     "inputWidgets": {},
     "nuid": "c5f5c100-4c01-41b2-ae2c-efb23bf5eaf0",
     "showTitle": false,
     "title": ""
    }
   },
   "outputs": [],
   "source": [
    "def null_per(df):\n",
    "    schema = StructType([ \\\n",
    "        StructField(\"Column\",StringType(),True), \\\n",
    "        StructField(\"Null_Percentage\",StringType(),True)\n",
    "    ])\n",
    "    emptyRDD = spark.sparkContext.emptyRDD()\n",
    "    resultdf = spark.createDataFrame([], schema=schema)\n",
    "    for i in df.columns:\n",
    "        df_count_null=df.select(col(i)).filter(col(i).isNull() | (col(i) == '')).count()\n",
    "        df_nnul= spark.createDataFrame([[f'{i}',f\"{df_count_null*100/df.count()} %\" ]],schema=schema)\n",
    "        resultdf=resultdf.union(df_nnul)\n",
    "    return resultdf.orderBy(desc(\"Null_Percentage\"))"
   ]
  },
  {
   "cell_type": "code",
   "execution_count": 0,
   "metadata": {
    "application/vnd.databricks.v1+cell": {
     "cellMetadata": {
      "byteLimit": 2048000,
      "rowLimit": 10000
     },
     "inputWidgets": {},
     "nuid": "3fc15867-e354-4728-8904-61f4a8c9e1d6",
     "showTitle": false,
     "title": ""
    }
   },
   "outputs": [
    {
     "output_type": "display_data",
     "data": {
      "text/html": [
       "<style scoped>\n",
       "  .table-result-container {\n",
       "    max-height: 300px;\n",
       "    overflow: auto;\n",
       "  }\n",
       "  table, th, td {\n",
       "    border: 1px solid black;\n",
       "    border-collapse: collapse;\n",
       "  }\n",
       "  th, td {\n",
       "    padding: 5px;\n",
       "  }\n",
       "  th {\n",
       "    text-align: left;\n",
       "  }\n",
       "</style><div class='table-result-container'><table class='table-result'><thead style='background-color: white'><tr><th>Column</th><th>Null_Percentage</th></tr></thead><tbody><tr><td>CustomerID</td><td>0.0 %</td></tr><tr><td>ProductID (FK)</td><td>0.0 %</td></tr><tr><td>Address</td><td>0.0 %</td></tr><tr><td>Phone</td><td>0.0 %</td></tr><tr><td>Email</td><td>0.0 %</td></tr><tr><td>Name</td><td>0.0 %</td></tr></tbody></table></div>"
      ]
     },
     "metadata": {
      "application/vnd.databricks.v1+output": {
       "addedWidgets": {},
       "aggData": [],
       "aggError": "",
       "aggOverflow": false,
       "aggSchema": [],
       "aggSeriesLimitReached": false,
       "aggType": "",
       "arguments": {},
       "columnCustomDisplayInfos": {},
       "data": [
        [
         "CustomerID",
         "0.0 %"
        ],
        [
         "ProductID (FK)",
         "0.0 %"
        ],
        [
         "Address",
         "0.0 %"
        ],
        [
         "Phone",
         "0.0 %"
        ],
        [
         "Email",
         "0.0 %"
        ],
        [
         "Name",
         "0.0 %"
        ]
       ],
       "datasetInfos": [],
       "dbfsResultPath": null,
       "isJsonSchema": true,
       "metadata": {},
       "overflow": false,
       "plotOptions": {
        "customPlotOptions": {},
        "displayType": "table",
        "pivotAggregation": null,
        "pivotColumns": null,
        "xColumns": null,
        "yColumns": null
       },
       "removedWidgets": [],
       "schema": [
        {
         "metadata": "{}",
         "name": "Column",
         "type": "\"string\""
        },
        {
         "metadata": "{}",
         "name": "Null_Percentage",
         "type": "\"string\""
        }
       ],
       "type": "table"
      }
     },
     "output_type": "display_data"
    }
   ],
   "source": [
    "null_per(df_b_c).display()"
   ]
  },
  {
   "cell_type": "code",
   "execution_count": 0,
   "metadata": {
    "application/vnd.databricks.v1+cell": {
     "cellMetadata": {
      "byteLimit": 2048000,
      "rowLimit": 10000
     },
     "inputWidgets": {},
     "nuid": "dbbc8c56-629b-4de3-ba56-8ff3caf1666e",
     "showTitle": false,
     "title": ""
    }
   },
   "outputs": [
    {
     "output_type": "display_data",
     "data": {
      "text/html": [
       "<style scoped>\n",
       "  .table-result-container {\n",
       "    max-height: 300px;\n",
       "    overflow: auto;\n",
       "  }\n",
       "  table, th, td {\n",
       "    border: 1px solid black;\n",
       "    border-collapse: collapse;\n",
       "  }\n",
       "  th, td {\n",
       "    padding: 5px;\n",
       "  }\n",
       "  th {\n",
       "    text-align: left;\n",
       "  }\n",
       "</style><div class='table-result-container'><table class='table-result'><thead style='background-color: white'><tr><th>Column</th><th>Null_Percentage</th></tr></thead><tbody><tr><td>ProductID</td><td>0.0 %</td></tr><tr><td>Stock</td><td>0.0 %</td></tr><tr><td>Price</td><td>0.0 %</td></tr><tr><td>Description</td><td>0.0 %</td></tr><tr><td>ProductName</td><td>0.0 %</td></tr></tbody></table></div>"
      ]
     },
     "metadata": {
      "application/vnd.databricks.v1+output": {
       "addedWidgets": {},
       "aggData": [],
       "aggError": "",
       "aggOverflow": false,
       "aggSchema": [],
       "aggSeriesLimitReached": false,
       "aggType": "",
       "arguments": {},
       "columnCustomDisplayInfos": {},
       "data": [
        [
         "ProductID",
         "0.0 %"
        ],
        [
         "Stock",
         "0.0 %"
        ],
        [
         "Price",
         "0.0 %"
        ],
        [
         "Description",
         "0.0 %"
        ],
        [
         "ProductName",
         "0.0 %"
        ]
       ],
       "datasetInfos": [],
       "dbfsResultPath": null,
       "isJsonSchema": true,
       "metadata": {},
       "overflow": false,
       "plotOptions": {
        "customPlotOptions": {},
        "displayType": "table",
        "pivotAggregation": null,
        "pivotColumns": null,
        "xColumns": null,
        "yColumns": null
       },
       "removedWidgets": [],
       "schema": [
        {
         "metadata": "{}",
         "name": "Column",
         "type": "\"string\""
        },
        {
         "metadata": "{}",
         "name": "Null_Percentage",
         "type": "\"string\""
        }
       ],
       "type": "table"
      }
     },
     "output_type": "display_data"
    }
   ],
   "source": [
    "null_per(df_b_p).display()"
   ]
  },
  {
   "cell_type": "code",
   "execution_count": 0,
   "metadata": {
    "application/vnd.databricks.v1+cell": {
     "cellMetadata": {
      "byteLimit": 2048000,
      "rowLimit": 10000
     },
     "inputWidgets": {},
     "nuid": "9e9e8778-c255-49b2-a561-185273686e5e",
     "showTitle": false,
     "title": ""
    }
   },
   "outputs": [],
   "source": [
    "def select_columns(df,*colmns):\n",
    "    return df.select(*colmns)"
   ]
  },
  {
   "cell_type": "code",
   "execution_count": 0,
   "metadata": {
    "application/vnd.databricks.v1+cell": {
     "cellMetadata": {
      "byteLimit": 2048000,
      "rowLimit": 10000
     },
     "inputWidgets": {},
     "nuid": "0221057a-a5d2-4515-afc5-964452d37dc2",
     "showTitle": false,
     "title": ""
    }
   },
   "outputs": [
    {
     "output_type": "display_data",
     "data": {
      "text/html": [
       "<style scoped>\n",
       "  .table-result-container {\n",
       "    max-height: 300px;\n",
       "    overflow: auto;\n",
       "  }\n",
       "  table, th, td {\n",
       "    border: 1px solid black;\n",
       "    border-collapse: collapse;\n",
       "  }\n",
       "  th, td {\n",
       "    padding: 5px;\n",
       "  }\n",
       "  th {\n",
       "    text-align: left;\n",
       "  }\n",
       "</style><div class='table-result-container'><table class='table-result'><thead style='background-color: white'><tr><th>ProductID</th><th>ProductName</th><th>Description</th><th>Price</th><th>Stock</th></tr></thead><tbody><tr><td>101</td><td>Widget A</td><td>High-quality widget</td><td>19.99</td><td>100</td></tr><tr><td>102</td><td>Widget B</td><td>Advanced widget with features</td><td>29.99</td><td>50</td></tr><tr><td>103</td><td>Widget C</td><td>Budget-friendly widget</td><td>14.99</td><td>200</td></tr><tr><td>104</td><td>Widget D</td><td>Widget for special use</td><td>39.99</td><td>25</td></tr><tr><td>105</td><td>Widget E</td><td>Compact and portable widget</td><td>24.99</td><td>75</td></tr><tr><td>106</td><td>Widget F</td><td>Wireless widget with Bluetooth</td><td>49.99</td><td>30</td></tr><tr><td>107</td><td>Widget G</td><td>Heavy-duty widget for industrial use</td><td>79.99</td><td>15</td></tr><tr><td>108</td><td>Widget H</td><td>Miniature pocket-sized widget</td><td>9.99</td><td>150</td></tr></tbody></table></div>"
      ]
     },
     "metadata": {
      "application/vnd.databricks.v1+output": {
       "addedWidgets": {},
       "aggData": [],
       "aggError": "",
       "aggOverflow": false,
       "aggSchema": [],
       "aggSeriesLimitReached": false,
       "aggType": "",
       "arguments": {},
       "columnCustomDisplayInfos": {},
       "data": [
        [
         "101",
         "Widget A",
         "High-quality widget",
         "19.99",
         "100"
        ],
        [
         "102",
         "Widget B",
         "Advanced widget with features",
         "29.99",
         "50"
        ],
        [
         "103",
         "Widget C",
         "Budget-friendly widget",
         "14.99",
         "200"
        ],
        [
         "104",
         "Widget D",
         "Widget for special use",
         "39.99",
         "25"
        ],
        [
         "105",
         "Widget E",
         "Compact and portable widget",
         "24.99",
         "75"
        ],
        [
         "106",
         "Widget F",
         "Wireless widget with Bluetooth",
         "49.99",
         "30"
        ],
        [
         "107",
         "Widget G",
         "Heavy-duty widget for industrial use",
         "79.99",
         "15"
        ],
        [
         "108",
         "Widget H",
         "Miniature pocket-sized widget",
         "9.99",
         "150"
        ]
       ],
       "datasetInfos": [],
       "dbfsResultPath": null,
       "isJsonSchema": true,
       "metadata": {},
       "overflow": false,
       "plotOptions": {
        "customPlotOptions": {},
        "displayType": "table",
        "pivotAggregation": null,
        "pivotColumns": null,
        "xColumns": null,
        "yColumns": null
       },
       "removedWidgets": [],
       "schema": [
        {
         "metadata": "{}",
         "name": "ProductID",
         "type": "\"string\""
        },
        {
         "metadata": "{}",
         "name": "ProductName",
         "type": "\"string\""
        },
        {
         "metadata": "{}",
         "name": "Description",
         "type": "\"string\""
        },
        {
         "metadata": "{}",
         "name": "Price",
         "type": "\"string\""
        },
        {
         "metadata": "{}",
         "name": "Stock",
         "type": "\"string\""
        }
       ],
       "type": "table"
      }
     },
     "output_type": "display_data"
    },
    {
     "output_type": "display_data",
     "data": {
      "text/html": [
       "<style scoped>\n",
       "  .table-result-container {\n",
       "    max-height: 300px;\n",
       "    overflow: auto;\n",
       "  }\n",
       "  table, th, td {\n",
       "    border: 1px solid black;\n",
       "    border-collapse: collapse;\n",
       "  }\n",
       "  th, td {\n",
       "    padding: 5px;\n",
       "  }\n",
       "  th {\n",
       "    text-align: left;\n",
       "  }\n",
       "</style><div class='table-result-container'><table class='table-result'><thead style='background-color: white'><tr><th>ProductID</th><th>ProductName</th><th>Price</th></tr></thead><tbody><tr><td>101</td><td>Widget A</td><td>19.99</td></tr><tr><td>102</td><td>Widget B</td><td>29.99</td></tr><tr><td>103</td><td>Widget C</td><td>14.99</td></tr><tr><td>104</td><td>Widget D</td><td>39.99</td></tr><tr><td>105</td><td>Widget E</td><td>24.99</td></tr><tr><td>106</td><td>Widget F</td><td>49.99</td></tr><tr><td>107</td><td>Widget G</td><td>79.99</td></tr><tr><td>108</td><td>Widget H</td><td>9.99</td></tr></tbody></table></div>"
      ]
     },
     "metadata": {
      "application/vnd.databricks.v1+output": {
       "addedWidgets": {},
       "aggData": [],
       "aggError": "",
       "aggOverflow": false,
       "aggSchema": [],
       "aggSeriesLimitReached": false,
       "aggType": "",
       "arguments": {},
       "columnCustomDisplayInfos": {},
       "data": [
        [
         "101",
         "Widget A",
         "19.99"
        ],
        [
         "102",
         "Widget B",
         "29.99"
        ],
        [
         "103",
         "Widget C",
         "14.99"
        ],
        [
         "104",
         "Widget D",
         "39.99"
        ],
        [
         "105",
         "Widget E",
         "24.99"
        ],
        [
         "106",
         "Widget F",
         "49.99"
        ],
        [
         "107",
         "Widget G",
         "79.99"
        ],
        [
         "108",
         "Widget H",
         "9.99"
        ]
       ],
       "datasetInfos": [],
       "dbfsResultPath": null,
       "isJsonSchema": true,
       "metadata": {},
       "overflow": false,
       "plotOptions": {
        "customPlotOptions": {},
        "displayType": "table",
        "pivotAggregation": null,
        "pivotColumns": null,
        "xColumns": null,
        "yColumns": null
       },
       "removedWidgets": [],
       "schema": [
        {
         "metadata": "{}",
         "name": "ProductID",
         "type": "\"string\""
        },
        {
         "metadata": "{}",
         "name": "ProductName",
         "type": "\"string\""
        },
        {
         "metadata": "{}",
         "name": "Price",
         "type": "\"string\""
        }
       ],
       "type": "table"
      }
     },
     "output_type": "display_data"
    },
    {
     "output_type": "display_data",
     "data": {
      "text/html": [
       "<style scoped>\n",
       "  .table-result-container {\n",
       "    max-height: 300px;\n",
       "    overflow: auto;\n",
       "  }\n",
       "  table, th, td {\n",
       "    border: 1px solid black;\n",
       "    border-collapse: collapse;\n",
       "  }\n",
       "  th, td {\n",
       "    padding: 5px;\n",
       "  }\n",
       "  th {\n",
       "    text-align: left;\n",
       "  }\n",
       "</style><div class='table-result-container'><table class='table-result'><thead style='background-color: white'><tr><th>ProductID</th><th>ProductName</th><th>Price</th></tr></thead><tbody><tr><td>101</td><td>Widget A</td><td>19.99</td></tr><tr><td>102</td><td>Widget B</td><td>29.99</td></tr><tr><td>103</td><td>Widget C</td><td>14.99</td></tr><tr><td>104</td><td>Widget D</td><td>39.99</td></tr><tr><td>105</td><td>Widget E</td><td>24.99</td></tr><tr><td>106</td><td>Widget F</td><td>49.99</td></tr><tr><td>107</td><td>Widget G</td><td>79.99</td></tr><tr><td>108</td><td>Widget H</td><td>9.99</td></tr></tbody></table></div>"
      ]
     },
     "metadata": {
      "application/vnd.databricks.v1+output": {
       "addedWidgets": {},
       "aggData": [],
       "aggError": "",
       "aggOverflow": false,
       "aggSchema": [],
       "aggSeriesLimitReached": false,
       "aggType": "",
       "arguments": {},
       "columnCustomDisplayInfos": {},
       "data": [
        [
         "101",
         "Widget A",
         "19.99"
        ],
        [
         "102",
         "Widget B",
         "29.99"
        ],
        [
         "103",
         "Widget C",
         "14.99"
        ],
        [
         "104",
         "Widget D",
         "39.99"
        ],
        [
         "105",
         "Widget E",
         "24.99"
        ],
        [
         "106",
         "Widget F",
         "49.99"
        ],
        [
         "107",
         "Widget G",
         "79.99"
        ],
        [
         "108",
         "Widget H",
         "9.99"
        ]
       ],
       "datasetInfos": [],
       "dbfsResultPath": null,
       "isJsonSchema": true,
       "metadata": {},
       "overflow": false,
       "plotOptions": {
        "customPlotOptions": {},
        "displayType": "table",
        "pivotAggregation": null,
        "pivotColumns": null,
        "xColumns": null,
        "yColumns": null
       },
       "removedWidgets": [],
       "schema": [
        {
         "metadata": "{}",
         "name": "ProductID",
         "type": "\"string\""
        },
        {
         "metadata": "{}",
         "name": "ProductName",
         "type": "\"string\""
        },
        {
         "metadata": "{}",
         "name": "Price",
         "type": "\"string\""
        }
       ],
       "type": "table"
      }
     },
     "output_type": "display_data"
    }
   ],
   "source": [
    "df_b_p.display()\n",
    "df_Product_needed=df_b_p.select('ProductID','ProductName','Price')\n",
    "df_Product_needed.display()\n",
    "select_columns(df_b_p,'ProductID','ProductName','Price').display()"
   ]
  },
  {
   "cell_type": "code",
   "execution_count": 0,
   "metadata": {
    "application/vnd.databricks.v1+cell": {
     "cellMetadata": {
      "byteLimit": 2048000,
      "rowLimit": 10000
     },
     "inputWidgets": {},
     "nuid": "da4dc553-eed5-405c-b2bd-7b35b638c782",
     "showTitle": false,
     "title": ""
    }
   },
   "outputs": [],
   "source": [
    "write_file(df_Product_needed,'parquet','dbfs:/FileStore/Arch/sliver/product')"
   ]
  },
  {
   "cell_type": "code",
   "execution_count": 0,
   "metadata": {
    "application/vnd.databricks.v1+cell": {
     "cellMetadata": {
      "byteLimit": 2048000,
      "rowLimit": 10000
     },
     "inputWidgets": {},
     "nuid": "1bd87d0d-e4bc-4e7f-9906-721ab4237060",
     "showTitle": false,
     "title": ""
    }
   },
   "outputs": [
    {
     "output_type": "display_data",
     "data": {
      "text/html": [
       "<style scoped>\n",
       "  .table-result-container {\n",
       "    max-height: 300px;\n",
       "    overflow: auto;\n",
       "  }\n",
       "  table, th, td {\n",
       "    border: 1px solid black;\n",
       "    border-collapse: collapse;\n",
       "  }\n",
       "  th, td {\n",
       "    padding: 5px;\n",
       "  }\n",
       "  th {\n",
       "    text-align: left;\n",
       "  }\n",
       "</style><div class='table-result-container'><table class='table-result'><thead style='background-color: white'><tr><th>CustomerID</th><th>Name</th><th>Email</th><th>Phone</th><th>Address</th><th>ProductID (FK)</th></tr></thead><tbody><tr><td>1</td><td>John Doe</td><td>johndoe@email.com</td><td>123-456-7890</td><td>123 Main St</td><td>101</td></tr><tr><td>2</td><td>Jane Smith</td><td>janesmith@email.com</td><td>987-654-3210</td><td>456 Elm St</td><td>102</td></tr><tr><td>3</td><td>Mark Johnson</td><td>markjohnson@email.com</td><td>555-123-7890</td><td>789 Oak St</td><td>101</td></tr><tr><td>4</td><td>Susan Lee</td><td>susanlee@email.com</td><td>777-888-9999</td><td>321 Pine St</td><td>104</td></tr><tr><td>5</td><td>David Wilson</td><td>davidwilson@email.com</td><td>444-555-6666</td><td>555 Birch St</td><td>103</td></tr><tr><td>6</td><td>Linda Brown</td><td>lindabrown@email.com</td><td>333-222-1111</td><td>678 Maple St</td><td>106</td></tr><tr><td>7</td><td>Michael Davis</td><td>michaeldavis@email.com</td><td>222-333-4444</td><td>987 Cedar St</td><td>107</td></tr><tr><td>8</td><td>Sarah White</td><td>sarahwhite@email.com</td><td>111-555-7777</td><td>222 Oak St</td><td>108</td></tr><tr><td>9</td><td>Chris Martin</td><td>chrismartin@email.com</td><td>777-666-5555</td><td>555 Elm St</td><td>101</td></tr><tr><td>10</td><td>Emily Thomas</td><td>emilythomas@email.com</td><td>444-888-2222</td><td>333 Pine St</td><td>102</td></tr><tr><td>11</td><td>James Wilson</td><td>jameswilson@email.com</td><td>999-888-7777</td><td>444 Oak St</td><td>103</td></tr><tr><td>12</td><td>Emma Roberts</td><td>emmaroberts@email.com</td><td>888-777-6666</td><td>777 Cedar St</td><td>104</td></tr><tr><td>13</td><td>Michael Johnson</td><td>michaeljohnson@email.com</td><td>666-555-4444</td><td>888 Elm St</td><td>105</td></tr><tr><td>14</td><td>Olivia Martin</td><td>oliviamartin@email.com</td><td>555-444-3333</td><td>999 Pine St</td><td>106</td></tr><tr><td>15</td><td>Ethan Davis</td><td>ethandavis@email.com</td><td>444-333-2222</td><td>111 Oak St</td><td>107</td></tr><tr><td>16</td><td>Sophia Wilson</td><td>sophiawilson@email.com</td><td>123-456-7890</td><td>123 Main St</td><td>108</td></tr><tr><td>17</td><td>William Smith</td><td>williamsmith@email.com</td><td>987-654-3210</td><td>456 Elm St</td><td>101</td></tr><tr><td>18</td><td>Oliver Johnson</td><td>oliverjohnson@email.com</td><td>555-123-7890</td><td>789 Oak St</td><td>102</td></tr><tr><td>19</td><td>Amelia Lee</td><td>amelialee@email.com</td><td>777-888-9999</td><td>321 Pine St</td><td>103</td></tr><tr><td>20</td><td>Ava Wilson</td><td>avawilson@email.com</td><td>444-555-6666</td><td>555 Birch St</td><td>104</td></tr><tr><td>21</td><td>Mia Brown</td><td>miabrown@email.com</td><td>333-222-1111</td><td>678 Maple St</td><td>105</td></tr><tr><td>22</td><td>Noah Davis</td><td>noahdavis@email.com</td><td>222-333-4444</td><td>987 Cedar St</td><td>106</td></tr><tr><td>23</td><td>Liam White</td><td>liamwhite@email.com</td><td>111-555-7777</td><td>222 Oak St</td><td>107</td></tr><tr><td>24</td><td>Charlotte Martin</td><td>charlottemartin@email.com</td><td>777-666-5555</td><td>555 Elm St</td><td>108</td></tr><tr><td>25</td><td>Harper Thomas</td><td>harperthomas@email.com</td><td>444-888-2222</td><td>333 Pine St</td><td>101</td></tr><tr><td>26</td><td>Abigail Wilson</td><td>abigailwilson@email.com</td><td>999-888-7777</td><td>444 Oak St</td><td>102</td></tr><tr><td>27</td><td>Isabella Roberts</td><td>isabellaroberts@email.com</td><td>888-777-6666</td><td>777 Cedar St</td><td>103</td></tr><tr><td>28</td><td>Sofia Johnson</td><td>sofiajohnson@email.com</td><td>666-555-4444</td><td>888 Elm St</td><td>104</td></tr><tr><td>29</td><td>Scarlett Martin</td><td>scarlettmartin@email.com</td><td>555-444-3333</td><td>999 Pine St</td><td>105</td></tr><tr><td>30</td><td>Grace Davis</td><td>gracedavis@email.com</td><td>444-333-2222</td><td>111 Oak St</td><td>106</td></tr><tr><td>31</td><td>Liam Smith</td><td>liamsmith@email.com</td><td>333-222-1111</td><td>123 Main St</td><td>107</td></tr><tr><td>32</td><td>Henry Davis</td><td>henrydavis@email.com</td><td>222-333-4444</td><td>456 Elm St</td><td>108</td></tr><tr><td>33</td><td>Emma White</td><td>emmawhite@email.com</td><td>111-555-7777</td><td>789 Oak St</td><td>101</td></tr><tr><td>34</td><td>Sophia Martin</td><td>sophiamartin@email.com</td><td>777-666-5555</td><td>321 Pine St</td><td>102</td></tr><tr><td>35</td><td>Oliver Wilson</td><td>oliverwilson@email.com</td><td>444-888-2222</td><td>555 Birch St</td><td>103</td></tr><tr><td>36</td><td>Noah Roberts</td><td>noahroberts@email.com</td><td>999-888-7777</td><td>678 Maple St</td><td>104</td></tr><tr><td>37</td><td>Mia Johnson</td><td>miajohnson@email.com</td><td>666-555-4444</td><td>987 Cedar St</td><td>105</td></tr><tr><td>38</td><td>Amelia Brown</td><td>ameliabrown@email.com</td><td>555-444-3333</td><td>222 Oak St</td><td>106</td></tr><tr><td>39</td><td>Harper Davis</td><td>harperdavis@email.com</td><td>444-333-2222</td><td>111 Oak St</td><td>107</td></tr><tr><td>40</td><td>Abigail Smith</td><td>abigailsmith@email.com</td><td>333-222-1111</td><td>444 Oak St</td><td>108</td></tr></tbody></table></div>"
      ]
     },
     "metadata": {
      "application/vnd.databricks.v1+output": {
       "addedWidgets": {},
       "aggData": [],
       "aggError": "",
       "aggOverflow": false,
       "aggSchema": [],
       "aggSeriesLimitReached": false,
       "aggType": "",
       "arguments": {},
       "columnCustomDisplayInfos": {},
       "data": [
        [
         "1",
         "John Doe",
         "johndoe@email.com",
         "123-456-7890",
         "123 Main St",
         "101"
        ],
        [
         "2",
         "Jane Smith",
         "janesmith@email.com",
         "987-654-3210",
         "456 Elm St",
         "102"
        ],
        [
         "3",
         "Mark Johnson",
         "markjohnson@email.com",
         "555-123-7890",
         "789 Oak St",
         "101"
        ],
        [
         "4",
         "Susan Lee",
         "susanlee@email.com",
         "777-888-9999",
         "321 Pine St",
         "104"
        ],
        [
         "5",
         "David Wilson",
         "davidwilson@email.com",
         "444-555-6666",
         "555 Birch St",
         "103"
        ],
        [
         "6",
         "Linda Brown",
         "lindabrown@email.com",
         "333-222-1111",
         "678 Maple St",
         "106"
        ],
        [
         "7",
         "Michael Davis",
         "michaeldavis@email.com",
         "222-333-4444",
         "987 Cedar St",
         "107"
        ],
        [
         "8",
         "Sarah White",
         "sarahwhite@email.com",
         "111-555-7777",
         "222 Oak St",
         "108"
        ],
        [
         "9",
         "Chris Martin",
         "chrismartin@email.com",
         "777-666-5555",
         "555 Elm St",
         "101"
        ],
        [
         "10",
         "Emily Thomas",
         "emilythomas@email.com",
         "444-888-2222",
         "333 Pine St",
         "102"
        ],
        [
         "11",
         "James Wilson",
         "jameswilson@email.com",
         "999-888-7777",
         "444 Oak St",
         "103"
        ],
        [
         "12",
         "Emma Roberts",
         "emmaroberts@email.com",
         "888-777-6666",
         "777 Cedar St",
         "104"
        ],
        [
         "13",
         "Michael Johnson",
         "michaeljohnson@email.com",
         "666-555-4444",
         "888 Elm St",
         "105"
        ],
        [
         "14",
         "Olivia Martin",
         "oliviamartin@email.com",
         "555-444-3333",
         "999 Pine St",
         "106"
        ],
        [
         "15",
         "Ethan Davis",
         "ethandavis@email.com",
         "444-333-2222",
         "111 Oak St",
         "107"
        ],
        [
         "16",
         "Sophia Wilson",
         "sophiawilson@email.com",
         "123-456-7890",
         "123 Main St",
         "108"
        ],
        [
         "17",
         "William Smith",
         "williamsmith@email.com",
         "987-654-3210",
         "456 Elm St",
         "101"
        ],
        [
         "18",
         "Oliver Johnson",
         "oliverjohnson@email.com",
         "555-123-7890",
         "789 Oak St",
         "102"
        ],
        [
         "19",
         "Amelia Lee",
         "amelialee@email.com",
         "777-888-9999",
         "321 Pine St",
         "103"
        ],
        [
         "20",
         "Ava Wilson",
         "avawilson@email.com",
         "444-555-6666",
         "555 Birch St",
         "104"
        ],
        [
         "21",
         "Mia Brown",
         "miabrown@email.com",
         "333-222-1111",
         "678 Maple St",
         "105"
        ],
        [
         "22",
         "Noah Davis",
         "noahdavis@email.com",
         "222-333-4444",
         "987 Cedar St",
         "106"
        ],
        [
         "23",
         "Liam White",
         "liamwhite@email.com",
         "111-555-7777",
         "222 Oak St",
         "107"
        ],
        [
         "24",
         "Charlotte Martin",
         "charlottemartin@email.com",
         "777-666-5555",
         "555 Elm St",
         "108"
        ],
        [
         "25",
         "Harper Thomas",
         "harperthomas@email.com",
         "444-888-2222",
         "333 Pine St",
         "101"
        ],
        [
         "26",
         "Abigail Wilson",
         "abigailwilson@email.com",
         "999-888-7777",
         "444 Oak St",
         "102"
        ],
        [
         "27",
         "Isabella Roberts",
         "isabellaroberts@email.com",
         "888-777-6666",
         "777 Cedar St",
         "103"
        ],
        [
         "28",
         "Sofia Johnson",
         "sofiajohnson@email.com",
         "666-555-4444",
         "888 Elm St",
         "104"
        ],
        [
         "29",
         "Scarlett Martin",
         "scarlettmartin@email.com",
         "555-444-3333",
         "999 Pine St",
         "105"
        ],
        [
         "30",
         "Grace Davis",
         "gracedavis@email.com",
         "444-333-2222",
         "111 Oak St",
         "106"
        ],
        [
         "31",
         "Liam Smith",
         "liamsmith@email.com",
         "333-222-1111",
         "123 Main St",
         "107"
        ],
        [
         "32",
         "Henry Davis",
         "henrydavis@email.com",
         "222-333-4444",
         "456 Elm St",
         "108"
        ],
        [
         "33",
         "Emma White",
         "emmawhite@email.com",
         "111-555-7777",
         "789 Oak St",
         "101"
        ],
        [
         "34",
         "Sophia Martin",
         "sophiamartin@email.com",
         "777-666-5555",
         "321 Pine St",
         "102"
        ],
        [
         "35",
         "Oliver Wilson",
         "oliverwilson@email.com",
         "444-888-2222",
         "555 Birch St",
         "103"
        ],
        [
         "36",
         "Noah Roberts",
         "noahroberts@email.com",
         "999-888-7777",
         "678 Maple St",
         "104"
        ],
        [
         "37",
         "Mia Johnson",
         "miajohnson@email.com",
         "666-555-4444",
         "987 Cedar St",
         "105"
        ],
        [
         "38",
         "Amelia Brown",
         "ameliabrown@email.com",
         "555-444-3333",
         "222 Oak St",
         "106"
        ],
        [
         "39",
         "Harper Davis",
         "harperdavis@email.com",
         "444-333-2222",
         "111 Oak St",
         "107"
        ],
        [
         "40",
         "Abigail Smith",
         "abigailsmith@email.com",
         "333-222-1111",
         "444 Oak St",
         "108"
        ]
       ],
       "datasetInfos": [],
       "dbfsResultPath": null,
       "isJsonSchema": true,
       "metadata": {},
       "overflow": false,
       "plotOptions": {
        "customPlotOptions": {},
        "displayType": "table",
        "pivotAggregation": null,
        "pivotColumns": null,
        "xColumns": null,
        "yColumns": null
       },
       "removedWidgets": [],
       "schema": [
        {
         "metadata": "{}",
         "name": "CustomerID",
         "type": "\"string\""
        },
        {
         "metadata": "{}",
         "name": "Name",
         "type": "\"string\""
        },
        {
         "metadata": "{}",
         "name": "Email",
         "type": "\"string\""
        },
        {
         "metadata": "{}",
         "name": "Phone",
         "type": "\"string\""
        },
        {
         "metadata": "{}",
         "name": "Address",
         "type": "\"string\""
        },
        {
         "metadata": "{}",
         "name": "ProductID (FK)",
         "type": "\"string\""
        }
       ],
       "type": "table"
      }
     },
     "output_type": "display_data"
    },
    {
     "output_type": "display_data",
     "data": {
      "text/html": [
       "<style scoped>\n",
       "  .table-result-container {\n",
       "    max-height: 300px;\n",
       "    overflow: auto;\n",
       "  }\n",
       "  table, th, td {\n",
       "    border: 1px solid black;\n",
       "    border-collapse: collapse;\n",
       "  }\n",
       "  th, td {\n",
       "    padding: 5px;\n",
       "  }\n",
       "  th {\n",
       "    text-align: left;\n",
       "  }\n",
       "</style><div class='table-result-container'><table class='table-result'><thead style='background-color: white'><tr><th>CustomerID</th><th>Name</th><th>ProductID (FK)</th></tr></thead><tbody><tr><td>1</td><td>John Doe</td><td>101</td></tr><tr><td>2</td><td>Jane Smith</td><td>102</td></tr><tr><td>3</td><td>Mark Johnson</td><td>101</td></tr><tr><td>4</td><td>Susan Lee</td><td>104</td></tr><tr><td>5</td><td>David Wilson</td><td>103</td></tr><tr><td>6</td><td>Linda Brown</td><td>106</td></tr><tr><td>7</td><td>Michael Davis</td><td>107</td></tr><tr><td>8</td><td>Sarah White</td><td>108</td></tr><tr><td>9</td><td>Chris Martin</td><td>101</td></tr><tr><td>10</td><td>Emily Thomas</td><td>102</td></tr><tr><td>11</td><td>James Wilson</td><td>103</td></tr><tr><td>12</td><td>Emma Roberts</td><td>104</td></tr><tr><td>13</td><td>Michael Johnson</td><td>105</td></tr><tr><td>14</td><td>Olivia Martin</td><td>106</td></tr><tr><td>15</td><td>Ethan Davis</td><td>107</td></tr><tr><td>16</td><td>Sophia Wilson</td><td>108</td></tr><tr><td>17</td><td>William Smith</td><td>101</td></tr><tr><td>18</td><td>Oliver Johnson</td><td>102</td></tr><tr><td>19</td><td>Amelia Lee</td><td>103</td></tr><tr><td>20</td><td>Ava Wilson</td><td>104</td></tr><tr><td>21</td><td>Mia Brown</td><td>105</td></tr><tr><td>22</td><td>Noah Davis</td><td>106</td></tr><tr><td>23</td><td>Liam White</td><td>107</td></tr><tr><td>24</td><td>Charlotte Martin</td><td>108</td></tr><tr><td>25</td><td>Harper Thomas</td><td>101</td></tr><tr><td>26</td><td>Abigail Wilson</td><td>102</td></tr><tr><td>27</td><td>Isabella Roberts</td><td>103</td></tr><tr><td>28</td><td>Sofia Johnson</td><td>104</td></tr><tr><td>29</td><td>Scarlett Martin</td><td>105</td></tr><tr><td>30</td><td>Grace Davis</td><td>106</td></tr><tr><td>31</td><td>Liam Smith</td><td>107</td></tr><tr><td>32</td><td>Henry Davis</td><td>108</td></tr><tr><td>33</td><td>Emma White</td><td>101</td></tr><tr><td>34</td><td>Sophia Martin</td><td>102</td></tr><tr><td>35</td><td>Oliver Wilson</td><td>103</td></tr><tr><td>36</td><td>Noah Roberts</td><td>104</td></tr><tr><td>37</td><td>Mia Johnson</td><td>105</td></tr><tr><td>38</td><td>Amelia Brown</td><td>106</td></tr><tr><td>39</td><td>Harper Davis</td><td>107</td></tr><tr><td>40</td><td>Abigail Smith</td><td>108</td></tr></tbody></table></div>"
      ]
     },
     "metadata": {
      "application/vnd.databricks.v1+output": {
       "addedWidgets": {},
       "aggData": [],
       "aggError": "",
       "aggOverflow": false,
       "aggSchema": [],
       "aggSeriesLimitReached": false,
       "aggType": "",
       "arguments": {},
       "columnCustomDisplayInfos": {},
       "data": [
        [
         "1",
         "John Doe",
         "101"
        ],
        [
         "2",
         "Jane Smith",
         "102"
        ],
        [
         "3",
         "Mark Johnson",
         "101"
        ],
        [
         "4",
         "Susan Lee",
         "104"
        ],
        [
         "5",
         "David Wilson",
         "103"
        ],
        [
         "6",
         "Linda Brown",
         "106"
        ],
        [
         "7",
         "Michael Davis",
         "107"
        ],
        [
         "8",
         "Sarah White",
         "108"
        ],
        [
         "9",
         "Chris Martin",
         "101"
        ],
        [
         "10",
         "Emily Thomas",
         "102"
        ],
        [
         "11",
         "James Wilson",
         "103"
        ],
        [
         "12",
         "Emma Roberts",
         "104"
        ],
        [
         "13",
         "Michael Johnson",
         "105"
        ],
        [
         "14",
         "Olivia Martin",
         "106"
        ],
        [
         "15",
         "Ethan Davis",
         "107"
        ],
        [
         "16",
         "Sophia Wilson",
         "108"
        ],
        [
         "17",
         "William Smith",
         "101"
        ],
        [
         "18",
         "Oliver Johnson",
         "102"
        ],
        [
         "19",
         "Amelia Lee",
         "103"
        ],
        [
         "20",
         "Ava Wilson",
         "104"
        ],
        [
         "21",
         "Mia Brown",
         "105"
        ],
        [
         "22",
         "Noah Davis",
         "106"
        ],
        [
         "23",
         "Liam White",
         "107"
        ],
        [
         "24",
         "Charlotte Martin",
         "108"
        ],
        [
         "25",
         "Harper Thomas",
         "101"
        ],
        [
         "26",
         "Abigail Wilson",
         "102"
        ],
        [
         "27",
         "Isabella Roberts",
         "103"
        ],
        [
         "28",
         "Sofia Johnson",
         "104"
        ],
        [
         "29",
         "Scarlett Martin",
         "105"
        ],
        [
         "30",
         "Grace Davis",
         "106"
        ],
        [
         "31",
         "Liam Smith",
         "107"
        ],
        [
         "32",
         "Henry Davis",
         "108"
        ],
        [
         "33",
         "Emma White",
         "101"
        ],
        [
         "34",
         "Sophia Martin",
         "102"
        ],
        [
         "35",
         "Oliver Wilson",
         "103"
        ],
        [
         "36",
         "Noah Roberts",
         "104"
        ],
        [
         "37",
         "Mia Johnson",
         "105"
        ],
        [
         "38",
         "Amelia Brown",
         "106"
        ],
        [
         "39",
         "Harper Davis",
         "107"
        ],
        [
         "40",
         "Abigail Smith",
         "108"
        ]
       ],
       "datasetInfos": [],
       "dbfsResultPath": null,
       "isJsonSchema": true,
       "metadata": {},
       "overflow": false,
       "plotOptions": {
        "customPlotOptions": {},
        "displayType": "table",
        "pivotAggregation": null,
        "pivotColumns": null,
        "xColumns": null,
        "yColumns": null
       },
       "removedWidgets": [],
       "schema": [
        {
         "metadata": "{}",
         "name": "CustomerID",
         "type": "\"string\""
        },
        {
         "metadata": "{}",
         "name": "Name",
         "type": "\"string\""
        },
        {
         "metadata": "{}",
         "name": "ProductID (FK)",
         "type": "\"string\""
        }
       ],
       "type": "table"
      }
     },
     "output_type": "display_data"
    }
   ],
   "source": [
    "df_b_c.display()\n",
    "df_Customer_needed=df_b_c.select('CustomerID','Name','ProductID (FK)')\n",
    "df_Customer_needed.display()"
   ]
  },
  {
   "cell_type": "code",
   "execution_count": 0,
   "metadata": {
    "application/vnd.databricks.v1+cell": {
     "cellMetadata": {
      "byteLimit": 2048000,
      "rowLimit": 10000
     },
     "inputWidgets": {},
     "nuid": "0a23f15f-869e-48b2-8b98-a96bb36844c5",
     "showTitle": false,
     "title": ""
    }
   },
   "outputs": [],
   "source": [
    "def join_table(df1,df2,df1_common_column,df2_common_column,join_type):\n",
    "    return df1.join(df2, df1[df1_common_column] == df2[df2_common_column],join_type)"
   ]
  },
  {
   "cell_type": "code",
   "execution_count": 0,
   "metadata": {
    "application/vnd.databricks.v1+cell": {
     "cellMetadata": {
      "byteLimit": 2048000,
      "rowLimit": 10000
     },
     "inputWidgets": {},
     "nuid": "0b4cbb9b-5c4a-4caa-aa03-4ade1f97dd93",
     "showTitle": false,
     "title": ""
    }
   },
   "outputs": [],
   "source": [
    "joined_df = df_Customer_needed.join(df_Product_needed, df_Customer_needed[\"ProductID (FK)\"] == df_Product_needed[\"ProductID\"], \"left\")\n"
   ]
  },
  {
   "cell_type": "code",
   "execution_count": 0,
   "metadata": {
    "application/vnd.databricks.v1+cell": {
     "cellMetadata": {
      "byteLimit": 2048000,
      "rowLimit": 10000
     },
     "inputWidgets": {},
     "nuid": "28eebb84-c8e4-43d4-8677-6163e3211b7a",
     "showTitle": false,
     "title": ""
    }
   },
   "outputs": [
    {
     "output_type": "display_data",
     "data": {
      "text/html": [
       "<style scoped>\n",
       "  .table-result-container {\n",
       "    max-height: 300px;\n",
       "    overflow: auto;\n",
       "  }\n",
       "  table, th, td {\n",
       "    border: 1px solid black;\n",
       "    border-collapse: collapse;\n",
       "  }\n",
       "  th, td {\n",
       "    padding: 5px;\n",
       "  }\n",
       "  th {\n",
       "    text-align: left;\n",
       "  }\n",
       "</style><div class='table-result-container'><table class='table-result'><thead style='background-color: white'><tr><th>CustomerID</th><th>Name</th><th>ProductID (FK)</th><th>ProductID</th><th>ProductName</th><th>Price</th></tr></thead><tbody><tr><td>1</td><td>John Doe</td><td>101</td><td>101</td><td>Widget A</td><td>19.99</td></tr><tr><td>2</td><td>Jane Smith</td><td>102</td><td>102</td><td>Widget B</td><td>29.99</td></tr><tr><td>3</td><td>Mark Johnson</td><td>101</td><td>101</td><td>Widget A</td><td>19.99</td></tr><tr><td>4</td><td>Susan Lee</td><td>104</td><td>104</td><td>Widget D</td><td>39.99</td></tr><tr><td>5</td><td>David Wilson</td><td>103</td><td>103</td><td>Widget C</td><td>14.99</td></tr><tr><td>6</td><td>Linda Brown</td><td>106</td><td>106</td><td>Widget F</td><td>49.99</td></tr><tr><td>7</td><td>Michael Davis</td><td>107</td><td>107</td><td>Widget G</td><td>79.99</td></tr><tr><td>8</td><td>Sarah White</td><td>108</td><td>108</td><td>Widget H</td><td>9.99</td></tr><tr><td>9</td><td>Chris Martin</td><td>101</td><td>101</td><td>Widget A</td><td>19.99</td></tr><tr><td>10</td><td>Emily Thomas</td><td>102</td><td>102</td><td>Widget B</td><td>29.99</td></tr><tr><td>11</td><td>James Wilson</td><td>103</td><td>103</td><td>Widget C</td><td>14.99</td></tr><tr><td>12</td><td>Emma Roberts</td><td>104</td><td>104</td><td>Widget D</td><td>39.99</td></tr><tr><td>13</td><td>Michael Johnson</td><td>105</td><td>105</td><td>Widget E</td><td>24.99</td></tr><tr><td>14</td><td>Olivia Martin</td><td>106</td><td>106</td><td>Widget F</td><td>49.99</td></tr><tr><td>15</td><td>Ethan Davis</td><td>107</td><td>107</td><td>Widget G</td><td>79.99</td></tr><tr><td>16</td><td>Sophia Wilson</td><td>108</td><td>108</td><td>Widget H</td><td>9.99</td></tr><tr><td>17</td><td>William Smith</td><td>101</td><td>101</td><td>Widget A</td><td>19.99</td></tr><tr><td>18</td><td>Oliver Johnson</td><td>102</td><td>102</td><td>Widget B</td><td>29.99</td></tr><tr><td>19</td><td>Amelia Lee</td><td>103</td><td>103</td><td>Widget C</td><td>14.99</td></tr><tr><td>20</td><td>Ava Wilson</td><td>104</td><td>104</td><td>Widget D</td><td>39.99</td></tr><tr><td>21</td><td>Mia Brown</td><td>105</td><td>105</td><td>Widget E</td><td>24.99</td></tr><tr><td>22</td><td>Noah Davis</td><td>106</td><td>106</td><td>Widget F</td><td>49.99</td></tr><tr><td>23</td><td>Liam White</td><td>107</td><td>107</td><td>Widget G</td><td>79.99</td></tr><tr><td>24</td><td>Charlotte Martin</td><td>108</td><td>108</td><td>Widget H</td><td>9.99</td></tr><tr><td>25</td><td>Harper Thomas</td><td>101</td><td>101</td><td>Widget A</td><td>19.99</td></tr><tr><td>26</td><td>Abigail Wilson</td><td>102</td><td>102</td><td>Widget B</td><td>29.99</td></tr><tr><td>27</td><td>Isabella Roberts</td><td>103</td><td>103</td><td>Widget C</td><td>14.99</td></tr><tr><td>28</td><td>Sofia Johnson</td><td>104</td><td>104</td><td>Widget D</td><td>39.99</td></tr><tr><td>29</td><td>Scarlett Martin</td><td>105</td><td>105</td><td>Widget E</td><td>24.99</td></tr><tr><td>30</td><td>Grace Davis</td><td>106</td><td>106</td><td>Widget F</td><td>49.99</td></tr><tr><td>31</td><td>Liam Smith</td><td>107</td><td>107</td><td>Widget G</td><td>79.99</td></tr><tr><td>32</td><td>Henry Davis</td><td>108</td><td>108</td><td>Widget H</td><td>9.99</td></tr><tr><td>33</td><td>Emma White</td><td>101</td><td>101</td><td>Widget A</td><td>19.99</td></tr><tr><td>34</td><td>Sophia Martin</td><td>102</td><td>102</td><td>Widget B</td><td>29.99</td></tr><tr><td>35</td><td>Oliver Wilson</td><td>103</td><td>103</td><td>Widget C</td><td>14.99</td></tr><tr><td>36</td><td>Noah Roberts</td><td>104</td><td>104</td><td>Widget D</td><td>39.99</td></tr><tr><td>37</td><td>Mia Johnson</td><td>105</td><td>105</td><td>Widget E</td><td>24.99</td></tr><tr><td>38</td><td>Amelia Brown</td><td>106</td><td>106</td><td>Widget F</td><td>49.99</td></tr><tr><td>39</td><td>Harper Davis</td><td>107</td><td>107</td><td>Widget G</td><td>79.99</td></tr><tr><td>40</td><td>Abigail Smith</td><td>108</td><td>108</td><td>Widget H</td><td>9.99</td></tr></tbody></table></div>"
      ]
     },
     "metadata": {
      "application/vnd.databricks.v1+output": {
       "addedWidgets": {},
       "aggData": [],
       "aggError": "",
       "aggOverflow": false,
       "aggSchema": [],
       "aggSeriesLimitReached": false,
       "aggType": "",
       "arguments": {},
       "columnCustomDisplayInfos": {},
       "data": [
        [
         "1",
         "John Doe",
         "101",
         "101",
         "Widget A",
         "19.99"
        ],
        [
         "2",
         "Jane Smith",
         "102",
         "102",
         "Widget B",
         "29.99"
        ],
        [
         "3",
         "Mark Johnson",
         "101",
         "101",
         "Widget A",
         "19.99"
        ],
        [
         "4",
         "Susan Lee",
         "104",
         "104",
         "Widget D",
         "39.99"
        ],
        [
         "5",
         "David Wilson",
         "103",
         "103",
         "Widget C",
         "14.99"
        ],
        [
         "6",
         "Linda Brown",
         "106",
         "106",
         "Widget F",
         "49.99"
        ],
        [
         "7",
         "Michael Davis",
         "107",
         "107",
         "Widget G",
         "79.99"
        ],
        [
         "8",
         "Sarah White",
         "108",
         "108",
         "Widget H",
         "9.99"
        ],
        [
         "9",
         "Chris Martin",
         "101",
         "101",
         "Widget A",
         "19.99"
        ],
        [
         "10",
         "Emily Thomas",
         "102",
         "102",
         "Widget B",
         "29.99"
        ],
        [
         "11",
         "James Wilson",
         "103",
         "103",
         "Widget C",
         "14.99"
        ],
        [
         "12",
         "Emma Roberts",
         "104",
         "104",
         "Widget D",
         "39.99"
        ],
        [
         "13",
         "Michael Johnson",
         "105",
         "105",
         "Widget E",
         "24.99"
        ],
        [
         "14",
         "Olivia Martin",
         "106",
         "106",
         "Widget F",
         "49.99"
        ],
        [
         "15",
         "Ethan Davis",
         "107",
         "107",
         "Widget G",
         "79.99"
        ],
        [
         "16",
         "Sophia Wilson",
         "108",
         "108",
         "Widget H",
         "9.99"
        ],
        [
         "17",
         "William Smith",
         "101",
         "101",
         "Widget A",
         "19.99"
        ],
        [
         "18",
         "Oliver Johnson",
         "102",
         "102",
         "Widget B",
         "29.99"
        ],
        [
         "19",
         "Amelia Lee",
         "103",
         "103",
         "Widget C",
         "14.99"
        ],
        [
         "20",
         "Ava Wilson",
         "104",
         "104",
         "Widget D",
         "39.99"
        ],
        [
         "21",
         "Mia Brown",
         "105",
         "105",
         "Widget E",
         "24.99"
        ],
        [
         "22",
         "Noah Davis",
         "106",
         "106",
         "Widget F",
         "49.99"
        ],
        [
         "23",
         "Liam White",
         "107",
         "107",
         "Widget G",
         "79.99"
        ],
        [
         "24",
         "Charlotte Martin",
         "108",
         "108",
         "Widget H",
         "9.99"
        ],
        [
         "25",
         "Harper Thomas",
         "101",
         "101",
         "Widget A",
         "19.99"
        ],
        [
         "26",
         "Abigail Wilson",
         "102",
         "102",
         "Widget B",
         "29.99"
        ],
        [
         "27",
         "Isabella Roberts",
         "103",
         "103",
         "Widget C",
         "14.99"
        ],
        [
         "28",
         "Sofia Johnson",
         "104",
         "104",
         "Widget D",
         "39.99"
        ],
        [
         "29",
         "Scarlett Martin",
         "105",
         "105",
         "Widget E",
         "24.99"
        ],
        [
         "30",
         "Grace Davis",
         "106",
         "106",
         "Widget F",
         "49.99"
        ],
        [
         "31",
         "Liam Smith",
         "107",
         "107",
         "Widget G",
         "79.99"
        ],
        [
         "32",
         "Henry Davis",
         "108",
         "108",
         "Widget H",
         "9.99"
        ],
        [
         "33",
         "Emma White",
         "101",
         "101",
         "Widget A",
         "19.99"
        ],
        [
         "34",
         "Sophia Martin",
         "102",
         "102",
         "Widget B",
         "29.99"
        ],
        [
         "35",
         "Oliver Wilson",
         "103",
         "103",
         "Widget C",
         "14.99"
        ],
        [
         "36",
         "Noah Roberts",
         "104",
         "104",
         "Widget D",
         "39.99"
        ],
        [
         "37",
         "Mia Johnson",
         "105",
         "105",
         "Widget E",
         "24.99"
        ],
        [
         "38",
         "Amelia Brown",
         "106",
         "106",
         "Widget F",
         "49.99"
        ],
        [
         "39",
         "Harper Davis",
         "107",
         "107",
         "Widget G",
         "79.99"
        ],
        [
         "40",
         "Abigail Smith",
         "108",
         "108",
         "Widget H",
         "9.99"
        ]
       ],
       "datasetInfos": [],
       "dbfsResultPath": null,
       "isJsonSchema": true,
       "metadata": {},
       "overflow": false,
       "plotOptions": {
        "customPlotOptions": {},
        "displayType": "table",
        "pivotAggregation": null,
        "pivotColumns": null,
        "xColumns": null,
        "yColumns": null
       },
       "removedWidgets": [],
       "schema": [
        {
         "metadata": "{}",
         "name": "CustomerID",
         "type": "\"string\""
        },
        {
         "metadata": "{}",
         "name": "Name",
         "type": "\"string\""
        },
        {
         "metadata": "{}",
         "name": "ProductID (FK)",
         "type": "\"string\""
        },
        {
         "metadata": "{}",
         "name": "ProductID",
         "type": "\"string\""
        },
        {
         "metadata": "{}",
         "name": "ProductName",
         "type": "\"string\""
        },
        {
         "metadata": "{}",
         "name": "Price",
         "type": "\"string\""
        }
       ],
       "type": "table"
      }
     },
     "output_type": "display_data"
    }
   ],
   "source": [
    "joined_df.display()"
   ]
  },
  {
   "cell_type": "code",
   "execution_count": 0,
   "metadata": {
    "application/vnd.databricks.v1+cell": {
     "cellMetadata": {
      "byteLimit": 2048000,
      "rowLimit": 10000
     },
     "inputWidgets": {},
     "nuid": "2a1ccfb9-2e63-4aaa-8014-2e622f077c75",
     "showTitle": false,
     "title": ""
    }
   },
   "outputs": [],
   "source": [
    "def group_and_aggregate(df, group_columns, aggregation_columns):\n",
    "    group_expr = [df[col] for col in group_columns]\n",
    "    aggregation_expr = [agg(col).alias(f'total_{col}') for col, agg in aggregation_columns]\n",
    "    grouped_df = df.groupBy(*group_expr).agg(*aggregation_expr)\n",
    "    return grouped_df"
   ]
  },
  {
   "cell_type": "code",
   "execution_count": 0,
   "metadata": {
    "application/vnd.databricks.v1+cell": {
     "cellMetadata": {
      "byteLimit": 2048000,
      "rowLimit": 10000
     },
     "inputWidgets": {},
     "nuid": "c1cf32e0-132a-41c4-ba2a-22906af4076b",
     "showTitle": false,
     "title": ""
    }
   },
   "outputs": [],
   "source": [
    "group_columns = ['ProductID', 'ProductName']\n",
    "aggregation_columns = [\n",
    "    ('Price', sum),\n",
    "    ('CustomerID', count)\n",
    "]"
   ]
  },
  {
   "cell_type": "code",
   "execution_count": 0,
   "metadata": {
    "application/vnd.databricks.v1+cell": {
     "cellMetadata": {
      "byteLimit": 2048000,
      "rowLimit": 10000
     },
     "inputWidgets": {},
     "nuid": "a95ae9fc-0ff7-4326-88cc-fffd74e1ada5",
     "showTitle": false,
     "title": ""
    }
   },
   "outputs": [
    {
     "output_type": "display_data",
     "data": {
      "text/html": [
       "<style scoped>\n",
       "  .table-result-container {\n",
       "    max-height: 300px;\n",
       "    overflow: auto;\n",
       "  }\n",
       "  table, th, td {\n",
       "    border: 1px solid black;\n",
       "    border-collapse: collapse;\n",
       "  }\n",
       "  th, td {\n",
       "    padding: 5px;\n",
       "  }\n",
       "  th {\n",
       "    text-align: left;\n",
       "  }\n",
       "</style><div class='table-result-container'><table class='table-result'><thead style='background-color: white'><tr><th>ProductID</th><th>ProductName</th><th>total_Price</th><th>total_CustomerID</th></tr></thead><tbody><tr><td>104</td><td>Widget D</td><td>199.95000000000002</td><td>5</td></tr><tr><td>107</td><td>Widget G</td><td>399.95</td><td>5</td></tr><tr><td>105</td><td>Widget E</td><td>99.96</td><td>4</td></tr><tr><td>106</td><td>Widget F</td><td>249.95000000000002</td><td>5</td></tr><tr><td>101</td><td>Widget A</td><td>119.93999999999998</td><td>6</td></tr><tr><td>103</td><td>Widget C</td><td>74.95</td><td>5</td></tr><tr><td>102</td><td>Widget B</td><td>149.95</td><td>5</td></tr><tr><td>108</td><td>Widget H</td><td>49.95</td><td>5</td></tr></tbody></table></div>"
      ]
     },
     "metadata": {
      "application/vnd.databricks.v1+output": {
       "addedWidgets": {},
       "aggData": [],
       "aggError": "",
       "aggOverflow": false,
       "aggSchema": [],
       "aggSeriesLimitReached": false,
       "aggType": "",
       "arguments": {},
       "columnCustomDisplayInfos": {},
       "data": [
        [
         "104",
         "Widget D",
         199.95000000000002,
         5
        ],
        [
         "107",
         "Widget G",
         399.95,
         5
        ],
        [
         "105",
         "Widget E",
         99.96,
         4
        ],
        [
         "106",
         "Widget F",
         249.95000000000002,
         5
        ],
        [
         "101",
         "Widget A",
         119.93999999999998,
         6
        ],
        [
         "103",
         "Widget C",
         74.95,
         5
        ],
        [
         "102",
         "Widget B",
         149.95,
         5
        ],
        [
         "108",
         "Widget H",
         49.95,
         5
        ]
       ],
       "datasetInfos": [],
       "dbfsResultPath": null,
       "isJsonSchema": true,
       "metadata": {},
       "overflow": false,
       "plotOptions": {
        "customPlotOptions": {},
        "displayType": "table",
        "pivotAggregation": null,
        "pivotColumns": null,
        "xColumns": null,
        "yColumns": null
       },
       "removedWidgets": [],
       "schema": [
        {
         "metadata": "{}",
         "name": "ProductID",
         "type": "\"string\""
        },
        {
         "metadata": "{}",
         "name": "ProductName",
         "type": "\"string\""
        },
        {
         "metadata": "{}",
         "name": "total_Price",
         "type": "\"double\""
        },
        {
         "metadata": "{}",
         "name": "total_CustomerID",
         "type": "\"long\""
        }
       ],
       "type": "table"
      }
     },
     "output_type": "display_data"
    }
   ],
   "source": [
    "grouped_df = group_and_aggregate(joined_df, group_columns, aggregation_columns)\n",
    "grouped_df.display()"
   ]
  },
  {
   "cell_type": "code",
   "execution_count": 0,
   "metadata": {
    "application/vnd.databricks.v1+cell": {
     "cellMetadata": {
      "byteLimit": 2048000,
      "rowLimit": 10000
     },
     "inputWidgets": {},
     "nuid": "90c2fa91-c245-4bb7-a0b1-995c1a076d35",
     "showTitle": false,
     "title": ""
    }
   },
   "outputs": [],
   "source": [
    "grouped_df = joined_df.groupBy('ProductID', 'ProductName').agg(\n",
    "    sum('Price').alias('total_price'),\n",
    "    count('CustomerID').alias('total_customers')\n",
    ")"
   ]
  },
  {
   "cell_type": "code",
   "execution_count": 0,
   "metadata": {
    "application/vnd.databricks.v1+cell": {
     "cellMetadata": {
      "byteLimit": 2048000,
      "rowLimit": 10000
     },
     "inputWidgets": {},
     "nuid": "c0a46407-be6d-4120-b866-5e7ef9b01130",
     "showTitle": false,
     "title": ""
    }
   },
   "outputs": [
    {
     "output_type": "display_data",
     "data": {
      "text/html": [
       "<style scoped>\n",
       "  .table-result-container {\n",
       "    max-height: 300px;\n",
       "    overflow: auto;\n",
       "  }\n",
       "  table, th, td {\n",
       "    border: 1px solid black;\n",
       "    border-collapse: collapse;\n",
       "  }\n",
       "  th, td {\n",
       "    padding: 5px;\n",
       "  }\n",
       "  th {\n",
       "    text-align: left;\n",
       "  }\n",
       "</style><div class='table-result-container'><table class='table-result'><thead style='background-color: white'><tr><th>ProductID</th><th>ProductName</th><th>total_price</th><th>total_customers</th></tr></thead><tbody><tr><td>104</td><td>Widget D</td><td>199.95000000000002</td><td>5</td></tr><tr><td>107</td><td>Widget G</td><td>399.95</td><td>5</td></tr><tr><td>105</td><td>Widget E</td><td>99.96</td><td>4</td></tr><tr><td>106</td><td>Widget F</td><td>249.95000000000002</td><td>5</td></tr><tr><td>101</td><td>Widget A</td><td>119.93999999999998</td><td>6</td></tr><tr><td>103</td><td>Widget C</td><td>74.95</td><td>5</td></tr><tr><td>102</td><td>Widget B</td><td>149.95</td><td>5</td></tr><tr><td>108</td><td>Widget H</td><td>49.95</td><td>5</td></tr></tbody></table></div>"
      ]
     },
     "metadata": {
      "application/vnd.databricks.v1+output": {
       "addedWidgets": {},
       "aggData": [],
       "aggError": "",
       "aggOverflow": false,
       "aggSchema": [],
       "aggSeriesLimitReached": false,
       "aggType": "",
       "arguments": {},
       "columnCustomDisplayInfos": {},
       "data": [
        [
         "104",
         "Widget D",
         199.95000000000002,
         5
        ],
        [
         "107",
         "Widget G",
         399.95,
         5
        ],
        [
         "105",
         "Widget E",
         99.96,
         4
        ],
        [
         "106",
         "Widget F",
         249.95000000000002,
         5
        ],
        [
         "101",
         "Widget A",
         119.93999999999998,
         6
        ],
        [
         "103",
         "Widget C",
         74.95,
         5
        ],
        [
         "102",
         "Widget B",
         149.95,
         5
        ],
        [
         "108",
         "Widget H",
         49.95,
         5
        ]
       ],
       "datasetInfos": [],
       "dbfsResultPath": null,
       "isJsonSchema": true,
       "metadata": {},
       "overflow": false,
       "plotOptions": {
        "customPlotOptions": {},
        "displayType": "table",
        "pivotAggregation": null,
        "pivotColumns": null,
        "xColumns": null,
        "yColumns": null
       },
       "removedWidgets": [],
       "schema": [
        {
         "metadata": "{}",
         "name": "ProductID",
         "type": "\"string\""
        },
        {
         "metadata": "{}",
         "name": "ProductName",
         "type": "\"string\""
        },
        {
         "metadata": "{}",
         "name": "total_price",
         "type": "\"double\""
        },
        {
         "metadata": "{}",
         "name": "total_customers",
         "type": "\"long\""
        }
       ],
       "type": "table"
      }
     },
     "output_type": "display_data"
    }
   ],
   "source": [
    "grouped_df.display()"
   ]
  },
  {
   "cell_type": "code",
   "execution_count": 0,
   "metadata": {
    "application/vnd.databricks.v1+cell": {
     "cellMetadata": {},
     "inputWidgets": {},
     "nuid": "ddc5a540-f959-40a2-ad25-a793f34a0c0e",
     "showTitle": false,
     "title": ""
    }
   },
   "outputs": [],
   "source": [
    "def read_file(fileformat,path,**options):\n",
    "    df=spark.read.format(fileformat).options(**options).load(path)\n",
    "    return df"
   ]
  },
  {
   "cell_type": "code",
   "execution_count": 0,
   "metadata": {
    "application/vnd.databricks.v1+cell": {
     "cellMetadata": {},
     "inputWidgets": {},
     "nuid": "735dc3bf-8b95-479f-8011-6c131a6dc87b",
     "showTitle": false,
     "title": ""
    }
   },
   "outputs": [],
   "source": [
    "def null_per(df):\n",
    "    schema = StructType([ \\\n",
    "        StructField(\"Column\",StringType(),True), \\\n",
    "        StructField(\"Null_Percentage\",StringType(),True)\n",
    "    ])\n",
    "    emptyRDD = spark.sparkContext.emptyRDD()\n",
    "    resultdf = spark.createDataFrame([], schema=schema)\n",
    "    for i in df.columns:\n",
    "        df_count_null=df.select(col(i)).filter(col(i).isNull() | (col(i) == '')).count()\n",
    "        df_nnul= spark.createDataFrame([[f'{i}',f\"{df_count_null*100/df.count()} %\" ]],schema=schema)\n",
    "        resultdf=resultdf.union(df_nnul)\n",
    "    return resultdf.orderBy(desc(\"Null_Percentage\"))"
   ]
  },
  {
   "cell_type": "code",
   "execution_count": 0,
   "metadata": {
    "application/vnd.databricks.v1+cell": {
     "cellMetadata": {},
     "inputWidgets": {},
     "nuid": "72bc4826-3980-4fa7-b829-1314af3797a6",
     "showTitle": false,
     "title": ""
    }
   },
   "outputs": [],
   "source": [
    "def select_columns(df,*colmns):\n",
    "    return df.select(*colmns)"
   ]
  },
  {
   "cell_type": "code",
   "execution_count": 0,
   "metadata": {
    "application/vnd.databricks.v1+cell": {
     "cellMetadata": {},
     "inputWidgets": {},
     "nuid": "7d002ea5-c8cb-4d05-bb76-8a7fd2bcc6cb",
     "showTitle": false,
     "title": ""
    }
   },
   "outputs": [],
   "source": [
    "def join_table(df1,df2,df1_common_column,df2_common_column,join_type):\n",
    "    return df1.join(df2, df1[df1_common_column] == df2[df2_common_column],join_type)"
   ]
  },
  {
   "cell_type": "code",
   "execution_count": 0,
   "metadata": {
    "application/vnd.databricks.v1+cell": {
     "cellMetadata": {},
     "inputWidgets": {},
     "nuid": "e74c7542-a50f-4392-a695-6e6410baf3bd",
     "showTitle": false,
     "title": ""
    }
   },
   "outputs": [],
   "source": [
    "def group_and_aggregate(df, group_columns, aggregation_columns):\n",
    "    group_expr = [df[col] for col in group_columns]\n",
    "    aggregation_expr = [agg(col).alias(f'total_{col}') for col, agg in aggregation_columns]\n",
    "    grouped_df = df.groupBy(*group_expr).agg(*aggregation_expr)\n",
    "    return grouped_df"
   ]
  },
  {
   "cell_type": "code",
   "execution_count": 0,
   "metadata": {
    "application/vnd.databricks.v1+cell": {
     "cellMetadata": {},
     "inputWidgets": {},
     "nuid": "db98e2d9-3ce1-4819-bc2a-2be5221a4ec2",
     "showTitle": false,
     "title": ""
    }
   },
   "outputs": [],
   "source": [
    "def write_file(df,Type,path):\n",
    "    df.write.format(Type).mode(\"overwrite\").save(path)"
   ]
  },
  {
   "cell_type": "code",
   "execution_count": 0,
   "metadata": {
    "application/vnd.databricks.v1+cell": {
     "cellMetadata": {},
     "inputWidgets": {},
     "nuid": "69f3a383-a2b5-44b0-b26d-ff8ba175d05e",
     "showTitle": false,
     "title": ""
    }
   },
   "outputs": [],
   "source": []
  }
 ],
 "metadata": {
  "application/vnd.databricks.v1+notebook": {
   "dashboards": [],
   "language": "python",
   "notebookMetadata": {
    "pythonIndentUnit": 4
   },
   "notebookName": "Medalian Arch",
   "widgets": {}
  }
 },
 "nbformat": 4,
 "nbformat_minor": 0
}
