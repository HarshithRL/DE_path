{
 "cells": [
  {
   "cell_type": "code",
   "execution_count": 0,
   "metadata": {
    "application/vnd.databricks.v1+cell": {
     "cellMetadata": {
      "byteLimit": 2048000,
      "rowLimit": 10000
     },
     "inputWidgets": {},
     "nuid": "7e6ad6dc-117f-403a-976b-d96c892d511e",
     "showTitle": false,
     "title": ""
    }
   },
   "outputs": [],
   "source": [
    "from pyspark.sql.types import StructType, StructField, StringType, IntegerType\n",
    "from pyspark.sql.functions import lit,col,expr\n",
    "from delta.tables import DeltaTable"
   ]
  },
  {
   "cell_type": "code",
   "execution_count": 0,
   "metadata": {
    "application/vnd.databricks.v1+cell": {
     "cellMetadata": {
      "byteLimit": 2048000,
      "rowLimit": 10000
     },
     "inputWidgets": {},
     "nuid": "169ae41b-28b1-4013-9f73-79cf4c771416",
     "showTitle": false,
     "title": ""
    }
   },
   "outputs": [
    {
     "output_type": "stream",
     "name": "stdout",
     "output_type": "stream",
     "text": [
      "+-----------+-------------+------------+--------+----+\n|employee_id|employee_name|employee_age|month_no|Flag|\n+-----------+-------------+------------+--------+----+\n|      dgb01|        luffy|          20|       1|   A|\n|      dgb02|         zoro|          22|       1|   A|\n|      dgb03|        sanji|          22|       1|   A|\n+-----------+-------------+------------+--------+----+\n\n"
     ]
    }
   ],
   "source": [
    "data_month_1 = [\n",
    "  ('dgb01', 'luffy', 20, 1,'A'), \n",
    "  ('dgb02', 'zoro', 22, 1,'A'),\n",
    "  ('dgb03', 'sanji', 22, 1,'A')\n",
    "        ]\n",
    "schema = StructType([\n",
    "  StructField('employee_id', StringType(), True),\n",
    "  StructField('employee_name', StringType(), True),\n",
    "  StructField('employee_age', IntegerType(), True),\n",
    "  StructField('month_no', IntegerType(), True),\n",
    "  StructField('Flag', StringType(), True)\n",
    "])\n",
    "df_month_1 = spark.createDataFrame(data_month_1, schema)\n",
    "df_month_1.show()"
   ]
  },
  {
   "cell_type": "code",
   "execution_count": 0,
   "metadata": {
    "application/vnd.databricks.v1+cell": {
     "cellMetadata": {
      "byteLimit": 2048000,
      "rowLimit": 10000
     },
     "inputWidgets": {},
     "nuid": "18b341a3-b4c1-4719-b6c7-7a2706ae15af",
     "showTitle": false,
     "title": ""
    }
   },
   "outputs": [
    {
     "output_type": "stream",
     "name": "stdout",
     "output_type": "stream",
     "text": [
      "Out[1]: True"
     ]
    }
   ],
   "source": [
    "dbutils.fs.rm('dbfs:/FileStore/streaming_data/stream_read/std_dt1.xlsx')"
   ]
  },
  {
   "cell_type": "code",
   "execution_count": 0,
   "metadata": {
    "application/vnd.databricks.v1+cell": {
     "cellMetadata": {
      "byteLimit": 2048000,
      "rowLimit": 10000
     },
     "inputWidgets": {},
     "nuid": "63b13068-e222-47cc-bd4d-431cbf458fe6",
     "showTitle": false,
     "title": ""
    }
   },
   "outputs": [],
   "source": [
    "df_month_1.write.mode(\"overwrite\").format(\"delta\").option(\"path\",'dbfs:/FileStore/delta_table2').saveAsTable('scd2')"
   ]
  },
  {
   "cell_type": "code",
   "execution_count": 0,
   "metadata": {
    "application/vnd.databricks.v1+cell": {
     "cellMetadata": {
      "byteLimit": 2048000,
      "rowLimit": 10000
     },
     "inputWidgets": {},
     "nuid": "d779be81-ea03-43ad-824b-3893ee641603",
     "showTitle": false,
     "title": ""
    }
   },
   "outputs": [
    {
     "output_type": "stream",
     "name": "stdout",
     "output_type": "stream",
     "text": [
      "Out[3]: True"
     ]
    }
   ],
   "source": [
    "dbutils.fs.rm('dbfs:/FileStore/delta_table2',True)"
   ]
  },
  {
   "cell_type": "code",
   "execution_count": 0,
   "metadata": {
    "application/vnd.databricks.v1+cell": {
     "cellMetadata": {
      "byteLimit": 2048000,
      "implicitDf": true,
      "rowLimit": 10000
     },
     "inputWidgets": {},
     "nuid": "8c4dcaf6-6866-42dd-a2f4-44526ea9b091",
     "showTitle": false,
     "title": ""
    }
   },
   "outputs": [
    {
     "output_type": "display_data",
     "data": {
      "text/html": [
       "<style scoped>\n",
       "  .table-result-container {\n",
       "    max-height: 300px;\n",
       "    overflow: auto;\n",
       "  }\n",
       "  table, th, td {\n",
       "    border: 1px solid black;\n",
       "    border-collapse: collapse;\n",
       "  }\n",
       "  th, td {\n",
       "    padding: 5px;\n",
       "  }\n",
       "  th {\n",
       "    text-align: left;\n",
       "  }\n",
       "</style><div class='table-result-container'><table class='table-result'><thead style='background-color: white'><tr><th>employee_id</th><th>employee_name</th><th>employee_age</th><th>month_no</th><th>Flag</th></tr></thead><tbody><tr><td>dgb01</td><td>luffy</td><td>20</td><td>1</td><td>A</td></tr><tr><td>dgb03</td><td>sanji</td><td>22</td><td>1</td><td>A</td></tr><tr><td>dgb02</td><td>zoro</td><td>22</td><td>1</td><td>A</td></tr></tbody></table></div>"
      ]
     },
     "metadata": {
      "application/vnd.databricks.v1+output": {
       "addedWidgets": {},
       "aggData": [],
       "aggError": "",
       "aggOverflow": false,
       "aggSchema": [],
       "aggSeriesLimitReached": false,
       "aggType": "",
       "arguments": {},
       "columnCustomDisplayInfos": {},
       "data": [
        [
         "dgb01",
         "luffy",
         20,
         1,
         "A"
        ],
        [
         "dgb03",
         "sanji",
         22,
         1,
         "A"
        ],
        [
         "dgb02",
         "zoro",
         22,
         1,
         "A"
        ]
       ],
       "datasetInfos": [],
       "dbfsResultPath": null,
       "isJsonSchema": true,
       "metadata": {},
       "overflow": false,
       "plotOptions": {
        "customPlotOptions": {},
        "displayType": "table",
        "pivotAggregation": null,
        "pivotColumns": null,
        "xColumns": null,
        "yColumns": null
       },
       "removedWidgets": [],
       "schema": [
        {
         "metadata": "{}",
         "name": "employee_id",
         "type": "\"string\""
        },
        {
         "metadata": "{}",
         "name": "employee_name",
         "type": "\"string\""
        },
        {
         "metadata": "{}",
         "name": "employee_age",
         "type": "\"integer\""
        },
        {
         "metadata": "{}",
         "name": "month_no",
         "type": "\"integer\""
        },
        {
         "metadata": "{}",
         "name": "Flag",
         "type": "\"string\""
        }
       ],
       "type": "table"
      }
     },
     "output_type": "display_data"
    }
   ],
   "source": [
    "%sql\n",
    "select * from scd2"
   ]
  },
  {
   "cell_type": "code",
   "execution_count": 0,
   "metadata": {
    "application/vnd.databricks.v1+cell": {
     "cellMetadata": {
      "byteLimit": 2048000,
      "rowLimit": 10000
     },
     "inputWidgets": {},
     "nuid": "e12c85c4-326e-4a61-b765-8ff79c5e36d0",
     "showTitle": false,
     "title": ""
    }
   },
   "outputs": [],
   "source": [
    "deltaTable_main = DeltaTable.forPath(spark, 'dbfs:/FileStore/delta_table2')"
   ]
  },
  {
   "cell_type": "code",
   "execution_count": 0,
   "metadata": {
    "application/vnd.databricks.v1+cell": {
     "cellMetadata": {
      "byteLimit": 2048000,
      "rowLimit": 10000
     },
     "inputWidgets": {},
     "nuid": "c5d183b4-c813-463d-8a22-181a0663fd22",
     "showTitle": false,
     "title": ""
    }
   },
   "outputs": [
    {
     "output_type": "stream",
     "name": "stdout",
     "output_type": "stream",
     "text": [
      "+-----------+-------------+------------+--------+\n|employee_id|employee_name|employee_age|month_no|\n+-----------+-------------+------------+--------+\n|      dgb01|        luffy|          20|       1|\n|      dgb02|    lost zoro|          22|       1|\n|      dgb04|          Ace|          22|       1|\n+-----------+-------------+------------+--------+\n\n"
     ]
    }
   ],
   "source": [
    "data_month_2 = [\n",
    "  ('dgb01', 'luffy', 20, 1), \n",
    "  ('dgb02', 'lost zoro', 22, 1),\n",
    "  ('dgb04', 'Ace', 22, 1)\n",
    "        ]\n",
    "schema = StructType([\n",
    "  StructField('employee_id', StringType(), True),\n",
    "  StructField('employee_name', StringType(), True),\n",
    "  StructField('employee_age', IntegerType(), True),\n",
    "  StructField('month_no', IntegerType(), True)\n",
    "])\n",
    "df_month_2 = spark.createDataFrame(data_month_2, schema)\n",
    "df_month_2.show()"
   ]
  },
  {
   "cell_type": "code",
   "execution_count": 0,
   "metadata": {
    "application/vnd.databricks.v1+cell": {
     "cellMetadata": {
      "byteLimit": 2048000,
      "rowLimit": 10000
     },
     "inputWidgets": {},
     "nuid": "39d5f975-b512-4289-8136-050a3b803ef0",
     "showTitle": false,
     "title": ""
    }
   },
   "outputs": [],
   "source": [
    "newAddressesToInsert = df_month_2.alias(\"updates\").join(deltaTable_main.toDF().alias(\"main\"), \"employee_id\").where(\"main.Flag = 'A' AND updates.employee_name <> main.employee_name\")"
   ]
  },
  {
   "cell_type": "code",
   "execution_count": 0,
   "metadata": {
    "application/vnd.databricks.v1+cell": {
     "cellMetadata": {
      "byteLimit": 2048000,
      "rowLimit": 10000
     },
     "inputWidgets": {},
     "nuid": "8916332a-8de2-469a-aa3e-b52d307b0f2b",
     "showTitle": false,
     "title": ""
    }
   },
   "outputs": [
    {
     "output_type": "display_data",
     "data": {
      "text/html": [
       "<style scoped>\n",
       "  .table-result-container {\n",
       "    max-height: 300px;\n",
       "    overflow: auto;\n",
       "  }\n",
       "  table, th, td {\n",
       "    border: 1px solid black;\n",
       "    border-collapse: collapse;\n",
       "  }\n",
       "  th, td {\n",
       "    padding: 5px;\n",
       "  }\n",
       "  th {\n",
       "    text-align: left;\n",
       "  }\n",
       "</style><div class='table-result-container'><table class='table-result'><thead style='background-color: white'><tr><th>employee_id</th><th>employee_name</th><th>employee_age</th><th>month_no</th><th>employee_name</th><th>employee_age</th><th>month_no</th><th>Flag</th></tr></thead><tbody><tr><td>dgb02</td><td>lost zoro</td><td>22</td><td>1</td><td>zoro</td><td>22</td><td>1</td><td>A</td></tr></tbody></table></div>"
      ]
     },
     "metadata": {
      "application/vnd.databricks.v1+output": {
       "addedWidgets": {},
       "aggData": [],
       "aggError": "",
       "aggOverflow": false,
       "aggSchema": [],
       "aggSeriesLimitReached": false,
       "aggType": "",
       "arguments": {},
       "columnCustomDisplayInfos": {},
       "data": [
        [
         "dgb02",
         "lost zoro",
         22,
         1,
         "zoro",
         22,
         1,
         "A"
        ]
       ],
       "datasetInfos": [],
       "dbfsResultPath": null,
       "isJsonSchema": true,
       "metadata": {},
       "overflow": false,
       "plotOptions": {
        "customPlotOptions": {},
        "displayType": "table",
        "pivotAggregation": null,
        "pivotColumns": null,
        "xColumns": null,
        "yColumns": null
       },
       "removedWidgets": [],
       "schema": [
        {
         "metadata": "{}",
         "name": "employee_id",
         "type": "\"string\""
        },
        {
         "metadata": "{}",
         "name": "employee_name",
         "type": "\"string\""
        },
        {
         "metadata": "{}",
         "name": "employee_age",
         "type": "\"integer\""
        },
        {
         "metadata": "{}",
         "name": "month_no",
         "type": "\"integer\""
        },
        {
         "metadata": "{}",
         "name": "employee_name",
         "type": "\"string\""
        },
        {
         "metadata": "{}",
         "name": "employee_age",
         "type": "\"integer\""
        },
        {
         "metadata": "{}",
         "name": "month_no",
         "type": "\"integer\""
        },
        {
         "metadata": "{}",
         "name": "Flag",
         "type": "\"string\""
        }
       ],
       "type": "table"
      }
     },
     "output_type": "display_data"
    }
   ],
   "source": [
    "#with where condition\n",
    "newAddressesToInsert.display()"
   ]
  },
  {
   "cell_type": "code",
   "execution_count": 0,
   "metadata": {
    "application/vnd.databricks.v1+cell": {
     "cellMetadata": {
      "byteLimit": 2048000,
      "rowLimit": 10000
     },
     "inputWidgets": {},
     "nuid": "8122e006-7d7b-4ccd-bff6-ac945eb2cae2",
     "showTitle": false,
     "title": ""
    }
   },
   "outputs": [
    {
     "output_type": "display_data",
     "data": {
      "text/html": [
       "<style scoped>\n",
       "  .table-result-container {\n",
       "    max-height: 300px;\n",
       "    overflow: auto;\n",
       "  }\n",
       "  table, th, td {\n",
       "    border: 1px solid black;\n",
       "    border-collapse: collapse;\n",
       "  }\n",
       "  th, td {\n",
       "    padding: 5px;\n",
       "  }\n",
       "  th {\n",
       "    text-align: left;\n",
       "  }\n",
       "</style><div class='table-result-container'><table class='table-result'><thead style='background-color: white'><tr><th>employee_id</th><th>employee_name</th><th>employee_age</th><th>month_no</th><th>employee_name</th><th>employee_age</th><th>month_no</th><th>Flag</th></tr></thead><tbody><tr><td>dgb01</td><td>luffy</td><td>20</td><td>1</td><td>luffy</td><td>20</td><td>1</td><td>A</td></tr><tr><td>dgb02</td><td>lost zoro</td><td>22</td><td>1</td><td>zoro</td><td>22</td><td>1</td><td>A</td></tr></tbody></table></div>"
      ]
     },
     "metadata": {
      "application/vnd.databricks.v1+output": {
       "addedWidgets": {},
       "aggData": [],
       "aggError": "",
       "aggOverflow": false,
       "aggSchema": [],
       "aggSeriesLimitReached": false,
       "aggType": "",
       "arguments": {},
       "columnCustomDisplayInfos": {},
       "data": [
        [
         "dgb01",
         "luffy",
         20,
         1,
         "luffy",
         20,
         1,
         "A"
        ],
        [
         "dgb02",
         "lost zoro",
         22,
         1,
         "zoro",
         22,
         1,
         "A"
        ]
       ],
       "datasetInfos": [],
       "dbfsResultPath": null,
       "isJsonSchema": true,
       "metadata": {},
       "overflow": false,
       "plotOptions": {
        "customPlotOptions": {},
        "displayType": "table",
        "pivotAggregation": null,
        "pivotColumns": null,
        "xColumns": null,
        "yColumns": null
       },
       "removedWidgets": [],
       "schema": [
        {
         "metadata": "{}",
         "name": "employee_id",
         "type": "\"string\""
        },
        {
         "metadata": "{}",
         "name": "employee_name",
         "type": "\"string\""
        },
        {
         "metadata": "{}",
         "name": "employee_age",
         "type": "\"integer\""
        },
        {
         "metadata": "{}",
         "name": "month_no",
         "type": "\"integer\""
        },
        {
         "metadata": "{}",
         "name": "employee_name",
         "type": "\"string\""
        },
        {
         "metadata": "{}",
         "name": "employee_age",
         "type": "\"integer\""
        },
        {
         "metadata": "{}",
         "name": "month_no",
         "type": "\"integer\""
        },
        {
         "metadata": "{}",
         "name": "Flag",
         "type": "\"string\""
        }
       ],
       "type": "table"
      }
     },
     "output_type": "display_data"
    }
   ],
   "source": [
    "#without where condition\n",
    "newAddressesToInsert.display()"
   ]
  },
  {
   "cell_type": "code",
   "execution_count": 0,
   "metadata": {
    "application/vnd.databricks.v1+cell": {
     "cellMetadata": {
      "byteLimit": 2048000,
      "rowLimit": 10000
     },
     "inputWidgets": {},
     "nuid": "aafec21a-38d1-4fda-b3b2-ba255f49b11f",
     "showTitle": false,
     "title": ""
    }
   },
   "outputs": [],
   "source": [
    "stagedUpdates = (newAddressesToInsert.selectExpr(\"NULL as mergeKey\", \"updates.*\").union(df_month_2.selectExpr(\"employee_id as mergeKey\", \"*\")))"
   ]
  },
  {
   "cell_type": "code",
   "execution_count": 0,
   "metadata": {
    "application/vnd.databricks.v1+cell": {
     "cellMetadata": {
      "byteLimit": 2048000,
      "rowLimit": 10000
     },
     "inputWidgets": {},
     "nuid": "0e0c9801-835e-49da-9643-b04d8d450814",
     "showTitle": false,
     "title": ""
    }
   },
   "outputs": [
    {
     "output_type": "display_data",
     "data": {
      "text/html": [
       "<style scoped>\n",
       "  .table-result-container {\n",
       "    max-height: 300px;\n",
       "    overflow: auto;\n",
       "  }\n",
       "  table, th, td {\n",
       "    border: 1px solid black;\n",
       "    border-collapse: collapse;\n",
       "  }\n",
       "  th, td {\n",
       "    padding: 5px;\n",
       "  }\n",
       "  th {\n",
       "    text-align: left;\n",
       "  }\n",
       "</style><div class='table-result-container'><table class='table-result'><thead style='background-color: white'><tr><th>mergeKey</th><th>employee_id</th><th>employee_name</th><th>employee_age</th><th>month_no</th></tr></thead><tbody><tr><td>dgb01</td><td>dgb01</td><td>luffy</td><td>20</td><td>1</td></tr><tr><td>dgb02</td><td>dgb02</td><td>lost zoro</td><td>22</td><td>1</td></tr><tr><td>dgb04</td><td>dgb04</td><td>Ace</td><td>22</td><td>1</td></tr></tbody></table></div>"
      ]
     },
     "metadata": {
      "application/vnd.databricks.v1+output": {
       "addedWidgets": {},
       "aggData": [],
       "aggError": "",
       "aggOverflow": false,
       "aggSchema": [],
       "aggSeriesLimitReached": false,
       "aggType": "",
       "arguments": {},
       "columnCustomDisplayInfos": {},
       "data": [
        [
         "dgb01",
         "dgb01",
         "luffy",
         20,
         1
        ],
        [
         "dgb02",
         "dgb02",
         "lost zoro",
         22,
         1
        ],
        [
         "dgb04",
         "dgb04",
         "Ace",
         22,
         1
        ]
       ],
       "datasetInfos": [],
       "dbfsResultPath": null,
       "isJsonSchema": true,
       "metadata": {},
       "overflow": false,
       "plotOptions": {
        "customPlotOptions": {},
        "displayType": "table",
        "pivotAggregation": null,
        "pivotColumns": null,
        "xColumns": null,
        "yColumns": null
       },
       "removedWidgets": [],
       "schema": [
        {
         "metadata": "{}",
         "name": "mergeKey",
         "type": "\"string\""
        },
        {
         "metadata": "{}",
         "name": "employee_id",
         "type": "\"string\""
        },
        {
         "metadata": "{}",
         "name": "employee_name",
         "type": "\"string\""
        },
        {
         "metadata": "{}",
         "name": "employee_age",
         "type": "\"integer\""
        },
        {
         "metadata": "{}",
         "name": "month_no",
         "type": "\"integer\""
        }
       ],
       "type": "table"
      }
     },
     "output_type": "display_data"
    }
   ],
   "source": [
    "stagedUpdates.display()"
   ]
  },
  {
   "cell_type": "code",
   "execution_count": 0,
   "metadata": {
    "application/vnd.databricks.v1+cell": {
     "cellMetadata": {
      "byteLimit": 2048000,
      "rowLimit": 10000
     },
     "inputWidgets": {},
     "nuid": "2f9dc97d-2e96-4dd3-a787-6ac979ea6518",
     "showTitle": false,
     "title": ""
    }
   },
   "outputs": [],
   "source": [
    "deltaTable_main.alias(\"target\").merge(\n",
    "    stagedUpdates.alias(\"source\"),\n",
    "    \"target.employee_id = mergeKey\"\n",
    ").whenMatchedUpdate(\n",
    "    condition=\"target.Flag = 'A' AND target.employee_name != source.employee_name\",\n",
    "    set={\n",
    "        \"Flag\": lit(\"aa\")  # Set current to false and endDate to source's effective date.\n",
    "    }\n",
    ").whenNotMatchedInsert(\n",
    "    values={\n",
    "        \"employee_id\": \"source.employee_id\",\n",
    "        \"employee_name\": \"source.employee_name\",\n",
    "        \"employee_age\": \"source.employee_age\",\n",
    "        \"month_no\": \"source.month_no\",\n",
    "        \"Flag\": lit(\"A\")  # Set current to true along with the new address and its effective date.\n",
    "    }\n",
    ").execute()"
   ]
  },
  {
   "cell_type": "code",
   "execution_count": 0,
   "metadata": {
    "application/vnd.databricks.v1+cell": {
     "cellMetadata": {
      "byteLimit": 2048000,
      "implicitDf": true,
      "rowLimit": 10000
     },
     "inputWidgets": {},
     "nuid": "9c77331e-9b14-4ee1-847d-4ef5847d67a1",
     "showTitle": false,
     "title": ""
    }
   },
   "outputs": [
    {
     "output_type": "display_data",
     "data": {
      "text/html": [
       "<style scoped>\n",
       "  .table-result-container {\n",
       "    max-height: 300px;\n",
       "    overflow: auto;\n",
       "  }\n",
       "  table, th, td {\n",
       "    border: 1px solid black;\n",
       "    border-collapse: collapse;\n",
       "  }\n",
       "  th, td {\n",
       "    padding: 5px;\n",
       "  }\n",
       "  th {\n",
       "    text-align: left;\n",
       "  }\n",
       "</style><div class='table-result-container'><table class='table-result'><thead style='background-color: white'><tr><th>employee_id</th><th>employee_name</th><th>employee_age</th><th>month_no</th><th>Flag</th></tr></thead><tbody><tr><td>dgb02</td><td>lost zoro</td><td>22</td><td>1</td><td>A</td></tr><tr><td>dgb01</td><td>luffy</td><td>20</td><td>1</td><td>A</td></tr><tr><td>dgb02</td><td>zoro</td><td>22</td><td>1</td><td>aa</td></tr><tr><td>dgb03</td><td>sanji</td><td>22</td><td>1</td><td>A</td></tr><tr><td>dgb04</td><td>Ace</td><td>22</td><td>1</td><td>A</td></tr></tbody></table></div>"
      ]
     },
     "metadata": {
      "application/vnd.databricks.v1+output": {
       "addedWidgets": {},
       "aggData": [],
       "aggError": "",
       "aggOverflow": false,
       "aggSchema": [],
       "aggSeriesLimitReached": false,
       "aggType": "",
       "arguments": {},
       "columnCustomDisplayInfos": {},
       "data": [
        [
         "dgb02",
         "lost zoro",
         22,
         1,
         "A"
        ],
        [
         "dgb01",
         "luffy",
         20,
         1,
         "A"
        ],
        [
         "dgb02",
         "zoro",
         22,
         1,
         "aa"
        ],
        [
         "dgb03",
         "sanji",
         22,
         1,
         "A"
        ],
        [
         "dgb04",
         "Ace",
         22,
         1,
         "A"
        ]
       ],
       "datasetInfos": [],
       "dbfsResultPath": null,
       "isJsonSchema": true,
       "metadata": {},
       "overflow": false,
       "plotOptions": {
        "customPlotOptions": {},
        "displayType": "table",
        "pivotAggregation": null,
        "pivotColumns": null,
        "xColumns": null,
        "yColumns": null
       },
       "removedWidgets": [],
       "schema": [
        {
         "metadata": "{}",
         "name": "employee_id",
         "type": "\"string\""
        },
        {
         "metadata": "{}",
         "name": "employee_name",
         "type": "\"string\""
        },
        {
         "metadata": "{}",
         "name": "employee_age",
         "type": "\"integer\""
        },
        {
         "metadata": "{}",
         "name": "month_no",
         "type": "\"integer\""
        },
        {
         "metadata": "{}",
         "name": "Flag",
         "type": "\"string\""
        }
       ],
       "type": "table"
      }
     },
     "output_type": "display_data"
    }
   ],
   "source": [
    "%sql\n",
    "select * from scd2"
   ]
  },
  {
   "cell_type": "code",
   "execution_count": 0,
   "metadata": {
    "application/vnd.databricks.v1+cell": {
     "cellMetadata": {
      "byteLimit": 2048000,
      "rowLimit": 10000
     },
     "inputWidgets": {},
     "nuid": "eaba5980-3b6a-4a61-b19a-0fdda4f7f674",
     "showTitle": false,
     "title": ""
    }
   },
   "outputs": [],
   "source": [
    "def mergeAndSaveDf(df):\n",
    "    # d1 = dict(map(lambda x: (f'target.{x}', f'source.{x}'), df.columns))\n",
    "    # d2=dict(map(lambda x: (f'target.{x}', f'source.{x}'), df.columns))\n",
    "    # d1['target.status']=lit('Existing')\n",
    "    # d2['target.status']=lit('Additional')\n",
    "    if DeltaTable.isDeltaTable(spark,f\"{path}\"):\n",
    "        deltaTable = DeltaTable.forPath(spark, f\"{path}\")\n",
    "        # spark.sql(f\"UPDATE {database_name}.{target_table_name} SET status='missing'\")\n",
    "        # deltaTable.alias(\"target\").merge(\n",
    "        #   source=df.alias(\"source\"),\n",
    "        #   condition=f'target.{mergeCol}=source.{mergeCol}').whenMatchedUpdate(set=d1).whenNotMatchedInsert(values=d2).execute()\n",
    "        newAddressesToInsert = df_month_2.alias(\"updates\").join(deltaTable_main.toDF().alias(\"main\"), \"employee_id\").where(\"main.Flag = 'A' AND updates.employee_name <> main.employee_name\")\n",
    "        stagedUpdates = (newAddressesToInsert.selectExpr(\"NULL as mergeKey\", \"updates.*\").union(df_month_2.selectExpr(\"employee_id as mergeKey\", \"*\")))\n",
    "        deltaTable_main.alias(\"target\").merge(stagedUpdates.alias(\"source\"),\"target.employee_id = mergeKey\").whenMatchedUpdate(\n",
    "          condition=\"target.Flag = 'A' AND target.employee_name != source.employee_name\",set={\"Flag\": lit(\"INACTIVE\")}).whenNotMatchedInsert(\n",
    "            values={\"employee_id\": \"source.employee_id\",\"employee_name\": \"source.employee_name\",\"employee_age\": \"source.employee_age\",\"month_no\": \"source.month_no\",\"Flag\": lit(\"ACTIVE\")}).execute()\n",
    "    else:\n",
    "        spark.sql(f\"CREATE DATABASE IF NOT EXISTS {database_name}\")\n",
    "        df_final = df.withColumn(\"FLAG\",lit(\"ACTIVE\"))\n",
    "        df_final.write.mode(\"overwrite\").format(\"delta\").option(\"path\",path).saveAsTable(f\"{database_name}.{target_table_name}\")\n"
   ]
  },
  {
   "cell_type": "code",
   "execution_count": 0,
   "metadata": {
    "application/vnd.databricks.v1+cell": {
     "cellMetadata": {},
     "inputWidgets": {},
     "nuid": "a6032a90-bc06-4a00-8918-4bd546d7a929",
     "showTitle": false,
     "title": ""
    }
   },
   "outputs": [],
   "source": []
  }
 ],
 "metadata": {
  "application/vnd.databricks.v1+notebook": {
   "dashboards": [],
   "language": "python",
   "notebookMetadata": {
    "mostRecentlyExecutedCommandWithImplicitDF": {
     "commandId": 300362380996626,
     "dataframes": [
      "_sqldf"
     ]
    },
    "pythonIndentUnit": 4
   },
   "notebookName": "SCD 2",
   "widgets": {}
  }
 },
 "nbformat": 4,
 "nbformat_minor": 0
}
