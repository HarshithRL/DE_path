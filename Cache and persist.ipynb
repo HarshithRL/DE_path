{
 "cells": [
  {
   "cell_type": "code",
   "execution_count": 0,
   "metadata": {
    "application/vnd.databricks.v1+cell": {
     "cellMetadata": {
      "byteLimit": 2048000,
      "rowLimit": 10000
     },
     "inputWidgets": {},
     "nuid": "2dea3d28-29af-47bf-8aa0-20357f5cd3c2",
     "showTitle": false,
     "title": ""
    }
   },
   "outputs": [
    {
     "output_type": "stream",
     "name": "stdout",
     "output_type": "stream",
     "text": [
      "Result using cache(): 15\n"
     ]
    }
   ],
   "source": [
    "data = [1, 2, 3, 4, 5]\n",
    "rdd = spark.sparkContext.parallelize(data)\n",
    "rdd.cache()\n",
    "result_cache = rdd.sum()\n",
    "print(\"Result using cache():\", result_cache)\n"
   ]
  },
  {
   "cell_type": "code",
   "execution_count": 0,
   "metadata": {
    "application/vnd.databricks.v1+cell": {
     "cellMetadata": {
      "byteLimit": 2048000,
      "rowLimit": 10000
     },
     "inputWidgets": {},
     "nuid": "3988efcb-b426-4498-9dde-147781e14c8a",
     "showTitle": false,
     "title": ""
    }
   },
   "outputs": [
    {
     "output_type": "stream",
     "name": "stdout",
     "output_type": "stream",
     "text": [
      "Result using persist(): 15\n"
     ]
    }
   ],
   "source": [
    "\n",
    "data1 = [1, 2, 3, 4, 5]\n",
    "rdd = spark.sparkContext.parallelize(data1)\n",
    "from pyspark import StorageLevel\n",
    "rdd.persist(storageLevel=StorageLevel.DISK_ONLY)\n",
    "result_persist = rdd.sum()\n",
    "print(\"Result using persist():\", result_persist)"
   ]
  },
  {
   "cell_type": "code",
   "execution_count": 0,
   "metadata": {
    "application/vnd.databricks.v1+cell": {
     "cellMetadata": {},
     "inputWidgets": {},
     "nuid": "95ad3743-7909-4e93-8797-627f7d35d788",
     "showTitle": false,
     "title": ""
    }
   },
   "outputs": [],
   "source": []
  }
 ],
 "metadata": {
  "application/vnd.databricks.v1+notebook": {
   "dashboards": [],
   "language": "python",
   "notebookMetadata": {
    "pythonIndentUnit": 4
   },
   "notebookName": "Cache and persist",
   "widgets": {}
  }
 },
 "nbformat": 4,
 "nbformat_minor": 0
}
