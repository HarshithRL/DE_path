{
 "cells": [
  {
   "cell_type": "code",
   "execution_count": 0,
   "metadata": {
    "application/vnd.databricks.v1+cell": {
     "cellMetadata": {},
     "inputWidgets": {},
     "nuid": "2c156218-d2ee-4c01-a30d-a258f1312f61",
     "showTitle": false,
     "title": ""
    }
   },
   "outputs": [],
   "source": [
    "#Type1\n",
    "current_dim_df = spark.read.csv(\"current_dimension_data.csv\", header=True)\n",
    "new_dim_df = spark.read.csv(\"new_dimension_data.csv\", header=True)"
   ]
  },
  {
   "cell_type": "code",
   "execution_count": 0,
   "metadata": {
    "application/vnd.databricks.v1+cell": {
     "cellMetadata": {},
     "inputWidgets": {},
     "nuid": "8a821f25-a17f-437f-bada-664f298f161f",
     "showTitle": false,
     "title": ""
    }
   },
   "outputs": [],
   "source": [
    "current_dim_df.createOrReplaceTempView(\"current_dim\")\n",
    "new_dim_df.createOrReplaceTempView(\"new_dim\")"
   ]
  },
  {
   "cell_type": "code",
   "execution_count": 0,
   "metadata": {
    "application/vnd.databricks.v1+cell": {
     "cellMetadata": {},
     "inputWidgets": {},
     "nuid": "af9242dd-b963-4d8b-80df-ca926d936897",
     "showTitle": false,
     "title": ""
    }
   },
   "outputs": [],
   "source": [
    "updated_dim_df = spark.sql(\"\"\"\n",
    "    SELECT\n",
    "        new_dim.id AS id,\n",
    "        new_dim.name AS name,\n",
    "        new_dim.description AS description\n",
    "    FROM\n",
    "        new_dim\n",
    "\"\"\")"
   ]
  },
  {
   "cell_type": "code",
   "execution_count": 0,
   "metadata": {
    "application/vnd.databricks.v1+cell": {
     "cellMetadata": {},
     "inputWidgets": {},
     "nuid": "233b1346-b328-4f57-9d25-6455ee6e8ef1",
     "showTitle": false,
     "title": ""
    }
   },
   "outputs": [],
   "source": [
    "updated_dim_df.write.mode(\"overwrite\").csv(\"current_dimension_data.csv\")"
   ]
  },
  {
   "cell_type": "code",
   "execution_count": 0,
   "metadata": {
    "application/vnd.databricks.v1+cell": {
     "cellMetadata": {},
     "inputWidgets": {},
     "nuid": "e67b0605-2e83-4a92-9a94-67caf47eff70",
     "showTitle": false,
     "title": ""
    }
   },
   "outputs": [],
   "source": []
  },
  {
   "cell_type": "code",
   "execution_count": 0,
   "metadata": {
    "application/vnd.databricks.v1+cell": {
     "cellMetadata": {},
     "inputWidgets": {},
     "nuid": "6216eb00-0712-4d55-9e71-4536ea3ebfb7",
     "showTitle": false,
     "title": ""
    }
   },
   "outputs": [],
   "source": [
    "#Type2\n",
    "current_dim_df = spark.read.csv(\"current_dimension_data.csv\", header=True)\n",
    "new_dim_df = spark.read.csv(\"new_dimension_data.csv\", header=True)"
   ]
  },
  {
   "cell_type": "code",
   "execution_count": 0,
   "metadata": {
    "application/vnd.databricks.v1+cell": {
     "cellMetadata": {},
     "inputWidgets": {},
     "nuid": "9e2dce22-52a5-45fb-892b-a8b5f04248f9",
     "showTitle": false,
     "title": ""
    }
   },
   "outputs": [],
   "source": [
    "# Add a start and end date to the current and new dimension data\n",
    "current_dim_df = current_dim_df.withColumn(\"end_date\", current_date())\n",
    "new_dim_df = new_dim_df.withColumn(\"start_date\", current_date())"
   ]
  },
  {
   "cell_type": "code",
   "execution_count": 0,
   "metadata": {
    "application/vnd.databricks.v1+cell": {
     "cellMetadata": {},
     "inputWidgets": {},
     "nuid": "4aa5e460-77cb-47f6-9854-c1e355d4a550",
     "showTitle": false,
     "title": ""
    }
   },
   "outputs": [],
   "source": [
    "# Identify rows in the current dimension that are updated\n",
    "updated_rows = current_dim_df.join(new_dim_df, on=[\"id\"], how=\"inner\")"
   ]
  },
  {
   "cell_type": "code",
   "execution_count": 0,
   "metadata": {
    "application/vnd.databricks.v1+cell": {
     "cellMetadata": {},
     "inputWidgets": {},
     "nuid": "e2e6f6eb-89f7-4719-98d2-4544a20d8eb5",
     "showTitle": false,
     "title": ""
    }
   },
   "outputs": [],
   "source": [
    "# Mark the old rows as expired\n",
    "updated_rows = updated_rows.withColumn(\"end_date\", updated_rows.start_date)\n",
    "updated_dim_df = updated_rows.union(new_dim_df)"
   ]
  },
  {
   "cell_type": "code",
   "execution_count": 0,
   "metadata": {
    "application/vnd.databricks.v1+cell": {
     "cellMetadata": {},
     "inputWidgets": {},
     "nuid": "4b14acbc-4ca7-452a-b93b-b92cfe09e019",
     "showTitle": false,
     "title": ""
    }
   },
   "outputs": [],
   "source": [
    "updated_dim_df.write.mode(\"overwrite\").csv(\"current_dimension_data.csv\")"
   ]
  },
  {
   "cell_type": "code",
   "execution_count": 0,
   "metadata": {
    "application/vnd.databricks.v1+cell": {
     "cellMetadata": {},
     "inputWidgets": {},
     "nuid": "235a410e-7668-41bc-b84e-97a30330333e",
     "showTitle": false,
     "title": ""
    }
   },
   "outputs": [],
   "source": [
    "# Load the current dimension data from a source\n",
    "current_dim_df = spark.read.csv(\"current_dimension_data.csv\", header=True)\n",
    "\n",
    "# Load the new dimension data from another source\n",
    "new_dim_df = spark.read.csv(\"new_dimension_data.csv\", header=True)\n",
    "\n",
    "# Update the current dimension data with new data, keeping track of previous values\n",
    "current_dim_df.createOrReplaceTempView(\"current_dim\")\n",
    "new_dim_df.createOrReplaceTempView(\"new_dim\")\n",
    "\n",
    "updated_dim_df = spark.sql(\"\"\"\n",
    "    SELECT\n",
    "        current_dim.id AS id,\n",
    "        new_dim.name AS current_name,\n",
    "        current_dim.current_description AS previous_description,\n",
    "        new_dim.description AS current_description\n",
    "    FROM\n",
    "        current_dim\n",
    "    JOIN\n",
    "        new_dim\n",
    "    ON\n",
    "        current_dim.id = new_dim.id\n",
    "\"\"\")\n",
    "updated_dim_df.write.mode(\"overwrite\").csv(\"current_dimension_data.csv\")\n",
    "\n",
    "spark.stop()\n"
   ]
  }
 ],
 "metadata": {
  "application/vnd.databricks.v1+notebook": {
   "dashboards": [],
   "language": "python",
   "notebookMetadata": {
    "pythonIndentUnit": 4
   },
   "notebookName": "SCD Type 1,2,3",
   "widgets": {}
  }
 },
 "nbformat": 4,
 "nbformat_minor": 0
}
