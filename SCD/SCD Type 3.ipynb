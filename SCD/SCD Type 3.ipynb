{
 "cells": [
  {
   "cell_type": "code",
   "execution_count": 0,
   "metadata": {
    "application/vnd.databricks.v1+cell": {
     "cellMetadata": {
      "byteLimit": 2048000,
      "rowLimit": 10000
     },
     "inputWidgets": {},
     "nuid": "cb406bd2-1b4f-4c2f-8fd2-cf4215acf194",
     "showTitle": false,
     "title": ""
    }
   },
   "outputs": [],
   "source": [
    "from pyspark.sql.types import StructType, StructField, StringType, IntegerType\n",
    "from pyspark.sql.functions import lit,col,expr\n",
    "from delta.tables import DeltaTable"
   ]
  },
  {
   "cell_type": "code",
   "execution_count": 0,
   "metadata": {
    "application/vnd.databricks.v1+cell": {
     "cellMetadata": {
      "byteLimit": 2048000,
      "rowLimit": 10000
     },
     "inputWidgets": {},
     "nuid": "eea5780a-ab79-4ee0-ae57-7b6d2d0349fb",
     "showTitle": false,
     "title": ""
    }
   },
   "outputs": [
    {
     "output_type": "stream",
     "name": "stdout",
     "output_type": "stream",
     "text": [
      "+-----------+-------------+------------+--------+\n|employee_id|employee_name|employee_age|month_no|\n+-----------+-------------+------------+--------+\n|      dgb01|        luffy|          20|       1|\n|      dgb02|         zoro|          22|       1|\n|      dgb03|        sanji|          22|       1|\n+-----------+-------------+------------+--------+\n\n"
     ]
    }
   ],
   "source": [
    "data_month_1 = [\n",
    "  ('dgb01', 'luffy', 20, 1), \n",
    "  ('dgb02', 'zoro', 22, 1),\n",
    "  ('dgb03', 'sanji', 22, 1)\n",
    "        ]\n",
    "schema = StructType([\n",
    "  StructField('employee_id', StringType(), True),\n",
    "  StructField('employee_name', StringType(), True),\n",
    "  StructField('employee_age', IntegerType(), True),\n",
    "  StructField('month_no', IntegerType(), True)\n",
    "])\n",
    "df_month_1 = spark.createDataFrame(data_month_1, schema)\n",
    "df_month_1.show()"
   ]
  },
  {
   "cell_type": "code",
   "execution_count": 0,
   "metadata": {
    "application/vnd.databricks.v1+cell": {
     "cellMetadata": {
      "byteLimit": 2048000,
      "rowLimit": 10000
     },
     "inputWidgets": {},
     "nuid": "b6cc032c-e0b0-4add-9944-6c037f98e1a0",
     "showTitle": false,
     "title": ""
    }
   },
   "outputs": [],
   "source": [
    "data_month_2 = [\n",
    "  ('dgb01', 'Monkey D luffy', 21, 2), \n",
    "  ('dgb04', 'nami', 24, 2)\n",
    "        ]\n",
    "        \n",
    "df_month_2 = spark.createDataFrame(data_month_2, schema)"
   ]
  },
  {
   "cell_type": "code",
   "execution_count": 0,
   "metadata": {
    "application/vnd.databricks.v1+cell": {
     "cellMetadata": {
      "byteLimit": 2048000,
      "rowLimit": 10000
     },
     "inputWidgets": {},
     "nuid": "94ec9727-f112-4779-b76b-40ffd3f2381f",
     "showTitle": false,
     "title": ""
    }
   },
   "outputs": [
    {
     "output_type": "stream",
     "name": "stdout",
     "output_type": "stream",
     "text": [
      "+-----------+-------------+------------+--------+\n|employee_id|employee_name|employee_age|month_no|\n+-----------+-------------+------------+--------+\n|      dgb02|Ronovara zoro|          23|       3|\n+-----------+-------------+------------+--------+\n\n"
     ]
    }
   ],
   "source": [
    "data_month_3 = [\n",
    "  ('dgb02', 'Ronovara zoro', 23, 3),\n",
    "        ]\n",
    "df_month_3 = spark.createDataFrame(data_month_3, schema)\n",
    "df_month_3.show()\n"
   ]
  },
  {
   "cell_type": "code",
   "execution_count": 0,
   "metadata": {
    "application/vnd.databricks.v1+cell": {
     "cellMetadata": {
      "byteLimit": 2048000,
      "rowLimit": 10000
     },
     "inputWidgets": {},
     "nuid": "eae9156b-dfc8-4602-84dc-4262794df598",
     "showTitle": false,
     "title": ""
    }
   },
   "outputs": [
    {
     "output_type": "stream",
     "name": "stdout",
     "output_type": "stream",
     "text": [
      "+-----------+--------------+------------+--------+\n|employee_id| employee_name|employee_age|month_no|\n+-----------+--------------+------------+--------+\n|      dgb01|Monkey D luffy|          21|       4|\n|      dgb03|  prince sanji|          23|       4|\n|      dgb05|        ussopu|          19|       4|\n+-----------+--------------+------------+--------+\n\n"
     ]
    }
   ],
   "source": [
    "data_month_4 = [\n",
    "  ('dgb01', 'Monkey D luffy', 21, 4), \n",
    "  ('dgb03', 'prince sanji', 23, 4),\n",
    "  ('dgb05', 'ussopu', 19, 4),\n",
    "        ]\n",
    "df_month_4 = spark.createDataFrame(data_month_4, schema)\n",
    "df_month_4.show()\n"
   ]
  },
  {
   "cell_type": "code",
   "execution_count": 0,
   "metadata": {
    "application/vnd.databricks.v1+cell": {
     "cellMetadata": {
      "byteLimit": 2048000,
      "rowLimit": 10000
     },
     "inputWidgets": {},
     "nuid": "79d3c54c-f248-4aa9-94ad-bb66dfba4e51",
     "showTitle": false,
     "title": ""
    },
    "jupyter": {
     "source_hidden": true
    }
   },
   "outputs": [],
   "source": [
    "df_stage=df_month_1.select('employee_id','employee_name',lit(\"Nochange\").alias(\"OldName\"),'employee_age','month_no')"
   ]
  },
  {
   "cell_type": "code",
   "execution_count": 0,
   "metadata": {
    "application/vnd.databricks.v1+cell": {
     "cellMetadata": {
      "byteLimit": 2048000,
      "rowLimit": 10000
     },
     "inputWidgets": {},
     "nuid": "069f52cc-2b3f-4bad-b95b-575e9089d71c",
     "showTitle": false,
     "title": ""
    },
    "jupyter": {
     "source_hidden": true
    }
   },
   "outputs": [
    {
     "output_type": "display_data",
     "data": {
      "text/html": [
       "<style scoped>\n",
       "  .table-result-container {\n",
       "    max-height: 300px;\n",
       "    overflow: auto;\n",
       "  }\n",
       "  table, th, td {\n",
       "    border: 1px solid black;\n",
       "    border-collapse: collapse;\n",
       "  }\n",
       "  th, td {\n",
       "    padding: 5px;\n",
       "  }\n",
       "  th {\n",
       "    text-align: left;\n",
       "  }\n",
       "</style><div class='table-result-container'><table class='table-result'><thead style='background-color: white'><tr><th>employee_id</th><th>employee_name</th><th>OldName</th><th>employee_age</th><th>month_no</th></tr></thead><tbody><tr><td>dgb01</td><td>luffy</td><td>Nochange</td><td>20</td><td>1</td></tr><tr><td>dgb02</td><td>zoro</td><td>Nochange</td><td>22</td><td>1</td></tr><tr><td>dgb03</td><td>sanji</td><td>Nochange</td><td>22</td><td>1</td></tr></tbody></table></div>"
      ]
     },
     "metadata": {
      "application/vnd.databricks.v1+output": {
       "addedWidgets": {},
       "aggData": [],
       "aggError": "",
       "aggOverflow": false,
       "aggSchema": [],
       "aggSeriesLimitReached": false,
       "aggType": "",
       "arguments": {},
       "columnCustomDisplayInfos": {},
       "data": [
        [
         "dgb01",
         "luffy",
         "Nochange",
         20,
         1
        ],
        [
         "dgb02",
         "zoro",
         "Nochange",
         22,
         1
        ],
        [
         "dgb03",
         "sanji",
         "Nochange",
         22,
         1
        ]
       ],
       "datasetInfos": [],
       "dbfsResultPath": null,
       "isJsonSchema": true,
       "metadata": {},
       "overflow": false,
       "plotOptions": {
        "customPlotOptions": {},
        "displayType": "table",
        "pivotAggregation": null,
        "pivotColumns": null,
        "xColumns": null,
        "yColumns": null
       },
       "removedWidgets": [],
       "schema": [
        {
         "metadata": "{}",
         "name": "employee_id",
         "type": "\"string\""
        },
        {
         "metadata": "{}",
         "name": "employee_name",
         "type": "\"string\""
        },
        {
         "metadata": "{}",
         "name": "OldName",
         "type": "\"string\""
        },
        {
         "metadata": "{}",
         "name": "employee_age",
         "type": "\"integer\""
        },
        {
         "metadata": "{}",
         "name": "month_no",
         "type": "\"integer\""
        }
       ],
       "type": "table"
      }
     },
     "output_type": "display_data"
    }
   ],
   "source": [
    "df_stage.display()"
   ]
  },
  {
   "cell_type": "code",
   "execution_count": 0,
   "metadata": {
    "application/vnd.databricks.v1+cell": {
     "cellMetadata": {
      "byteLimit": 2048000,
      "rowLimit": 10000
     },
     "inputWidgets": {},
     "nuid": "869e5118-48dd-4375-bc5d-391ad24c9a83",
     "showTitle": false,
     "title": ""
    }
   },
   "outputs": [],
   "source": [
    "path='dbfs:/user/hive/warehouse/employee_scd2'"
   ]
  },
  {
   "cell_type": "code",
   "execution_count": 0,
   "metadata": {
    "application/vnd.databricks.v1+cell": {
     "cellMetadata": {
      "byteLimit": 2048000,
      "rowLimit": 10000
     },
     "inputWidgets": {},
     "nuid": "3d43b4e9-7ae5-4245-b97f-ba24be49acfe",
     "showTitle": false,
     "title": ""
    }
   },
   "outputs": [],
   "source": [
    "df_stage.write.mode(\"overwrite\").format(\"delta\").option(\"path\",path).saveAsTable('Scd2')"
   ]
  },
  {
   "cell_type": "code",
   "execution_count": 0,
   "metadata": {
    "application/vnd.databricks.v1+cell": {
     "cellMetadata": {
      "byteLimit": 2048000,
      "rowLimit": 10000
     },
     "inputWidgets": {},
     "nuid": "31f871f4-0613-458b-8a20-a00e81723ba3",
     "showTitle": false,
     "title": ""
    }
   },
   "outputs": [],
   "source": [
    "deltaTable = DeltaTable.forPath(spark, f\"{path}\")"
   ]
  },
  {
   "cell_type": "code",
   "execution_count": 0,
   "metadata": {
    "application/vnd.databricks.v1+cell": {
     "cellMetadata": {
      "byteLimit": 2048000,
      "implicitDf": true,
      "rowLimit": 10000
     },
     "inputWidgets": {},
     "nuid": "6e829c5d-0d01-4e73-b8ca-be41508ca27a",
     "showTitle": false,
     "title": ""
    }
   },
   "outputs": [
    {
     "output_type": "display_data",
     "data": {
      "text/html": [
       "<style scoped>\n",
       "  .table-result-container {\n",
       "    max-height: 300px;\n",
       "    overflow: auto;\n",
       "  }\n",
       "  table, th, td {\n",
       "    border: 1px solid black;\n",
       "    border-collapse: collapse;\n",
       "  }\n",
       "  th, td {\n",
       "    padding: 5px;\n",
       "  }\n",
       "  th {\n",
       "    text-align: left;\n",
       "  }\n",
       "</style><div class='table-result-container'><table class='table-result'><thead style='background-color: white'><tr><th>employee_id</th><th>employee_name</th><th>OldName</th><th>employee_age</th><th>month_no</th></tr></thead><tbody><tr><td>dgb01</td><td>Monkey D luffy</td><td>luffy</td><td>20</td><td>1</td></tr><tr><td>dgb03</td><td>sanji</td><td>Nochange</td><td>22</td><td>1</td></tr><tr><td>dgb02</td><td>zoro</td><td>Nochange</td><td>22</td><td>1</td></tr><tr><td>dgb04</td><td>nami</td><td>NoChange</td><td>24</td><td>2</td></tr></tbody></table></div>"
      ]
     },
     "metadata": {
      "application/vnd.databricks.v1+output": {
       "addedWidgets": {},
       "aggData": [],
       "aggError": "",
       "aggOverflow": false,
       "aggSchema": [],
       "aggSeriesLimitReached": false,
       "aggType": "",
       "arguments": {},
       "columnCustomDisplayInfos": {},
       "data": [
        [
         "dgb01",
         "Monkey D luffy",
         "luffy",
         20,
         1
        ],
        [
         "dgb03",
         "sanji",
         "Nochange",
         22,
         1
        ],
        [
         "dgb02",
         "zoro",
         "Nochange",
         22,
         1
        ],
        [
         "dgb04",
         "nami",
         "NoChange",
         24,
         2
        ]
       ],
       "datasetInfos": [],
       "dbfsResultPath": null,
       "isJsonSchema": true,
       "metadata": {},
       "overflow": false,
       "plotOptions": {
        "customPlotOptions": {},
        "displayType": "table",
        "pivotAggregation": null,
        "pivotColumns": null,
        "xColumns": null,
        "yColumns": null
       },
       "removedWidgets": [],
       "schema": [
        {
         "metadata": "{}",
         "name": "employee_id",
         "type": "\"string\""
        },
        {
         "metadata": "{}",
         "name": "employee_name",
         "type": "\"string\""
        },
        {
         "metadata": "{}",
         "name": "OldName",
         "type": "\"string\""
        },
        {
         "metadata": "{}",
         "name": "employee_age",
         "type": "\"integer\""
        },
        {
         "metadata": "{}",
         "name": "month_no",
         "type": "\"integer\""
        }
       ],
       "type": "table"
      }
     },
     "output_type": "display_data"
    }
   ],
   "source": [
    "%sql\n",
    "select * from Scd2"
   ]
  },
  {
   "cell_type": "code",
   "execution_count": 0,
   "metadata": {
    "application/vnd.databricks.v1+cell": {
     "cellMetadata": {
      "byteLimit": 2048000,
      "rowLimit": 10000
     },
     "inputWidgets": {},
     "nuid": "1e10065d-67b7-4a93-b2e5-dc9b157ebdc2",
     "showTitle": false,
     "title": ""
    }
   },
   "outputs": [],
   "source": [
    "deltaTable.alias('target').merge(\n",
    "    source=df_month_2.alias('source'),\n",
    "    condition='target.employee_id=source.employee_id',\n",
    ").whenMatchedUpdate(\n",
    "    condition='target.employee_name != source.employee_name',\n",
    "    set=t\n",
    ").whenNotMatchedInsert(values=d).execute()"
   ]
  },
  {
   "cell_type": "code",
   "execution_count": 0,
   "metadata": {
    "application/vnd.databricks.v1+cell": {
     "cellMetadata": {},
     "inputWidgets": {},
     "nuid": "51f0a2a6-e76e-4b2a-b393-f774f911e1e8",
     "showTitle": false,
     "title": ""
    }
   },
   "outputs": [],
   "source": [
    "\n",
    "deltaTable.alias('target').merge(source=df.alias('source'),condition=jc).whenMatchedUpdate(condition=mc,set=t).whenNotMatchedInsert(values=d).execute()"
   ]
  },
  {
   "cell_type": "code",
   "execution_count": 0,
   "metadata": {
    "application/vnd.databricks.v1+cell": {
     "cellMetadata": {
      "byteLimit": 2048000,
      "rowLimit": 10000
     },
     "inputWidgets": {},
     "nuid": "f70f372d-9f20-4e58-b7c9-5ac6a07f8f26",
     "showTitle": false,
     "title": ""
    }
   },
   "outputs": [],
   "source": [
    "jc='target.employee_id=source.employee_id'\n",
    "mc='target.employee_name != source.employee_name'"
   ]
  },
  {
   "cell_type": "code",
   "execution_count": 0,
   "metadata": {
    "application/vnd.databricks.v1+cell": {
     "cellMetadata": {
      "byteLimit": 2048000,
      "rowLimit": 10000
     },
     "inputWidgets": {},
     "nuid": "765719c5-629b-4996-b9eb-12956256eb6c",
     "showTitle": false,
     "title": ""
    }
   },
   "outputs": [],
   "source": [
    "d={\"employee_id\": \"source.employee_id\",\"employee_name\": \"source.employee_name\",'OldName': lit('NoChange'),\"employee_age\": \"source.employee_age\",\"month_no\": \"source.month_no\"}"
   ]
  },
  {
   "cell_type": "code",
   "execution_count": 0,
   "metadata": {
    "application/vnd.databricks.v1+cell": {
     "cellMetadata": {
      "byteLimit": 2048000,
      "rowLimit": 10000
     },
     "inputWidgets": {},
     "nuid": "9c586db7-03e5-4603-8377-af5c43f448b5",
     "showTitle": false,
     "title": ""
    }
   },
   "outputs": [],
   "source": [
    "t={'OldName':'target.employee_name','employee_name':'source.employee_name'}"
   ]
  },
  {
   "cell_type": "code",
   "execution_count": 0,
   "metadata": {
    "application/vnd.databricks.v1+cell": {
     "cellMetadata": {
      "byteLimit": 2048000,
      "rowLimit": 10000
     },
     "inputWidgets": {},
     "nuid": "6461f2c4-54d9-4c72-b60b-c071ad7c836b",
     "showTitle": false,
     "title": ""
    }
   },
   "outputs": [
    {
     "output_type": "stream",
     "name": "stdout",
     "output_type": "stream",
     "text": [
      "Out[27]: True"
     ]
    }
   ],
   "source": [
    "dbutils.fs.rm('dbfs:/user/hive/warehouse/employee_scd2',True)"
   ]
  },
  {
   "cell_type": "code",
   "execution_count": 0,
   "metadata": {
    "application/vnd.databricks.v1+cell": {
     "cellMetadata": {
      "byteLimit": 2048000,
      "rowLimit": 10000
     },
     "inputWidgets": {},
     "nuid": "603fb575-f4ca-4198-ab95-87625a1cd196",
     "showTitle": false,
     "title": ""
    }
   },
   "outputs": [],
   "source": [
    "mergeAndSaveDf(df_month_2,path,jc,mc,t,d)"
   ]
  },
  {
   "cell_type": "code",
   "execution_count": 0,
   "metadata": {
    "application/vnd.databricks.v1+cell": {
     "cellMetadata": {
      "byteLimit": 2048000,
      "rowLimit": 10000
     },
     "inputWidgets": {},
     "nuid": "a9de891e-d319-44a0-9492-3ea78df4693b",
     "showTitle": false,
     "title": ""
    }
   },
   "outputs": [],
   "source": [
    "mergeAndSaveDf(df_month_1,path)"
   ]
  },
  {
   "cell_type": "code",
   "execution_count": 0,
   "metadata": {
    "application/vnd.databricks.v1+cell": {
     "cellMetadata": {},
     "inputWidgets": {},
     "nuid": "0d6fed84-e267-406a-aed8-07685d94229b",
     "showTitle": false,
     "title": ""
    }
   },
   "outputs": [],
   "source": []
  },
  {
   "cell_type": "code",
   "execution_count": 0,
   "metadata": {
    "application/vnd.databricks.v1+cell": {
     "cellMetadata": {
      "byteLimit": 2048000,
      "rowLimit": 10000
     },
     "inputWidgets": {},
     "nuid": "02cb0e60-00a2-4aba-a375-0481e39c9f57",
     "showTitle": false,
     "title": ""
    }
   },
   "outputs": [],
   "source": [
    "def mergeAndSaveDf(df,path,jc={},mc={},t={},d={}):\n",
    "    if DeltaTable.isDeltaTable(spark,f\"{path}\"):\n",
    "        deltaTable = DeltaTable.forPath(spark, f\"{path}\")\n",
    "        deltaTable.alias('target').merge(source=df.alias('source'),condition=jc).whenMatchedUpdate(condition=mc,set=t).whenNotMatchedInsert(values=d).execute()\n",
    "    else:\n",
    "        df_stage=df.select('employee_id','employee_name',lit(\"Nochange\").alias(\"OldName\"),'employee_age','month_no')\n",
    "        df_stage.write.mode(\"overwrite\").format(\"delta\").option(\"path\",path).saveAsTable('Scd3')"
   ]
  }
 ],
 "metadata": {
  "application/vnd.databricks.v1+notebook": {
   "dashboards": [],
   "language": "python",
   "notebookMetadata": {
    "mostRecentlyExecutedCommandWithImplicitDF": {
     "commandId": 1175950434984195,
     "dataframes": [
      "_sqldf"
     ]
    },
    "pythonIndentUnit": 4
   },
   "notebookName": "SCD Type 3",
   "widgets": {}
  }
 },
 "nbformat": 4,
 "nbformat_minor": 0
}
