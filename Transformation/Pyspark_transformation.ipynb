{
 "cells": [
  {
   "cell_type": "code",
   "execution_count": 0,
   "metadata": {
    "application/vnd.databricks.v1+cell": {
     "cellMetadata": {
      "byteLimit": 2048000,
      "rowLimit": 10000
     },
     "inputWidgets": {},
     "nuid": "38f59591-3840-41ff-85cc-26291d2e8654",
     "showTitle": false,
     "title": ""
    }
   },
   "outputs": [],
   "source": [
    "from pyspark.sql.types import *\n",
    "from pyspark.sql.functions import *\n",
    "from pyspark.sql.window import Window\n"
   ]
  },
  {
   "cell_type": "code",
   "execution_count": 0,
   "metadata": {
    "application/vnd.databricks.v1+cell": {
     "cellMetadata": {
      "byteLimit": 2048000,
      "rowLimit": 10000
     },
     "inputWidgets": {},
     "nuid": "29e4407c-d3dd-4555-adad-4451c3325e9b",
     "showTitle": false,
     "title": ""
    }
   },
   "outputs": [],
   "source": [
    "data = [\n",
    "    (2012, \"JOHN\", \"ONEIDA,ORANGE\", \"M\", 30),\n",
    "    (2012, \"EMMA\", \"JEFFERSON\", \"F\", 25),\n",
    "    (2012, \"NOAH\", \"JEFFERSON\", \"M\", 18),\n",
    "    (2012, \"SOPHIA\", \"MADISON\", \"F\", 12),\n",
    "    (2012, \"LIAM\", \"ONONDAGA\", \"M\", 36),\n",
    "    (2012, \"OLIVIA\", \"CAYUGA\", \"F\", 22),\n",
    "    (2012, \"MASON\", \"MADISON\", \"M\", 28),\n",
    "    (2012, \"AVA\", \"JEFFERSON\", \"F\", 20),\n",
    "    (2012, \"WILLIAM\", \"CAYUGA\", \"M\", 45),\n",
    "    (2012, \"ABIGAIL\", \"MADISON\", \"F\", 19)\n",
    "]"
   ]
  },
  {
   "cell_type": "code",
   "execution_count": 0,
   "metadata": {
    "application/vnd.databricks.v1+cell": {
     "cellMetadata": {
      "byteLimit": 2048000,
      "rowLimit": 10000
     },
     "inputWidgets": {},
     "nuid": "18fea4ca-0491-43cf-a6c0-f750a1fa5879",
     "showTitle": false,
     "title": ""
    }
   },
   "outputs": [],
   "source": [
    "schema = [\"Year\", \"First Name\", \"County\", \"gender\", \"Count\"]"
   ]
  },
  {
   "cell_type": "code",
   "execution_count": 0,
   "metadata": {
    "application/vnd.databricks.v1+cell": {
     "cellMetadata": {
      "byteLimit": 2048000,
      "rowLimit": 10000
     },
     "inputWidgets": {},
     "nuid": "bf5dffba-0e11-450a-adbd-1f6bdcd042aa",
     "showTitle": false,
     "title": ""
    }
   },
   "outputs": [
    {
     "output_type": "display_data",
     "data": {
      "text/html": [
       "<style scoped>\n",
       "  .table-result-container {\n",
       "    max-height: 300px;\n",
       "    overflow: auto;\n",
       "  }\n",
       "  table, th, td {\n",
       "    border: 1px solid black;\n",
       "    border-collapse: collapse;\n",
       "  }\n",
       "  th, td {\n",
       "    padding: 5px;\n",
       "  }\n",
       "  th {\n",
       "    text-align: left;\n",
       "  }\n",
       "</style><div class='table-result-container'><table class='table-result'><thead style='background-color: white'><tr><th>Year</th><th>First Name</th><th>County</th><th>gender</th><th>Count</th></tr></thead><tbody><tr><td>2012</td><td>JOHN</td><td>ONEIDA,ORANGE</td><td>M</td><td>30</td></tr><tr><td>2012</td><td>EMMA</td><td>JEFFERSON</td><td>F</td><td>25</td></tr><tr><td>2012</td><td>NOAH</td><td>JEFFERSON</td><td>M</td><td>18</td></tr><tr><td>2012</td><td>SOPHIA</td><td>MADISON</td><td>F</td><td>12</td></tr><tr><td>2012</td><td>LIAM</td><td>ONONDAGA</td><td>M</td><td>36</td></tr><tr><td>2012</td><td>OLIVIA</td><td>CAYUGA</td><td>F</td><td>22</td></tr><tr><td>2012</td><td>MASON</td><td>MADISON</td><td>M</td><td>28</td></tr><tr><td>2012</td><td>AVA</td><td>JEFFERSON</td><td>F</td><td>20</td></tr><tr><td>2012</td><td>WILLIAM</td><td>CAYUGA</td><td>M</td><td>45</td></tr><tr><td>2012</td><td>ABIGAIL</td><td>MADISON</td><td>F</td><td>19</td></tr></tbody></table></div>"
      ]
     },
     "metadata": {
      "application/vnd.databricks.v1+output": {
       "addedWidgets": {},
       "aggData": [],
       "aggError": "",
       "aggOverflow": false,
       "aggSchema": [],
       "aggSeriesLimitReached": false,
       "aggType": "",
       "arguments": {},
       "columnCustomDisplayInfos": {},
       "data": [
        [
         2012,
         "JOHN",
         "ONEIDA,ORANGE",
         "M",
         30
        ],
        [
         2012,
         "EMMA",
         "JEFFERSON",
         "F",
         25
        ],
        [
         2012,
         "NOAH",
         "JEFFERSON",
         "M",
         18
        ],
        [
         2012,
         "SOPHIA",
         "MADISON",
         "F",
         12
        ],
        [
         2012,
         "LIAM",
         "ONONDAGA",
         "M",
         36
        ],
        [
         2012,
         "OLIVIA",
         "CAYUGA",
         "F",
         22
        ],
        [
         2012,
         "MASON",
         "MADISON",
         "M",
         28
        ],
        [
         2012,
         "AVA",
         "JEFFERSON",
         "F",
         20
        ],
        [
         2012,
         "WILLIAM",
         "CAYUGA",
         "M",
         45
        ],
        [
         2012,
         "ABIGAIL",
         "MADISON",
         "F",
         19
        ]
       ],
       "datasetInfos": [],
       "dbfsResultPath": null,
       "isJsonSchema": true,
       "metadata": {},
       "overflow": false,
       "plotOptions": {
        "customPlotOptions": {},
        "displayType": "table",
        "pivotAggregation": null,
        "pivotColumns": null,
        "xColumns": null,
        "yColumns": null
       },
       "removedWidgets": [],
       "schema": [
        {
         "metadata": "{}",
         "name": "Year",
         "type": "\"long\""
        },
        {
         "metadata": "{}",
         "name": "First Name",
         "type": "\"string\""
        },
        {
         "metadata": "{}",
         "name": "County",
         "type": "\"string\""
        },
        {
         "metadata": "{}",
         "name": "gender",
         "type": "\"string\""
        },
        {
         "metadata": "{}",
         "name": "Count",
         "type": "\"long\""
        }
       ],
       "type": "table"
      }
     },
     "output_type": "display_data"
    }
   ],
   "source": [
    "df = spark.createDataFrame(data, schema=schema)\n",
    "df.display()"
   ]
  },
  {
   "cell_type": "code",
   "execution_count": 0,
   "metadata": {
    "application/vnd.databricks.v1+cell": {
     "cellMetadata": {
      "byteLimit": 2048000,
      "rowLimit": 10000
     },
     "inputWidgets": {},
     "nuid": "f133fc11-d264-4a3d-9db6-9a98bb8dae92",
     "showTitle": false,
     "title": ""
    }
   },
   "outputs": [],
   "source": [
    "df_rdd=spark.sparkContext.parallelize(data)"
   ]
  },
  {
   "cell_type": "code",
   "execution_count": 0,
   "metadata": {
    "application/vnd.databricks.v1+cell": {
     "cellMetadata": {
      "byteLimit": 2048000,
      "rowLimit": 10000
     },
     "inputWidgets": {},
     "nuid": "3a813c44-e7f2-4aaf-bb94-89e4a4fd3dec",
     "showTitle": false,
     "title": ""
    }
   },
   "outputs": [
    {
     "output_type": "stream",
     "name": "stdout",
     "output_type": "stream",
     "text": [
      "Out[15]: [(2012, 'JOHN', 'ONEIDA,ORANGE', 'M', 30),\n (2012, 'EMMA', 'JEFFERSON', 'F', 25),\n (2012, 'NOAH', 'JEFFERSON', 'M', 18),\n (2012, 'SOPHIA', 'MADISON', 'F', 12),\n (2012, 'LIAM', 'ONONDAGA', 'M', 36),\n (2012, 'OLIVIA', 'CAYUGA', 'F', 22),\n (2012, 'MASON', 'MADISON', 'M', 28),\n (2012, 'AVA', 'JEFFERSON', 'F', 20),\n (2012, 'WILLIAM', 'CAYUGA', 'M', 45),\n (2012, 'ABIGAIL', 'MADISON', 'F', 19)]"
     ]
    }
   ],
   "source": [
    "df_rdd.collect()"
   ]
  },
  {
   "cell_type": "code",
   "execution_count": 0,
   "metadata": {
    "application/vnd.databricks.v1+cell": {
     "cellMetadata": {
      "byteLimit": 2048000,
      "rowLimit": 10000
     },
     "inputWidgets": {},
     "nuid": "5bb4c01f-3f8e-4868-9b83-074e7e65579b",
     "showTitle": false,
     "title": ""
    }
   },
   "outputs": [
    {
     "output_type": "display_data",
     "data": {
      "text/html": [
       "<style scoped>\n",
       "  .table-result-container {\n",
       "    max-height: 300px;\n",
       "    overflow: auto;\n",
       "  }\n",
       "  table, th, td {\n",
       "    border: 1px solid black;\n",
       "    border-collapse: collapse;\n",
       "  }\n",
       "  th, td {\n",
       "    padding: 5px;\n",
       "  }\n",
       "  th {\n",
       "    text-align: left;\n",
       "  }\n",
       "</style><div class='table-result-container'><table class='table-result'><thead style='background-color: white'><tr><th>Year</th><th>First Name</th><th>County</th><th>gender</th><th>Count</th></tr></thead><tbody><tr><td>2012</td><td>NOAH</td><td>JEFFERSON</td><td>M</td><td>18</td></tr></tbody></table></div>"
      ]
     },
     "metadata": {
      "application/vnd.databricks.v1+output": {
       "addedWidgets": {},
       "aggData": [],
       "aggError": "",
       "aggOverflow": false,
       "aggSchema": [],
       "aggSeriesLimitReached": false,
       "aggType": "",
       "arguments": {},
       "columnCustomDisplayInfos": {},
       "data": [
        [
         2012,
         "NOAH",
         "JEFFERSON",
         "M",
         18
        ]
       ],
       "datasetInfos": [],
       "dbfsResultPath": null,
       "isJsonSchema": true,
       "metadata": {},
       "overflow": false,
       "plotOptions": {
        "customPlotOptions": {},
        "displayType": "table",
        "pivotAggregation": null,
        "pivotColumns": null,
        "xColumns": null,
        "yColumns": null
       },
       "removedWidgets": [],
       "schema": [
        {
         "metadata": "{}",
         "name": "Year",
         "type": "\"long\""
        },
        {
         "metadata": "{}",
         "name": "First Name",
         "type": "\"string\""
        },
        {
         "metadata": "{}",
         "name": "County",
         "type": "\"string\""
        },
        {
         "metadata": "{}",
         "name": "gender",
         "type": "\"string\""
        },
        {
         "metadata": "{}",
         "name": "Count",
         "type": "\"long\""
        }
       ],
       "type": "table"
      }
     },
     "output_type": "display_data"
    }
   ],
   "source": [
    "filtered_df = df.filter((col(\"County\") == \"JEFFERSON\") & (col(\"Gender\") == \"M\"))\n",
    "filtered_df.display()"
   ]
  },
  {
   "cell_type": "code",
   "execution_count": 0,
   "metadata": {
    "application/vnd.databricks.v1+cell": {
     "cellMetadata": {
      "byteLimit": 2048000,
      "rowLimit": 10000
     },
     "inputWidgets": {},
     "nuid": "36477ad3-04a1-4717-a046-d30a373bc730",
     "showTitle": false,
     "title": ""
    }
   },
   "outputs": [
    {
     "output_type": "display_data",
     "data": {
      "text/html": [
       "<style scoped>\n",
       "  .table-result-container {\n",
       "    max-height: 300px;\n",
       "    overflow: auto;\n",
       "  }\n",
       "  table, th, td {\n",
       "    border: 1px solid black;\n",
       "    border-collapse: collapse;\n",
       "  }\n",
       "  th, td {\n",
       "    padding: 5px;\n",
       "  }\n",
       "  th {\n",
       "    text-align: left;\n",
       "  }\n",
       "</style><div class='table-result-container'><table class='table-result'><thead style='background-color: white'><tr><th>Year</th><th>First Name</th><th>County</th><th>gender</th><th>Count</th></tr></thead><tbody><tr><td>2012</td><td>LIAM</td><td>ONONDAGA</td><td>M</td><td>36</td></tr></tbody></table></div>"
      ]
     },
     "metadata": {
      "application/vnd.databricks.v1+output": {
       "addedWidgets": {},
       "aggData": [],
       "aggError": "",
       "aggOverflow": false,
       "aggSchema": [],
       "aggSeriesLimitReached": false,
       "aggType": "",
       "arguments": {},
       "columnCustomDisplayInfos": {},
       "data": [
        [
         2012,
         "LIAM",
         "ONONDAGA",
         "M",
         36
        ]
       ],
       "datasetInfos": [],
       "dbfsResultPath": null,
       "isJsonSchema": true,
       "metadata": {},
       "overflow": false,
       "plotOptions": {
        "customPlotOptions": {},
        "displayType": "table",
        "pivotAggregation": null,
        "pivotColumns": null,
        "xColumns": null,
        "yColumns": null
       },
       "removedWidgets": [],
       "schema": [
        {
         "metadata": "{}",
         "name": "Year",
         "type": "\"long\""
        },
        {
         "metadata": "{}",
         "name": "First Name",
         "type": "\"string\""
        },
        {
         "metadata": "{}",
         "name": "County",
         "type": "\"string\""
        },
        {
         "metadata": "{}",
         "name": "gender",
         "type": "\"string\""
        },
        {
         "metadata": "{}",
         "name": "Count",
         "type": "\"long\""
        }
       ],
       "type": "table"
      }
     },
     "output_type": "display_data"
    }
   ],
   "source": [
    "filter_df = df.filter(col(\"County\").like(\"%ONONDAGA%\"))\n",
    "filter_df.display()"
   ]
  },
  {
   "cell_type": "code",
   "execution_count": 0,
   "metadata": {
    "application/vnd.databricks.v1+cell": {
     "cellMetadata": {
      "byteLimit": 2048000,
      "rowLimit": 10000
     },
     "inputWidgets": {},
     "nuid": "b3d6659a-b385-4b4f-93d9-df0d5a5c38f2",
     "showTitle": false,
     "title": ""
    }
   },
   "outputs": [
    {
     "output_type": "display_data",
     "data": {
      "text/html": [
       "<style scoped>\n",
       "  .table-result-container {\n",
       "    max-height: 300px;\n",
       "    overflow: auto;\n",
       "  }\n",
       "  table, th, td {\n",
       "    border: 1px solid black;\n",
       "    border-collapse: collapse;\n",
       "  }\n",
       "  th, td {\n",
       "    padding: 5px;\n",
       "  }\n",
       "  th {\n",
       "    text-align: left;\n",
       "  }\n",
       "</style><div class='table-result-container'><table class='table-result'><thead style='background-color: white'><tr><th>Year</th><th>First Name</th><th>County</th><th>gender</th><th>Count</th><th>DoubleCount</th></tr></thead><tbody><tr><td>2012</td><td>JOHN</td><td>ONEIDA,ORANGE</td><td>M</td><td>30</td><td>60</td></tr><tr><td>2012</td><td>EMMA</td><td>JEFFERSON</td><td>F</td><td>25</td><td>50</td></tr><tr><td>2012</td><td>NOAH</td><td>JEFFERSON</td><td>M</td><td>18</td><td>36</td></tr><tr><td>2012</td><td>SOPHIA</td><td>MADISON</td><td>F</td><td>12</td><td>24</td></tr><tr><td>2012</td><td>LIAM</td><td>ONONDAGA</td><td>M</td><td>36</td><td>72</td></tr><tr><td>2012</td><td>OLIVIA</td><td>CAYUGA</td><td>F</td><td>22</td><td>44</td></tr><tr><td>2012</td><td>MASON</td><td>MADISON</td><td>M</td><td>28</td><td>56</td></tr><tr><td>2012</td><td>AVA</td><td>JEFFERSON</td><td>F</td><td>20</td><td>40</td></tr><tr><td>2012</td><td>WILLIAM</td><td>CAYUGA</td><td>M</td><td>45</td><td>90</td></tr><tr><td>2012</td><td>ABIGAIL</td><td>MADISON</td><td>F</td><td>19</td><td>38</td></tr></tbody></table></div>"
      ]
     },
     "metadata": {
      "application/vnd.databricks.v1+output": {
       "addedWidgets": {},
       "aggData": [],
       "aggError": "",
       "aggOverflow": false,
       "aggSchema": [],
       "aggSeriesLimitReached": false,
       "aggType": "",
       "arguments": {},
       "columnCustomDisplayInfos": {},
       "data": [
        [
         2012,
         "JOHN",
         "ONEIDA,ORANGE",
         "M",
         30,
         60
        ],
        [
         2012,
         "EMMA",
         "JEFFERSON",
         "F",
         25,
         50
        ],
        [
         2012,
         "NOAH",
         "JEFFERSON",
         "M",
         18,
         36
        ],
        [
         2012,
         "SOPHIA",
         "MADISON",
         "F",
         12,
         24
        ],
        [
         2012,
         "LIAM",
         "ONONDAGA",
         "M",
         36,
         72
        ],
        [
         2012,
         "OLIVIA",
         "CAYUGA",
         "F",
         22,
         44
        ],
        [
         2012,
         "MASON",
         "MADISON",
         "M",
         28,
         56
        ],
        [
         2012,
         "AVA",
         "JEFFERSON",
         "F",
         20,
         40
        ],
        [
         2012,
         "WILLIAM",
         "CAYUGA",
         "M",
         45,
         90
        ],
        [
         2012,
         "ABIGAIL",
         "MADISON",
         "F",
         19,
         38
        ]
       ],
       "datasetInfos": [],
       "dbfsResultPath": null,
       "isJsonSchema": true,
       "metadata": {},
       "overflow": false,
       "plotOptions": {
        "customPlotOptions": {},
        "displayType": "table",
        "pivotAggregation": null,
        "pivotColumns": null,
        "xColumns": null,
        "yColumns": null
       },
       "removedWidgets": [],
       "schema": [
        {
         "metadata": "{}",
         "name": "Year",
         "type": "\"long\""
        },
        {
         "metadata": "{}",
         "name": "First Name",
         "type": "\"string\""
        },
        {
         "metadata": "{}",
         "name": "County",
         "type": "\"string\""
        },
        {
         "metadata": "{}",
         "name": "gender",
         "type": "\"string\""
        },
        {
         "metadata": "{}",
         "name": "Count",
         "type": "\"long\""
        },
        {
         "metadata": "{}",
         "name": "DoubleCount",
         "type": "\"long\""
        }
       ],
       "type": "table"
      }
     },
     "output_type": "display_data"
    }
   ],
   "source": [
    "df_with_double_count = df.withColumn(\"DoubleCount\", col(\"Count\") * 2)\n",
    "df_with_double_count.display()"
   ]
  },
  {
   "cell_type": "code",
   "execution_count": 0,
   "metadata": {
    "application/vnd.databricks.v1+cell": {
     "cellMetadata": {
      "byteLimit": 2048000,
      "rowLimit": 10000
     },
     "inputWidgets": {},
     "nuid": "eb84aa0f-bce3-4e18-8c7c-c84ecff3d5b7",
     "showTitle": false,
     "title": ""
    }
   },
   "outputs": [
    {
     "output_type": "display_data",
     "data": {
      "text/html": [
       "<style scoped>\n",
       "  .table-result-container {\n",
       "    max-height: 300px;\n",
       "    overflow: auto;\n",
       "  }\n",
       "  table, th, td {\n",
       "    border: 1px solid black;\n",
       "    border-collapse: collapse;\n",
       "  }\n",
       "  th, td {\n",
       "    padding: 5px;\n",
       "  }\n",
       "  th {\n",
       "    text-align: left;\n",
       "  }\n",
       "</style><div class='table-result-container'><table class='table-result'><thead style='background-color: white'><tr><th>BirthYear</th><th>First Name</th><th>County</th><th>gender</th><th>Count</th></tr></thead><tbody><tr><td>2012</td><td>JOHN</td><td>ONEIDA,ORANGE</td><td>M</td><td>30</td></tr><tr><td>2012</td><td>EMMA</td><td>JEFFERSON</td><td>F</td><td>25</td></tr><tr><td>2012</td><td>NOAH</td><td>JEFFERSON</td><td>M</td><td>18</td></tr><tr><td>2012</td><td>SOPHIA</td><td>MADISON</td><td>F</td><td>12</td></tr><tr><td>2012</td><td>LIAM</td><td>ONONDAGA</td><td>M</td><td>36</td></tr><tr><td>2012</td><td>OLIVIA</td><td>CAYUGA</td><td>F</td><td>22</td></tr><tr><td>2012</td><td>MASON</td><td>MADISON</td><td>M</td><td>28</td></tr><tr><td>2012</td><td>AVA</td><td>JEFFERSON</td><td>F</td><td>20</td></tr><tr><td>2012</td><td>WILLIAM</td><td>CAYUGA</td><td>M</td><td>45</td></tr><tr><td>2012</td><td>ABIGAIL</td><td>MADISON</td><td>F</td><td>19</td></tr></tbody></table></div>"
      ]
     },
     "metadata": {
      "application/vnd.databricks.v1+output": {
       "addedWidgets": {},
       "aggData": [],
       "aggError": "",
       "aggOverflow": false,
       "aggSchema": [],
       "aggSeriesLimitReached": false,
       "aggType": "",
       "arguments": {},
       "columnCustomDisplayInfos": {},
       "data": [
        [
         2012,
         "JOHN",
         "ONEIDA,ORANGE",
         "M",
         30
        ],
        [
         2012,
         "EMMA",
         "JEFFERSON",
         "F",
         25
        ],
        [
         2012,
         "NOAH",
         "JEFFERSON",
         "M",
         18
        ],
        [
         2012,
         "SOPHIA",
         "MADISON",
         "F",
         12
        ],
        [
         2012,
         "LIAM",
         "ONONDAGA",
         "M",
         36
        ],
        [
         2012,
         "OLIVIA",
         "CAYUGA",
         "F",
         22
        ],
        [
         2012,
         "MASON",
         "MADISON",
         "M",
         28
        ],
        [
         2012,
         "AVA",
         "JEFFERSON",
         "F",
         20
        ],
        [
         2012,
         "WILLIAM",
         "CAYUGA",
         "M",
         45
        ],
        [
         2012,
         "ABIGAIL",
         "MADISON",
         "F",
         19
        ]
       ],
       "datasetInfos": [],
       "dbfsResultPath": null,
       "isJsonSchema": true,
       "metadata": {},
       "overflow": false,
       "plotOptions": {
        "customPlotOptions": {},
        "displayType": "table",
        "pivotAggregation": null,
        "pivotColumns": null,
        "xColumns": null,
        "yColumns": null
       },
       "removedWidgets": [],
       "schema": [
        {
         "metadata": "{}",
         "name": "BirthYear",
         "type": "\"long\""
        },
        {
         "metadata": "{}",
         "name": "First Name",
         "type": "\"string\""
        },
        {
         "metadata": "{}",
         "name": "County",
         "type": "\"string\""
        },
        {
         "metadata": "{}",
         "name": "gender",
         "type": "\"string\""
        },
        {
         "metadata": "{}",
         "name": "Count",
         "type": "\"long\""
        }
       ],
       "type": "table"
      }
     },
     "output_type": "display_data"
    }
   ],
   "source": [
    "renamed_column_df = df.withColumnRenamed(\"Year\", \"BirthYear\")\n",
    "renamed_column_df.display()"
   ]
  },
  {
   "cell_type": "code",
   "execution_count": 0,
   "metadata": {
    "application/vnd.databricks.v1+cell": {
     "cellMetadata": {
      "byteLimit": 2048000,
      "rowLimit": 10000
     },
     "inputWidgets": {},
     "nuid": "b45f4df6-b6fe-44e8-b594-30a1c9d97422",
     "showTitle": false,
     "title": ""
    }
   },
   "outputs": [
    {
     "output_type": "display_data",
     "data": {
      "text/html": [
       "<style scoped>\n",
       "  .table-result-container {\n",
       "    max-height: 300px;\n",
       "    overflow: auto;\n",
       "  }\n",
       "  table, th, td {\n",
       "    border: 1px solid black;\n",
       "    border-collapse: collapse;\n",
       "  }\n",
       "  th, td {\n",
       "    padding: 5px;\n",
       "  }\n",
       "  th {\n",
       "    text-align: left;\n",
       "  }\n",
       "</style><div class='table-result-container'><table class='table-result'><thead style='background-color: white'><tr><th>Year</th><th>First Name</th><th>County</th><th>gender</th><th>Count</th></tr></thead><tbody><tr><td>2012</td><td>WILLIAM</td><td>CAYUGA</td><td>M</td><td>45</td></tr><tr><td>2012</td><td>LIAM</td><td>ONONDAGA</td><td>M</td><td>36</td></tr><tr><td>2012</td><td>JOHN</td><td>ONEIDA,ORANGE</td><td>M</td><td>30</td></tr><tr><td>2012</td><td>MASON</td><td>MADISON</td><td>M</td><td>28</td></tr><tr><td>2012</td><td>EMMA</td><td>JEFFERSON</td><td>F</td><td>25</td></tr><tr><td>2012</td><td>OLIVIA</td><td>CAYUGA</td><td>F</td><td>22</td></tr><tr><td>2012</td><td>AVA</td><td>JEFFERSON</td><td>F</td><td>20</td></tr><tr><td>2012</td><td>ABIGAIL</td><td>MADISON</td><td>F</td><td>19</td></tr><tr><td>2012</td><td>NOAH</td><td>JEFFERSON</td><td>M</td><td>18</td></tr><tr><td>2012</td><td>SOPHIA</td><td>MADISON</td><td>F</td><td>12</td></tr></tbody></table></div>"
      ]
     },
     "metadata": {
      "application/vnd.databricks.v1+output": {
       "addedWidgets": {},
       "aggData": [],
       "aggError": "",
       "aggOverflow": false,
       "aggSchema": [],
       "aggSeriesLimitReached": false,
       "aggType": "",
       "arguments": {},
       "columnCustomDisplayInfos": {},
       "data": [
        [
         2012,
         "WILLIAM",
         "CAYUGA",
         "M",
         45
        ],
        [
         2012,
         "LIAM",
         "ONONDAGA",
         "M",
         36
        ],
        [
         2012,
         "JOHN",
         "ONEIDA,ORANGE",
         "M",
         30
        ],
        [
         2012,
         "MASON",
         "MADISON",
         "M",
         28
        ],
        [
         2012,
         "EMMA",
         "JEFFERSON",
         "F",
         25
        ],
        [
         2012,
         "OLIVIA",
         "CAYUGA",
         "F",
         22
        ],
        [
         2012,
         "AVA",
         "JEFFERSON",
         "F",
         20
        ],
        [
         2012,
         "ABIGAIL",
         "MADISON",
         "F",
         19
        ],
        [
         2012,
         "NOAH",
         "JEFFERSON",
         "M",
         18
        ],
        [
         2012,
         "SOPHIA",
         "MADISON",
         "F",
         12
        ]
       ],
       "datasetInfos": [],
       "dbfsResultPath": null,
       "isJsonSchema": true,
       "metadata": {},
       "overflow": false,
       "plotOptions": {
        "customPlotOptions": {},
        "displayType": "table",
        "pivotAggregation": null,
        "pivotColumns": null,
        "xColumns": null,
        "yColumns": null
       },
       "removedWidgets": [],
       "schema": [
        {
         "metadata": "{}",
         "name": "Year",
         "type": "\"long\""
        },
        {
         "metadata": "{}",
         "name": "First Name",
         "type": "\"string\""
        },
        {
         "metadata": "{}",
         "name": "County",
         "type": "\"string\""
        },
        {
         "metadata": "{}",
         "name": "gender",
         "type": "\"string\""
        },
        {
         "metadata": "{}",
         "name": "Count",
         "type": "\"long\""
        }
       ],
       "type": "table"
      }
     },
     "output_type": "display_data"
    }
   ],
   "source": [
    "sorted_df = df.orderBy(col(\"Count\").desc())\n",
    "sorted_df.display()"
   ]
  },
  {
   "cell_type": "code",
   "execution_count": 0,
   "metadata": {
    "application/vnd.databricks.v1+cell": {
     "cellMetadata": {
      "byteLimit": 2048000,
      "rowLimit": 10000
     },
     "inputWidgets": {},
     "nuid": "e0ba4266-0b25-4cf8-88ac-3200f4bbfe0f",
     "showTitle": false,
     "title": ""
    }
   },
   "outputs": [
    {
     "output_type": "display_data",
     "data": {
      "text/html": [
       "<style scoped>\n",
       "  .table-result-container {\n",
       "    max-height: 300px;\n",
       "    overflow: auto;\n",
       "  }\n",
       "  table, th, td {\n",
       "    border: 1px solid black;\n",
       "    border-collapse: collapse;\n",
       "  }\n",
       "  th, td {\n",
       "    padding: 5px;\n",
       "  }\n",
       "  th {\n",
       "    text-align: left;\n",
       "  }\n",
       "</style><div class='table-result-container'><table class='table-result'><thead style='background-color: white'><tr><th>Year</th><th>First Name</th><th>County</th><th>gender</th><th>Count</th><th>CountyArray</th></tr></thead><tbody><tr><td>2012</td><td>JOHN</td><td>ONEIDA,ORANGE</td><td>M</td><td>30</td><td>List(ONEIDA, ORANGE)</td></tr><tr><td>2012</td><td>EMMA</td><td>JEFFERSON</td><td>F</td><td>25</td><td>List(JEFFERSON)</td></tr><tr><td>2012</td><td>NOAH</td><td>JEFFERSON</td><td>M</td><td>18</td><td>List(JEFFERSON)</td></tr><tr><td>2012</td><td>SOPHIA</td><td>MADISON</td><td>F</td><td>12</td><td>List(MADISON)</td></tr><tr><td>2012</td><td>LIAM</td><td>ONONDAGA</td><td>M</td><td>36</td><td>List(ONONDAGA)</td></tr><tr><td>2012</td><td>OLIVIA</td><td>CAYUGA</td><td>F</td><td>22</td><td>List(CAYUGA)</td></tr><tr><td>2012</td><td>MASON</td><td>MADISON</td><td>M</td><td>28</td><td>List(MADISON)</td></tr><tr><td>2012</td><td>AVA</td><td>JEFFERSON</td><td>F</td><td>20</td><td>List(JEFFERSON)</td></tr><tr><td>2012</td><td>WILLIAM</td><td>CAYUGA</td><td>M</td><td>45</td><td>List(CAYUGA)</td></tr><tr><td>2012</td><td>ABIGAIL</td><td>MADISON</td><td>F</td><td>19</td><td>List(MADISON)</td></tr></tbody></table></div>"
      ]
     },
     "metadata": {
      "application/vnd.databricks.v1+output": {
       "addedWidgets": {},
       "aggData": [],
       "aggError": "",
       "aggOverflow": false,
       "aggSchema": [],
       "aggSeriesLimitReached": false,
       "aggType": "",
       "arguments": {},
       "columnCustomDisplayInfos": {},
       "data": [
        [
         2012,
         "JOHN",
         "ONEIDA,ORANGE",
         "M",
         30,
         [
          "ONEIDA",
          "ORANGE"
         ]
        ],
        [
         2012,
         "EMMA",
         "JEFFERSON",
         "F",
         25,
         [
          "JEFFERSON"
         ]
        ],
        [
         2012,
         "NOAH",
         "JEFFERSON",
         "M",
         18,
         [
          "JEFFERSON"
         ]
        ],
        [
         2012,
         "SOPHIA",
         "MADISON",
         "F",
         12,
         [
          "MADISON"
         ]
        ],
        [
         2012,
         "LIAM",
         "ONONDAGA",
         "M",
         36,
         [
          "ONONDAGA"
         ]
        ],
        [
         2012,
         "OLIVIA",
         "CAYUGA",
         "F",
         22,
         [
          "CAYUGA"
         ]
        ],
        [
         2012,
         "MASON",
         "MADISON",
         "M",
         28,
         [
          "MADISON"
         ]
        ],
        [
         2012,
         "AVA",
         "JEFFERSON",
         "F",
         20,
         [
          "JEFFERSON"
         ]
        ],
        [
         2012,
         "WILLIAM",
         "CAYUGA",
         "M",
         45,
         [
          "CAYUGA"
         ]
        ],
        [
         2012,
         "ABIGAIL",
         "MADISON",
         "F",
         19,
         [
          "MADISON"
         ]
        ]
       ],
       "datasetInfos": [],
       "dbfsResultPath": null,
       "isJsonSchema": true,
       "metadata": {},
       "overflow": false,
       "plotOptions": {
        "customPlotOptions": {},
        "displayType": "table",
        "pivotAggregation": null,
        "pivotColumns": null,
        "xColumns": null,
        "yColumns": null
       },
       "removedWidgets": [],
       "schema": [
        {
         "metadata": "{}",
         "name": "Year",
         "type": "\"long\""
        },
        {
         "metadata": "{}",
         "name": "First Name",
         "type": "\"string\""
        },
        {
         "metadata": "{}",
         "name": "County",
         "type": "\"string\""
        },
        {
         "metadata": "{}",
         "name": "gender",
         "type": "\"string\""
        },
        {
         "metadata": "{}",
         "name": "Count",
         "type": "\"long\""
        },
        {
         "metadata": "{}",
         "name": "CountyArray",
         "type": "{\"type\":\"array\",\"elementType\":\"string\",\"containsNull\":false}"
        }
       ],
       "type": "table"
      }
     },
     "output_type": "display_data"
    }
   ],
   "source": [
    "from pyspark.sql.functions import split\n",
    "split_county_df = df.withColumn(\"CountyArray\", split(col(\"County\"), \",\"))\n",
    "split_county_df.display()"
   ]
  },
  {
   "cell_type": "code",
   "execution_count": 0,
   "metadata": {
    "application/vnd.databricks.v1+cell": {
     "cellMetadata": {
      "byteLimit": 2048000,
      "rowLimit": 10000
     },
     "inputWidgets": {},
     "nuid": "b65dae63-d3fe-4133-a019-d458f7b9bb01",
     "showTitle": false,
     "title": ""
    }
   },
   "outputs": [
    {
     "output_type": "display_data",
     "data": {
      "text/html": [
       "<style scoped>\n",
       "  .table-result-container {\n",
       "    max-height: 300px;\n",
       "    overflow: auto;\n",
       "  }\n",
       "  table, th, td {\n",
       "    border: 1px solid black;\n",
       "    border-collapse: collapse;\n",
       "  }\n",
       "  th, td {\n",
       "    padding: 5px;\n",
       "  }\n",
       "  th {\n",
       "    text-align: left;\n",
       "  }\n",
       "</style><div class='table-result-container'><table class='table-result'><thead style='background-color: white'><tr><th>Year</th><th>First Name</th><th>County</th><th>gender</th><th>Count</th></tr></thead><tbody><tr><td>2012</td><td>JOHN</td><td>ONEIDA</td><td>M</td><td>30</td></tr><tr><td>2012</td><td>JOHN</td><td>ORANGE</td><td>M</td><td>30</td></tr><tr><td>2012</td><td>EMMA</td><td>JEFFERSON</td><td>F</td><td>25</td></tr><tr><td>2012</td><td>NOAH</td><td>JEFFERSON</td><td>M</td><td>18</td></tr><tr><td>2012</td><td>SOPHIA</td><td>MADISON</td><td>F</td><td>12</td></tr><tr><td>2012</td><td>LIAM</td><td>ONONDAGA</td><td>M</td><td>36</td></tr><tr><td>2012</td><td>OLIVIA</td><td>CAYUGA</td><td>F</td><td>22</td></tr><tr><td>2012</td><td>MASON</td><td>MADISON</td><td>M</td><td>28</td></tr><tr><td>2012</td><td>AVA</td><td>JEFFERSON</td><td>F</td><td>20</td></tr><tr><td>2012</td><td>WILLIAM</td><td>CAYUGA</td><td>M</td><td>45</td></tr><tr><td>2012</td><td>ABIGAIL</td><td>MADISON</td><td>F</td><td>19</td></tr></tbody></table></div>"
      ]
     },
     "metadata": {
      "application/vnd.databricks.v1+output": {
       "addedWidgets": {},
       "aggData": [],
       "aggError": "",
       "aggOverflow": false,
       "aggSchema": [],
       "aggSeriesLimitReached": false,
       "aggType": "",
       "arguments": {},
       "columnCustomDisplayInfos": {},
       "data": [
        [
         2012,
         "JOHN",
         "ONEIDA",
         "M",
         30
        ],
        [
         2012,
         "JOHN",
         "ORANGE",
         "M",
         30
        ],
        [
         2012,
         "EMMA",
         "JEFFERSON",
         "F",
         25
        ],
        [
         2012,
         "NOAH",
         "JEFFERSON",
         "M",
         18
        ],
        [
         2012,
         "SOPHIA",
         "MADISON",
         "F",
         12
        ],
        [
         2012,
         "LIAM",
         "ONONDAGA",
         "M",
         36
        ],
        [
         2012,
         "OLIVIA",
         "CAYUGA",
         "F",
         22
        ],
        [
         2012,
         "MASON",
         "MADISON",
         "M",
         28
        ],
        [
         2012,
         "AVA",
         "JEFFERSON",
         "F",
         20
        ],
        [
         2012,
         "WILLIAM",
         "CAYUGA",
         "M",
         45
        ],
        [
         2012,
         "ABIGAIL",
         "MADISON",
         "F",
         19
        ]
       ],
       "datasetInfos": [],
       "dbfsResultPath": null,
       "isJsonSchema": true,
       "metadata": {},
       "overflow": false,
       "plotOptions": {
        "customPlotOptions": {},
        "displayType": "table",
        "pivotAggregation": null,
        "pivotColumns": null,
        "xColumns": null,
        "yColumns": null
       },
       "removedWidgets": [],
       "schema": [
        {
         "metadata": "{}",
         "name": "Year",
         "type": "\"long\""
        },
        {
         "metadata": "{}",
         "name": "First Name",
         "type": "\"string\""
        },
        {
         "metadata": "{}",
         "name": "County",
         "type": "\"string\""
        },
        {
         "metadata": "{}",
         "name": "gender",
         "type": "\"string\""
        },
        {
         "metadata": "{}",
         "name": "Count",
         "type": "\"long\""
        }
       ],
       "type": "table"
      }
     },
     "output_type": "display_data"
    }
   ],
   "source": [
    "split_and_explode_df = df.withColumn(\"County\", explode(split(col(\"County\"), \",\")))\n",
    "split_and_explode_df.display()\n",
    "# Split the \"County\" column into an array and explode it into separate rows."
   ]
  },
  {
   "cell_type": "code",
   "execution_count": 0,
   "metadata": {
    "application/vnd.databricks.v1+cell": {
     "cellMetadata": {
      "byteLimit": 2048000,
      "rowLimit": 10000
     },
     "inputWidgets": {},
     "nuid": "32b1f7cd-5b18-4611-af4d-f472c88c9b8d",
     "showTitle": false,
     "title": ""
    }
   },
   "outputs": [
    {
     "output_type": "display_data",
     "data": {
      "text/html": [
       "<style scoped>\n",
       "  .table-result-container {\n",
       "    max-height: 300px;\n",
       "    overflow: auto;\n",
       "  }\n",
       "  table, th, td {\n",
       "    border: 1px solid black;\n",
       "    border-collapse: collapse;\n",
       "  }\n",
       "  th, td {\n",
       "    padding: 5px;\n",
       "  }\n",
       "  th {\n",
       "    text-align: left;\n",
       "  }\n",
       "</style><div class='table-result-container'><table class='table-result'><thead style='background-color: white'><tr><th>Year</th><th>First Name</th><th>County</th><th>gender</th><th>Count</th><th>FullName</th></tr></thead><tbody><tr><td>2012</td><td>JOHN</td><td>ONEIDA,ORANGE</td><td>M</td><td>30</td><td>JOHN, ONEIDA,ORANGE</td></tr><tr><td>2012</td><td>EMMA</td><td>JEFFERSON</td><td>F</td><td>25</td><td>EMMA, JEFFERSON</td></tr><tr><td>2012</td><td>NOAH</td><td>JEFFERSON</td><td>M</td><td>18</td><td>NOAH, JEFFERSON</td></tr><tr><td>2012</td><td>SOPHIA</td><td>MADISON</td><td>F</td><td>12</td><td>SOPHIA, MADISON</td></tr><tr><td>2012</td><td>LIAM</td><td>ONONDAGA</td><td>M</td><td>36</td><td>LIAM, ONONDAGA</td></tr><tr><td>2012</td><td>OLIVIA</td><td>CAYUGA</td><td>F</td><td>22</td><td>OLIVIA, CAYUGA</td></tr><tr><td>2012</td><td>MASON</td><td>MADISON</td><td>M</td><td>28</td><td>MASON, MADISON</td></tr><tr><td>2012</td><td>AVA</td><td>JEFFERSON</td><td>F</td><td>20</td><td>AVA, JEFFERSON</td></tr><tr><td>2012</td><td>WILLIAM</td><td>CAYUGA</td><td>M</td><td>45</td><td>WILLIAM, CAYUGA</td></tr><tr><td>2012</td><td>ABIGAIL</td><td>MADISON</td><td>F</td><td>19</td><td>ABIGAIL, MADISON</td></tr></tbody></table></div>"
      ]
     },
     "metadata": {
      "application/vnd.databricks.v1+output": {
       "addedWidgets": {},
       "aggData": [],
       "aggError": "",
       "aggOverflow": false,
       "aggSchema": [],
       "aggSeriesLimitReached": false,
       "aggType": "",
       "arguments": {},
       "columnCustomDisplayInfos": {},
       "data": [
        [
         2012,
         "JOHN",
         "ONEIDA,ORANGE",
         "M",
         30,
         "JOHN, ONEIDA,ORANGE"
        ],
        [
         2012,
         "EMMA",
         "JEFFERSON",
         "F",
         25,
         "EMMA, JEFFERSON"
        ],
        [
         2012,
         "NOAH",
         "JEFFERSON",
         "M",
         18,
         "NOAH, JEFFERSON"
        ],
        [
         2012,
         "SOPHIA",
         "MADISON",
         "F",
         12,
         "SOPHIA, MADISON"
        ],
        [
         2012,
         "LIAM",
         "ONONDAGA",
         "M",
         36,
         "LIAM, ONONDAGA"
        ],
        [
         2012,
         "OLIVIA",
         "CAYUGA",
         "F",
         22,
         "OLIVIA, CAYUGA"
        ],
        [
         2012,
         "MASON",
         "MADISON",
         "M",
         28,
         "MASON, MADISON"
        ],
        [
         2012,
         "AVA",
         "JEFFERSON",
         "F",
         20,
         "AVA, JEFFERSON"
        ],
        [
         2012,
         "WILLIAM",
         "CAYUGA",
         "M",
         45,
         "WILLIAM, CAYUGA"
        ],
        [
         2012,
         "ABIGAIL",
         "MADISON",
         "F",
         19,
         "ABIGAIL, MADISON"
        ]
       ],
       "datasetInfos": [],
       "dbfsResultPath": null,
       "isJsonSchema": true,
       "metadata": {},
       "overflow": false,
       "plotOptions": {
        "customPlotOptions": {},
        "displayType": "table",
        "pivotAggregation": null,
        "pivotColumns": null,
        "xColumns": null,
        "yColumns": null
       },
       "removedWidgets": [],
       "schema": [
        {
         "metadata": "{}",
         "name": "Year",
         "type": "\"long\""
        },
        {
         "metadata": "{}",
         "name": "First Name",
         "type": "\"string\""
        },
        {
         "metadata": "{}",
         "name": "County",
         "type": "\"string\""
        },
        {
         "metadata": "{}",
         "name": "gender",
         "type": "\"string\""
        },
        {
         "metadata": "{}",
         "name": "Count",
         "type": "\"long\""
        },
        {
         "metadata": "{}",
         "name": "FullName",
         "type": "\"string\""
        }
       ],
       "type": "table"
      }
     },
     "output_type": "display_data"
    }
   ],
   "source": [
    "df_with_full_name = df.withColumn(\"FullName\", concat_ws(\", \", col(\"First Name\"), col(\"County\")))\n",
    "df_with_full_name.display()"
   ]
  },
  {
   "cell_type": "code",
   "execution_count": 0,
   "metadata": {
    "application/vnd.databricks.v1+cell": {
     "cellMetadata": {
      "byteLimit": 2048000,
      "rowLimit": 10000
     },
     "inputWidgets": {},
     "nuid": "4621ae02-1f12-4fb4-a623-472fbf729895",
     "showTitle": false,
     "title": ""
    }
   },
   "outputs": [
    {
     "output_type": "display_data",
     "data": {
      "text/html": [
       "<style scoped>\n",
       "  .table-result-container {\n",
       "    max-height: 300px;\n",
       "    overflow: auto;\n",
       "  }\n",
       "  table, th, td {\n",
       "    border: 1px solid black;\n",
       "    border-collapse: collapse;\n",
       "  }\n",
       "  th, td {\n",
       "    padding: 5px;\n",
       "  }\n",
       "  th {\n",
       "    text-align: left;\n",
       "  }\n",
       "</style><div class='table-result-container'><table class='table-result'><thead style='background-color: white'><tr><th>Gender</th><th>avg(Count)</th></tr></thead><tbody><tr><td>M</td><td>31.4</td></tr><tr><td>F</td><td>19.6</td></tr></tbody></table></div>"
      ]
     },
     "metadata": {
      "application/vnd.databricks.v1+output": {
       "addedWidgets": {},
       "aggData": [],
       "aggError": "",
       "aggOverflow": false,
       "aggSchema": [],
       "aggSeriesLimitReached": false,
       "aggType": "",
       "arguments": {},
       "columnCustomDisplayInfos": {},
       "data": [
        [
         "M",
         31.4
        ],
        [
         "F",
         19.6
        ]
       ],
       "datasetInfos": [],
       "dbfsResultPath": null,
       "isJsonSchema": true,
       "metadata": {},
       "overflow": false,
       "plotOptions": {
        "customPlotOptions": {},
        "displayType": "table",
        "pivotAggregation": null,
        "pivotColumns": null,
        "xColumns": null,
        "yColumns": null
       },
       "removedWidgets": [],
       "schema": [
        {
         "metadata": "{}",
         "name": "Gender",
         "type": "\"string\""
        },
        {
         "metadata": "{}",
         "name": "avg(Count)",
         "type": "\"double\""
        }
       ],
       "type": "table"
      }
     },
     "output_type": "display_data"
    }
   ],
   "source": [
    "avg_count_by_gender = df.groupBy(\"Gender\").agg({\"Count\": \"avg\"})\n",
    "avg_count_by_gender.display()"
   ]
  },
  {
   "cell_type": "code",
   "execution_count": 0,
   "metadata": {
    "application/vnd.databricks.v1+cell": {
     "cellMetadata": {
      "byteLimit": 2048000,
      "rowLimit": 10000
     },
     "inputWidgets": {},
     "nuid": "eab46d99-c434-44a9-96eb-59e4bcdf633d",
     "showTitle": false,
     "title": ""
    }
   },
   "outputs": [
    {
     "output_type": "display_data",
     "data": {
      "text/html": [
       "<style scoped>\n",
       "  .table-result-container {\n",
       "    max-height: 300px;\n",
       "    overflow: auto;\n",
       "  }\n",
       "  table, th, td {\n",
       "    border: 1px solid black;\n",
       "    border-collapse: collapse;\n",
       "  }\n",
       "  th, td {\n",
       "    padding: 5px;\n",
       "  }\n",
       "  th {\n",
       "    text-align: left;\n",
       "  }\n",
       "</style><div class='table-result-container'><table class='table-result'><thead style='background-color: white'><tr><th>Year</th><th>First Name</th><th>County</th><th>gender</th><th>Count</th><th>Rank</th></tr></thead><tbody><tr><td>2012</td><td>EMMA</td><td>JEFFERSON</td><td>F</td><td>25</td><td>1</td></tr><tr><td>2012</td><td>OLIVIA</td><td>CAYUGA</td><td>F</td><td>22</td><td>2</td></tr><tr><td>2012</td><td>AVA</td><td>JEFFERSON</td><td>F</td><td>20</td><td>3</td></tr><tr><td>2012</td><td>ABIGAIL</td><td>MADISON</td><td>F</td><td>19</td><td>4</td></tr><tr><td>2012</td><td>SOPHIA</td><td>MADISON</td><td>F</td><td>12</td><td>5</td></tr><tr><td>2012</td><td>WILLIAM</td><td>CAYUGA</td><td>M</td><td>45</td><td>1</td></tr><tr><td>2012</td><td>LIAM</td><td>ONONDAGA</td><td>M</td><td>36</td><td>2</td></tr><tr><td>2012</td><td>JOHN</td><td>ONEIDA,ORANGE</td><td>M</td><td>30</td><td>3</td></tr><tr><td>2012</td><td>MASON</td><td>MADISON</td><td>M</td><td>28</td><td>4</td></tr><tr><td>2012</td><td>NOAH</td><td>JEFFERSON</td><td>M</td><td>18</td><td>5</td></tr></tbody></table></div>"
      ]
     },
     "metadata": {
      "application/vnd.databricks.v1+output": {
       "addedWidgets": {},
       "aggData": [],
       "aggError": "",
       "aggOverflow": false,
       "aggSchema": [],
       "aggSeriesLimitReached": false,
       "aggType": "",
       "arguments": {},
       "columnCustomDisplayInfos": {},
       "data": [
        [
         2012,
         "EMMA",
         "JEFFERSON",
         "F",
         25,
         1
        ],
        [
         2012,
         "OLIVIA",
         "CAYUGA",
         "F",
         22,
         2
        ],
        [
         2012,
         "AVA",
         "JEFFERSON",
         "F",
         20,
         3
        ],
        [
         2012,
         "ABIGAIL",
         "MADISON",
         "F",
         19,
         4
        ],
        [
         2012,
         "SOPHIA",
         "MADISON",
         "F",
         12,
         5
        ],
        [
         2012,
         "WILLIAM",
         "CAYUGA",
         "M",
         45,
         1
        ],
        [
         2012,
         "LIAM",
         "ONONDAGA",
         "M",
         36,
         2
        ],
        [
         2012,
         "JOHN",
         "ONEIDA,ORANGE",
         "M",
         30,
         3
        ],
        [
         2012,
         "MASON",
         "MADISON",
         "M",
         28,
         4
        ],
        [
         2012,
         "NOAH",
         "JEFFERSON",
         "M",
         18,
         5
        ]
       ],
       "datasetInfos": [],
       "dbfsResultPath": null,
       "isJsonSchema": true,
       "metadata": {},
       "overflow": false,
       "plotOptions": {
        "customPlotOptions": {},
        "displayType": "table",
        "pivotAggregation": null,
        "pivotColumns": null,
        "xColumns": null,
        "yColumns": null
       },
       "removedWidgets": [],
       "schema": [
        {
         "metadata": "{}",
         "name": "Year",
         "type": "\"long\""
        },
        {
         "metadata": "{}",
         "name": "First Name",
         "type": "\"string\""
        },
        {
         "metadata": "{}",
         "name": "County",
         "type": "\"string\""
        },
        {
         "metadata": "{}",
         "name": "gender",
         "type": "\"string\""
        },
        {
         "metadata": "{}",
         "name": "Count",
         "type": "\"long\""
        },
        {
         "metadata": "{}",
         "name": "Rank",
         "type": "\"integer\""
        }
       ],
       "type": "table"
      }
     },
     "output_type": "display_data"
    }
   ],
   "source": [
    "window_spec = Window.partitionBy(\"Gender\").orderBy(col(\"Count\").desc())\n",
    "ranked_df = df.withColumn(\"Rank\", rank().over(window_spec))\n",
    "ranked_df.display()"
   ]
  },
  {
   "cell_type": "code",
   "execution_count": 0,
   "metadata": {
    "application/vnd.databricks.v1+cell": {
     "cellMetadata": {
      "byteLimit": 2048000,
      "rowLimit": 10000
     },
     "inputWidgets": {},
     "nuid": "26a0455b-5c80-4ad8-b70f-d454b9debd3b",
     "showTitle": false,
     "title": ""
    }
   },
   "outputs": [
    {
     "output_type": "display_data",
     "data": {
      "text/html": [
       "<style scoped>\n",
       "  .table-result-container {\n",
       "    max-height: 300px;\n",
       "    overflow: auto;\n",
       "  }\n",
       "  table, th, td {\n",
       "    border: 1px solid black;\n",
       "    border-collapse: collapse;\n",
       "  }\n",
       "  th, td {\n",
       "    padding: 5px;\n",
       "  }\n",
       "  th {\n",
       "    text-align: left;\n",
       "  }\n",
       "</style><div class='table-result-container'><table class='table-result'><thead style='background-color: white'><tr><th>County</th><th>F</th><th>M</th></tr></thead><tbody><tr><td>MADISON</td><td>31</td><td>28</td></tr><tr><td>JEFFERSON</td><td>45</td><td>18</td></tr><tr><td>ONONDAGA</td><td>null</td><td>36</td></tr><tr><td>CAYUGA</td><td>22</td><td>45</td></tr><tr><td>ONEIDA,ORANGE</td><td>null</td><td>30</td></tr></tbody></table></div>"
      ]
     },
     "metadata": {
      "application/vnd.databricks.v1+output": {
       "addedWidgets": {},
       "aggData": [],
       "aggError": "",
       "aggOverflow": false,
       "aggSchema": [],
       "aggSeriesLimitReached": false,
       "aggType": "",
       "arguments": {},
       "columnCustomDisplayInfos": {},
       "data": [
        [
         "MADISON",
         31,
         28
        ],
        [
         "JEFFERSON",
         45,
         18
        ],
        [
         "ONONDAGA",
         null,
         36
        ],
        [
         "CAYUGA",
         22,
         45
        ],
        [
         "ONEIDA,ORANGE",
         null,
         30
        ]
       ],
       "datasetInfos": [],
       "dbfsResultPath": null,
       "isJsonSchema": true,
       "metadata": {},
       "overflow": false,
       "plotOptions": {
        "customPlotOptions": {},
        "displayType": "table",
        "pivotAggregation": null,
        "pivotColumns": null,
        "xColumns": null,
        "yColumns": null
       },
       "removedWidgets": [],
       "schema": [
        {
         "metadata": "{}",
         "name": "County",
         "type": "\"string\""
        },
        {
         "metadata": "{}",
         "name": "F",
         "type": "\"long\""
        },
        {
         "metadata": "{}",
         "name": "M",
         "type": "\"long\""
        }
       ],
       "type": "table"
      }
     },
     "output_type": "display_data"
    }
   ],
   "source": [
    "pivoted_df = df.groupBy(\"County\").pivot(\"Gender\").agg({\"Count\": \"sum\"})\n",
    "pivoted_df.display()"
   ]
  },
  {
   "cell_type": "code",
   "execution_count": 0,
   "metadata": {
    "application/vnd.databricks.v1+cell": {
     "cellMetadata": {
      "byteLimit": 2048000,
      "rowLimit": 10000
     },
     "inputWidgets": {},
     "nuid": "8a5d41b7-41ab-4b4a-837c-e8ceef406998",
     "showTitle": false,
     "title": ""
    }
   },
   "outputs": [
    {
     "output_type": "display_data",
     "data": {
      "text/html": [
       "<style scoped>\n",
       "  .table-result-container {\n",
       "    max-height: 300px;\n",
       "    overflow: auto;\n",
       "  }\n",
       "  table, th, td {\n",
       "    border: 1px solid black;\n",
       "    border-collapse: collapse;\n",
       "  }\n",
       "  th, td {\n",
       "    padding: 5px;\n",
       "  }\n",
       "  th {\n",
       "    text-align: left;\n",
       "  }\n",
       "</style><div class='table-result-container'><table class='table-result'><thead style='background-color: white'><tr><th>Year</th><th>First Name</th><th>County</th><th>gender</th><th>Count</th><th>CountDiff</th></tr></thead><tbody><tr><td>2012</td><td>EMMA</td><td>JEFFERSON</td><td>F</td><td>25</td><td>null</td></tr><tr><td>2012</td><td>OLIVIA</td><td>CAYUGA</td><td>F</td><td>22</td><td>-3</td></tr><tr><td>2012</td><td>AVA</td><td>JEFFERSON</td><td>F</td><td>20</td><td>-2</td></tr><tr><td>2012</td><td>ABIGAIL</td><td>MADISON</td><td>F</td><td>19</td><td>-1</td></tr><tr><td>2012</td><td>SOPHIA</td><td>MADISON</td><td>F</td><td>12</td><td>-7</td></tr><tr><td>2012</td><td>WILLIAM</td><td>CAYUGA</td><td>M</td><td>45</td><td>null</td></tr><tr><td>2012</td><td>LIAM</td><td>ONONDAGA</td><td>M</td><td>36</td><td>-9</td></tr><tr><td>2012</td><td>JOHN</td><td>ONEIDA,ORANGE</td><td>M</td><td>30</td><td>-6</td></tr><tr><td>2012</td><td>MASON</td><td>MADISON</td><td>M</td><td>28</td><td>-2</td></tr><tr><td>2012</td><td>NOAH</td><td>JEFFERSON</td><td>M</td><td>18</td><td>-10</td></tr></tbody></table></div>"
      ]
     },
     "metadata": {
      "application/vnd.databricks.v1+output": {
       "addedWidgets": {},
       "aggData": [],
       "aggError": "",
       "aggOverflow": false,
       "aggSchema": [],
       "aggSeriesLimitReached": false,
       "aggType": "",
       "arguments": {},
       "columnCustomDisplayInfos": {},
       "data": [
        [
         2012,
         "EMMA",
         "JEFFERSON",
         "F",
         25,
         null
        ],
        [
         2012,
         "OLIVIA",
         "CAYUGA",
         "F",
         22,
         -3
        ],
        [
         2012,
         "AVA",
         "JEFFERSON",
         "F",
         20,
         -2
        ],
        [
         2012,
         "ABIGAIL",
         "MADISON",
         "F",
         19,
         -1
        ],
        [
         2012,
         "SOPHIA",
         "MADISON",
         "F",
         12,
         -7
        ],
        [
         2012,
         "WILLIAM",
         "CAYUGA",
         "M",
         45,
         null
        ],
        [
         2012,
         "LIAM",
         "ONONDAGA",
         "M",
         36,
         -9
        ],
        [
         2012,
         "JOHN",
         "ONEIDA,ORANGE",
         "M",
         30,
         -6
        ],
        [
         2012,
         "MASON",
         "MADISON",
         "M",
         28,
         -2
        ],
        [
         2012,
         "NOAH",
         "JEFFERSON",
         "M",
         18,
         -10
        ]
       ],
       "datasetInfos": [],
       "dbfsResultPath": null,
       "isJsonSchema": true,
       "metadata": {},
       "overflow": false,
       "plotOptions": {
        "customPlotOptions": {},
        "displayType": "table",
        "pivotAggregation": null,
        "pivotColumns": null,
        "xColumns": null,
        "yColumns": null
       },
       "removedWidgets": [],
       "schema": [
        {
         "metadata": "{}",
         "name": "Year",
         "type": "\"long\""
        },
        {
         "metadata": "{}",
         "name": "First Name",
         "type": "\"string\""
        },
        {
         "metadata": "{}",
         "name": "County",
         "type": "\"string\""
        },
        {
         "metadata": "{}",
         "name": "gender",
         "type": "\"string\""
        },
        {
         "metadata": "{}",
         "name": "Count",
         "type": "\"long\""
        },
        {
         "metadata": "{}",
         "name": "CountDiff",
         "type": "\"long\""
        }
       ],
       "type": "table"
      }
     },
     "output_type": "display_data"
    }
   ],
   "source": [
    "diff_df = df.withColumn(\"CountDiff\", col(\"Count\") - lag(col(\"Count\")).over(window_spec))\n",
    "diff_df.display()"
   ]
  },
  {
   "cell_type": "code",
   "execution_count": 0,
   "metadata": {
    "application/vnd.databricks.v1+cell": {
     "cellMetadata": {
      "byteLimit": 2048000,
      "rowLimit": 10000
     },
     "inputWidgets": {},
     "nuid": "5c8e1888-01f5-4b07-9792-57708f5245d2",
     "showTitle": false,
     "title": ""
    }
   },
   "outputs": [
    {
     "output_type": "display_data",
     "data": {
      "text/html": [
       "<style scoped>\n",
       "  .table-result-container {\n",
       "    max-height: 300px;\n",
       "    overflow: auto;\n",
       "  }\n",
       "  table, th, td {\n",
       "    border: 1px solid black;\n",
       "    border-collapse: collapse;\n",
       "  }\n",
       "  th, td {\n",
       "    padding: 5px;\n",
       "  }\n",
       "  th {\n",
       "    text-align: left;\n",
       "  }\n",
       "</style><div class='table-result-container'><table class='table-result'><thead style='background-color: white'><tr><th>Year</th><th>First Name</th><th>County</th><th>gender</th><th>Count</th></tr></thead><tbody><tr><td>2012</td><td>JOHN</td><td>ONEIDA,ORANGE</td><td>M</td><td>30</td></tr><tr><td>2012</td><td>EMMA</td><td>JEFFERSON</td><td>F</td><td>25</td></tr><tr><td>2012</td><td>NOAH</td><td>JEFFERSON</td><td>M</td><td>20</td></tr><tr><td>2012</td><td>SOPHIA</td><td>MADISON</td><td>F</td><td>20</td></tr><tr><td>2012</td><td>LIAM</td><td>ONONDAGA</td><td>M</td><td>36</td></tr><tr><td>2012</td><td>OLIVIA</td><td>CAYUGA</td><td>F</td><td>22</td></tr><tr><td>2012</td><td>MASON</td><td>MADISON</td><td>M</td><td>28</td></tr><tr><td>2012</td><td>AVA</td><td>JEFFERSON</td><td>F</td><td>20</td></tr><tr><td>2012</td><td>WILLIAM</td><td>CAYUGA</td><td>M</td><td>45</td></tr><tr><td>2012</td><td>ABIGAIL</td><td>MADISON</td><td>F</td><td>20</td></tr></tbody></table></div>"
      ]
     },
     "metadata": {
      "application/vnd.databricks.v1+output": {
       "addedWidgets": {},
       "aggData": [],
       "aggError": "",
       "aggOverflow": false,
       "aggSchema": [],
       "aggSeriesLimitReached": false,
       "aggType": "",
       "arguments": {},
       "columnCustomDisplayInfos": {},
       "data": [
        [
         2012,
         "JOHN",
         "ONEIDA,ORANGE",
         "M",
         30
        ],
        [
         2012,
         "EMMA",
         "JEFFERSON",
         "F",
         25
        ],
        [
         2012,
         "NOAH",
         "JEFFERSON",
         "M",
         20
        ],
        [
         2012,
         "SOPHIA",
         "MADISON",
         "F",
         20
        ],
        [
         2012,
         "LIAM",
         "ONONDAGA",
         "M",
         36
        ],
        [
         2012,
         "OLIVIA",
         "CAYUGA",
         "F",
         22
        ],
        [
         2012,
         "MASON",
         "MADISON",
         "M",
         28
        ],
        [
         2012,
         "AVA",
         "JEFFERSON",
         "F",
         20
        ],
        [
         2012,
         "WILLIAM",
         "CAYUGA",
         "M",
         45
        ],
        [
         2012,
         "ABIGAIL",
         "MADISON",
         "F",
         20
        ]
       ],
       "datasetInfos": [],
       "dbfsResultPath": null,
       "isJsonSchema": true,
       "metadata": {},
       "overflow": false,
       "plotOptions": {
        "customPlotOptions": {},
        "displayType": "table",
        "pivotAggregation": null,
        "pivotColumns": null,
        "xColumns": null,
        "yColumns": null
       },
       "removedWidgets": [],
       "schema": [
        {
         "metadata": "{}",
         "name": "Year",
         "type": "\"long\""
        },
        {
         "metadata": "{}",
         "name": "First Name",
         "type": "\"string\""
        },
        {
         "metadata": "{}",
         "name": "County",
         "type": "\"string\""
        },
        {
         "metadata": "{}",
         "name": "gender",
         "type": "\"string\""
        },
        {
         "metadata": "{}",
         "name": "Count",
         "type": "\"long\""
        }
       ],
       "type": "table"
      }
     },
     "output_type": "display_data"
    }
   ],
   "source": [
    "updated_df = df.withColumn(\"Count\", when(col(\"Count\") < 20, 20).otherwise(col(\"Count\")))\n",
    "updated_df.display()"
   ]
  },
  {
   "cell_type": "code",
   "execution_count": 0,
   "metadata": {
    "application/vnd.databricks.v1+cell": {
     "cellMetadata": {
      "byteLimit": 2048000,
      "rowLimit": 10000
     },
     "inputWidgets": {},
     "nuid": "cd735f8d-c0e5-4fab-9446-c4f402c37ccf",
     "showTitle": false,
     "title": ""
    }
   },
   "outputs": [],
   "source": [
    "def split_county(row):\n",
    "    year = row[\"Year\"]\n",
    "    first_name = row[\"First Name\"]\n",
    "    counties = row[\"County\"]\n",
    "    gender = row[\"gender\"]\n",
    "    count = row[\"Count\"]\n",
    "    return [(year, first_name, county, gender, count) for county in counties]\n"
   ]
  },
  {
   "cell_type": "code",
   "execution_count": 0,
   "metadata": {
    "application/vnd.databricks.v1+cell": {
     "cellMetadata": {
      "byteLimit": 2048000,
      "rowLimit": 10000
     },
     "inputWidgets": {},
     "nuid": "691cc310-af38-4c67-9ca7-75cc4883114a",
     "showTitle": false,
     "title": ""
    }
   },
   "outputs": [],
   "source": [
    "flattened_df = df.rdd.flatMap(split_county).toDF(schema=schema)"
   ]
  },
  {
   "cell_type": "code",
   "execution_count": 0,
   "metadata": {
    "application/vnd.databricks.v1+cell": {
     "cellMetadata": {
      "byteLimit": 2048000,
      "rowLimit": 10000
     },
     "inputWidgets": {},
     "nuid": "94a6222f-9b82-49dc-a5a0-e8b189e17aff",
     "showTitle": false,
     "title": ""
    }
   },
   "outputs": [
    {
     "output_type": "display_data",
     "data": {
      "text/html": [
       "<style scoped>\n",
       "  .table-result-container {\n",
       "    max-height: 300px;\n",
       "    overflow: auto;\n",
       "  }\n",
       "  table, th, td {\n",
       "    border: 1px solid black;\n",
       "    border-collapse: collapse;\n",
       "  }\n",
       "  th, td {\n",
       "    padding: 5px;\n",
       "  }\n",
       "  th {\n",
       "    text-align: left;\n",
       "  }\n",
       "</style><div class='table-result-container'><table class='table-result'><thead style='background-color: white'><tr><th>Year</th><th>First Name</th><th>County</th><th>gender</th><th>Count</th></tr></thead><tbody><tr><td>2012</td><td>JOHN</td><td>O</td><td>M</td><td>30</td></tr><tr><td>2012</td><td>JOHN</td><td>N</td><td>M</td><td>30</td></tr><tr><td>2012</td><td>JOHN</td><td>E</td><td>M</td><td>30</td></tr><tr><td>2012</td><td>JOHN</td><td>I</td><td>M</td><td>30</td></tr><tr><td>2012</td><td>JOHN</td><td>D</td><td>M</td><td>30</td></tr><tr><td>2012</td><td>JOHN</td><td>A</td><td>M</td><td>30</td></tr><tr><td>2012</td><td>JOHN</td><td>,</td><td>M</td><td>30</td></tr><tr><td>2012</td><td>JOHN</td><td>O</td><td>M</td><td>30</td></tr><tr><td>2012</td><td>JOHN</td><td>R</td><td>M</td><td>30</td></tr><tr><td>2012</td><td>JOHN</td><td>A</td><td>M</td><td>30</td></tr><tr><td>2012</td><td>JOHN</td><td>N</td><td>M</td><td>30</td></tr><tr><td>2012</td><td>JOHN</td><td>G</td><td>M</td><td>30</td></tr><tr><td>2012</td><td>JOHN</td><td>E</td><td>M</td><td>30</td></tr><tr><td>2012</td><td>EMMA</td><td>J</td><td>F</td><td>25</td></tr><tr><td>2012</td><td>EMMA</td><td>E</td><td>F</td><td>25</td></tr><tr><td>2012</td><td>EMMA</td><td>F</td><td>F</td><td>25</td></tr><tr><td>2012</td><td>EMMA</td><td>F</td><td>F</td><td>25</td></tr><tr><td>2012</td><td>EMMA</td><td>E</td><td>F</td><td>25</td></tr><tr><td>2012</td><td>EMMA</td><td>R</td><td>F</td><td>25</td></tr><tr><td>2012</td><td>EMMA</td><td>S</td><td>F</td><td>25</td></tr><tr><td>2012</td><td>EMMA</td><td>O</td><td>F</td><td>25</td></tr><tr><td>2012</td><td>EMMA</td><td>N</td><td>F</td><td>25</td></tr><tr><td>2012</td><td>NOAH</td><td>J</td><td>M</td><td>18</td></tr><tr><td>2012</td><td>NOAH</td><td>E</td><td>M</td><td>18</td></tr><tr><td>2012</td><td>NOAH</td><td>F</td><td>M</td><td>18</td></tr><tr><td>2012</td><td>NOAH</td><td>F</td><td>M</td><td>18</td></tr><tr><td>2012</td><td>NOAH</td><td>E</td><td>M</td><td>18</td></tr><tr><td>2012</td><td>NOAH</td><td>R</td><td>M</td><td>18</td></tr><tr><td>2012</td><td>NOAH</td><td>S</td><td>M</td><td>18</td></tr><tr><td>2012</td><td>NOAH</td><td>O</td><td>M</td><td>18</td></tr><tr><td>2012</td><td>NOAH</td><td>N</td><td>M</td><td>18</td></tr><tr><td>2012</td><td>SOPHIA</td><td>M</td><td>F</td><td>12</td></tr><tr><td>2012</td><td>SOPHIA</td><td>A</td><td>F</td><td>12</td></tr><tr><td>2012</td><td>SOPHIA</td><td>D</td><td>F</td><td>12</td></tr><tr><td>2012</td><td>SOPHIA</td><td>I</td><td>F</td><td>12</td></tr><tr><td>2012</td><td>SOPHIA</td><td>S</td><td>F</td><td>12</td></tr><tr><td>2012</td><td>SOPHIA</td><td>O</td><td>F</td><td>12</td></tr><tr><td>2012</td><td>SOPHIA</td><td>N</td><td>F</td><td>12</td></tr><tr><td>2012</td><td>LIAM</td><td>O</td><td>M</td><td>36</td></tr><tr><td>2012</td><td>LIAM</td><td>N</td><td>M</td><td>36</td></tr><tr><td>2012</td><td>LIAM</td><td>O</td><td>M</td><td>36</td></tr><tr><td>2012</td><td>LIAM</td><td>N</td><td>M</td><td>36</td></tr><tr><td>2012</td><td>LIAM</td><td>D</td><td>M</td><td>36</td></tr><tr><td>2012</td><td>LIAM</td><td>A</td><td>M</td><td>36</td></tr><tr><td>2012</td><td>LIAM</td><td>G</td><td>M</td><td>36</td></tr><tr><td>2012</td><td>LIAM</td><td>A</td><td>M</td><td>36</td></tr><tr><td>2012</td><td>OLIVIA</td><td>C</td><td>F</td><td>22</td></tr><tr><td>2012</td><td>OLIVIA</td><td>A</td><td>F</td><td>22</td></tr><tr><td>2012</td><td>OLIVIA</td><td>Y</td><td>F</td><td>22</td></tr><tr><td>2012</td><td>OLIVIA</td><td>U</td><td>F</td><td>22</td></tr><tr><td>2012</td><td>OLIVIA</td><td>G</td><td>F</td><td>22</td></tr><tr><td>2012</td><td>OLIVIA</td><td>A</td><td>F</td><td>22</td></tr><tr><td>2012</td><td>MASON</td><td>M</td><td>M</td><td>28</td></tr><tr><td>2012</td><td>MASON</td><td>A</td><td>M</td><td>28</td></tr><tr><td>2012</td><td>MASON</td><td>D</td><td>M</td><td>28</td></tr><tr><td>2012</td><td>MASON</td><td>I</td><td>M</td><td>28</td></tr><tr><td>2012</td><td>MASON</td><td>S</td><td>M</td><td>28</td></tr><tr><td>2012</td><td>MASON</td><td>O</td><td>M</td><td>28</td></tr><tr><td>2012</td><td>MASON</td><td>N</td><td>M</td><td>28</td></tr><tr><td>2012</td><td>AVA</td><td>J</td><td>F</td><td>20</td></tr><tr><td>2012</td><td>AVA</td><td>E</td><td>F</td><td>20</td></tr><tr><td>2012</td><td>AVA</td><td>F</td><td>F</td><td>20</td></tr><tr><td>2012</td><td>AVA</td><td>F</td><td>F</td><td>20</td></tr><tr><td>2012</td><td>AVA</td><td>E</td><td>F</td><td>20</td></tr><tr><td>2012</td><td>AVA</td><td>R</td><td>F</td><td>20</td></tr><tr><td>2012</td><td>AVA</td><td>S</td><td>F</td><td>20</td></tr><tr><td>2012</td><td>AVA</td><td>O</td><td>F</td><td>20</td></tr><tr><td>2012</td><td>AVA</td><td>N</td><td>F</td><td>20</td></tr><tr><td>2012</td><td>WILLIAM</td><td>C</td><td>M</td><td>45</td></tr><tr><td>2012</td><td>WILLIAM</td><td>A</td><td>M</td><td>45</td></tr><tr><td>2012</td><td>WILLIAM</td><td>Y</td><td>M</td><td>45</td></tr><tr><td>2012</td><td>WILLIAM</td><td>U</td><td>M</td><td>45</td></tr><tr><td>2012</td><td>WILLIAM</td><td>G</td><td>M</td><td>45</td></tr><tr><td>2012</td><td>WILLIAM</td><td>A</td><td>M</td><td>45</td></tr><tr><td>2012</td><td>ABIGAIL</td><td>M</td><td>F</td><td>19</td></tr><tr><td>2012</td><td>ABIGAIL</td><td>A</td><td>F</td><td>19</td></tr><tr><td>2012</td><td>ABIGAIL</td><td>D</td><td>F</td><td>19</td></tr><tr><td>2012</td><td>ABIGAIL</td><td>I</td><td>F</td><td>19</td></tr><tr><td>2012</td><td>ABIGAIL</td><td>S</td><td>F</td><td>19</td></tr><tr><td>2012</td><td>ABIGAIL</td><td>O</td><td>F</td><td>19</td></tr><tr><td>2012</td><td>ABIGAIL</td><td>N</td><td>F</td><td>19</td></tr></tbody></table></div>"
      ]
     },
     "metadata": {
      "application/vnd.databricks.v1+output": {
       "addedWidgets": {},
       "aggData": [],
       "aggError": "",
       "aggOverflow": false,
       "aggSchema": [],
       "aggSeriesLimitReached": false,
       "aggType": "",
       "arguments": {},
       "columnCustomDisplayInfos": {},
       "data": [
        [
         2012,
         "JOHN",
         "O",
         "M",
         30
        ],
        [
         2012,
         "JOHN",
         "N",
         "M",
         30
        ],
        [
         2012,
         "JOHN",
         "E",
         "M",
         30
        ],
        [
         2012,
         "JOHN",
         "I",
         "M",
         30
        ],
        [
         2012,
         "JOHN",
         "D",
         "M",
         30
        ],
        [
         2012,
         "JOHN",
         "A",
         "M",
         30
        ],
        [
         2012,
         "JOHN",
         ",",
         "M",
         30
        ],
        [
         2012,
         "JOHN",
         "O",
         "M",
         30
        ],
        [
         2012,
         "JOHN",
         "R",
         "M",
         30
        ],
        [
         2012,
         "JOHN",
         "A",
         "M",
         30
        ],
        [
         2012,
         "JOHN",
         "N",
         "M",
         30
        ],
        [
         2012,
         "JOHN",
         "G",
         "M",
         30
        ],
        [
         2012,
         "JOHN",
         "E",
         "M",
         30
        ],
        [
         2012,
         "EMMA",
         "J",
         "F",
         25
        ],
        [
         2012,
         "EMMA",
         "E",
         "F",
         25
        ],
        [
         2012,
         "EMMA",
         "F",
         "F",
         25
        ],
        [
         2012,
         "EMMA",
         "F",
         "F",
         25
        ],
        [
         2012,
         "EMMA",
         "E",
         "F",
         25
        ],
        [
         2012,
         "EMMA",
         "R",
         "F",
         25
        ],
        [
         2012,
         "EMMA",
         "S",
         "F",
         25
        ],
        [
         2012,
         "EMMA",
         "O",
         "F",
         25
        ],
        [
         2012,
         "EMMA",
         "N",
         "F",
         25
        ],
        [
         2012,
         "NOAH",
         "J",
         "M",
         18
        ],
        [
         2012,
         "NOAH",
         "E",
         "M",
         18
        ],
        [
         2012,
         "NOAH",
         "F",
         "M",
         18
        ],
        [
         2012,
         "NOAH",
         "F",
         "M",
         18
        ],
        [
         2012,
         "NOAH",
         "E",
         "M",
         18
        ],
        [
         2012,
         "NOAH",
         "R",
         "M",
         18
        ],
        [
         2012,
         "NOAH",
         "S",
         "M",
         18
        ],
        [
         2012,
         "NOAH",
         "O",
         "M",
         18
        ],
        [
         2012,
         "NOAH",
         "N",
         "M",
         18
        ],
        [
         2012,
         "SOPHIA",
         "M",
         "F",
         12
        ],
        [
         2012,
         "SOPHIA",
         "A",
         "F",
         12
        ],
        [
         2012,
         "SOPHIA",
         "D",
         "F",
         12
        ],
        [
         2012,
         "SOPHIA",
         "I",
         "F",
         12
        ],
        [
         2012,
         "SOPHIA",
         "S",
         "F",
         12
        ],
        [
         2012,
         "SOPHIA",
         "O",
         "F",
         12
        ],
        [
         2012,
         "SOPHIA",
         "N",
         "F",
         12
        ],
        [
         2012,
         "LIAM",
         "O",
         "M",
         36
        ],
        [
         2012,
         "LIAM",
         "N",
         "M",
         36
        ],
        [
         2012,
         "LIAM",
         "O",
         "M",
         36
        ],
        [
         2012,
         "LIAM",
         "N",
         "M",
         36
        ],
        [
         2012,
         "LIAM",
         "D",
         "M",
         36
        ],
        [
         2012,
         "LIAM",
         "A",
         "M",
         36
        ],
        [
         2012,
         "LIAM",
         "G",
         "M",
         36
        ],
        [
         2012,
         "LIAM",
         "A",
         "M",
         36
        ],
        [
         2012,
         "OLIVIA",
         "C",
         "F",
         22
        ],
        [
         2012,
         "OLIVIA",
         "A",
         "F",
         22
        ],
        [
         2012,
         "OLIVIA",
         "Y",
         "F",
         22
        ],
        [
         2012,
         "OLIVIA",
         "U",
         "F",
         22
        ],
        [
         2012,
         "OLIVIA",
         "G",
         "F",
         22
        ],
        [
         2012,
         "OLIVIA",
         "A",
         "F",
         22
        ],
        [
         2012,
         "MASON",
         "M",
         "M",
         28
        ],
        [
         2012,
         "MASON",
         "A",
         "M",
         28
        ],
        [
         2012,
         "MASON",
         "D",
         "M",
         28
        ],
        [
         2012,
         "MASON",
         "I",
         "M",
         28
        ],
        [
         2012,
         "MASON",
         "S",
         "M",
         28
        ],
        [
         2012,
         "MASON",
         "O",
         "M",
         28
        ],
        [
         2012,
         "MASON",
         "N",
         "M",
         28
        ],
        [
         2012,
         "AVA",
         "J",
         "F",
         20
        ],
        [
         2012,
         "AVA",
         "E",
         "F",
         20
        ],
        [
         2012,
         "AVA",
         "F",
         "F",
         20
        ],
        [
         2012,
         "AVA",
         "F",
         "F",
         20
        ],
        [
         2012,
         "AVA",
         "E",
         "F",
         20
        ],
        [
         2012,
         "AVA",
         "R",
         "F",
         20
        ],
        [
         2012,
         "AVA",
         "S",
         "F",
         20
        ],
        [
         2012,
         "AVA",
         "O",
         "F",
         20
        ],
        [
         2012,
         "AVA",
         "N",
         "F",
         20
        ],
        [
         2012,
         "WILLIAM",
         "C",
         "M",
         45
        ],
        [
         2012,
         "WILLIAM",
         "A",
         "M",
         45
        ],
        [
         2012,
         "WILLIAM",
         "Y",
         "M",
         45
        ],
        [
         2012,
         "WILLIAM",
         "U",
         "M",
         45
        ],
        [
         2012,
         "WILLIAM",
         "G",
         "M",
         45
        ],
        [
         2012,
         "WILLIAM",
         "A",
         "M",
         45
        ],
        [
         2012,
         "ABIGAIL",
         "M",
         "F",
         19
        ],
        [
         2012,
         "ABIGAIL",
         "A",
         "F",
         19
        ],
        [
         2012,
         "ABIGAIL",
         "D",
         "F",
         19
        ],
        [
         2012,
         "ABIGAIL",
         "I",
         "F",
         19
        ],
        [
         2012,
         "ABIGAIL",
         "S",
         "F",
         19
        ],
        [
         2012,
         "ABIGAIL",
         "O",
         "F",
         19
        ],
        [
         2012,
         "ABIGAIL",
         "N",
         "F",
         19
        ]
       ],
       "datasetInfos": [],
       "dbfsResultPath": null,
       "isJsonSchema": true,
       "metadata": {},
       "overflow": false,
       "plotOptions": {
        "customPlotOptions": {},
        "displayType": "table",
        "pivotAggregation": null,
        "pivotColumns": null,
        "xColumns": null,
        "yColumns": null
       },
       "removedWidgets": [],
       "schema": [
        {
         "metadata": "{}",
         "name": "Year",
         "type": "\"long\""
        },
        {
         "metadata": "{}",
         "name": "First Name",
         "type": "\"string\""
        },
        {
         "metadata": "{}",
         "name": "County",
         "type": "\"string\""
        },
        {
         "metadata": "{}",
         "name": "gender",
         "type": "\"string\""
        },
        {
         "metadata": "{}",
         "name": "Count",
         "type": "\"long\""
        }
       ],
       "type": "table"
      }
     },
     "output_type": "display_data"
    }
   ],
   "source": [
    "flattened_df.display()"
   ]
  },
  {
   "cell_type": "code",
   "execution_count": 0,
   "metadata": {
    "application/vnd.databricks.v1+cell": {
     "cellMetadata": {
      "byteLimit": 2048000,
      "rowLimit": 10000
     },
     "inputWidgets": {},
     "nuid": "47dc3a77-8338-4b13-a23f-adb87c9235b7",
     "showTitle": false,
     "title": ""
    }
   },
   "outputs": [
    {
     "output_type": "stream",
     "name": "stdout",
     "output_type": "stream",
     "text": [
      "Out[32]: [2, 2, 2, 3, 3, 3, 4, 4, 4]"
     ]
    }
   ],
   "source": [
    "sc.parallelize([2, 3, 4]).flatMap(lambda x: [x,x,x]).collect()"
   ]
  },
  {
   "cell_type": "code",
   "execution_count": 0,
   "metadata": {
    "application/vnd.databricks.v1+cell": {
     "cellMetadata": {
      "byteLimit": 2048000,
      "rowLimit": 10000
     },
     "inputWidgets": {},
     "nuid": "ef7a409e-4057-48be-a892-dc668e91e25c",
     "showTitle": false,
     "title": ""
    }
   },
   "outputs": [
    {
     "output_type": "stream",
     "name": "stdout",
     "output_type": "stream",
     "text": [
      "Out[33]: [[1, 1, 1], [2, 2, 2], [3, 3, 3]]"
     ]
    }
   ],
   "source": [
    "sc.parallelize([1,2,3]).map(lambda x: [x,x,x]).collect()"
   ]
  },
  {
   "cell_type": "code",
   "execution_count": 0,
   "metadata": {
    "application/vnd.databricks.v1+cell": {
     "cellMetadata": {
      "byteLimit": 2048000,
      "rowLimit": 10000
     },
     "inputWidgets": {},
     "nuid": "f67d2f4f-5bbf-4e6a-a14c-148d79b833bd",
     "showTitle": false,
     "title": ""
    }
   },
   "outputs": [
    {
     "output_type": "stream",
     "name": "stdout",
     "output_type": "stream",
     "text": [
      "Out[34]: PythonRDD[65] at RDD at PythonRDD.scala:58"
     ]
    }
   ],
   "source": [
    "sc.parallelize([2, 3, 4]).flatMap(lambda x: [x,x,x])"
   ]
  },
  {
   "cell_type": "code",
   "execution_count": 0,
   "metadata": {
    "application/vnd.databricks.v1+cell": {
     "cellMetadata": {
      "byteLimit": 2048000,
      "rowLimit": 10000
     },
     "inputWidgets": {},
     "nuid": "179be3a8-6e6f-48a2-8f6f-2989b429526a",
     "showTitle": false,
     "title": ""
    }
   },
   "outputs": [],
   "source": [
    "#02/11/2023"
   ]
  },
  {
   "cell_type": "code",
   "execution_count": 0,
   "metadata": {
    "application/vnd.databricks.v1+cell": {
     "cellMetadata": {
      "byteLimit": 2048000,
      "rowLimit": 10000
     },
     "inputWidgets": {},
     "nuid": "4893b26c-7106-406f-a450-5c1b1d34da06",
     "showTitle": false,
     "title": ""
    }
   },
   "outputs": [
    {
     "output_type": "display_data",
     "data": {
      "text/html": [
       "<style scoped>\n",
       "  .table-result-container {\n",
       "    max-height: 300px;\n",
       "    overflow: auto;\n",
       "  }\n",
       "  table, th, td {\n",
       "    border: 1px solid black;\n",
       "    border-collapse: collapse;\n",
       "  }\n",
       "  th, td {\n",
       "    padding: 5px;\n",
       "  }\n",
       "  th {\n",
       "    text-align: left;\n",
       "  }\n",
       "</style><div class='table-result-container'><table class='table-result'><thead style='background-color: white'><tr><th>Year</th><th>First Name</th><th>County</th><th>gender</th><th>Count</th></tr></thead><tbody><tr><td>2012</td><td>JOHN</td><td>ONEIDA,ORANGE</td><td>M</td><td>30</td></tr><tr><td>2012</td><td>EMMA</td><td>JEFFERSON</td><td>F</td><td>25</td></tr><tr><td>2012</td><td>NOAH</td><td>JEFFERSON</td><td>M</td><td>20</td></tr><tr><td>2012</td><td>SOPHIA</td><td>MADISON</td><td>F</td><td>20</td></tr><tr><td>2012</td><td>LIAM</td><td>ONONDAGA</td><td>M</td><td>36</td></tr><tr><td>2012</td><td>OLIVIA</td><td>CAYUGA</td><td>F</td><td>22</td></tr><tr><td>2012</td><td>MASON</td><td>MADISON</td><td>M</td><td>28</td></tr><tr><td>2012</td><td>AVA</td><td>JEFFERSON</td><td>F</td><td>20</td></tr><tr><td>2012</td><td>WILLIAM</td><td>CAYUGA</td><td>M</td><td>45</td></tr><tr><td>2012</td><td>ABIGAIL</td><td>MADISON</td><td>F</td><td>20</td></tr></tbody></table></div>"
      ]
     },
     "metadata": {
      "application/vnd.databricks.v1+output": {
       "addedWidgets": {},
       "aggData": [],
       "aggError": "",
       "aggOverflow": false,
       "aggSchema": [],
       "aggSeriesLimitReached": false,
       "aggType": "",
       "arguments": {},
       "columnCustomDisplayInfos": {},
       "data": [
        [
         2012,
         "JOHN",
         "ONEIDA,ORANGE",
         "M",
         30
        ],
        [
         2012,
         "EMMA",
         "JEFFERSON",
         "F",
         25
        ],
        [
         2012,
         "NOAH",
         "JEFFERSON",
         "M",
         20
        ],
        [
         2012,
         "SOPHIA",
         "MADISON",
         "F",
         20
        ],
        [
         2012,
         "LIAM",
         "ONONDAGA",
         "M",
         36
        ],
        [
         2012,
         "OLIVIA",
         "CAYUGA",
         "F",
         22
        ],
        [
         2012,
         "MASON",
         "MADISON",
         "M",
         28
        ],
        [
         2012,
         "AVA",
         "JEFFERSON",
         "F",
         20
        ],
        [
         2012,
         "WILLIAM",
         "CAYUGA",
         "M",
         45
        ],
        [
         2012,
         "ABIGAIL",
         "MADISON",
         "F",
         20
        ]
       ],
       "datasetInfos": [],
       "dbfsResultPath": null,
       "isJsonSchema": true,
       "metadata": {},
       "overflow": false,
       "plotOptions": {
        "customPlotOptions": {},
        "displayType": "table",
        "pivotAggregation": null,
        "pivotColumns": null,
        "xColumns": null,
        "yColumns": null
       },
       "removedWidgets": [],
       "schema": [
        {
         "metadata": "{}",
         "name": "Year",
         "type": "\"long\""
        },
        {
         "metadata": "{}",
         "name": "First Name",
         "type": "\"string\""
        },
        {
         "metadata": "{}",
         "name": "County",
         "type": "\"string\""
        },
        {
         "metadata": "{}",
         "name": "gender",
         "type": "\"string\""
        },
        {
         "metadata": "{}",
         "name": "Count",
         "type": "\"long\""
        }
       ],
       "type": "table"
      }
     },
     "output_type": "display_data"
    }
   ],
   "source": [
    "updated_df = df.withColumn(\"Count\", when(col(\"Count\") < 20, 20).otherwise(col(\"Count\")))\n",
    "updated_df.display()"
   ]
  },
  {
   "cell_type": "code",
   "execution_count": 0,
   "metadata": {
    "application/vnd.databricks.v1+cell": {
     "cellMetadata": {
      "byteLimit": 2048000,
      "rowLimit": 10000
     },
     "inputWidgets": {},
     "nuid": "98b3fd30-e248-4153-827a-9d7b25774a54",
     "showTitle": false,
     "title": ""
    }
   },
   "outputs": [
    {
     "output_type": "display_data",
     "data": {
      "text/html": [
       "<style scoped>\n",
       "  .table-result-container {\n",
       "    max-height: 300px;\n",
       "    overflow: auto;\n",
       "  }\n",
       "  table, th, td {\n",
       "    border: 1px solid black;\n",
       "    border-collapse: collapse;\n",
       "  }\n",
       "  th, td {\n",
       "    padding: 5px;\n",
       "  }\n",
       "  th {\n",
       "    text-align: left;\n",
       "  }\n",
       "</style><div class='table-result-container'><table class='table-result'><thead style='background-color: white'><tr><th>Year</th><th>First Name</th><th>County</th><th>gender</th><th>Count</th><th>CountDiff</th></tr></thead><tbody><tr><td>2012</td><td>OLIVIA</td><td>CAYUGA</td><td>F</td><td>22</td><td>null</td></tr><tr><td>2012</td><td>WILLIAM</td><td>CAYUGA</td><td>M</td><td>45</td><td>23</td></tr><tr><td>2012</td><td>EMMA</td><td>JEFFERSON</td><td>F</td><td>25</td><td>null</td></tr><tr><td>2012</td><td>NOAH</td><td>JEFFERSON</td><td>M</td><td>18</td><td>-7</td></tr><tr><td>2012</td><td>AVA</td><td>JEFFERSON</td><td>F</td><td>20</td><td>2</td></tr><tr><td>2012</td><td>SOPHIA</td><td>MADISON</td><td>F</td><td>12</td><td>null</td></tr><tr><td>2012</td><td>MASON</td><td>MADISON</td><td>M</td><td>28</td><td>16</td></tr><tr><td>2012</td><td>ABIGAIL</td><td>MADISON</td><td>F</td><td>19</td><td>-9</td></tr><tr><td>2012</td><td>JOHN</td><td>ONEIDA,ORANGE</td><td>M</td><td>30</td><td>null</td></tr><tr><td>2012</td><td>LIAM</td><td>ONONDAGA</td><td>M</td><td>36</td><td>null</td></tr></tbody></table></div>"
      ]
     },
     "metadata": {
      "application/vnd.databricks.v1+output": {
       "addedWidgets": {},
       "aggData": [],
       "aggError": "",
       "aggOverflow": false,
       "aggSchema": [],
       "aggSeriesLimitReached": false,
       "aggType": "",
       "arguments": {},
       "columnCustomDisplayInfos": {},
       "data": [
        [
         2012,
         "OLIVIA",
         "CAYUGA",
         "F",
         22,
         null
        ],
        [
         2012,
         "WILLIAM",
         "CAYUGA",
         "M",
         45,
         23
        ],
        [
         2012,
         "EMMA",
         "JEFFERSON",
         "F",
         25,
         null
        ],
        [
         2012,
         "NOAH",
         "JEFFERSON",
         "M",
         18,
         -7
        ],
        [
         2012,
         "AVA",
         "JEFFERSON",
         "F",
         20,
         2
        ],
        [
         2012,
         "SOPHIA",
         "MADISON",
         "F",
         12,
         null
        ],
        [
         2012,
         "MASON",
         "MADISON",
         "M",
         28,
         16
        ],
        [
         2012,
         "ABIGAIL",
         "MADISON",
         "F",
         19,
         -9
        ],
        [
         2012,
         "JOHN",
         "ONEIDA,ORANGE",
         "M",
         30,
         null
        ],
        [
         2012,
         "LIAM",
         "ONONDAGA",
         "M",
         36,
         null
        ]
       ],
       "datasetInfos": [],
       "dbfsResultPath": null,
       "isJsonSchema": true,
       "metadata": {},
       "overflow": false,
       "plotOptions": {
        "customPlotOptions": {},
        "displayType": "table",
        "pivotAggregation": null,
        "pivotColumns": null,
        "xColumns": null,
        "yColumns": null
       },
       "removedWidgets": [],
       "schema": [
        {
         "metadata": "{}",
         "name": "Year",
         "type": "\"long\""
        },
        {
         "metadata": "{}",
         "name": "First Name",
         "type": "\"string\""
        },
        {
         "metadata": "{}",
         "name": "County",
         "type": "\"string\""
        },
        {
         "metadata": "{}",
         "name": "gender",
         "type": "\"string\""
        },
        {
         "metadata": "{}",
         "name": "Count",
         "type": "\"long\""
        },
        {
         "metadata": "{}",
         "name": "CountDiff",
         "type": "\"long\""
        }
       ],
       "type": "table"
      }
     },
     "output_type": "display_data"
    }
   ],
   "source": [
    "diff_df = df.withColumn(\"CountDiff\", col(\"Count\") - lag(col(\"Count\")).over(window_spec))\n",
    "diff_df.display()"
   ]
  },
  {
   "cell_type": "code",
   "execution_count": 0,
   "metadata": {
    "application/vnd.databricks.v1+cell": {
     "cellMetadata": {
      "byteLimit": 2048000,
      "rowLimit": 10000
     },
     "inputWidgets": {},
     "nuid": "22d919b7-ef36-4cca-b298-0482f942949b",
     "showTitle": false,
     "title": ""
    }
   },
   "outputs": [
    {
     "output_type": "display_data",
     "data": {
      "text/html": [
       "<style scoped>\n",
       "  .table-result-container {\n",
       "    max-height: 300px;\n",
       "    overflow: auto;\n",
       "  }\n",
       "  table, th, td {\n",
       "    border: 1px solid black;\n",
       "    border-collapse: collapse;\n",
       "  }\n",
       "  th, td {\n",
       "    padding: 5px;\n",
       "  }\n",
       "  th {\n",
       "    text-align: left;\n",
       "  }\n",
       "</style><div class='table-result-container'><table class='table-result'><thead style='background-color: white'><tr><th>Year</th><th>First Name</th><th>County</th><th>gender</th><th>Count</th><th>Percentage</th></tr></thead><tbody><tr><td>2012</td><td>JOHN</td><td>ONEIDA,ORANGE</td><td>M</td><td>30</td><td>11.76470588235294</td></tr><tr><td>2012</td><td>EMMA</td><td>JEFFERSON</td><td>F</td><td>25</td><td>9.803921568627452</td></tr><tr><td>2012</td><td>NOAH</td><td>JEFFERSON</td><td>M</td><td>18</td><td>7.0588235294117645</td></tr><tr><td>2012</td><td>SOPHIA</td><td>MADISON</td><td>F</td><td>12</td><td>4.705882352941177</td></tr><tr><td>2012</td><td>LIAM</td><td>ONONDAGA</td><td>M</td><td>36</td><td>14.117647058823529</td></tr><tr><td>2012</td><td>OLIVIA</td><td>CAYUGA</td><td>F</td><td>22</td><td>8.627450980392156</td></tr><tr><td>2012</td><td>MASON</td><td>MADISON</td><td>M</td><td>28</td><td>10.980392156862745</td></tr><tr><td>2012</td><td>AVA</td><td>JEFFERSON</td><td>F</td><td>20</td><td>7.8431372549019605</td></tr><tr><td>2012</td><td>WILLIAM</td><td>CAYUGA</td><td>M</td><td>45</td><td>17.647058823529413</td></tr><tr><td>2012</td><td>ABIGAIL</td><td>MADISON</td><td>F</td><td>19</td><td>7.450980392156863</td></tr></tbody></table></div>"
      ]
     },
     "metadata": {
      "application/vnd.databricks.v1+output": {
       "addedWidgets": {},
       "aggData": [],
       "aggError": "",
       "aggOverflow": false,
       "aggSchema": [],
       "aggSeriesLimitReached": false,
       "aggType": "",
       "arguments": {},
       "columnCustomDisplayInfos": {},
       "data": [
        [
         2012,
         "JOHN",
         "ONEIDA,ORANGE",
         "M",
         30,
         11.76470588235294
        ],
        [
         2012,
         "EMMA",
         "JEFFERSON",
         "F",
         25,
         9.803921568627452
        ],
        [
         2012,
         "NOAH",
         "JEFFERSON",
         "M",
         18,
         7.0588235294117645
        ],
        [
         2012,
         "SOPHIA",
         "MADISON",
         "F",
         12,
         4.705882352941177
        ],
        [
         2012,
         "LIAM",
         "ONONDAGA",
         "M",
         36,
         14.117647058823529
        ],
        [
         2012,
         "OLIVIA",
         "CAYUGA",
         "F",
         22,
         8.627450980392156
        ],
        [
         2012,
         "MASON",
         "MADISON",
         "M",
         28,
         10.980392156862745
        ],
        [
         2012,
         "AVA",
         "JEFFERSON",
         "F",
         20,
         7.8431372549019605
        ],
        [
         2012,
         "WILLIAM",
         "CAYUGA",
         "M",
         45,
         17.647058823529413
        ],
        [
         2012,
         "ABIGAIL",
         "MADISON",
         "F",
         19,
         7.450980392156863
        ]
       ],
       "datasetInfos": [],
       "dbfsResultPath": null,
       "isJsonSchema": true,
       "metadata": {},
       "overflow": false,
       "plotOptions": {
        "customPlotOptions": {},
        "displayType": "table",
        "pivotAggregation": null,
        "pivotColumns": null,
        "xColumns": null,
        "yColumns": null
       },
       "removedWidgets": [],
       "schema": [
        {
         "metadata": "{}",
         "name": "Year",
         "type": "\"long\""
        },
        {
         "metadata": "{}",
         "name": "First Name",
         "type": "\"string\""
        },
        {
         "metadata": "{}",
         "name": "County",
         "type": "\"string\""
        },
        {
         "metadata": "{}",
         "name": "gender",
         "type": "\"string\""
        },
        {
         "metadata": "{}",
         "name": "Count",
         "type": "\"long\""
        },
        {
         "metadata": "{}",
         "name": "Percentage",
         "type": "\"double\""
        }
       ],
       "type": "table"
      }
     },
     "output_type": "display_data"
    }
   ],
   "source": [
    "total_count = df.selectExpr(\"sum(Count) as TotalCount\").collect()[0].TotalCount\n",
    "percentage_df = df.withColumn(\"Percentage\", (col(\"Count\") / total_count) * 100)\n",
    "percentage_df.display()"
   ]
  },
  {
   "cell_type": "code",
   "execution_count": 0,
   "metadata": {
    "application/vnd.databricks.v1+cell": {
     "cellMetadata": {
      "byteLimit": 2048000,
      "rowLimit": 10000
     },
     "inputWidgets": {},
     "nuid": "1a5d553e-ed57-4b8b-854e-031f5345b50d",
     "showTitle": false,
     "title": ""
    }
   },
   "outputs": [
    {
     "output_type": "display_data",
     "data": {
      "text/html": [
       "<style scoped>\n",
       "  .table-result-container {\n",
       "    max-height: 300px;\n",
       "    overflow: auto;\n",
       "  }\n",
       "  table, th, td {\n",
       "    border: 1px solid black;\n",
       "    border-collapse: collapse;\n",
       "  }\n",
       "  th, td {\n",
       "    padding: 5px;\n",
       "  }\n",
       "  th {\n",
       "    text-align: left;\n",
       "  }\n",
       "</style><div class='table-result-container'><table class='table-result'><thead style='background-color: white'><tr><th>Year</th><th>First Name</th><th>County</th><th>gender</th><th>Count</th><th>AgeGroup</th></tr></thead><tbody><tr><td>2012</td><td>JOHN</td><td>ONEIDA,ORANGE</td><td>M</td><td>30</td><td>Above 2010</td></tr><tr><td>2012</td><td>EMMA</td><td>JEFFERSON</td><td>F</td><td>25</td><td>Above 2010</td></tr><tr><td>2012</td><td>NOAH</td><td>JEFFERSON</td><td>M</td><td>18</td><td>Above 2010</td></tr><tr><td>2012</td><td>SOPHIA</td><td>MADISON</td><td>F</td><td>12</td><td>Above 2010</td></tr><tr><td>2012</td><td>LIAM</td><td>ONONDAGA</td><td>M</td><td>36</td><td>Above 2010</td></tr><tr><td>2012</td><td>OLIVIA</td><td>CAYUGA</td><td>F</td><td>22</td><td>Above 2010</td></tr><tr><td>2012</td><td>MASON</td><td>MADISON</td><td>M</td><td>28</td><td>Above 2010</td></tr><tr><td>2012</td><td>AVA</td><td>JEFFERSON</td><td>F</td><td>20</td><td>Above 2010</td></tr><tr><td>2012</td><td>WILLIAM</td><td>CAYUGA</td><td>M</td><td>45</td><td>Above 2010</td></tr><tr><td>2012</td><td>ABIGAIL</td><td>MADISON</td><td>F</td><td>19</td><td>Above 2010</td></tr></tbody></table></div>"
      ]
     },
     "metadata": {
      "application/vnd.databricks.v1+output": {
       "addedWidgets": {},
       "aggData": [],
       "aggError": "",
       "aggOverflow": false,
       "aggSchema": [],
       "aggSeriesLimitReached": false,
       "aggType": "",
       "arguments": {},
       "columnCustomDisplayInfos": {},
       "data": [
        [
         2012,
         "JOHN",
         "ONEIDA,ORANGE",
         "M",
         30,
         "Above 2010"
        ],
        [
         2012,
         "EMMA",
         "JEFFERSON",
         "F",
         25,
         "Above 2010"
        ],
        [
         2012,
         "NOAH",
         "JEFFERSON",
         "M",
         18,
         "Above 2010"
        ],
        [
         2012,
         "SOPHIA",
         "MADISON",
         "F",
         12,
         "Above 2010"
        ],
        [
         2012,
         "LIAM",
         "ONONDAGA",
         "M",
         36,
         "Above 2010"
        ],
        [
         2012,
         "OLIVIA",
         "CAYUGA",
         "F",
         22,
         "Above 2010"
        ],
        [
         2012,
         "MASON",
         "MADISON",
         "M",
         28,
         "Above 2010"
        ],
        [
         2012,
         "AVA",
         "JEFFERSON",
         "F",
         20,
         "Above 2010"
        ],
        [
         2012,
         "WILLIAM",
         "CAYUGA",
         "M",
         45,
         "Above 2010"
        ],
        [
         2012,
         "ABIGAIL",
         "MADISON",
         "F",
         19,
         "Above 2010"
        ]
       ],
       "datasetInfos": [],
       "dbfsResultPath": null,
       "isJsonSchema": true,
       "metadata": {},
       "overflow": false,
       "plotOptions": {
        "customPlotOptions": {},
        "displayType": "table",
        "pivotAggregation": null,
        "pivotColumns": null,
        "xColumns": null,
        "yColumns": null
       },
       "removedWidgets": [],
       "schema": [
        {
         "metadata": "{}",
         "name": "Year",
         "type": "\"long\""
        },
        {
         "metadata": "{}",
         "name": "First Name",
         "type": "\"string\""
        },
        {
         "metadata": "{}",
         "name": "County",
         "type": "\"string\""
        },
        {
         "metadata": "{}",
         "name": "gender",
         "type": "\"string\""
        },
        {
         "metadata": "{}",
         "name": "Count",
         "type": "\"long\""
        },
        {
         "metadata": "{}",
         "name": "AgeGroup",
         "type": "\"string\""
        }
       ],
       "type": "table"
      }
     },
     "output_type": "display_data"
    }
   ],
   "source": [
    "age_grouped_df = df.withColumn(\"AgeGroup\",\n",
    "    when(col(\"Year\") <= 2000, \"Below 2000\")\n",
    "    .when((col(\"Year\") > 2000) & (col(\"Year\") <= 2010), \"2001-2010\")\n",
    "    .otherwise(\"Above 2010\"))\n",
    "age_grouped_df.display()"
   ]
  },
  {
   "cell_type": "code",
   "execution_count": 0,
   "metadata": {
    "application/vnd.databricks.v1+cell": {
     "cellMetadata": {
      "byteLimit": 2048000,
      "rowLimit": 10000
     },
     "inputWidgets": {},
     "nuid": "c382ab61-116b-4cec-b449-96babf836f7e",
     "showTitle": false,
     "title": ""
    }
   },
   "outputs": [
    {
     "output_type": "display_data",
     "data": {
      "text/html": [
       "<style scoped>\n",
       "  .table-result-container {\n",
       "    max-height: 300px;\n",
       "    overflow: auto;\n",
       "  }\n",
       "  table, th, td {\n",
       "    border: 1px solid black;\n",
       "    border-collapse: collapse;\n",
       "  }\n",
       "  th, td {\n",
       "    padding: 5px;\n",
       "  }\n",
       "  th {\n",
       "    text-align: left;\n",
       "  }\n",
       "</style><div class='table-result-container'><table class='table-result'><thead style='background-color: white'><tr><th>Year</th><th>First Name</th><th>County</th><th>gender</th><th>Count</th><th>CountDiffNext</th></tr></thead><tbody><tr><td>2012</td><td>EMMA</td><td>JEFFERSON</td><td>F</td><td>25</td><td>12</td></tr><tr><td>2012</td><td>SOPHIA</td><td>MADISON</td><td>F</td><td>12</td><td>22</td></tr><tr><td>2012</td><td>OLIVIA</td><td>CAYUGA</td><td>F</td><td>22</td><td>20</td></tr><tr><td>2012</td><td>AVA</td><td>JEFFERSON</td><td>F</td><td>20</td><td>19</td></tr><tr><td>2012</td><td>ABIGAIL</td><td>MADISON</td><td>F</td><td>19</td><td>null</td></tr><tr><td>2012</td><td>JOHN</td><td>ONEIDA,ORANGE</td><td>M</td><td>30</td><td>18</td></tr><tr><td>2012</td><td>NOAH</td><td>JEFFERSON</td><td>M</td><td>18</td><td>36</td></tr><tr><td>2012</td><td>LIAM</td><td>ONONDAGA</td><td>M</td><td>36</td><td>28</td></tr><tr><td>2012</td><td>MASON</td><td>MADISON</td><td>M</td><td>28</td><td>45</td></tr><tr><td>2012</td><td>WILLIAM</td><td>CAYUGA</td><td>M</td><td>45</td><td>null</td></tr></tbody></table></div>"
      ]
     },
     "metadata": {
      "application/vnd.databricks.v1+output": {
       "addedWidgets": {},
       "aggData": [],
       "aggError": "",
       "aggOverflow": false,
       "aggSchema": [],
       "aggSeriesLimitReached": false,
       "aggType": "",
       "arguments": {},
       "columnCustomDisplayInfos": {},
       "data": [
        [
         2012,
         "EMMA",
         "JEFFERSON",
         "F",
         25,
         12
        ],
        [
         2012,
         "SOPHIA",
         "MADISON",
         "F",
         12,
         22
        ],
        [
         2012,
         "OLIVIA",
         "CAYUGA",
         "F",
         22,
         20
        ],
        [
         2012,
         "AVA",
         "JEFFERSON",
         "F",
         20,
         19
        ],
        [
         2012,
         "ABIGAIL",
         "MADISON",
         "F",
         19,
         null
        ],
        [
         2012,
         "JOHN",
         "ONEIDA,ORANGE",
         "M",
         30,
         18
        ],
        [
         2012,
         "NOAH",
         "JEFFERSON",
         "M",
         18,
         36
        ],
        [
         2012,
         "LIAM",
         "ONONDAGA",
         "M",
         36,
         28
        ],
        [
         2012,
         "MASON",
         "MADISON",
         "M",
         28,
         45
        ],
        [
         2012,
         "WILLIAM",
         "CAYUGA",
         "M",
         45,
         null
        ]
       ],
       "datasetInfos": [],
       "dbfsResultPath": null,
       "isJsonSchema": true,
       "metadata": {},
       "overflow": false,
       "plotOptions": {
        "customPlotOptions": {},
        "displayType": "table",
        "pivotAggregation": null,
        "pivotColumns": null,
        "xColumns": null,
        "yColumns": null
       },
       "removedWidgets": [],
       "schema": [
        {
         "metadata": "{}",
         "name": "Year",
         "type": "\"long\""
        },
        {
         "metadata": "{}",
         "name": "First Name",
         "type": "\"string\""
        },
        {
         "metadata": "{}",
         "name": "County",
         "type": "\"string\""
        },
        {
         "metadata": "{}",
         "name": "gender",
         "type": "\"string\""
        },
        {
         "metadata": "{}",
         "name": "Count",
         "type": "\"long\""
        },
        {
         "metadata": "{}",
         "name": "CountDiffNext",
         "type": "\"long\""
        }
       ],
       "type": "table"
      }
     },
     "output_type": "display_data"
    }
   ],
   "source": [
    "window_spec = Window.partitionBy(\"Gender\").orderBy(\"Year\")\n",
    "count_diff_next_df = df.withColumn(\"CountDiffNext\", lead(col(\"Count\")).over(window_spec))\n",
    "count_diff_next_df.display()"
   ]
  },
  {
   "cell_type": "code",
   "execution_count": 0,
   "metadata": {
    "application/vnd.databricks.v1+cell": {
     "cellMetadata": {
      "byteLimit": 2048000,
      "rowLimit": 10000
     },
     "inputWidgets": {},
     "nuid": "86f3a1f5-7b48-46de-bdf6-50543be2a18f",
     "showTitle": false,
     "title": ""
    }
   },
   "outputs": [
    {
     "output_type": "display_data",
     "data": {
      "text/html": [
       "<style scoped>\n",
       "  .table-result-container {\n",
       "    max-height: 300px;\n",
       "    overflow: auto;\n",
       "  }\n",
       "  table, th, td {\n",
       "    border: 1px solid black;\n",
       "    border-collapse: collapse;\n",
       "  }\n",
       "  th, td {\n",
       "    padding: 5px;\n",
       "  }\n",
       "  th {\n",
       "    text-align: left;\n",
       "  }\n",
       "</style><div class='table-result-container'><table class='table-result'><thead style='background-color: white'><tr><th>Year</th><th>First Name</th><th>County</th><th>gender</th><th>Count</th></tr></thead><tbody><tr><td>2012</td><td>JOHN</td><td>ONEIDA,ORANGE</td><td>M</td><td>30</td></tr><tr><td>2012</td><td>EMMA</td><td>JEFFERSON</td><td>F</td><td>25</td></tr><tr><td>2012</td><td>NOAH</td><td>JEFFERSON</td><td>M</td><td>18</td></tr><tr><td>2012</td><td>SOPHIA</td><td>MADISON</td><td>F</td><td>12</td></tr><tr><td>2012</td><td>LIAM</td><td>ONONDAGA</td><td>M</td><td>36</td></tr><tr><td>2012</td><td>OLIVIA</td><td>CAYUGA</td><td>F</td><td>22</td></tr><tr><td>2012</td><td>MASON</td><td>MADISON</td><td>M</td><td>28</td></tr><tr><td>2012</td><td>AVA</td><td>JEFFERSON</td><td>F</td><td>20</td></tr><tr><td>2012</td><td>WILLIAM</td><td>CAYUGA</td><td>M</td><td>45</td></tr><tr><td>2012</td><td>ABIGAIL</td><td>MADISON</td><td>F</td><td>19</td></tr></tbody></table></div>"
      ]
     },
     "metadata": {
      "application/vnd.databricks.v1+output": {
       "addedWidgets": {},
       "aggData": [],
       "aggError": "",
       "aggOverflow": false,
       "aggSchema": [],
       "aggSeriesLimitReached": false,
       "aggType": "",
       "arguments": {},
       "columnCustomDisplayInfos": {},
       "data": [
        [
         2012,
         "JOHN",
         "ONEIDA,ORANGE",
         "M",
         30
        ],
        [
         2012,
         "EMMA",
         "JEFFERSON",
         "F",
         25
        ],
        [
         2012,
         "NOAH",
         "JEFFERSON",
         "M",
         18
        ],
        [
         2012,
         "SOPHIA",
         "MADISON",
         "F",
         12
        ],
        [
         2012,
         "LIAM",
         "ONONDAGA",
         "M",
         36
        ],
        [
         2012,
         "OLIVIA",
         "CAYUGA",
         "F",
         22
        ],
        [
         2012,
         "MASON",
         "MADISON",
         "M",
         28
        ],
        [
         2012,
         "AVA",
         "JEFFERSON",
         "F",
         20
        ],
        [
         2012,
         "WILLIAM",
         "CAYUGA",
         "M",
         45
        ],
        [
         2012,
         "ABIGAIL",
         "MADISON",
         "F",
         19
        ]
       ],
       "datasetInfos": [],
       "dbfsResultPath": null,
       "isJsonSchema": true,
       "metadata": {},
       "overflow": false,
       "plotOptions": {
        "customPlotOptions": {},
        "displayType": "table",
        "pivotAggregation": null,
        "pivotColumns": null,
        "xColumns": null,
        "yColumns": null
       },
       "removedWidgets": [],
       "schema": [
        {
         "metadata": "{}",
         "name": "Year",
         "type": "\"long\""
        },
        {
         "metadata": "{}",
         "name": "First Name",
         "type": "\"string\""
        },
        {
         "metadata": "{}",
         "name": "County",
         "type": "\"string\""
        },
        {
         "metadata": "{}",
         "name": "gender",
         "type": "\"string\""
        },
        {
         "metadata": "{}",
         "name": "Count",
         "type": "\"long\""
        }
       ],
       "type": "table"
      }
     },
     "output_type": "display_data"
    }
   ],
   "source": [
    "filtered_gender_df = df.filter((col(\"Gender\") == \"M\") | (col(\"Gender\") == \"F\"))\n",
    "filtered_gender_df.display()"
   ]
  },
  {
   "cell_type": "code",
   "execution_count": 0,
   "metadata": {
    "application/vnd.databricks.v1+cell": {
     "cellMetadata": {
      "byteLimit": 2048000,
      "rowLimit": 10000
     },
     "inputWidgets": {},
     "nuid": "5d97e5a2-aefa-47cb-9406-dff1d32423ed",
     "showTitle": false,
     "title": ""
    }
   },
   "outputs": [
    {
     "output_type": "display_data",
     "data": {
      "text/html": [
       "<style scoped>\n",
       "  .table-result-container {\n",
       "    max-height: 300px;\n",
       "    overflow: auto;\n",
       "  }\n",
       "  table, th, td {\n",
       "    border: 1px solid black;\n",
       "    border-collapse: collapse;\n",
       "  }\n",
       "  th, td {\n",
       "    padding: 5px;\n",
       "  }\n",
       "  th {\n",
       "    text-align: left;\n",
       "  }\n",
       "</style><div class='table-result-container'><table class='table-result'><thead style='background-color: white'><tr><th>AgeGroup</th><th>avg(Count)</th></tr></thead><tbody><tr><td>Above 2010</td><td>25.5</td></tr></tbody></table></div>"
      ]
     },
     "metadata": {
      "application/vnd.databricks.v1+output": {
       "addedWidgets": {},
       "aggData": [],
       "aggError": "",
       "aggOverflow": false,
       "aggSchema": [],
       "aggSeriesLimitReached": false,
       "aggType": "",
       "arguments": {},
       "columnCustomDisplayInfos": {},
       "data": [
        [
         "Above 2010",
         25.5
        ]
       ],
       "datasetInfos": [],
       "dbfsResultPath": null,
       "isJsonSchema": true,
       "metadata": {},
       "overflow": false,
       "plotOptions": {
        "customPlotOptions": {},
        "displayType": "table",
        "pivotAggregation": null,
        "pivotColumns": null,
        "xColumns": null,
        "yColumns": null
       },
       "removedWidgets": [],
       "schema": [
        {
         "metadata": "{}",
         "name": "AgeGroup",
         "type": "\"string\""
        },
        {
         "metadata": "{}",
         "name": "avg(Count)",
         "type": "\"double\""
        }
       ],
       "type": "table"
      }
     },
     "output_type": "display_data"
    }
   ],
   "source": [
    "average_count_by_age_group = age_grouped_df.groupBy(\"AgeGroup\").agg({\"Count\": \"avg\"})\n",
    "average_count_by_age_group.display()"
   ]
  },
  {
   "cell_type": "code",
   "execution_count": 0,
   "metadata": {
    "application/vnd.databricks.v1+cell": {
     "cellMetadata": {
      "byteLimit": 2048000,
      "rowLimit": 10000
     },
     "inputWidgets": {},
     "nuid": "35077307-e2f8-413b-be2c-0057e97cabe9",
     "showTitle": false,
     "title": ""
    }
   },
   "outputs": [
    {
     "output_type": "display_data",
     "data": {
      "text/html": [
       "<style scoped>\n",
       "  .table-result-container {\n",
       "    max-height: 300px;\n",
       "    overflow: auto;\n",
       "  }\n",
       "  table, th, td {\n",
       "    border: 1px solid black;\n",
       "    border-collapse: collapse;\n",
       "  }\n",
       "  th, td {\n",
       "    padding: 5px;\n",
       "  }\n",
       "  th {\n",
       "    text-align: left;\n",
       "  }\n",
       "</style><div class='table-result-container'><table class='table-result'><thead style='background-color: white'><tr><th>Year</th><th>First Name</th><th>County</th><th>gender</th><th>Count</th><th>IsHighCount</th></tr></thead><tbody><tr><td>2012</td><td>JOHN</td><td>ONEIDA,ORANGE</td><td>M</td><td>30</td><td>No</td></tr><tr><td>2012</td><td>EMMA</td><td>JEFFERSON</td><td>F</td><td>25</td><td>No</td></tr><tr><td>2012</td><td>NOAH</td><td>JEFFERSON</td><td>M</td><td>18</td><td>No</td></tr><tr><td>2012</td><td>SOPHIA</td><td>MADISON</td><td>F</td><td>12</td><td>No</td></tr><tr><td>2012</td><td>LIAM</td><td>ONONDAGA</td><td>M</td><td>36</td><td>Yes</td></tr><tr><td>2012</td><td>OLIVIA</td><td>CAYUGA</td><td>F</td><td>22</td><td>No</td></tr><tr><td>2012</td><td>MASON</td><td>MADISON</td><td>M</td><td>28</td><td>No</td></tr><tr><td>2012</td><td>AVA</td><td>JEFFERSON</td><td>F</td><td>20</td><td>No</td></tr><tr><td>2012</td><td>WILLIAM</td><td>CAYUGA</td><td>M</td><td>45</td><td>Yes</td></tr><tr><td>2012</td><td>ABIGAIL</td><td>MADISON</td><td>F</td><td>19</td><td>No</td></tr></tbody></table></div>"
      ]
     },
     "metadata": {
      "application/vnd.databricks.v1+output": {
       "addedWidgets": {},
       "aggData": [],
       "aggError": "",
       "aggOverflow": false,
       "aggSchema": [],
       "aggSeriesLimitReached": false,
       "aggType": "",
       "arguments": {},
       "columnCustomDisplayInfos": {},
       "data": [
        [
         2012,
         "JOHN",
         "ONEIDA,ORANGE",
         "M",
         30,
         "No"
        ],
        [
         2012,
         "EMMA",
         "JEFFERSON",
         "F",
         25,
         "No"
        ],
        [
         2012,
         "NOAH",
         "JEFFERSON",
         "M",
         18,
         "No"
        ],
        [
         2012,
         "SOPHIA",
         "MADISON",
         "F",
         12,
         "No"
        ],
        [
         2012,
         "LIAM",
         "ONONDAGA",
         "M",
         36,
         "Yes"
        ],
        [
         2012,
         "OLIVIA",
         "CAYUGA",
         "F",
         22,
         "No"
        ],
        [
         2012,
         "MASON",
         "MADISON",
         "M",
         28,
         "No"
        ],
        [
         2012,
         "AVA",
         "JEFFERSON",
         "F",
         20,
         "No"
        ],
        [
         2012,
         "WILLIAM",
         "CAYUGA",
         "M",
         45,
         "Yes"
        ],
        [
         2012,
         "ABIGAIL",
         "MADISON",
         "F",
         19,
         "No"
        ]
       ],
       "datasetInfos": [],
       "dbfsResultPath": null,
       "isJsonSchema": true,
       "metadata": {},
       "overflow": false,
       "plotOptions": {
        "customPlotOptions": {},
        "displayType": "table",
        "pivotAggregation": null,
        "pivotColumns": null,
        "xColumns": null,
        "yColumns": null
       },
       "removedWidgets": [],
       "schema": [
        {
         "metadata": "{}",
         "name": "Year",
         "type": "\"long\""
        },
        {
         "metadata": "{}",
         "name": "First Name",
         "type": "\"string\""
        },
        {
         "metadata": "{}",
         "name": "County",
         "type": "\"string\""
        },
        {
         "metadata": "{}",
         "name": "gender",
         "type": "\"string\""
        },
        {
         "metadata": "{}",
         "name": "Count",
         "type": "\"long\""
        },
        {
         "metadata": "{}",
         "name": "IsHighCount",
         "type": "\"string\""
        }
       ],
       "type": "table"
      }
     },
     "output_type": "display_data"
    }
   ],
   "source": [
    "high_count_threshold = 30\n",
    "df_with_high_count = df.withColumn(\"IsHighCount\", when(col(\"Count\") > high_count_threshold, \"Yes\").otherwise(\"No\"))\n",
    "df_with_high_count.display()"
   ]
  },
  {
   "cell_type": "code",
   "execution_count": 0,
   "metadata": {
    "application/vnd.databricks.v1+cell": {
     "cellMetadata": {
      "byteLimit": 2048000,
      "rowLimit": 10000
     },
     "inputWidgets": {},
     "nuid": "d46590db-2cc3-4fa3-a043-64a5add57d14",
     "showTitle": false,
     "title": ""
    }
   },
   "outputs": [
    {
     "output_type": "display_data",
     "data": {
      "text/html": [
       "<style scoped>\n",
       "  .table-result-container {\n",
       "    max-height: 300px;\n",
       "    overflow: auto;\n",
       "  }\n",
       "  table, th, td {\n",
       "    border: 1px solid black;\n",
       "    border-collapse: collapse;\n",
       "  }\n",
       "  th, td {\n",
       "    padding: 5px;\n",
       "  }\n",
       "  th {\n",
       "    text-align: left;\n",
       "  }\n",
       "</style><div class='table-result-container'><table class='table-result'><thead style='background-color: white'><tr><th>Year</th><th>First Name</th><th>County</th><th>gender</th><th>Count</th><th>CountDiffPrevious</th></tr></thead><tbody><tr><td>2012</td><td>OLIVIA</td><td>CAYUGA</td><td>F</td><td>22</td><td>null</td></tr><tr><td>2012</td><td>WILLIAM</td><td>CAYUGA</td><td>M</td><td>45</td><td>23</td></tr><tr><td>2012</td><td>EMMA</td><td>JEFFERSON</td><td>F</td><td>25</td><td>null</td></tr><tr><td>2012</td><td>NOAH</td><td>JEFFERSON</td><td>M</td><td>18</td><td>-7</td></tr><tr><td>2012</td><td>AVA</td><td>JEFFERSON</td><td>F</td><td>20</td><td>2</td></tr><tr><td>2012</td><td>SOPHIA</td><td>MADISON</td><td>F</td><td>12</td><td>null</td></tr><tr><td>2012</td><td>MASON</td><td>MADISON</td><td>M</td><td>28</td><td>16</td></tr><tr><td>2012</td><td>ABIGAIL</td><td>MADISON</td><td>F</td><td>19</td><td>-9</td></tr><tr><td>2012</td><td>JOHN</td><td>ONEIDA,ORANGE</td><td>M</td><td>30</td><td>null</td></tr><tr><td>2012</td><td>LIAM</td><td>ONONDAGA</td><td>M</td><td>36</td><td>null</td></tr></tbody></table></div>"
      ]
     },
     "metadata": {
      "application/vnd.databricks.v1+output": {
       "addedWidgets": {},
       "aggData": [],
       "aggError": "",
       "aggOverflow": false,
       "aggSchema": [],
       "aggSeriesLimitReached": false,
       "aggType": "",
       "arguments": {},
       "columnCustomDisplayInfos": {},
       "data": [
        [
         2012,
         "OLIVIA",
         "CAYUGA",
         "F",
         22,
         null
        ],
        [
         2012,
         "WILLIAM",
         "CAYUGA",
         "M",
         45,
         23
        ],
        [
         2012,
         "EMMA",
         "JEFFERSON",
         "F",
         25,
         null
        ],
        [
         2012,
         "NOAH",
         "JEFFERSON",
         "M",
         18,
         -7
        ],
        [
         2012,
         "AVA",
         "JEFFERSON",
         "F",
         20,
         2
        ],
        [
         2012,
         "SOPHIA",
         "MADISON",
         "F",
         12,
         null
        ],
        [
         2012,
         "MASON",
         "MADISON",
         "M",
         28,
         16
        ],
        [
         2012,
         "ABIGAIL",
         "MADISON",
         "F",
         19,
         -9
        ],
        [
         2012,
         "JOHN",
         "ONEIDA,ORANGE",
         "M",
         30,
         null
        ],
        [
         2012,
         "LIAM",
         "ONONDAGA",
         "M",
         36,
         null
        ]
       ],
       "datasetInfos": [],
       "dbfsResultPath": null,
       "isJsonSchema": true,
       "metadata": {},
       "overflow": false,
       "plotOptions": {
        "customPlotOptions": {},
        "displayType": "table",
        "pivotAggregation": null,
        "pivotColumns": null,
        "xColumns": null,
        "yColumns": null
       },
       "removedWidgets": [],
       "schema": [
        {
         "metadata": "{}",
         "name": "Year",
         "type": "\"long\""
        },
        {
         "metadata": "{}",
         "name": "First Name",
         "type": "\"string\""
        },
        {
         "metadata": "{}",
         "name": "County",
         "type": "\"string\""
        },
        {
         "metadata": "{}",
         "name": "gender",
         "type": "\"string\""
        },
        {
         "metadata": "{}",
         "name": "Count",
         "type": "\"long\""
        },
        {
         "metadata": "{}",
         "name": "CountDiffPrevious",
         "type": "\"long\""
        }
       ],
       "type": "table"
      }
     },
     "output_type": "display_data"
    }
   ],
   "source": [
    "window_spec = Window.partitionBy(\"County\").orderBy(\"Year\")\n",
    "count_diff_previous_df = df.withColumn(\"CountDiffPrevious\", col(\"Count\") - lag(col(\"Count\")).over(window_spec))\n",
    "count_diff_previous_df.display()"
   ]
  },
  {
   "cell_type": "code",
   "execution_count": 0,
   "metadata": {
    "application/vnd.databricks.v1+cell": {
     "cellMetadata": {
      "byteLimit": 2048000,
      "rowLimit": 10000
     },
     "inputWidgets": {},
     "nuid": "c2cd7f9e-1ef9-4d72-803a-98e0fa36bd69",
     "showTitle": false,
     "title": ""
    }
   },
   "outputs": [
    {
     "output_type": "display_data",
     "data": {
      "text/html": [
       "<style scoped>\n",
       "  .table-result-container {\n",
       "    max-height: 300px;\n",
       "    overflow: auto;\n",
       "  }\n",
       "  table, th, td {\n",
       "    border: 1px solid black;\n",
       "    border-collapse: collapse;\n",
       "  }\n",
       "  th, td {\n",
       "    padding: 5px;\n",
       "  }\n",
       "  th {\n",
       "    text-align: left;\n",
       "  }\n",
       "</style><div class='table-result-container'><table class='table-result'><thead style='background-color: white'><tr><th>Year</th><th>First Name</th><th>County</th><th>gender</th><th>Count</th><th>CumulativeSumByCounty</th></tr></thead><tbody><tr><td>2012</td><td>OLIVIA</td><td>CAYUGA</td><td>F</td><td>22</td><td>67</td></tr><tr><td>2012</td><td>WILLIAM</td><td>CAYUGA</td><td>M</td><td>45</td><td>67</td></tr><tr><td>2012</td><td>EMMA</td><td>JEFFERSON</td><td>F</td><td>25</td><td>63</td></tr><tr><td>2012</td><td>NOAH</td><td>JEFFERSON</td><td>M</td><td>18</td><td>63</td></tr><tr><td>2012</td><td>AVA</td><td>JEFFERSON</td><td>F</td><td>20</td><td>63</td></tr><tr><td>2012</td><td>SOPHIA</td><td>MADISON</td><td>F</td><td>12</td><td>59</td></tr><tr><td>2012</td><td>MASON</td><td>MADISON</td><td>M</td><td>28</td><td>59</td></tr><tr><td>2012</td><td>ABIGAIL</td><td>MADISON</td><td>F</td><td>19</td><td>59</td></tr><tr><td>2012</td><td>JOHN</td><td>ONEIDA,ORANGE</td><td>M</td><td>30</td><td>30</td></tr><tr><td>2012</td><td>LIAM</td><td>ONONDAGA</td><td>M</td><td>36</td><td>36</td></tr></tbody></table></div>"
      ]
     },
     "metadata": {
      "application/vnd.databricks.v1+output": {
       "addedWidgets": {},
       "aggData": [],
       "aggError": "",
       "aggOverflow": false,
       "aggSchema": [],
       "aggSeriesLimitReached": false,
       "aggType": "",
       "arguments": {},
       "columnCustomDisplayInfos": {},
       "data": [
        [
         2012,
         "OLIVIA",
         "CAYUGA",
         "F",
         22,
         67
        ],
        [
         2012,
         "WILLIAM",
         "CAYUGA",
         "M",
         45,
         67
        ],
        [
         2012,
         "EMMA",
         "JEFFERSON",
         "F",
         25,
         63
        ],
        [
         2012,
         "NOAH",
         "JEFFERSON",
         "M",
         18,
         63
        ],
        [
         2012,
         "AVA",
         "JEFFERSON",
         "F",
         20,
         63
        ],
        [
         2012,
         "SOPHIA",
         "MADISON",
         "F",
         12,
         59
        ],
        [
         2012,
         "MASON",
         "MADISON",
         "M",
         28,
         59
        ],
        [
         2012,
         "ABIGAIL",
         "MADISON",
         "F",
         19,
         59
        ],
        [
         2012,
         "JOHN",
         "ONEIDA,ORANGE",
         "M",
         30,
         30
        ],
        [
         2012,
         "LIAM",
         "ONONDAGA",
         "M",
         36,
         36
        ]
       ],
       "datasetInfos": [],
       "dbfsResultPath": null,
       "isJsonSchema": true,
       "metadata": {},
       "overflow": false,
       "plotOptions": {
        "customPlotOptions": {},
        "displayType": "table",
        "pivotAggregation": null,
        "pivotColumns": null,
        "xColumns": null,
        "yColumns": null
       },
       "removedWidgets": [],
       "schema": [
        {
         "metadata": "{}",
         "name": "Year",
         "type": "\"long\""
        },
        {
         "metadata": "{}",
         "name": "First Name",
         "type": "\"string\""
        },
        {
         "metadata": "{}",
         "name": "County",
         "type": "\"string\""
        },
        {
         "metadata": "{}",
         "name": "gender",
         "type": "\"string\""
        },
        {
         "metadata": "{}",
         "name": "Count",
         "type": "\"long\""
        },
        {
         "metadata": "{}",
         "name": "CumulativeSumByCounty",
         "type": "\"long\""
        }
       ],
       "type": "table"
      }
     },
     "output_type": "display_data"
    }
   ],
   "source": [
    "# 10. Calculate the cumulative sum of \"Count\" within each county group.\n",
    "window_spec = Window.partitionBy(\"County\").orderBy(\"Year\")\n",
    "cumulative_sum_by_county_df = df.withColumn(\"CumulativeSumByCounty\", sum(col(\"Count\")).over(window_spec))\n",
    "cumulative_sum_by_county_df.display()"
   ]
  },
  {
   "cell_type": "code",
   "execution_count": 0,
   "metadata": {
    "application/vnd.databricks.v1+cell": {
     "cellMetadata": {},
     "inputWidgets": {},
     "nuid": "4aba5ffb-2392-44f3-8d1c-2c9b61d2cae9",
     "showTitle": false,
     "title": ""
    }
   },
   "outputs": [],
   "source": []
  }
 ],
 "metadata": {
  "application/vnd.databricks.v1+notebook": {
   "dashboards": [],
   "language": "python",
   "notebookMetadata": {
    "pythonIndentUnit": 4
   },
   "notebookName": "Pyspark_transformation",
   "widgets": {}
  }
 },
 "nbformat": 4,
 "nbformat_minor": 0
}
