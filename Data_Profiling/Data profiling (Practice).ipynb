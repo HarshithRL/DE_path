{
 "cells": [
  {
   "cell_type": "code",
   "execution_count": 0,
   "metadata": {
    "application/vnd.databricks.v1+cell": {
     "cellMetadata": {
      "byteLimit": 2048000,
      "rowLimit": 10000
     },
     "inputWidgets": {},
     "nuid": "190fe2c4-7398-43b9-9541-e63e2fdb8463",
     "showTitle": false,
     "title": ""
    }
   },
   "outputs": [],
   "source": [
    "from pyspark.sql.functions import *\n",
    "from pyspark.sql.types import StructType, StructField, IntegerType,FloatType"
   ]
  },
  {
   "cell_type": "code",
   "execution_count": 0,
   "metadata": {
    "application/vnd.databricks.v1+cell": {
     "cellMetadata": {
      "byteLimit": 2048000,
      "rowLimit": 10000
     },
     "inputWidgets": {},
     "nuid": "3c9bcb33-149c-4220-9b5a-4de083c33f10",
     "showTitle": false,
     "title": ""
    }
   },
   "outputs": [
    {
     "output_type": "stream",
     "name": "stdout",
     "output_type": "stream",
     "text": [
      "Out[23]: True"
     ]
    }
   ],
   "source": [
    "#dbutils.fs.rm('dbfs:/FileStore/tables',True)"
   ]
  },
  {
   "cell_type": "code",
   "execution_count": 0,
   "metadata": {
    "application/vnd.databricks.v1+cell": {
     "cellMetadata": {
      "byteLimit": 2048000,
      "rowLimit": 10000
     },
     "inputWidgets": {},
     "nuid": "70d47228-5a15-4626-8fdc-acde6c1b8711",
     "showTitle": false,
     "title": ""
    }
   },
   "outputs": [],
   "source": [
    "def read_file(fileformat,path,**options):\n",
    "    df=spark.read.format(fileformat).options(**options).load(path)\n",
    "    return df"
   ]
  },
  {
   "cell_type": "code",
   "execution_count": 0,
   "metadata": {
    "application/vnd.databricks.v1+cell": {
     "cellMetadata": {
      "byteLimit": 2048000,
      "rowLimit": 10000
     },
     "inputWidgets": {},
     "nuid": "6204b2f7-e94b-4955-a389-a9aaf103d9f5",
     "showTitle": false,
     "title": ""
    }
   },
   "outputs": [],
   "source": [
    "def summary_df(df):\n",
    "    return df.summary()"
   ]
  },
  {
   "cell_type": "code",
   "execution_count": 0,
   "metadata": {
    "application/vnd.databricks.v1+cell": {
     "cellMetadata": {
      "byteLimit": 2048000,
      "rowLimit": 10000
     },
     "inputWidgets": {},
     "nuid": "44ba4e89-809c-48aa-99bc-ac0042109176",
     "showTitle": false,
     "title": ""
    }
   },
   "outputs": [],
   "source": [
    "def null_per(df):\n",
    "    schema = StructType([ \\\n",
    "        StructField(\"Column\",StringType(),True), \\\n",
    "        StructField(\"Null_Percentage\",StringType(),True)\n",
    "    ])\n",
    "    emptyRDD = spark.sparkContext.emptyRDD()\n",
    "    resultdf = spark.createDataFrame([], schema=schema)\n",
    "    for i in df.columns:\n",
    "        df_count_null=df.select(col(i)).filter(col(i).isNull() | (col(i) == '')).count()\n",
    "        df_nnul= spark.createDataFrame([[f'{i}',f\"{df_count_null*100/df.count()} %\" ]],schema=schema)\n",
    "        resultdf=resultdf.union(df_nnul)\n",
    "    return resultdf.orderBy(desc(\"Null_Percentage\"))"
   ]
  },
  {
   "cell_type": "code",
   "execution_count": 0,
   "metadata": {
    "application/vnd.databricks.v1+cell": {
     "cellMetadata": {
      "byteLimit": 2048000,
      "rowLimit": 10000
     },
     "inputWidgets": {},
     "nuid": "d4bf81aa-2492-4754-8bf3-bb67903a332e",
     "showTitle": false,
     "title": ""
    }
   },
   "outputs": [],
   "source": [
    "def unique_values(df):\n",
    "    resultdf = None\n",
    "    for i in df.columns:\n",
    "        unique_values_count = df.select(i).distinct().count()\n",
    "        data = [(i, unique_values_count)]\n",
    "        schema = StructType([\n",
    "            StructField(\"Column\", StringType(), True),\n",
    "            StructField(\"UniqueValuesCount\", IntegerType(), True)\n",
    "        ])\n",
    "        df_res = spark.createDataFrame(data, schema=schema)\n",
    "        if resultdf is None:\n",
    "            resultdf = df_res\n",
    "        else:\n",
    "            resultdf = resultdf.union(df_res)\n",
    "    return resultdf.orderBy(\"UniqueValuesCount\")"
   ]
  },
  {
   "cell_type": "code",
   "execution_count": 0,
   "metadata": {
    "application/vnd.databricks.v1+cell": {
     "cellMetadata": {
      "byteLimit": 2048000,
      "rowLimit": 10000
     },
     "inputWidgets": {},
     "nuid": "caaff25e-c477-4469-913f-1ca61431c805",
     "showTitle": false,
     "title": ""
    }
   },
   "outputs": [],
   "source": [
    "def count_of_unique_value(df,column):\n",
    "    distinct_value_counts = df.groupBy(column).agg(count(\"*\").alias(\"Count\"))\n",
    "    return distinct_value_counts.orderBy(desc(\"Count\"))"
   ]
  },
  {
   "cell_type": "code",
   "execution_count": 0,
   "metadata": {
    "application/vnd.databricks.v1+cell": {
     "cellMetadata": {
      "byteLimit": 2048000,
      "rowLimit": 10000
     },
     "inputWidgets": {},
     "nuid": "05900119-5657-4182-826a-8422448cd300",
     "showTitle": false,
     "title": ""
    }
   },
   "outputs": [],
   "source": [
    "def miss_matched(df,Dictt):\n",
    "    schema = StructType([ \\\n",
    "        StructField(\"Column\",StringType(),True), \\\n",
    "        StructField(\"MismatchPercentage\",StringType(),True)\n",
    "    ])\n",
    "    resultdf = spark.createDataFrame([], schema=schema)\n",
    "    for i,y in Dictt.items():\n",
    "        df_regex_not_like_count = df_1.select(col(i)).filter(~col(i).rlike(y)).count()\n",
    "        df_for_loop= spark.createDataFrame([[f'{i}',f\"{df_regex_not_like_count*100/df.count()} %\" ]],schema=schema)\n",
    "        resultdf=resultdf.union(df_for_loop)\n",
    "    return resultdf.orderBy(desc(\"MismatchPercentage\"))"
   ]
  },
  {
   "cell_type": "code",
   "execution_count": 0,
   "metadata": {
    "application/vnd.databricks.v1+cell": {
     "cellMetadata": {
      "byteLimit": 2048000,
      "rowLimit": 10000
     },
     "inputWidgets": {},
     "nuid": "509ace0e-bd85-49f6-92ec-6894b5c604b9",
     "showTitle": false,
     "title": ""
    }
   },
   "outputs": [
    {
     "output_type": "display_data",
     "data": {
      "text/html": [
       "<style scoped>\n",
       "  .table-result-container {\n",
       "    max-height: 300px;\n",
       "    overflow: auto;\n",
       "  }\n",
       "  table, th, td {\n",
       "    border: 1px solid black;\n",
       "    border-collapse: collapse;\n",
       "  }\n",
       "  th, td {\n",
       "    padding: 5px;\n",
       "  }\n",
       "  th {\n",
       "    text-align: left;\n",
       "  }\n",
       "</style><div class='table-result-container'><table class='table-result'><thead style='background-color: white'><tr><th>Column</th><th>MismatchPercentage</th></tr></thead><tbody><tr><td>age</td><td>7.5 %</td></tr><tr><td>gender</td><td>7.5 %</td></tr><tr><td>first_name</td><td>0.0 %</td></tr></tbody></table></div>"
      ]
     },
     "metadata": {
      "application/vnd.databricks.v1+output": {
       "addedWidgets": {},
       "aggData": [],
       "aggError": "",
       "aggOverflow": false,
       "aggSchema": [],
       "aggSeriesLimitReached": false,
       "aggType": "",
       "arguments": {},
       "columnCustomDisplayInfos": {},
       "data": [
        [
         "age",
         "7.5 %"
        ],
        [
         "gender",
         "7.5 %"
        ],
        [
         "first_name",
         "0.0 %"
        ]
       ],
       "datasetInfos": [],
       "dbfsResultPath": null,
       "isJsonSchema": true,
       "metadata": {},
       "overflow": false,
       "plotOptions": {
        "customPlotOptions": {},
        "displayType": "table",
        "pivotAggregation": null,
        "pivotColumns": null,
        "xColumns": null,
        "yColumns": null
       },
       "removedWidgets": [],
       "schema": [
        {
         "metadata": "{}",
         "name": "Column",
         "type": "\"string\""
        },
        {
         "metadata": "{}",
         "name": "MismatchPercentage",
         "type": "\"string\""
        }
       ],
       "type": "table"
      }
     },
     "output_type": "display_data"
    }
   ],
   "source": []
  },
  {
   "cell_type": "code",
   "execution_count": 0,
   "metadata": {
    "application/vnd.databricks.v1+cell": {
     "cellMetadata": {
      "byteLimit": 2048000,
      "rowLimit": 10000
     },
     "inputWidgets": {},
     "nuid": "17bd0004-d66a-4cee-908c-4c04c6bd34cb",
     "showTitle": false,
     "title": ""
    }
   },
   "outputs": [],
   "source": [
    "schema = StructType([\n",
    "    StructField(\"rank\", IntegerType(), True),\n",
    "    StructField(\"name\", StringType(), True),\n",
    "    StructField(\"forbes_id\", StringType(), True),\n",
    "    StructField(\"net_worth\", IntegerType(), True),\n",
    "    StructField(\"age4\", FloatType(), True),\n",
    "    StructField(\"age_range\", StringType(), True),\n",
    "    StructField(\"country\", StringType(), True),\n",
    "    StructField(\"source\", StringType(), True),\n",
    "    StructField(\"industry\", StringType(), True),\n",
    "    StructField(\"Age9\", StringType(), True),\n",
    "    StructField(\"Source of Wealth\", StringType(), True),\n",
    "    StructField(\"Self-Made Score\", StringType(), True),\n",
    "    StructField(\"Philanthropy Score\", StringType(), True),\n",
    "    StructField(\"Residence\", StringType(), True),\n",
    "    StructField(\"Citizenship\", StringType(), True),\n",
    "    StructField(\"Marital Status\", StringType(), True),\n",
    "    StructField(\"Children\", StringType(), True),\n",
    "    StructField(\"Education\", StringType(), True),\n",
    "    StructField(\"Bachelor\", StringType(), True),\n",
    "    StructField(\"Master\", StringType(), True),\n",
    "    StructField(\"Doctorate\", StringType(), True),\n",
    "    StructField(\"Drop Out\", StringType(), True),\n",
    "    StructField(\"Self Made\", StringType(), True)\n",
    "])"
   ]
  },
  {
   "cell_type": "code",
   "execution_count": 0,
   "metadata": {
    "application/vnd.databricks.v1+cell": {
     "cellMetadata": {
      "byteLimit": 2048000,
      "rowLimit": 10000
     },
     "inputWidgets": {},
     "nuid": "b6bb496a-5802-4600-85e8-cb60f1961a92",
     "showTitle": false,
     "title": ""
    }
   },
   "outputs": [],
   "source": [
    "df=read_file('csv',\"dbfs:/FileStore/tables/forbes_2640_billionaires.csv\",header=True,schema=schema)"
   ]
  },
  {
   "cell_type": "code",
   "execution_count": 0,
   "metadata": {
    "application/vnd.databricks.v1+cell": {
     "cellMetadata": {
      "byteLimit": 2048000,
      "rowLimit": 10000
     },
     "inputWidgets": {},
     "nuid": "dbe980df-860c-4adf-8445-c8b22476e0dd",
     "showTitle": false,
     "title": ""
    }
   },
   "outputs": [
    {
     "output_type": "display_data",
     "data": {
      "text/html": [
       "<style scoped>\n",
       "  .table-result-container {\n",
       "    max-height: 300px;\n",
       "    overflow: auto;\n",
       "  }\n",
       "  table, th, td {\n",
       "    border: 1px solid black;\n",
       "    border-collapse: collapse;\n",
       "  }\n",
       "  th, td {\n",
       "    padding: 5px;\n",
       "  }\n",
       "  th {\n",
       "    text-align: left;\n",
       "  }\n",
       "</style><div class='table-result-container'><table class='table-result'><thead style='background-color: white'><tr><th>summary</th><th>rank</th><th>name</th><th>forbes_id</th><th>net_worth</th><th>age4</th><th>age_range</th><th>country</th><th>source</th><th>industry</th><th>Age9</th><th>Source of Wealth</th><th>Self-Made Score</th><th>Philanthropy Score</th><th>Residence</th><th>Citizenship</th><th>Marital Status</th><th>Children</th><th>Education</th><th>Bachelor</th><th>Master</th><th>Doctorate</th><th>Drop Out</th><th>Self Made</th></tr></thead><tbody><tr><td>count</td><td>2640</td><td>2640</td><td>2640</td><td>2640</td><td>2575</td><td>2640</td><td>2640</td><td>2640</td><td>2640</td><td>2555</td><td>2639</td><td>558</td><td>411</td><td>2581</td><td>2629</td><td>2089</td><td>1598</td><td>1415</td><td>1416</td><td>1416</td><td>1416</td><td>1416</td><td>2640</td></tr><tr><td>mean</td><td>1289.159090909091</td><td>null</td><td>null</td><td>4.623787878787917</td><td>65.13864077669903</td><td>6.782954545454546</td><td>null</td><td>null</td><td>null</td><td>65.45714285714286</td><td>null</td><td>6.586021505376344</td><td>1.927007299270073</td><td>null</td><td>null</td><td>null</td><td>2.969336670838548</td><td>null</td><td>0.6864406779661016</td><td>0.3700564971751412</td><td>0.03672316384180791</td><td>0.06002824858757062</td><td>0.6863636363636364</td></tr><tr><td>stddev</td><td>739.6937255187028</td><td>null</td><td>null</td><td>9.834240939420306</td><td>13.258934406133013</td><td>1.7223573817784346</td><td>null</td><td>null</td><td>null</td><td>13.245203578351383</td><td>null</td><td>2.6445197450128655</td><td>1.021488892980818</td><td>null</td><td>null</td><td>null</td><td>1.67517090350861</td><td>null</td><td>0.4641034222933681</td><td>0.48299009455141895</td><td>0.18814774188797712</td><td>0.23762309269889065</td><td>0.4640583660212419</td></tr><tr><td>min</td><td>1</td><td>A. Jayson Adair</td><td>a-jayson-adair</td><td>1.0</td><td>101.0</td><td>0</td><td>Algeria</td><td>3D printing</td><td>Automotive</td><td>100.0</td><td>3D printing, Self Made</td><td>1.0</td><td>1.0</td><td>A Coruña, Spain</td><td>Algeria</td><td>Divorced</td><td>1.0</td><td>Associate in Arts/Science, Brevard Community College; Bachelor of Arts/Science, Southern College of Optometry; Doctorate, Southern College of Optometry</td><td>0.0</td><td>0.0</td><td>0.0</td><td>0.0</td><td>0</td></tr><tr><td>25%</td><td>659.0</td><td>null</td><td>null</td><td>1.5</td><td>56.0</td><td>6.0</td><td>null</td><td>null</td><td>null</td><td>56.0</td><td>null</td><td>5.0</td><td>1.0</td><td>null</td><td>null</td><td>null</td><td>2.0</td><td>null</td><td>0.0</td><td>0.0</td><td>0.0</td><td>0.0</td><td>0.0</td></tr><tr><td>50%</td><td>1312.0</td><td>null</td><td>null</td><td>2.3</td><td>65.0</td><td>7.0</td><td>null</td><td>null</td><td>null</td><td>66.0</td><td>null</td><td>8.0</td><td>2.0</td><td>null</td><td>null</td><td>null</td><td>3.0</td><td>null</td><td>1.0</td><td>0.0</td><td>0.0</td><td>0.0</td><td>1.0</td></tr><tr><td>75%</td><td>1905.0</td><td>null</td><td>null</td><td>4.2</td><td>75.0</td><td>8.0</td><td>null</td><td>null</td><td>null</td><td>75.0</td><td>null</td><td>8.0</td><td>2.0</td><td>null</td><td>null</td><td>null</td><td>4.0</td><td>null</td><td>1.0</td><td>1.0</td><td>0.0</td><td>0.0</td><td>1.0</td></tr><tr><td>max</td><td>99</td><td>Zygmunt Solorz-Zak</td><td>zygmunt-solorz-zak</td><td>94.5</td><td>99.0</td><td>9</td><td>Zimbabwe</td><td>software services</td><td>Telecom</td><td>99.0</td><td>waste management, Self Made</td><td>9.0</td><td>5.0</td><td>torino, Italy</td><td>Zimbabwe</td><td>Widowed, Remarried</td><td>9.0</td><td>error</td><td>1.0</td><td>1.0</td><td>1.0</td><td>1.0</td><td>1</td></tr></tbody></table></div>"
      ]
     },
     "metadata": {
      "application/vnd.databricks.v1+output": {
       "addedWidgets": {},
       "aggData": [],
       "aggError": "",
       "aggOverflow": false,
       "aggSchema": [],
       "aggSeriesLimitReached": false,
       "aggType": "",
       "arguments": {},
       "columnCustomDisplayInfos": {},
       "data": [
        [
         "count",
         "2640",
         "2640",
         "2640",
         "2640",
         "2575",
         "2640",
         "2640",
         "2640",
         "2640",
         "2555",
         "2639",
         "558",
         "411",
         "2581",
         "2629",
         "2089",
         "1598",
         "1415",
         "1416",
         "1416",
         "1416",
         "1416",
         "2640"
        ],
        [
         "mean",
         "1289.159090909091",
         null,
         null,
         "4.623787878787917",
         "65.13864077669903",
         "6.782954545454546",
         null,
         null,
         null,
         "65.45714285714286",
         null,
         "6.586021505376344",
         "1.927007299270073",
         null,
         null,
         null,
         "2.969336670838548",
         null,
         "0.6864406779661016",
         "0.3700564971751412",
         "0.03672316384180791",
         "0.06002824858757062",
         "0.6863636363636364"
        ],
        [
         "stddev",
         "739.6937255187028",
         null,
         null,
         "9.834240939420306",
         "13.258934406133013",
         "1.7223573817784346",
         null,
         null,
         null,
         "13.245203578351383",
         null,
         "2.6445197450128655",
         "1.021488892980818",
         null,
         null,
         null,
         "1.67517090350861",
         null,
         "0.4641034222933681",
         "0.48299009455141895",
         "0.18814774188797712",
         "0.23762309269889065",
         "0.4640583660212419"
        ],
        [
         "min",
         "1",
         "A. Jayson Adair",
         "a-jayson-adair",
         "1.0",
         "101.0",
         "0",
         "Algeria",
         "3D printing",
         "Automotive",
         "100.0",
         "3D printing, Self Made",
         "1.0",
         "1.0",
         "A Coruña, Spain",
         "Algeria",
         "Divorced",
         "1.0",
         "Associate in Arts/Science, Brevard Community College; Bachelor of Arts/Science, Southern College of Optometry; Doctorate, Southern College of Optometry",
         "0.0",
         "0.0",
         "0.0",
         "0.0",
         "0"
        ],
        [
         "25%",
         "659.0",
         null,
         null,
         "1.5",
         "56.0",
         "6.0",
         null,
         null,
         null,
         "56.0",
         null,
         "5.0",
         "1.0",
         null,
         null,
         null,
         "2.0",
         null,
         "0.0",
         "0.0",
         "0.0",
         "0.0",
         "0.0"
        ],
        [
         "50%",
         "1312.0",
         null,
         null,
         "2.3",
         "65.0",
         "7.0",
         null,
         null,
         null,
         "66.0",
         null,
         "8.0",
         "2.0",
         null,
         null,
         null,
         "3.0",
         null,
         "1.0",
         "0.0",
         "0.0",
         "0.0",
         "1.0"
        ],
        [
         "75%",
         "1905.0",
         null,
         null,
         "4.2",
         "75.0",
         "8.0",
         null,
         null,
         null,
         "75.0",
         null,
         "8.0",
         "2.0",
         null,
         null,
         null,
         "4.0",
         null,
         "1.0",
         "1.0",
         "0.0",
         "0.0",
         "1.0"
        ],
        [
         "max",
         "99",
         "Zygmunt Solorz-Zak",
         "zygmunt-solorz-zak",
         "94.5",
         "99.0",
         "9",
         "Zimbabwe",
         "software services",
         "Telecom",
         "99.0",
         "waste management, Self Made",
         "9.0",
         "5.0",
         "torino, Italy",
         "Zimbabwe",
         "Widowed, Remarried",
         "9.0",
         "error",
         "1.0",
         "1.0",
         "1.0",
         "1.0",
         "1"
        ]
       ],
       "datasetInfos": [],
       "dbfsResultPath": null,
       "isJsonSchema": true,
       "metadata": {},
       "overflow": false,
       "plotOptions": {
        "customPlotOptions": {},
        "displayType": "table",
        "pivotAggregation": null,
        "pivotColumns": null,
        "xColumns": null,
        "yColumns": null
       },
       "removedWidgets": [],
       "schema": [
        {
         "metadata": "{}",
         "name": "summary",
         "type": "\"string\""
        },
        {
         "metadata": "{}",
         "name": "rank",
         "type": "\"string\""
        },
        {
         "metadata": "{}",
         "name": "name",
         "type": "\"string\""
        },
        {
         "metadata": "{}",
         "name": "forbes_id",
         "type": "\"string\""
        },
        {
         "metadata": "{}",
         "name": "net_worth",
         "type": "\"string\""
        },
        {
         "metadata": "{}",
         "name": "age4",
         "type": "\"string\""
        },
        {
         "metadata": "{}",
         "name": "age_range",
         "type": "\"string\""
        },
        {
         "metadata": "{}",
         "name": "country",
         "type": "\"string\""
        },
        {
         "metadata": "{}",
         "name": "source",
         "type": "\"string\""
        },
        {
         "metadata": "{}",
         "name": "industry",
         "type": "\"string\""
        },
        {
         "metadata": "{}",
         "name": "Age9",
         "type": "\"string\""
        },
        {
         "metadata": "{}",
         "name": "Source of Wealth",
         "type": "\"string\""
        },
        {
         "metadata": "{}",
         "name": "Self-Made Score",
         "type": "\"string\""
        },
        {
         "metadata": "{}",
         "name": "Philanthropy Score",
         "type": "\"string\""
        },
        {
         "metadata": "{}",
         "name": "Residence",
         "type": "\"string\""
        },
        {
         "metadata": "{}",
         "name": "Citizenship",
         "type": "\"string\""
        },
        {
         "metadata": "{}",
         "name": "Marital Status",
         "type": "\"string\""
        },
        {
         "metadata": "{}",
         "name": "Children",
         "type": "\"string\""
        },
        {
         "metadata": "{}",
         "name": "Education",
         "type": "\"string\""
        },
        {
         "metadata": "{}",
         "name": "Bachelor",
         "type": "\"string\""
        },
        {
         "metadata": "{}",
         "name": "Master",
         "type": "\"string\""
        },
        {
         "metadata": "{}",
         "name": "Doctorate",
         "type": "\"string\""
        },
        {
         "metadata": "{}",
         "name": "Drop Out",
         "type": "\"string\""
        },
        {
         "metadata": "{}",
         "name": "Self Made",
         "type": "\"string\""
        }
       ],
       "type": "table"
      }
     },
     "output_type": "display_data"
    }
   ],
   "source": [
    "summary_df(df).display()"
   ]
  },
  {
   "cell_type": "code",
   "execution_count": 0,
   "metadata": {
    "application/vnd.databricks.v1+cell": {
     "cellMetadata": {
      "byteLimit": 2048000,
      "rowLimit": 10000
     },
     "inputWidgets": {},
     "nuid": "2ae00858-a1ff-4841-a45b-5ada16f7e8e4",
     "showTitle": false,
     "title": ""
    }
   },
   "outputs": [
    {
     "output_type": "stream",
     "name": "stdout",
     "output_type": "stream",
     "text": [
      "root\n |-- rank: integer (nullable = true)\n |-- name: string (nullable = true)\n |-- forbes_id: string (nullable = true)\n |-- net_worth: integer (nullable = true)\n |-- age4: float (nullable = true)\n |-- age_range: string (nullable = true)\n |-- country: string (nullable = true)\n |-- source: string (nullable = true)\n |-- industry: string (nullable = true)\n |-- Age9: string (nullable = true)\n |-- Source of Wealth: string (nullable = true)\n |-- Self-Made Score: string (nullable = true)\n |-- Philanthropy Score: string (nullable = true)\n |-- Residence: string (nullable = true)\n |-- Citizenship: string (nullable = true)\n |-- Marital Status: string (nullable = true)\n |-- Children: string (nullable = true)\n |-- Education: string (nullable = true)\n |-- Bachelor: string (nullable = true)\n |-- Master: string (nullable = true)\n |-- Doctorate: string (nullable = true)\n |-- Drop Out: string (nullable = true)\n |-- Self Made: string (nullable = true)\n\n"
     ]
    }
   ],
   "source": [
    "df.printSchema()"
   ]
  },
  {
   "cell_type": "code",
   "execution_count": 0,
   "metadata": {
    "application/vnd.databricks.v1+cell": {
     "cellMetadata": {
      "byteLimit": 2048000,
      "rowLimit": 10000
     },
     "inputWidgets": {},
     "nuid": "8f674029-db37-49cc-bcc5-0a8b8e4ef2cc",
     "showTitle": false,
     "title": ""
    }
   },
   "outputs": [
    {
     "output_type": "display_data",
     "data": {
      "text/html": [
       "<style scoped>\n",
       "  .table-result-container {\n",
       "    max-height: 300px;\n",
       "    overflow: auto;\n",
       "  }\n",
       "  table, th, td {\n",
       "    border: 1px solid black;\n",
       "    border-collapse: collapse;\n",
       "  }\n",
       "  th, td {\n",
       "    padding: 5px;\n",
       "  }\n",
       "  th {\n",
       "    text-align: left;\n",
       "  }\n",
       "</style><div class='table-result-container'><table class='table-result'><thead style='background-color: white'><tr><th>summary</th><th>rank</th><th>name</th><th>forbes_id</th><th>net_worth</th><th>age4</th><th>age_range</th><th>country</th><th>source</th><th>industry</th><th>Age9</th><th>Source of Wealth</th><th>Self-Made Score</th><th>Philanthropy Score</th><th>Residence</th><th>Citizenship</th><th>Marital Status</th><th>Children</th><th>Education</th><th>Bachelor</th><th>Master</th><th>Doctorate</th><th>Drop Out</th><th>Self Made</th></tr></thead><tbody><tr><td>count</td><td>2640</td><td>2640</td><td>2640</td><td>0</td><td>2575</td><td>2640</td><td>2640</td><td>2640</td><td>2640</td><td>2555</td><td>2639</td><td>558</td><td>411</td><td>2581</td><td>2629</td><td>2089</td><td>1598</td><td>1415</td><td>1416</td><td>1416</td><td>1416</td><td>1416</td><td>2640</td></tr><tr><td>mean</td><td>1289.159090909091</td><td>null</td><td>null</td><td>null</td><td>65.13864077669903</td><td>6.782954545454546</td><td>null</td><td>null</td><td>null</td><td>65.45714285714286</td><td>null</td><td>6.586021505376344</td><td>1.927007299270073</td><td>null</td><td>null</td><td>null</td><td>2.969336670838548</td><td>null</td><td>0.6864406779661016</td><td>0.3700564971751412</td><td>0.03672316384180791</td><td>0.06002824858757062</td><td>0.6863636363636364</td></tr><tr><td>stddev</td><td>739.6937255187028</td><td>null</td><td>null</td><td>null</td><td>13.258934406133013</td><td>1.7223573817784346</td><td>null</td><td>null</td><td>null</td><td>13.245203578351383</td><td>null</td><td>2.6445197450128655</td><td>1.021488892980818</td><td>null</td><td>null</td><td>null</td><td>1.67517090350861</td><td>null</td><td>0.4641034222933681</td><td>0.48299009455141895</td><td>0.18814774188797712</td><td>0.23762309269889065</td><td>0.4640583660212419</td></tr><tr><td>min</td><td>1</td><td>A. Jayson Adair</td><td>a-jayson-adair</td><td>null</td><td>18.0</td><td>0</td><td>Algeria</td><td>3D printing</td><td>Automotive</td><td>100.0</td><td>3D printing, Self Made</td><td>1.0</td><td>1.0</td><td>A Coruña, Spain</td><td>Algeria</td><td>Divorced</td><td>1.0</td><td>Associate in Arts/Science, Brevard Community College; Bachelor of Arts/Science, Southern College of Optometry; Doctorate, Southern College of Optometry</td><td>0.0</td><td>0.0</td><td>0.0</td><td>0.0</td><td>0</td></tr><tr><td>25%</td><td>659</td><td>null</td><td>null</td><td>null</td><td>56.0</td><td>6.0</td><td>null</td><td>null</td><td>null</td><td>56.0</td><td>null</td><td>5.0</td><td>1.0</td><td>null</td><td>null</td><td>null</td><td>2.0</td><td>null</td><td>0.0</td><td>0.0</td><td>0.0</td><td>0.0</td><td>0.0</td></tr><tr><td>50%</td><td>1312</td><td>null</td><td>null</td><td>null</td><td>65.0</td><td>7.0</td><td>null</td><td>null</td><td>null</td><td>66.0</td><td>null</td><td>8.0</td><td>2.0</td><td>null</td><td>null</td><td>null</td><td>3.0</td><td>null</td><td>1.0</td><td>0.0</td><td>0.0</td><td>0.0</td><td>1.0</td></tr><tr><td>75%</td><td>1905</td><td>null</td><td>null</td><td>null</td><td>75.0</td><td>8.0</td><td>null</td><td>null</td><td>null</td><td>75.0</td><td>null</td><td>8.0</td><td>2.0</td><td>null</td><td>null</td><td>null</td><td>4.0</td><td>null</td><td>1.0</td><td>1.0</td><td>0.0</td><td>0.0</td><td>1.0</td></tr><tr><td>max</td><td>2540</td><td>Zygmunt Solorz-Zak</td><td>zygmunt-solorz-zak</td><td>null</td><td>101.0</td><td>9</td><td>Zimbabwe</td><td>software services</td><td>Telecom</td><td>99.0</td><td>waste management, Self Made</td><td>9.0</td><td>5.0</td><td>torino, Italy</td><td>Zimbabwe</td><td>Widowed, Remarried</td><td>9.0</td><td>error</td><td>1.0</td><td>1.0</td><td>1.0</td><td>1.0</td><td>1</td></tr></tbody></table></div>"
      ]
     },
     "metadata": {
      "application/vnd.databricks.v1+output": {
       "addedWidgets": {},
       "aggData": [],
       "aggError": "",
       "aggOverflow": false,
       "aggSchema": [],
       "aggSeriesLimitReached": false,
       "aggType": "",
       "arguments": {},
       "columnCustomDisplayInfos": {},
       "data": [
        [
         "count",
         "2640",
         "2640",
         "2640",
         "0",
         "2575",
         "2640",
         "2640",
         "2640",
         "2640",
         "2555",
         "2639",
         "558",
         "411",
         "2581",
         "2629",
         "2089",
         "1598",
         "1415",
         "1416",
         "1416",
         "1416",
         "1416",
         "2640"
        ],
        [
         "mean",
         "1289.159090909091",
         null,
         null,
         null,
         "65.13864077669903",
         "6.782954545454546",
         null,
         null,
         null,
         "65.45714285714286",
         null,
         "6.586021505376344",
         "1.927007299270073",
         null,
         null,
         null,
         "2.969336670838548",
         null,
         "0.6864406779661016",
         "0.3700564971751412",
         "0.03672316384180791",
         "0.06002824858757062",
         "0.6863636363636364"
        ],
        [
         "stddev",
         "739.6937255187028",
         null,
         null,
         null,
         "13.258934406133013",
         "1.7223573817784346",
         null,
         null,
         null,
         "13.245203578351383",
         null,
         "2.6445197450128655",
         "1.021488892980818",
         null,
         null,
         null,
         "1.67517090350861",
         null,
         "0.4641034222933681",
         "0.48299009455141895",
         "0.18814774188797712",
         "0.23762309269889065",
         "0.4640583660212419"
        ],
        [
         "min",
         "1",
         "A. Jayson Adair",
         "a-jayson-adair",
         null,
         "18.0",
         "0",
         "Algeria",
         "3D printing",
         "Automotive",
         "100.0",
         "3D printing, Self Made",
         "1.0",
         "1.0",
         "A Coruña, Spain",
         "Algeria",
         "Divorced",
         "1.0",
         "Associate in Arts/Science, Brevard Community College; Bachelor of Arts/Science, Southern College of Optometry; Doctorate, Southern College of Optometry",
         "0.0",
         "0.0",
         "0.0",
         "0.0",
         "0"
        ],
        [
         "25%",
         "659",
         null,
         null,
         null,
         "56.0",
         "6.0",
         null,
         null,
         null,
         "56.0",
         null,
         "5.0",
         "1.0",
         null,
         null,
         null,
         "2.0",
         null,
         "0.0",
         "0.0",
         "0.0",
         "0.0",
         "0.0"
        ],
        [
         "50%",
         "1312",
         null,
         null,
         null,
         "65.0",
         "7.0",
         null,
         null,
         null,
         "66.0",
         null,
         "8.0",
         "2.0",
         null,
         null,
         null,
         "3.0",
         null,
         "1.0",
         "0.0",
         "0.0",
         "0.0",
         "1.0"
        ],
        [
         "75%",
         "1905",
         null,
         null,
         null,
         "75.0",
         "8.0",
         null,
         null,
         null,
         "75.0",
         null,
         "8.0",
         "2.0",
         null,
         null,
         null,
         "4.0",
         null,
         "1.0",
         "1.0",
         "0.0",
         "0.0",
         "1.0"
        ],
        [
         "max",
         "2540",
         "Zygmunt Solorz-Zak",
         "zygmunt-solorz-zak",
         null,
         "101.0",
         "9",
         "Zimbabwe",
         "software services",
         "Telecom",
         "99.0",
         "waste management, Self Made",
         "9.0",
         "5.0",
         "torino, Italy",
         "Zimbabwe",
         "Widowed, Remarried",
         "9.0",
         "error",
         "1.0",
         "1.0",
         "1.0",
         "1.0",
         "1"
        ]
       ],
       "datasetInfos": [],
       "dbfsResultPath": null,
       "isJsonSchema": true,
       "metadata": {},
       "overflow": false,
       "plotOptions": {
        "customPlotOptions": {},
        "displayType": "table",
        "pivotAggregation": null,
        "pivotColumns": null,
        "xColumns": null,
        "yColumns": null
       },
       "removedWidgets": [],
       "schema": [
        {
         "metadata": "{}",
         "name": "summary",
         "type": "\"string\""
        },
        {
         "metadata": "{}",
         "name": "rank",
         "type": "\"string\""
        },
        {
         "metadata": "{}",
         "name": "name",
         "type": "\"string\""
        },
        {
         "metadata": "{}",
         "name": "forbes_id",
         "type": "\"string\""
        },
        {
         "metadata": "{}",
         "name": "net_worth",
         "type": "\"string\""
        },
        {
         "metadata": "{}",
         "name": "age4",
         "type": "\"string\""
        },
        {
         "metadata": "{}",
         "name": "age_range",
         "type": "\"string\""
        },
        {
         "metadata": "{}",
         "name": "country",
         "type": "\"string\""
        },
        {
         "metadata": "{}",
         "name": "source",
         "type": "\"string\""
        },
        {
         "metadata": "{}",
         "name": "industry",
         "type": "\"string\""
        },
        {
         "metadata": "{}",
         "name": "Age9",
         "type": "\"string\""
        },
        {
         "metadata": "{}",
         "name": "Source of Wealth",
         "type": "\"string\""
        },
        {
         "metadata": "{}",
         "name": "Self-Made Score",
         "type": "\"string\""
        },
        {
         "metadata": "{}",
         "name": "Philanthropy Score",
         "type": "\"string\""
        },
        {
         "metadata": "{}",
         "name": "Residence",
         "type": "\"string\""
        },
        {
         "metadata": "{}",
         "name": "Citizenship",
         "type": "\"string\""
        },
        {
         "metadata": "{}",
         "name": "Marital Status",
         "type": "\"string\""
        },
        {
         "metadata": "{}",
         "name": "Children",
         "type": "\"string\""
        },
        {
         "metadata": "{}",
         "name": "Education",
         "type": "\"string\""
        },
        {
         "metadata": "{}",
         "name": "Bachelor",
         "type": "\"string\""
        },
        {
         "metadata": "{}",
         "name": "Master",
         "type": "\"string\""
        },
        {
         "metadata": "{}",
         "name": "Doctorate",
         "type": "\"string\""
        },
        {
         "metadata": "{}",
         "name": "Drop Out",
         "type": "\"string\""
        },
        {
         "metadata": "{}",
         "name": "Self Made",
         "type": "\"string\""
        }
       ],
       "type": "table"
      }
     },
     "output_type": "display_data"
    }
   ],
   "source": [
    "df.summary().display()"
   ]
  },
  {
   "cell_type": "code",
   "execution_count": 0,
   "metadata": {
    "application/vnd.databricks.v1+cell": {
     "cellMetadata": {
      "byteLimit": 2048000,
      "rowLimit": 10000
     },
     "inputWidgets": {},
     "nuid": "a7bd282c-35f9-4457-a711-8ebf6af05d09",
     "showTitle": false,
     "title": ""
    }
   },
   "outputs": [
    {
     "output_type": "display_data",
     "data": {
      "text/html": [
       "<style scoped>\n",
       "  .table-result-container {\n",
       "    max-height: 300px;\n",
       "    overflow: auto;\n",
       "  }\n",
       "  table, th, td {\n",
       "    border: 1px solid black;\n",
       "    border-collapse: collapse;\n",
       "  }\n",
       "  th, td {\n",
       "    padding: 5px;\n",
       "  }\n",
       "  th {\n",
       "    text-align: left;\n",
       "  }\n",
       "</style><div class='table-result-container'><table class='table-result'><thead style='background-color: white'><tr><th>Column</th><th>Null_Percentage</th></tr></thead><tbody><tr><td>Philanthropy Score</td><td>84.43181818181819 %</td></tr><tr><td>Self-Made Score</td><td>78.86363636363636 %</td></tr><tr><td>Education</td><td>46.40151515151515 %</td></tr><tr><td>Drop Out</td><td>46.36363636363637 %</td></tr><tr><td>Doctorate</td><td>46.36363636363637 %</td></tr><tr><td>Master</td><td>46.36363636363637 %</td></tr><tr><td>Bachelor</td><td>46.36363636363637 %</td></tr><tr><td>Children</td><td>39.46969696969697 %</td></tr><tr><td>Age9</td><td>3.2196969696969697 %</td></tr><tr><td>Marital Status</td><td>20.87121212121212 %</td></tr><tr><td>age4</td><td>2.462121212121212 %</td></tr><tr><td>Residence</td><td>2.234848484848485 %</td></tr><tr><td>net_worth</td><td>100.0 %</td></tr><tr><td>Citizenship</td><td>0.4166666666666667 %</td></tr><tr><td>Source of Wealth</td><td>0.03787878787878788 %</td></tr><tr><td>Self Made</td><td>0.0 %</td></tr><tr><td>industry</td><td>0.0 %</td></tr><tr><td>source</td><td>0.0 %</td></tr><tr><td>country</td><td>0.0 %</td></tr><tr><td>age_range</td><td>0.0 %</td></tr><tr><td>rank</td><td>0.0 %</td></tr><tr><td>forbes_id</td><td>0.0 %</td></tr><tr><td>name</td><td>0.0 %</td></tr></tbody></table></div>"
      ]
     },
     "metadata": {
      "application/vnd.databricks.v1+output": {
       "addedWidgets": {},
       "aggData": [],
       "aggError": "",
       "aggOverflow": false,
       "aggSchema": [],
       "aggSeriesLimitReached": false,
       "aggType": "",
       "arguments": {},
       "columnCustomDisplayInfos": {},
       "data": [
        [
         "Philanthropy Score",
         "84.43181818181819 %"
        ],
        [
         "Self-Made Score",
         "78.86363636363636 %"
        ],
        [
         "Education",
         "46.40151515151515 %"
        ],
        [
         "Drop Out",
         "46.36363636363637 %"
        ],
        [
         "Doctorate",
         "46.36363636363637 %"
        ],
        [
         "Master",
         "46.36363636363637 %"
        ],
        [
         "Bachelor",
         "46.36363636363637 %"
        ],
        [
         "Children",
         "39.46969696969697 %"
        ],
        [
         "Age9",
         "3.2196969696969697 %"
        ],
        [
         "Marital Status",
         "20.87121212121212 %"
        ],
        [
         "age4",
         "2.462121212121212 %"
        ],
        [
         "Residence",
         "2.234848484848485 %"
        ],
        [
         "net_worth",
         "100.0 %"
        ],
        [
         "Citizenship",
         "0.4166666666666667 %"
        ],
        [
         "Source of Wealth",
         "0.03787878787878788 %"
        ],
        [
         "Self Made",
         "0.0 %"
        ],
        [
         "industry",
         "0.0 %"
        ],
        [
         "source",
         "0.0 %"
        ],
        [
         "country",
         "0.0 %"
        ],
        [
         "age_range",
         "0.0 %"
        ],
        [
         "rank",
         "0.0 %"
        ],
        [
         "forbes_id",
         "0.0 %"
        ],
        [
         "name",
         "0.0 %"
        ]
       ],
       "datasetInfos": [],
       "dbfsResultPath": null,
       "isJsonSchema": true,
       "metadata": {},
       "overflow": false,
       "plotOptions": {
        "customPlotOptions": {},
        "displayType": "table",
        "pivotAggregation": null,
        "pivotColumns": null,
        "xColumns": null,
        "yColumns": null
       },
       "removedWidgets": [],
       "schema": [
        {
         "metadata": "{}",
         "name": "Column",
         "type": "\"string\""
        },
        {
         "metadata": "{}",
         "name": "Null_Percentage",
         "type": "\"string\""
        }
       ],
       "type": "table"
      }
     },
     "output_type": "display_data"
    }
   ],
   "source": [
    "null_per(df).display()"
   ]
  },
  {
   "cell_type": "code",
   "execution_count": 0,
   "metadata": {
    "application/vnd.databricks.v1+cell": {
     "cellMetadata": {
      "byteLimit": 2048000,
      "rowLimit": 10000
     },
     "inputWidgets": {},
     "nuid": "55e281d3-6f56-43f1-81af-4faaf3816044",
     "showTitle": false,
     "title": ""
    }
   },
   "outputs": [
    {
     "output_type": "stream",
     "name": "stdout",
     "output_type": "stream",
     "text": [
      "['rank', 'name', 'forbes_id', 'net_worth', 'age4', 'age_range', 'country', 'source', 'industry', 'Age9', 'Source of Wealth', 'Self-Made Score', 'Philanthropy Score', 'Residence', 'Citizenship', 'Marital Status', 'Children', 'Education', 'Bachelor', 'Master', 'Doctorate', 'Drop Out', 'Self Made']\n"
     ]
    }
   ],
   "source": [
    "print(df.columns)"
   ]
  },
  {
   "cell_type": "code",
   "execution_count": 0,
   "metadata": {
    "application/vnd.databricks.v1+cell": {
     "cellMetadata": {
      "byteLimit": 2048000,
      "rowLimit": 10000
     },
     "inputWidgets": {},
     "nuid": "644c4640-9b2d-4a76-8e93-3c6e57c51690",
     "showTitle": false,
     "title": ""
    }
   },
   "outputs": [
    {
     "output_type": "display_data",
     "data": {
      "text/html": [
       "<style scoped>\n",
       "  .table-result-container {\n",
       "    max-height: 300px;\n",
       "    overflow: auto;\n",
       "  }\n",
       "  table, th, td {\n",
       "    border: 1px solid black;\n",
       "    border-collapse: collapse;\n",
       "  }\n",
       "  th, td {\n",
       "    padding: 5px;\n",
       "  }\n",
       "  th {\n",
       "    text-align: left;\n",
       "  }\n",
       "</style><div class='table-result-container'><table class='table-result'><thead style='background-color: white'><tr><th>Column</th><th>UniqueValuesCount</th></tr></thead><tbody><tr><td>Self Made</td><td>2</td></tr><tr><td>Bachelor</td><td>3</td></tr><tr><td>Drop Out</td><td>3</td></tr><tr><td>Doctorate</td><td>3</td></tr><tr><td>Master</td><td>3</td></tr><tr><td>Philanthropy Score</td><td>6</td></tr><tr><td>Marital Status</td><td>9</td></tr><tr><td>age_range</td><td>11</td></tr><tr><td>Self-Made Score</td><td>11</td></tr><tr><td>Children</td><td>16</td></tr><tr><td>industry</td><td>18</td></tr><tr><td>country</td><td>77</td></tr><tr><td>Citizenship</td><td>78</td></tr><tr><td>Age9</td><td>78</td></tr><tr><td>age4</td><td>80</td></tr><tr><td>rank</td><td>219</td></tr><tr><td>net_worth</td><td>219</td></tr><tr><td>Residence</td><td>773</td></tr><tr><td>source</td><td>905</td></tr><tr><td>Source of Wealth</td><td>1044</td></tr><tr><td>Education</td><td>1142</td></tr><tr><td>name</td><td>2638</td></tr><tr><td>forbes_id</td><td>2640</td></tr></tbody></table></div>"
      ]
     },
     "metadata": {
      "application/vnd.databricks.v1+output": {
       "addedWidgets": {},
       "aggData": [],
       "aggError": "",
       "aggOverflow": false,
       "aggSchema": [],
       "aggSeriesLimitReached": false,
       "aggType": "",
       "arguments": {},
       "columnCustomDisplayInfos": {},
       "data": [
        [
         "Self Made",
         2
        ],
        [
         "Bachelor",
         3
        ],
        [
         "Drop Out",
         3
        ],
        [
         "Doctorate",
         3
        ],
        [
         "Master",
         3
        ],
        [
         "Philanthropy Score",
         6
        ],
        [
         "Marital Status",
         9
        ],
        [
         "age_range",
         11
        ],
        [
         "Self-Made Score",
         11
        ],
        [
         "Children",
         16
        ],
        [
         "industry",
         18
        ],
        [
         "country",
         77
        ],
        [
         "Citizenship",
         78
        ],
        [
         "Age9",
         78
        ],
        [
         "age4",
         80
        ],
        [
         "rank",
         219
        ],
        [
         "net_worth",
         219
        ],
        [
         "Residence",
         773
        ],
        [
         "source",
         905
        ],
        [
         "Source of Wealth",
         1044
        ],
        [
         "Education",
         1142
        ],
        [
         "name",
         2638
        ],
        [
         "forbes_id",
         2640
        ]
       ],
       "datasetInfos": [],
       "dbfsResultPath": null,
       "isJsonSchema": true,
       "metadata": {},
       "overflow": false,
       "plotOptions": {
        "customPlotOptions": {},
        "displayType": "table",
        "pivotAggregation": null,
        "pivotColumns": null,
        "xColumns": null,
        "yColumns": null
       },
       "removedWidgets": [],
       "schema": [
        {
         "metadata": "{}",
         "name": "Column",
         "type": "\"string\""
        },
        {
         "metadata": "{}",
         "name": "UniqueValuesCount",
         "type": "\"integer\""
        }
       ],
       "type": "table"
      }
     },
     "output_type": "display_data"
    }
   ],
   "source": [
    "unique_values(df).display()"
   ]
  },
  {
   "cell_type": "code",
   "execution_count": 0,
   "metadata": {
    "application/vnd.databricks.v1+cell": {
     "cellMetadata": {
      "byteLimit": 2048000,
      "rowLimit": 10000
     },
     "inputWidgets": {},
     "nuid": "bcacabf9-868b-406b-89f2-11c047d9c245",
     "showTitle": false,
     "title": ""
    }
   },
   "outputs": [
    {
     "output_type": "display_data",
     "data": {
      "text/html": [
       "<style scoped>\n",
       "  .table-result-container {\n",
       "    max-height: 300px;\n",
       "    overflow: auto;\n",
       "  }\n",
       "  table, th, td {\n",
       "    border: 1px solid black;\n",
       "    border-collapse: collapse;\n",
       "  }\n",
       "  th, td {\n",
       "    padding: 5px;\n",
       "  }\n",
       "  th {\n",
       "    text-align: left;\n",
       "  }\n",
       "</style><div class='table-result-container'><table class='table-result'><thead style='background-color: white'><tr><th>country</th><th>Count</th></tr></thead><tbody><tr><td>United States</td><td>735</td></tr><tr><td>China</td><td>494</td></tr><tr><td>India</td><td>169</td></tr><tr><td>Germany</td><td>126</td></tr><tr><td>Russia</td><td>104</td></tr><tr><td>Hong Kong</td><td>66</td></tr><tr><td>Italy</td><td>64</td></tr><tr><td>Canada</td><td>63</td></tr><tr><td>Taiwan</td><td>52</td></tr><tr><td>United Kingdom</td><td>52</td></tr><tr><td>Brazil</td><td>51</td></tr><tr><td>Australia</td><td>47</td></tr><tr><td>France</td><td>43</td></tr><tr><td>Switzerland</td><td>41</td></tr><tr><td>Japan</td><td>40</td></tr><tr><td>Sweden</td><td>39</td></tr><tr><td>Singapore</td><td>36</td></tr><tr><td>Israel</td><td>30</td></tr><tr><td>South Korea</td><td>30</td></tr><tr><td>Indonesia</td><td>29</td></tr><tr><td>Thailand</td><td>28</td></tr><tr><td>Spain</td><td>27</td></tr><tr><td>Turkey</td><td>26</td></tr><tr><td>Malaysia</td><td>18</td></tr><tr><td>Philippines</td><td>14</td></tr><tr><td>Mexico</td><td>14</td></tr><tr><td>Norway</td><td>12</td></tr><tr><td>Netherlands</td><td>12</td></tr><tr><td>Czech Republic</td><td>11</td></tr><tr><td>Austria</td><td>11</td></tr><tr><td>Ireland</td><td>9</td></tr><tr><td>Cyprus</td><td>9</td></tr><tr><td>Denmark</td><td>8</td></tr><tr><td>Finland</td><td>7</td></tr><tr><td>Chile</td><td>7</td></tr><tr><td>Poland</td><td>7</td></tr><tr><td>Greece</td><td>6</td></tr><tr><td>Lebanon</td><td>6</td></tr><tr><td>Romania</td><td>6</td></tr><tr><td>Egypt</td><td>6</td></tr><tr><td>Kazakhstan</td><td>6</td></tr><tr><td>Vietnam</td><td>6</td></tr><tr><td>Argentina</td><td>5</td></tr><tr><td>Ukraine</td><td>5</td></tr><tr><td>South Africa</td><td>5</td></tr><tr><td>Belgium</td><td>4</td></tr><tr><td>Peru</td><td>4</td></tr><tr><td>United Arab Emirates</td><td>4</td></tr><tr><td>Colombia</td><td>4</td></tr><tr><td>Nigeria</td><td>3</td></tr><tr><td>Monaco</td><td>3</td></tr><tr><td>New Zealand</td><td>3</td></tr><tr><td>Hungary</td><td>3</td></tr><tr><td>Slovakia</td><td>2</td></tr><tr><td>Qatar</td><td>2</td></tr><tr><td>Morocco</td><td>2</td></tr><tr><td>Oman</td><td>2</td></tr><tr><td>Georgia</td><td>2</td></tr><tr><td>Bulgaria</td><td>2</td></tr><tr><td>Algeria</td><td>1</td></tr><tr><td>Macau</td><td>1</td></tr><tr><td>Guernsey</td><td>1</td></tr><tr><td>St. Kitts and Nevis</td><td>1</td></tr><tr><td>Barbados</td><td>1</td></tr><tr><td>Bangladesh</td><td>1</td></tr><tr><td>Liechtenstein</td><td>1</td></tr><tr><td>Panama</td><td>1</td></tr><tr><td>Venezuela</td><td>1</td></tr><tr><td>Iceland</td><td>1</td></tr><tr><td>Zimbabwe</td><td>1</td></tr><tr><td>Estonia</td><td>1</td></tr><tr><td>Armenia</td><td>1</td></tr><tr><td>Eswatini (Swaziland)</td><td>1</td></tr><tr><td>Belize</td><td>1</td></tr><tr><td>Tanzania</td><td>1</td></tr><tr><td>Portugal</td><td>1</td></tr><tr><td>Nepal</td><td>1</td></tr></tbody></table></div>"
      ]
     },
     "metadata": {
      "application/vnd.databricks.v1+output": {
       "addedWidgets": {},
       "aggData": [],
       "aggError": "",
       "aggOverflow": false,
       "aggSchema": [],
       "aggSeriesLimitReached": false,
       "aggType": "",
       "arguments": {},
       "columnCustomDisplayInfos": {},
       "data": [
        [
         "United States",
         735
        ],
        [
         "China",
         494
        ],
        [
         "India",
         169
        ],
        [
         "Germany",
         126
        ],
        [
         "Russia",
         104
        ],
        [
         "Hong Kong",
         66
        ],
        [
         "Italy",
         64
        ],
        [
         "Canada",
         63
        ],
        [
         "Taiwan",
         52
        ],
        [
         "United Kingdom",
         52
        ],
        [
         "Brazil",
         51
        ],
        [
         "Australia",
         47
        ],
        [
         "France",
         43
        ],
        [
         "Switzerland",
         41
        ],
        [
         "Japan",
         40
        ],
        [
         "Sweden",
         39
        ],
        [
         "Singapore",
         36
        ],
        [
         "Israel",
         30
        ],
        [
         "South Korea",
         30
        ],
        [
         "Indonesia",
         29
        ],
        [
         "Thailand",
         28
        ],
        [
         "Spain",
         27
        ],
        [
         "Turkey",
         26
        ],
        [
         "Malaysia",
         18
        ],
        [
         "Philippines",
         14
        ],
        [
         "Mexico",
         14
        ],
        [
         "Norway",
         12
        ],
        [
         "Netherlands",
         12
        ],
        [
         "Czech Republic",
         11
        ],
        [
         "Austria",
         11
        ],
        [
         "Ireland",
         9
        ],
        [
         "Cyprus",
         9
        ],
        [
         "Denmark",
         8
        ],
        [
         "Finland",
         7
        ],
        [
         "Chile",
         7
        ],
        [
         "Poland",
         7
        ],
        [
         "Greece",
         6
        ],
        [
         "Lebanon",
         6
        ],
        [
         "Romania",
         6
        ],
        [
         "Egypt",
         6
        ],
        [
         "Kazakhstan",
         6
        ],
        [
         "Vietnam",
         6
        ],
        [
         "Argentina",
         5
        ],
        [
         "Ukraine",
         5
        ],
        [
         "South Africa",
         5
        ],
        [
         "Belgium",
         4
        ],
        [
         "Peru",
         4
        ],
        [
         "United Arab Emirates",
         4
        ],
        [
         "Colombia",
         4
        ],
        [
         "Nigeria",
         3
        ],
        [
         "Monaco",
         3
        ],
        [
         "New Zealand",
         3
        ],
        [
         "Hungary",
         3
        ],
        [
         "Slovakia",
         2
        ],
        [
         "Qatar",
         2
        ],
        [
         "Morocco",
         2
        ],
        [
         "Oman",
         2
        ],
        [
         "Georgia",
         2
        ],
        [
         "Bulgaria",
         2
        ],
        [
         "Algeria",
         1
        ],
        [
         "Macau",
         1
        ],
        [
         "Guernsey",
         1
        ],
        [
         "St. Kitts and Nevis",
         1
        ],
        [
         "Barbados",
         1
        ],
        [
         "Bangladesh",
         1
        ],
        [
         "Liechtenstein",
         1
        ],
        [
         "Panama",
         1
        ],
        [
         "Venezuela",
         1
        ],
        [
         "Iceland",
         1
        ],
        [
         "Zimbabwe",
         1
        ],
        [
         "Estonia",
         1
        ],
        [
         "Armenia",
         1
        ],
        [
         "Eswatini (Swaziland)",
         1
        ],
        [
         "Belize",
         1
        ],
        [
         "Tanzania",
         1
        ],
        [
         "Portugal",
         1
        ],
        [
         "Nepal",
         1
        ]
       ],
       "datasetInfos": [],
       "dbfsResultPath": null,
       "isJsonSchema": true,
       "metadata": {},
       "overflow": false,
       "plotOptions": {
        "customPlotOptions": {},
        "displayType": "table",
        "pivotAggregation": null,
        "pivotColumns": null,
        "xColumns": null,
        "yColumns": null
       },
       "removedWidgets": [],
       "schema": [
        {
         "metadata": "{}",
         "name": "country",
         "type": "\"string\""
        },
        {
         "metadata": "{}",
         "name": "Count",
         "type": "\"long\""
        }
       ],
       "type": "table"
      }
     },
     "output_type": "display_data"
    }
   ],
   "source": [
    "count_of_unique_value(df,'country').display()"
   ]
  },
  {
   "cell_type": "code",
   "execution_count": 0,
   "metadata": {
    "application/vnd.databricks.v1+cell": {
     "cellMetadata": {
      "byteLimit": 2048000,
      "rowLimit": 10000
     },
     "inputWidgets": {},
     "nuid": "8abc994a-8bc7-407d-8da3-585dfb5fcf74",
     "showTitle": false,
     "title": ""
    }
   },
   "outputs": [
    {
     "output_type": "display_data",
     "data": {
      "text/html": [
       "<style scoped>\n",
       "  .table-result-container {\n",
       "    max-height: 300px;\n",
       "    overflow: auto;\n",
       "  }\n",
       "  table, th, td {\n",
       "    border: 1px solid black;\n",
       "    border-collapse: collapse;\n",
       "  }\n",
       "  th, td {\n",
       "    padding: 5px;\n",
       "  }\n",
       "  th {\n",
       "    text-align: left;\n",
       "  }\n",
       "</style><div class='table-result-container'><table class='table-result'><thead style='background-color: white'><tr><th>industry</th><th>Count</th></tr></thead><tbody><tr><td>Finance & Investments</td><td>372</td></tr><tr><td>Manufacturing</td><td>324</td></tr><tr><td>Technology</td><td>314</td></tr><tr><td>Fashion & Retail</td><td>266</td></tr><tr><td>Food & Beverage</td><td>212</td></tr><tr><td>Healthcare</td><td>201</td></tr><tr><td>Real Estate</td><td>193</td></tr><tr><td>Diversified</td><td>187</td></tr><tr><td>Energy</td><td>100</td></tr><tr><td>Media & Entertainment</td><td>91</td></tr><tr><td>Metals & Mining</td><td>74</td></tr><tr><td>Automotive</td><td>73</td></tr><tr><td>Service</td><td>53</td></tr><tr><td>Construction & Engineering</td><td>45</td></tr><tr><td>Logistics</td><td>40</td></tr><tr><td>Sports</td><td>39</td></tr><tr><td>Telecom</td><td>31</td></tr><tr><td>Gambling & Casinos</td><td>25</td></tr></tbody></table></div>"
      ]
     },
     "metadata": {
      "application/vnd.databricks.v1+output": {
       "addedWidgets": {},
       "aggData": [],
       "aggError": "",
       "aggOverflow": false,
       "aggSchema": [],
       "aggSeriesLimitReached": false,
       "aggType": "",
       "arguments": {},
       "columnCustomDisplayInfos": {},
       "data": [
        [
         "Finance & Investments",
         372
        ],
        [
         "Manufacturing",
         324
        ],
        [
         "Technology",
         314
        ],
        [
         "Fashion & Retail",
         266
        ],
        [
         "Food & Beverage",
         212
        ],
        [
         "Healthcare",
         201
        ],
        [
         "Real Estate",
         193
        ],
        [
         "Diversified",
         187
        ],
        [
         "Energy",
         100
        ],
        [
         "Media & Entertainment",
         91
        ],
        [
         "Metals & Mining",
         74
        ],
        [
         "Automotive",
         73
        ],
        [
         "Service",
         53
        ],
        [
         "Construction & Engineering",
         45
        ],
        [
         "Logistics",
         40
        ],
        [
         "Sports",
         39
        ],
        [
         "Telecom",
         31
        ],
        [
         "Gambling & Casinos",
         25
        ]
       ],
       "datasetInfos": [],
       "dbfsResultPath": null,
       "isJsonSchema": true,
       "metadata": {},
       "overflow": false,
       "plotOptions": {
        "customPlotOptions": {},
        "displayType": "table",
        "pivotAggregation": null,
        "pivotColumns": null,
        "xColumns": null,
        "yColumns": null
       },
       "removedWidgets": [],
       "schema": [
        {
         "metadata": "{}",
         "name": "industry",
         "type": "\"string\""
        },
        {
         "metadata": "{}",
         "name": "Count",
         "type": "\"long\""
        }
       ],
       "type": "table"
      }
     },
     "output_type": "display_data"
    }
   ],
   "source": [
    "count_of_unique_value(df,'industry').display()"
   ]
  },
  {
   "cell_type": "code",
   "execution_count": 0,
   "metadata": {
    "application/vnd.databricks.v1+cell": {
     "cellMetadata": {
      "byteLimit": 2048000,
      "rowLimit": 10000
     },
     "inputWidgets": {},
     "nuid": "5f2d3e99-042e-4db5-8e2b-937f62621622",
     "showTitle": false,
     "title": ""
    }
   },
   "outputs": [],
   "source": [
    "df_1=read_file('csv',\"dbfs:/FileStore/tables/sample_data_for_data_profiling.csv\",header=True)"
   ]
  },
  {
   "cell_type": "code",
   "execution_count": 0,
   "metadata": {
    "application/vnd.databricks.v1+cell": {
     "cellMetadata": {
      "byteLimit": 2048000,
      "rowLimit": 10000
     },
     "inputWidgets": {},
     "nuid": "edfcebd2-e22e-4eec-911f-af375b119607",
     "showTitle": false,
     "title": ""
    }
   },
   "outputs": [
    {
     "output_type": "display_data",
     "data": {
      "text/html": [
       "<style scoped>\n",
       "  .table-result-container {\n",
       "    max-height: 300px;\n",
       "    overflow: auto;\n",
       "  }\n",
       "  table, th, td {\n",
       "    border: 1px solid black;\n",
       "    border-collapse: collapse;\n",
       "  }\n",
       "  th, td {\n",
       "    padding: 5px;\n",
       "  }\n",
       "  th {\n",
       "    text-align: left;\n",
       "  }\n",
       "</style><div class='table-result-container'><table class='table-result'><thead style='background-color: white'><tr><th>id</th><th>first_name</th><th>last_name</th><th>gender</th><th>age</th><th>education</th><th>occupation</th><th>income</th><th>street_address</th><th>city</th><th>state</th></tr></thead><tbody><tr><td>1</td><td>Madaline</td><td>Murphy</td><td>female</td><td>24</td><td>Doctoral</td><td>Botanist</td><td>116989</td><td>384-7572 Risus Ave</td><td>New York City</td><td>New York</td></tr><tr><td>2</td><td>Kristian</td><td>Stewart</td><td>Male</td><td>24</td><td>Upper secondary</td><td>Salesman</td><td>45736</td><td>Ap #139-5202 Donec Ave</td><td>Los Angeles</td><td>null</td></tr><tr><td>3</td><td>Aston</td><td>Baker</td><td>Male</td><td>18</td><td>Master</td><td>Photographer</td><td>185036</td><td>Ap #536-5718 Orci Rd.</td><td>Chicago</td><td>Illinois</td></tr><tr><td>4</td><td>Brooke</td><td>Holmes</td><td>Female</td><td>30</td><td>Primary</td><td>Social Worker</td><td>66673</td><td>P.O. Box 961, 1525 Eu Rd.</td><td>Houston</td><td>Texas</td></tr><tr><td>5</td><td>Jenna</td><td>Crawford</td><td>Female</td><td>28</td><td>Doctoral</td><td>Actor</td><td>93689</td><td>P.O. Box 940, 7197 Cursus, St.</td><td>Phoenix</td><td>null</td></tr><tr><td>6</td><td>Dale</td><td>Williams</td><td>Male</td><td>24</td><td>Primary</td><td>Dancer</td><td>183076</td><td>P.O. Box 351, 3083 Nulla Ave</td><td>null</td><td>Pennsylvania</td></tr><tr><td>7</td><td>Garry</td><td>Hall</td><td>Male</td><td>20</td><td>Master</td><td>Actor</td><td>75410</td><td>P.O. Box 659, 6221 Ligula. Road</td><td>San Antonio</td><td>Texas</td></tr><tr><td>8</td><td>Darcy</td><td>Barnes</td><td>Female</td><td>30</td><td>Doctoral</td><td>Lawer</td><td>155934</td><td>P.O. Box 375, 3299 Velit. Av.</td><td>San Diego</td><td>California</td></tr><tr><td>9</td><td>Reid</td><td>Sullivan</td><td>Male</td><td>22</td><td>Master</td><td>Astronomer</td><td>55463</td><td>P.O. Box 351, 860 A, Rd.</td><td>Dallas</td><td>Texas</td></tr><tr><td>10</td><td>Daniel</td><td>Bailey</td><td>Male</td><td>null</td><td>Master</td><td>Singer</td><td>122878</td><td>5847 Eget Av.</td><td>Austin</td><td>Texas</td></tr><tr><td>11</td><td>Mike</td><td>Stevens</td><td>Male</td><td>30</td><td>Master</td><td>Singer</td><td>156289</td><td>Ap #699-3513 Vitae Rd.</td><td>San Jose</td><td>California</td></tr><tr><td>12</td><td>Lucas</td><td>Spencer</td><td>Male</td><td>26</td><td>Upper secondary</td><td>Graphic Designer</td><td>74585</td><td>7496 Turpis. Av.</td><td>Fort Worth</td><td>Texas</td></tr><tr><td>13</td><td>Freddie</td><td>Ross</td><td>Male</td><td>155</td><td>Master</td><td>Composer</td><td>145756</td><td>8218 Faucibus Rd.</td><td>Jacksonville</td><td>Florida</td></tr><tr><td>14</td><td>Ned</td><td>Fowler</td><td>Male</td><td>24</td><td>Lower secondary</td><td>Driver</td><td>46787</td><td>9103 Ligula Ave</td><td>Columbus</td><td>Ohio</td></tr><tr><td>15</td><td>Eddy</td><td>Russell</td><td>Male</td><td>27</td><td>Upper secondary</td><td>Singer</td><td>100969</td><td>P.O. Box 594, 9775 Sociis Road</td><td>Charlotte</td><td>North Carolina</td></tr><tr><td>16</td><td>Justin</td><td>Jones</td><td>Male</td><td>null</td><td>Bachelor</td><td>Hairdresser</td><td>62392</td><td>P.O. Box 730, 1621 Imperdiet, Rd.</td><td>null</td><td>Indiana</td></tr><tr><td>17</td><td>Sawyer</td><td>Harrison</td><td>Male</td><td>30</td><td>Primary</td><td>Firefighter</td><td>40433</td><td>P.O. Box 674, 1789 Non, Ave</td><td>San Francisco</td><td>California</td></tr><tr><td>18</td><td>Nicole</td><td>Hunt</td><td>Female</td><td>-21</td><td>Bachelor</td><td>Police Officer</td><td>199284</td><td>P.O. Box 431, 192 Egestas. Rd.</td><td>null</td><td>Washington</td></tr><tr><td>19</td><td>Eric</td><td>Parker</td><td>Male</td><td>30</td><td>Lower secondary</td><td>Lawer</td><td>76530</td><td>3296 Posuere Ave</td><td>Denver</td><td>Colorado</td></tr><tr><td>20</td><td>Paige</td><td>Phillips</td><td>Female</td><td>null</td><td>Master</td><td>Biochemist</td><td>165108</td><td>7290 Est Road</td><td>null</td><td>District of Columbia</td></tr><tr><td>21</td><td>Adam</td><td>Carroll</td><td>Male</td><td>null</td><td>Doctoral</td><td>Social Worker</td><td>145042</td><td>6085 Magna. Rd.</td><td>Boston</td><td>Massachusetts</td></tr><tr><td>22</td><td>James</td><td>Elliott</td><td>Male</td><td>27</td><td>Bachelor</td><td>Historian</td><td>167677</td><td>361-6768 Adipiscing Avenue</td><td>El Paso</td><td>Texas</td></tr><tr><td>23</td><td>Michelle</td><td>Cooper</td><td>Female</td><td>null</td><td>Primary</td><td>Aeroplane Pilot</td><td>140206</td><td>259-8538 Tempor Avenue</td><td>Nashville</td><td>Tennessee</td></tr><tr><td>24</td><td>Byron</td><td>Riley</td><td>Male</td><td>25</td><td>Doctoral</td><td>Police Officer</td><td>74346</td><td>7175 Nunc Road</td><td>Oklahoma City</td><td>Oklahoma</td></tr><tr><td>25</td><td>Rubie</td><td>Evans</td><td>Female</td><td>28</td><td>Primary</td><td>Florist</td><td>169560</td><td>P.O. Box 775, 1414 Quis Rd.</td><td>Las Vegas</td><td>Nevada</td></tr><tr><td>26</td><td>Chloe</td><td>Howard</td><td>Female</td><td>28</td><td>Doctoral</td><td>Astronomer</td><td>163858</td><td>Ap #873-1487 Parturient Road</td><td>null</td><td>Michigan</td></tr><tr><td>27</td><td>Alisa</td><td>Brooks</td><td>Unknown</td><td>25</td><td>Bachelor</td><td>Lawer</td><td>110104</td><td>7916 Et, St.</td><td>Portland</td><td>Oregon</td></tr><tr><td>28</td><td>Owen</td><td>Hall</td><td>Male</td><td>18</td><td>Master</td><td>Accountant</td><td>147553</td><td>Ap #438-2248 Diam St.</td><td>Memphis</td><td>Tennessee</td></tr><tr><td>29</td><td>Luke</td><td>Taylor</td><td>Male</td><td>19</td><td>Bachelor</td><td>Astronomer</td><td>120829</td><td>P.O. Box 121, 8746 Imperdiet Rd.</td><td>Louisville</td><td>Kentucky</td></tr><tr><td>30</td><td>Brianna</td><td>Wright</td><td>Female</td><td>28</td><td>Primary</td><td>Social Worker</td><td>177048</td><td>989-5816 Amet, Rd.</td><td>Milwaukee</td><td>Wisconsin</td></tr><tr><td>31</td><td>Kirsten</td><td>Kelley</td><td>Female</td><td>null</td><td>Upper secondary</td><td>Fine Artist</td><td>88530</td><td>P.O. Box 584, 866 Fermentum Av.</td><td>Baltimore</td><td>Maryland</td></tr><tr><td>32</td><td>Harold</td><td>Murray</td><td>Male</td><td>-18</td><td>Master</td><td>Interior Designer</td><td>179757</td><td>585-1461 Luctus Av.</td><td>null</td><td>New Mexico</td></tr><tr><td>33</td><td>John</td><td>Carter</td><td>Male</td><td>23</td><td>Doctoral</td><td>Historian</td><td>87568</td><td>891-8180 Lorem Rd.</td><td>Tucson</td><td>Arizona</td></tr><tr><td>34</td><td>Isabella</td><td>Cole</td><td>Female</td><td>29</td><td>Lower secondary</td><td>Baker</td><td>94434</td><td>P.O. Box 988, 2100 Dui, Avenue</td><td>Mesa</td><td>Arizona</td></tr><tr><td>35</td><td>Patrick</td><td>Riley</td><td>Unknown</td><td>null</td><td>Doctoral</td><td>Geologist</td><td>44996</td><td>P.O. Box 589, 2453 Cursus. Street</td><td>Fresno</td><td>California</td></tr><tr><td>36</td><td>Ted</td><td>Mason</td><td>Male</td><td>20</td><td>Doctoral</td><td>Meteorologist</td><td>74317</td><td>830-6992 Donec Avenue</td><td>Sacramento</td><td>California</td></tr><tr><td>37</td><td>Byron</td><td>Hunt</td><td>Male</td><td>27</td><td>Doctoral</td><td>Auditor</td><td>177725</td><td>4716 Ipsum Avenue</td><td>Atlanta</td><td>Georgia</td></tr><tr><td>38</td><td>Mike</td><td>Harper</td><td>Male</td><td>18</td><td>Master</td><td>Lawer</td><td>150491</td><td>Ap #311-9612 Phasellus Avenue</td><td>Kansas City</td><td>Missouri</td></tr><tr><td>39</td><td>Amanda</td><td>Payne</td><td>Female</td><td>24</td><td>Doctoral</td><td>Interpreter</td><td>135604</td><td>Ap #835-1398 Dolor. Street</td><td>Colorado Springs</td><td>Colorado</td></tr><tr><td>40</td><td>Alberta</td><td>Morris</td><td>Female</td><td>null</td><td>Master</td><td>Dancer</td><td>83600</td><td>2121 Sollicitudin Rd.</td><td>null</td><td>North Carolina</td></tr></tbody></table></div>"
      ]
     },
     "metadata": {
      "application/vnd.databricks.v1+output": {
       "addedWidgets": {},
       "aggData": [],
       "aggError": "",
       "aggOverflow": false,
       "aggSchema": [],
       "aggSeriesLimitReached": false,
       "aggType": "",
       "arguments": {},
       "columnCustomDisplayInfos": {},
       "data": [
        [
         "1",
         "Madaline",
         "Murphy",
         "female",
         "24",
         "Doctoral",
         "Botanist",
         "116989",
         "384-7572 Risus Ave",
         "New York City",
         "New York"
        ],
        [
         "2",
         "Kristian",
         "Stewart",
         "Male",
         "24",
         "Upper secondary",
         "Salesman",
         "45736",
         "Ap #139-5202 Donec Ave",
         "Los Angeles",
         null
        ],
        [
         "3",
         "Aston",
         "Baker",
         "Male",
         "18",
         "Master",
         "Photographer",
         "185036",
         "Ap #536-5718 Orci Rd.",
         "Chicago",
         "Illinois"
        ],
        [
         "4",
         "Brooke",
         "Holmes",
         "Female",
         "30",
         "Primary",
         "Social Worker",
         "66673",
         "P.O. Box 961, 1525 Eu Rd.",
         "Houston",
         "Texas"
        ],
        [
         "5",
         "Jenna",
         "Crawford",
         "Female",
         "28",
         "Doctoral",
         "Actor",
         "93689",
         "P.O. Box 940, 7197 Cursus, St.",
         "Phoenix",
         null
        ],
        [
         "6",
         "Dale",
         "Williams",
         "Male",
         "24",
         "Primary",
         "Dancer",
         "183076",
         "P.O. Box 351, 3083 Nulla Ave",
         null,
         "Pennsylvania"
        ],
        [
         "7",
         "Garry",
         "Hall",
         "Male",
         "20",
         "Master",
         "Actor",
         "75410",
         "P.O. Box 659, 6221 Ligula. Road",
         "San Antonio",
         "Texas"
        ],
        [
         "8",
         "Darcy",
         "Barnes",
         "Female",
         "30",
         "Doctoral",
         "Lawer",
         "155934",
         "P.O. Box 375, 3299 Velit. Av.",
         "San Diego",
         "California"
        ],
        [
         "9",
         "Reid",
         "Sullivan",
         "Male",
         "22",
         "Master",
         "Astronomer",
         "55463",
         "P.O. Box 351, 860 A, Rd.",
         "Dallas",
         "Texas"
        ],
        [
         "10",
         "Daniel",
         "Bailey",
         "Male",
         null,
         "Master",
         "Singer",
         "122878",
         "5847 Eget Av.",
         "Austin",
         "Texas"
        ],
        [
         "11",
         "Mike",
         "Stevens",
         "Male",
         "30",
         "Master",
         "Singer",
         "156289",
         "Ap #699-3513 Vitae Rd.",
         "San Jose",
         "California"
        ],
        [
         "12",
         "Lucas",
         "Spencer",
         "Male",
         "26",
         "Upper secondary",
         "Graphic Designer",
         "74585",
         "7496 Turpis. Av.",
         "Fort Worth",
         "Texas"
        ],
        [
         "13",
         "Freddie",
         "Ross",
         "Male",
         "155",
         "Master",
         "Composer",
         "145756",
         "8218 Faucibus Rd.",
         "Jacksonville",
         "Florida"
        ],
        [
         "14",
         "Ned",
         "Fowler",
         "Male",
         "24",
         "Lower secondary",
         "Driver",
         "46787",
         "9103 Ligula Ave",
         "Columbus",
         "Ohio"
        ],
        [
         "15",
         "Eddy",
         "Russell",
         "Male",
         "27",
         "Upper secondary",
         "Singer",
         "100969",
         "P.O. Box 594, 9775 Sociis Road",
         "Charlotte",
         "North Carolina"
        ],
        [
         "16",
         "Justin",
         "Jones",
         "Male",
         null,
         "Bachelor",
         "Hairdresser",
         "62392",
         "P.O. Box 730, 1621 Imperdiet, Rd.",
         null,
         "Indiana"
        ],
        [
         "17",
         "Sawyer",
         "Harrison",
         "Male",
         "30",
         "Primary",
         "Firefighter",
         "40433",
         "P.O. Box 674, 1789 Non, Ave",
         "San Francisco",
         "California"
        ],
        [
         "18",
         "Nicole",
         "Hunt",
         "Female",
         "-21",
         "Bachelor",
         "Police Officer",
         "199284",
         "P.O. Box 431, 192 Egestas. Rd.",
         null,
         "Washington"
        ],
        [
         "19",
         "Eric",
         "Parker",
         "Male",
         "30",
         "Lower secondary",
         "Lawer",
         "76530",
         "3296 Posuere Ave",
         "Denver",
         "Colorado"
        ],
        [
         "20",
         "Paige",
         "Phillips",
         "Female",
         null,
         "Master",
         "Biochemist",
         "165108",
         "7290 Est Road",
         null,
         "District of Columbia"
        ],
        [
         "21",
         "Adam",
         "Carroll",
         "Male",
         null,
         "Doctoral",
         "Social Worker",
         "145042",
         "6085 Magna. Rd.",
         "Boston",
         "Massachusetts"
        ],
        [
         "22",
         "James",
         "Elliott",
         "Male",
         "27",
         "Bachelor",
         "Historian",
         "167677",
         "361-6768 Adipiscing Avenue",
         "El Paso",
         "Texas"
        ],
        [
         "23",
         "Michelle",
         "Cooper",
         "Female",
         null,
         "Primary",
         "Aeroplane Pilot",
         "140206",
         "259-8538 Tempor Avenue",
         "Nashville",
         "Tennessee"
        ],
        [
         "24",
         "Byron",
         "Riley",
         "Male",
         "25",
         "Doctoral",
         "Police Officer",
         "74346",
         "7175 Nunc Road",
         "Oklahoma City",
         "Oklahoma"
        ],
        [
         "25",
         "Rubie",
         "Evans",
         "Female",
         "28",
         "Primary",
         "Florist",
         "169560",
         "P.O. Box 775, 1414 Quis Rd.",
         "Las Vegas",
         "Nevada"
        ],
        [
         "26",
         "Chloe",
         "Howard",
         "Female",
         "28",
         "Doctoral",
         "Astronomer",
         "163858",
         "Ap #873-1487 Parturient Road",
         null,
         "Michigan"
        ],
        [
         "27",
         "Alisa",
         "Brooks",
         "Unknown",
         "25",
         "Bachelor",
         "Lawer",
         "110104",
         "7916 Et, St.",
         "Portland",
         "Oregon"
        ],
        [
         "28",
         "Owen",
         "Hall",
         "Male",
         "18",
         "Master",
         "Accountant",
         "147553",
         "Ap #438-2248 Diam St.",
         "Memphis",
         "Tennessee"
        ],
        [
         "29",
         "Luke",
         "Taylor",
         "Male",
         "19",
         "Bachelor",
         "Astronomer",
         "120829",
         "P.O. Box 121, 8746 Imperdiet Rd.",
         "Louisville",
         "Kentucky"
        ],
        [
         "30",
         "Brianna",
         "Wright",
         "Female",
         "28",
         "Primary",
         "Social Worker",
         "177048",
         "989-5816 Amet, Rd.",
         "Milwaukee",
         "Wisconsin"
        ],
        [
         "31",
         "Kirsten",
         "Kelley",
         "Female",
         null,
         "Upper secondary",
         "Fine Artist",
         "88530",
         "P.O. Box 584, 866 Fermentum Av.",
         "Baltimore",
         "Maryland"
        ],
        [
         "32",
         "Harold",
         "Murray",
         "Male",
         "-18",
         "Master",
         "Interior Designer",
         "179757",
         "585-1461 Luctus Av.",
         null,
         "New Mexico"
        ],
        [
         "33",
         "John",
         "Carter",
         "Male",
         "23",
         "Doctoral",
         "Historian",
         "87568",
         "891-8180 Lorem Rd.",
         "Tucson",
         "Arizona"
        ],
        [
         "34",
         "Isabella",
         "Cole",
         "Female",
         "29",
         "Lower secondary",
         "Baker",
         "94434",
         "P.O. Box 988, 2100 Dui, Avenue",
         "Mesa",
         "Arizona"
        ],
        [
         "35",
         "Patrick",
         "Riley",
         "Unknown",
         null,
         "Doctoral",
         "Geologist",
         "44996",
         "P.O. Box 589, 2453 Cursus. Street",
         "Fresno",
         "California"
        ],
        [
         "36",
         "Ted",
         "Mason",
         "Male",
         "20",
         "Doctoral",
         "Meteorologist",
         "74317",
         "830-6992 Donec Avenue",
         "Sacramento",
         "California"
        ],
        [
         "37",
         "Byron",
         "Hunt",
         "Male",
         "27",
         "Doctoral",
         "Auditor",
         "177725",
         "4716 Ipsum Avenue",
         "Atlanta",
         "Georgia"
        ],
        [
         "38",
         "Mike",
         "Harper",
         "Male",
         "18",
         "Master",
         "Lawer",
         "150491",
         "Ap #311-9612 Phasellus Avenue",
         "Kansas City",
         "Missouri"
        ],
        [
         "39",
         "Amanda",
         "Payne",
         "Female",
         "24",
         "Doctoral",
         "Interpreter",
         "135604",
         "Ap #835-1398 Dolor. Street",
         "Colorado Springs",
         "Colorado"
        ],
        [
         "40",
         "Alberta",
         "Morris",
         "Female",
         null,
         "Master",
         "Dancer",
         "83600",
         "2121 Sollicitudin Rd.",
         null,
         "North Carolina"
        ]
       ],
       "datasetInfos": [],
       "dbfsResultPath": null,
       "isJsonSchema": true,
       "metadata": {},
       "overflow": false,
       "plotOptions": {
        "customPlotOptions": {},
        "displayType": "table",
        "pivotAggregation": null,
        "pivotColumns": null,
        "xColumns": null,
        "yColumns": null
       },
       "removedWidgets": [],
       "schema": [
        {
         "metadata": "{}",
         "name": "id",
         "type": "\"string\""
        },
        {
         "metadata": "{}",
         "name": "first_name",
         "type": "\"string\""
        },
        {
         "metadata": "{}",
         "name": "last_name",
         "type": "\"string\""
        },
        {
         "metadata": "{}",
         "name": "gender",
         "type": "\"string\""
        },
        {
         "metadata": "{}",
         "name": "age",
         "type": "\"string\""
        },
        {
         "metadata": "{}",
         "name": "education",
         "type": "\"string\""
        },
        {
         "metadata": "{}",
         "name": "occupation",
         "type": "\"string\""
        },
        {
         "metadata": "{}",
         "name": "income",
         "type": "\"string\""
        },
        {
         "metadata": "{}",
         "name": "street_address",
         "type": "\"string\""
        },
        {
         "metadata": "{}",
         "name": "city",
         "type": "\"string\""
        },
        {
         "metadata": "{}",
         "name": "state",
         "type": "\"string\""
        }
       ],
       "type": "table"
      }
     },
     "output_type": "display_data"
    }
   ],
   "source": [
    "df_1.display()"
   ]
  },
  {
   "cell_type": "code",
   "execution_count": 0,
   "metadata": {
    "application/vnd.databricks.v1+cell": {
     "cellMetadata": {
      "byteLimit": 2048000,
      "rowLimit": 10000
     },
     "inputWidgets": {},
     "nuid": "50297505-697a-41e5-bc95-414f53faa67d",
     "showTitle": false,
     "title": ""
    }
   },
   "outputs": [
    {
     "output_type": "display_data",
     "data": {
      "text/html": [
       "<style scoped>\n",
       "  .table-result-container {\n",
       "    max-height: 300px;\n",
       "    overflow: auto;\n",
       "  }\n",
       "  table, th, td {\n",
       "    border: 1px solid black;\n",
       "    border-collapse: collapse;\n",
       "  }\n",
       "  th, td {\n",
       "    padding: 5px;\n",
       "  }\n",
       "  th {\n",
       "    text-align: left;\n",
       "  }\n",
       "</style><div class='table-result-container'><table class='table-result'><thead style='background-color: white'><tr><th>summary</th><th>id</th><th>first_name</th><th>last_name</th><th>gender</th><th>age</th><th>education</th><th>occupation</th><th>income</th><th>street_address</th><th>city</th><th>state</th></tr></thead><tbody><tr><td>count</td><td>40</td><td>40</td><td>40</td><td>40</td><td>32</td><td>40</td><td>40</td><td>40</td><td>40</td><td>33</td><td>38</td></tr><tr><td>mean</td><td>20.5</td><td>null</td><td>null</td><td>null</td><td>26.3125</td><td>null</td><td>null</td><td>117556.55</td><td>null</td><td>null</td><td>null</td></tr><tr><td>stddev</td><td>11.69045194450012</td><td>null</td><td>null</td><td>null</td><td>26.182285934849023</td><td>null</td><td>null</td><td>47448.1794122377</td><td>null</td><td>null</td><td>null</td></tr><tr><td>min</td><td>1</td><td>Adam</td><td>Bailey</td><td>Female</td><td>-18</td><td>Bachelor</td><td>Accountant</td><td>100969</td><td>2121 Sollicitudin Rd.</td><td>Atlanta</td><td>Arizona</td></tr><tr><td>25%</td><td>10.0</td><td>null</td><td>null</td><td>null</td><td>20.0</td><td>null</td><td>null</td><td>74585.0</td><td>null</td><td>null</td><td>null</td></tr><tr><td>50%</td><td>20.0</td><td>null</td><td>null</td><td>null</td><td>25.0</td><td>null</td><td>null</td><td>116989.0</td><td>null</td><td>null</td><td>null</td></tr><tr><td>75%</td><td>30.0</td><td>null</td><td>null</td><td>null</td><td>28.0</td><td>null</td><td>null</td><td>156289.0</td><td>null</td><td>null</td><td>null</td></tr><tr><td>max</td><td>9</td><td>Ted</td><td>Wright</td><td>female</td><td>30</td><td>Upper secondary</td><td>Social Worker</td><td>94434</td><td>P.O. Box 988, 2100 Dui, Avenue</td><td>Tucson</td><td>Wisconsin</td></tr></tbody></table></div>"
      ]
     },
     "metadata": {
      "application/vnd.databricks.v1+output": {
       "addedWidgets": {},
       "aggData": [],
       "aggError": "",
       "aggOverflow": false,
       "aggSchema": [],
       "aggSeriesLimitReached": false,
       "aggType": "",
       "arguments": {},
       "columnCustomDisplayInfos": {},
       "data": [
        [
         "count",
         "40",
         "40",
         "40",
         "40",
         "32",
         "40",
         "40",
         "40",
         "40",
         "33",
         "38"
        ],
        [
         "mean",
         "20.5",
         null,
         null,
         null,
         "26.3125",
         null,
         null,
         "117556.55",
         null,
         null,
         null
        ],
        [
         "stddev",
         "11.69045194450012",
         null,
         null,
         null,
         "26.182285934849023",
         null,
         null,
         "47448.1794122377",
         null,
         null,
         null
        ],
        [
         "min",
         "1",
         "Adam",
         "Bailey",
         "Female",
         "-18",
         "Bachelor",
         "Accountant",
         "100969",
         "2121 Sollicitudin Rd.",
         "Atlanta",
         "Arizona"
        ],
        [
         "25%",
         "10.0",
         null,
         null,
         null,
         "20.0",
         null,
         null,
         "74585.0",
         null,
         null,
         null
        ],
        [
         "50%",
         "20.0",
         null,
         null,
         null,
         "25.0",
         null,
         null,
         "116989.0",
         null,
         null,
         null
        ],
        [
         "75%",
         "30.0",
         null,
         null,
         null,
         "28.0",
         null,
         null,
         "156289.0",
         null,
         null,
         null
        ],
        [
         "max",
         "9",
         "Ted",
         "Wright",
         "female",
         "30",
         "Upper secondary",
         "Social Worker",
         "94434",
         "P.O. Box 988, 2100 Dui, Avenue",
         "Tucson",
         "Wisconsin"
        ]
       ],
       "datasetInfos": [],
       "dbfsResultPath": null,
       "isJsonSchema": true,
       "metadata": {},
       "overflow": false,
       "plotOptions": {
        "customPlotOptions": {},
        "displayType": "table",
        "pivotAggregation": null,
        "pivotColumns": null,
        "xColumns": null,
        "yColumns": null
       },
       "removedWidgets": [],
       "schema": [
        {
         "metadata": "{}",
         "name": "summary",
         "type": "\"string\""
        },
        {
         "metadata": "{}",
         "name": "id",
         "type": "\"string\""
        },
        {
         "metadata": "{}",
         "name": "first_name",
         "type": "\"string\""
        },
        {
         "metadata": "{}",
         "name": "last_name",
         "type": "\"string\""
        },
        {
         "metadata": "{}",
         "name": "gender",
         "type": "\"string\""
        },
        {
         "metadata": "{}",
         "name": "age",
         "type": "\"string\""
        },
        {
         "metadata": "{}",
         "name": "education",
         "type": "\"string\""
        },
        {
         "metadata": "{}",
         "name": "occupation",
         "type": "\"string\""
        },
        {
         "metadata": "{}",
         "name": "income",
         "type": "\"string\""
        },
        {
         "metadata": "{}",
         "name": "street_address",
         "type": "\"string\""
        },
        {
         "metadata": "{}",
         "name": "city",
         "type": "\"string\""
        },
        {
         "metadata": "{}",
         "name": "state",
         "type": "\"string\""
        }
       ],
       "type": "table"
      }
     },
     "output_type": "display_data"
    }
   ],
   "source": [
    "summary_df(df_1).display()"
   ]
  },
  {
   "cell_type": "code",
   "execution_count": 0,
   "metadata": {
    "application/vnd.databricks.v1+cell": {
     "cellMetadata": {
      "byteLimit": 2048000,
      "rowLimit": 10000
     },
     "inputWidgets": {},
     "nuid": "20c77045-e982-4b53-87b1-4700b2ba8e00",
     "showTitle": false,
     "title": ""
    }
   },
   "outputs": [
    {
     "output_type": "display_data",
     "data": {
      "text/html": [
       "<style scoped>\n",
       "  .table-result-container {\n",
       "    max-height: 300px;\n",
       "    overflow: auto;\n",
       "  }\n",
       "  table, th, td {\n",
       "    border: 1px solid black;\n",
       "    border-collapse: collapse;\n",
       "  }\n",
       "  th, td {\n",
       "    padding: 5px;\n",
       "  }\n",
       "  th {\n",
       "    text-align: left;\n",
       "  }\n",
       "</style><div class='table-result-container'><table class='table-result'><thead style='background-color: white'><tr><th>Column</th><th>Null_Percentage</th></tr></thead><tbody><tr><td>state</td><td>5.0 %</td></tr><tr><td>age</td><td>20.0 %</td></tr><tr><td>city</td><td>17.5 %</td></tr><tr><td>street_address</td><td>0.0 %</td></tr><tr><td>income</td><td>0.0 %</td></tr><tr><td>occupation</td><td>0.0 %</td></tr><tr><td>education</td><td>0.0 %</td></tr><tr><td>id</td><td>0.0 %</td></tr><tr><td>gender</td><td>0.0 %</td></tr><tr><td>last_name</td><td>0.0 %</td></tr><tr><td>first_name</td><td>0.0 %</td></tr></tbody></table></div>"
      ]
     },
     "metadata": {
      "application/vnd.databricks.v1+output": {
       "addedWidgets": {},
       "aggData": [],
       "aggError": "",
       "aggOverflow": false,
       "aggSchema": [],
       "aggSeriesLimitReached": false,
       "aggType": "",
       "arguments": {},
       "columnCustomDisplayInfos": {},
       "data": [
        [
         "state",
         "5.0 %"
        ],
        [
         "age",
         "20.0 %"
        ],
        [
         "city",
         "17.5 %"
        ],
        [
         "street_address",
         "0.0 %"
        ],
        [
         "income",
         "0.0 %"
        ],
        [
         "occupation",
         "0.0 %"
        ],
        [
         "education",
         "0.0 %"
        ],
        [
         "id",
         "0.0 %"
        ],
        [
         "gender",
         "0.0 %"
        ],
        [
         "last_name",
         "0.0 %"
        ],
        [
         "first_name",
         "0.0 %"
        ]
       ],
       "datasetInfos": [],
       "dbfsResultPath": null,
       "isJsonSchema": true,
       "metadata": {},
       "overflow": false,
       "plotOptions": {
        "customPlotOptions": {},
        "displayType": "table",
        "pivotAggregation": null,
        "pivotColumns": null,
        "xColumns": null,
        "yColumns": null
       },
       "removedWidgets": [],
       "schema": [
        {
         "metadata": "{}",
         "name": "Column",
         "type": "\"string\""
        },
        {
         "metadata": "{}",
         "name": "Null_Percentage",
         "type": "\"string\""
        }
       ],
       "type": "table"
      }
     },
     "output_type": "display_data"
    }
   ],
   "source": [
    "null_per(df_1).display()\n"
   ]
  },
  {
   "cell_type": "code",
   "execution_count": 0,
   "metadata": {
    "application/vnd.databricks.v1+cell": {
     "cellMetadata": {
      "byteLimit": 2048000,
      "rowLimit": 10000
     },
     "inputWidgets": {},
     "nuid": "66963628-28f3-48f8-95fc-660affd73936",
     "showTitle": false,
     "title": ""
    }
   },
   "outputs": [
    {
     "output_type": "display_data",
     "data": {
      "text/html": [
       "<style scoped>\n",
       "  .table-result-container {\n",
       "    max-height: 300px;\n",
       "    overflow: auto;\n",
       "  }\n",
       "  table, th, td {\n",
       "    border: 1px solid black;\n",
       "    border-collapse: collapse;\n",
       "  }\n",
       "  th, td {\n",
       "    padding: 5px;\n",
       "  }\n",
       "  th {\n",
       "    text-align: left;\n",
       "  }\n",
       "</style><div class='table-result-container'><table class='table-result'><thead style='background-color: white'><tr><th>Column</th><th>UniqueValuesCount</th></tr></thead><tbody><tr><td>gender</td><td>4</td></tr><tr><td>education</td><td>6</td></tr><tr><td>age</td><td>16</td></tr><tr><td>state</td><td>26</td></tr><tr><td>occupation</td><td>27</td></tr><tr><td>city</td><td>34</td></tr><tr><td>last_name</td><td>37</td></tr><tr><td>first_name</td><td>38</td></tr><tr><td>street_address</td><td>40</td></tr><tr><td>income</td><td>40</td></tr><tr><td>id</td><td>40</td></tr></tbody></table></div>"
      ]
     },
     "metadata": {
      "application/vnd.databricks.v1+output": {
       "addedWidgets": {},
       "aggData": [],
       "aggError": "",
       "aggOverflow": false,
       "aggSchema": [],
       "aggSeriesLimitReached": false,
       "aggType": "",
       "arguments": {},
       "columnCustomDisplayInfos": {},
       "data": [
        [
         "gender",
         4
        ],
        [
         "education",
         6
        ],
        [
         "age",
         16
        ],
        [
         "state",
         26
        ],
        [
         "occupation",
         27
        ],
        [
         "city",
         34
        ],
        [
         "last_name",
         37
        ],
        [
         "first_name",
         38
        ],
        [
         "street_address",
         40
        ],
        [
         "income",
         40
        ],
        [
         "id",
         40
        ]
       ],
       "datasetInfos": [],
       "dbfsResultPath": null,
       "isJsonSchema": true,
       "metadata": {},
       "overflow": false,
       "plotOptions": {
        "customPlotOptions": {},
        "displayType": "table",
        "pivotAggregation": null,
        "pivotColumns": null,
        "xColumns": null,
        "yColumns": null
       },
       "removedWidgets": [],
       "schema": [
        {
         "metadata": "{}",
         "name": "Column",
         "type": "\"string\""
        },
        {
         "metadata": "{}",
         "name": "UniqueValuesCount",
         "type": "\"integer\""
        }
       ],
       "type": "table"
      }
     },
     "output_type": "display_data"
    }
   ],
   "source": [
    "unique_values(df_1).display()\n"
   ]
  },
  {
   "cell_type": "code",
   "execution_count": 0,
   "metadata": {
    "application/vnd.databricks.v1+cell": {
     "cellMetadata": {
      "byteLimit": 2048000,
      "rowLimit": 10000
     },
     "inputWidgets": {},
     "nuid": "8f610185-8c57-4e06-bb9b-d7f55e0b4ce5",
     "showTitle": false,
     "title": ""
    }
   },
   "outputs": [
    {
     "output_type": "display_data",
     "data": {
      "text/html": [
       "<style scoped>\n",
       "  .table-result-container {\n",
       "    max-height: 300px;\n",
       "    overflow: auto;\n",
       "  }\n",
       "  table, th, td {\n",
       "    border: 1px solid black;\n",
       "    border-collapse: collapse;\n",
       "  }\n",
       "  th, td {\n",
       "    padding: 5px;\n",
       "  }\n",
       "  th {\n",
       "    text-align: left;\n",
       "  }\n",
       "</style><div class='table-result-container'><table class='table-result'><thead style='background-color: white'><tr><th>state</th><th>Count</th></tr></thead><tbody><tr><td>Texas</td><td>6</td></tr><tr><td>California</td><td>5</td></tr><tr><td>null</td><td>2</td></tr><tr><td>North Carolina</td><td>2</td></tr><tr><td>Arizona</td><td>2</td></tr><tr><td>Tennessee</td><td>2</td></tr><tr><td>Colorado</td><td>2</td></tr><tr><td>Ohio</td><td>1</td></tr><tr><td>Oregon</td><td>1</td></tr><tr><td>Pennsylvania</td><td>1</td></tr><tr><td>Nevada</td><td>1</td></tr><tr><td>Washington</td><td>1</td></tr><tr><td>Illinois</td><td>1</td></tr><tr><td>Oklahoma</td><td>1</td></tr><tr><td>District of Columbia</td><td>1</td></tr><tr><td>New Mexico</td><td>1</td></tr><tr><td>Missouri</td><td>1</td></tr><tr><td>Georgia</td><td>1</td></tr><tr><td>Michigan</td><td>1</td></tr><tr><td>Maryland</td><td>1</td></tr><tr><td>Massachusetts</td><td>1</td></tr><tr><td>Kentucky</td><td>1</td></tr><tr><td>Florida</td><td>1</td></tr><tr><td>Indiana</td><td>1</td></tr><tr><td>New York</td><td>1</td></tr><tr><td>Wisconsin</td><td>1</td></tr></tbody></table></div>"
      ]
     },
     "metadata": {
      "application/vnd.databricks.v1+output": {
       "addedWidgets": {},
       "aggData": [],
       "aggError": "",
       "aggOverflow": false,
       "aggSchema": [],
       "aggSeriesLimitReached": false,
       "aggType": "",
       "arguments": {},
       "columnCustomDisplayInfos": {},
       "data": [
        [
         "Texas",
         6
        ],
        [
         "California",
         5
        ],
        [
         null,
         2
        ],
        [
         "North Carolina",
         2
        ],
        [
         "Arizona",
         2
        ],
        [
         "Tennessee",
         2
        ],
        [
         "Colorado",
         2
        ],
        [
         "Ohio",
         1
        ],
        [
         "Oregon",
         1
        ],
        [
         "Pennsylvania",
         1
        ],
        [
         "Nevada",
         1
        ],
        [
         "Washington",
         1
        ],
        [
         "Illinois",
         1
        ],
        [
         "Oklahoma",
         1
        ],
        [
         "District of Columbia",
         1
        ],
        [
         "New Mexico",
         1
        ],
        [
         "Missouri",
         1
        ],
        [
         "Georgia",
         1
        ],
        [
         "Michigan",
         1
        ],
        [
         "Maryland",
         1
        ],
        [
         "Massachusetts",
         1
        ],
        [
         "Kentucky",
         1
        ],
        [
         "Florida",
         1
        ],
        [
         "Indiana",
         1
        ],
        [
         "New York",
         1
        ],
        [
         "Wisconsin",
         1
        ]
       ],
       "datasetInfos": [],
       "dbfsResultPath": null,
       "isJsonSchema": true,
       "metadata": {},
       "overflow": false,
       "plotOptions": {
        "customPlotOptions": {},
        "displayType": "table",
        "pivotAggregation": null,
        "pivotColumns": null,
        "xColumns": null,
        "yColumns": null
       },
       "removedWidgets": [],
       "schema": [
        {
         "metadata": "{}",
         "name": "state",
         "type": "\"string\""
        },
        {
         "metadata": "{}",
         "name": "Count",
         "type": "\"long\""
        }
       ],
       "type": "table"
      }
     },
     "output_type": "display_data"
    }
   ],
   "source": [
    "count_of_unique_value(df_1,'state').display()"
   ]
  },
  {
   "cell_type": "code",
   "execution_count": 0,
   "metadata": {
    "application/vnd.databricks.v1+cell": {
     "cellMetadata": {
      "byteLimit": 2048000,
      "rowLimit": 10000
     },
     "inputWidgets": {},
     "nuid": "7b313bc2-f338-45ec-abc8-6357c60878fe",
     "showTitle": false,
     "title": ""
    }
   },
   "outputs": [
    {
     "output_type": "display_data",
     "data": {
      "text/html": [
       "<style scoped>\n",
       "  .table-result-container {\n",
       "    max-height: 300px;\n",
       "    overflow: auto;\n",
       "  }\n",
       "  table, th, td {\n",
       "    border: 1px solid black;\n",
       "    border-collapse: collapse;\n",
       "  }\n",
       "  th, td {\n",
       "    padding: 5px;\n",
       "  }\n",
       "  th {\n",
       "    text-align: left;\n",
       "  }\n",
       "</style><div class='table-result-container'><table class='table-result'><thead style='background-color: white'><tr><th>city</th><th>Count</th></tr></thead><tbody><tr><td>null</td><td>7</td></tr><tr><td>Phoenix</td><td>1</td></tr><tr><td>Dallas</td><td>1</td></tr><tr><td>San Antonio</td><td>1</td></tr><tr><td>Louisville</td><td>1</td></tr><tr><td>Los Angeles</td><td>1</td></tr><tr><td>Sacramento</td><td>1</td></tr><tr><td>San Diego</td><td>1</td></tr><tr><td>San Francisco</td><td>1</td></tr><tr><td>Nashville</td><td>1</td></tr><tr><td>Oklahoma City</td><td>1</td></tr><tr><td>Portland</td><td>1</td></tr><tr><td>Columbus</td><td>1</td></tr><tr><td>Memphis</td><td>1</td></tr><tr><td>Austin</td><td>1</td></tr><tr><td>El Paso</td><td>1</td></tr><tr><td>Milwaukee</td><td>1</td></tr><tr><td>Chicago</td><td>1</td></tr><tr><td>Atlanta</td><td>1</td></tr><tr><td>Fresno</td><td>1</td></tr><tr><td>Las Vegas</td><td>1</td></tr><tr><td>Kansas City</td><td>1</td></tr><tr><td>San Jose</td><td>1</td></tr><tr><td>Colorado Springs</td><td>1</td></tr><tr><td>Tucson</td><td>1</td></tr><tr><td>New York City</td><td>1</td></tr><tr><td>Houston</td><td>1</td></tr><tr><td>Jacksonville</td><td>1</td></tr><tr><td>Baltimore</td><td>1</td></tr><tr><td>Mesa</td><td>1</td></tr><tr><td>Charlotte</td><td>1</td></tr><tr><td>Fort Worth</td><td>1</td></tr><tr><td>Denver</td><td>1</td></tr><tr><td>Boston</td><td>1</td></tr></tbody></table></div>"
      ]
     },
     "metadata": {
      "application/vnd.databricks.v1+output": {
       "addedWidgets": {},
       "aggData": [],
       "aggError": "",
       "aggOverflow": false,
       "aggSchema": [],
       "aggSeriesLimitReached": false,
       "aggType": "",
       "arguments": {},
       "columnCustomDisplayInfos": {},
       "data": [
        [
         null,
         7
        ],
        [
         "Phoenix",
         1
        ],
        [
         "Dallas",
         1
        ],
        [
         "San Antonio",
         1
        ],
        [
         "Louisville",
         1
        ],
        [
         "Los Angeles",
         1
        ],
        [
         "Sacramento",
         1
        ],
        [
         "San Diego",
         1
        ],
        [
         "San Francisco",
         1
        ],
        [
         "Nashville",
         1
        ],
        [
         "Oklahoma City",
         1
        ],
        [
         "Portland",
         1
        ],
        [
         "Columbus",
         1
        ],
        [
         "Memphis",
         1
        ],
        [
         "Austin",
         1
        ],
        [
         "El Paso",
         1
        ],
        [
         "Milwaukee",
         1
        ],
        [
         "Chicago",
         1
        ],
        [
         "Atlanta",
         1
        ],
        [
         "Fresno",
         1
        ],
        [
         "Las Vegas",
         1
        ],
        [
         "Kansas City",
         1
        ],
        [
         "San Jose",
         1
        ],
        [
         "Colorado Springs",
         1
        ],
        [
         "Tucson",
         1
        ],
        [
         "New York City",
         1
        ],
        [
         "Houston",
         1
        ],
        [
         "Jacksonville",
         1
        ],
        [
         "Baltimore",
         1
        ],
        [
         "Mesa",
         1
        ],
        [
         "Charlotte",
         1
        ],
        [
         "Fort Worth",
         1
        ],
        [
         "Denver",
         1
        ],
        [
         "Boston",
         1
        ]
       ],
       "datasetInfos": [],
       "dbfsResultPath": null,
       "isJsonSchema": true,
       "metadata": {},
       "overflow": false,
       "plotOptions": {
        "customPlotOptions": {},
        "displayType": "table",
        "pivotAggregation": null,
        "pivotColumns": null,
        "xColumns": null,
        "yColumns": null
       },
       "removedWidgets": [],
       "schema": [
        {
         "metadata": "{}",
         "name": "city",
         "type": "\"string\""
        },
        {
         "metadata": "{}",
         "name": "Count",
         "type": "\"long\""
        }
       ],
       "type": "table"
      }
     },
     "output_type": "display_data"
    }
   ],
   "source": [
    "count_of_unique_value(df_1,'city').display()"
   ]
  },
  {
   "cell_type": "code",
   "execution_count": 0,
   "metadata": {
    "application/vnd.databricks.v1+cell": {
     "cellMetadata": {
      "byteLimit": 2048000,
      "rowLimit": 10000
     },
     "inputWidgets": {},
     "nuid": "30616356-6cf9-4a53-8b7c-00d665bd8b52",
     "showTitle": false,
     "title": ""
    }
   },
   "outputs": [
    {
     "output_type": "display_data",
     "data": {
      "text/html": [
       "<style scoped>\n",
       "  .table-result-container {\n",
       "    max-height: 300px;\n",
       "    overflow: auto;\n",
       "  }\n",
       "  table, th, td {\n",
       "    border: 1px solid black;\n",
       "    border-collapse: collapse;\n",
       "  }\n",
       "  th, td {\n",
       "    padding: 5px;\n",
       "  }\n",
       "  th {\n",
       "    text-align: left;\n",
       "  }\n",
       "</style><div class='table-result-container'><table class='table-result'><thead style='background-color: white'><tr><th>Column</th><th>MismatchPercentage</th></tr></thead><tbody><tr><td>age</td><td>7.5 %</td></tr><tr><td>gender</td><td>7.5 %</td></tr><tr><td>first_name</td><td>0.0 %</td></tr></tbody></table></div>"
      ]
     },
     "metadata": {
      "application/vnd.databricks.v1+output": {
       "addedWidgets": {},
       "aggData": [],
       "aggError": "",
       "aggOverflow": false,
       "aggSchema": [],
       "aggSeriesLimitReached": false,
       "aggType": "",
       "arguments": {},
       "columnCustomDisplayInfos": {},
       "data": [
        [
         "age",
         "7.5 %"
        ],
        [
         "gender",
         "7.5 %"
        ],
        [
         "first_name",
         "0.0 %"
        ]
       ],
       "datasetInfos": [],
       "dbfsResultPath": null,
       "isJsonSchema": true,
       "metadata": {},
       "overflow": false,
       "plotOptions": {
        "customPlotOptions": {},
        "displayType": "table",
        "pivotAggregation": null,
        "pivotColumns": null,
        "xColumns": null,
        "yColumns": null
       },
       "removedWidgets": [],
       "schema": [
        {
         "metadata": "{}",
         "name": "Column",
         "type": "\"string\""
        },
        {
         "metadata": "{}",
         "name": "MismatchPercentage",
         "type": "\"string\""
        }
       ],
       "type": "table"
      }
     },
     "output_type": "display_data"
    }
   ],
   "source": [
    "regex = {'age': '^[0-99]{1,2}$', 'first_name': '^[a-zA-Z]*$', 'gender': '^M(ale)?$|^F(emale)?$'}\n",
    "miss_matched(df,regex).display()"
   ]
  },
  {
   "cell_type": "code",
   "execution_count": 0,
   "metadata": {
    "application/vnd.databricks.v1+cell": {
     "cellMetadata": {
      "byteLimit": 2048000,
      "rowLimit": 10000
     },
     "inputWidgets": {},
     "nuid": "4a2fc8af-072f-46d5-b00c-aa029c7c8c96",
     "showTitle": false,
     "title": ""
    }
   },
   "outputs": [
    {
     "output_type": "stream",
     "name": "stdout",
     "output_type": "stream",
     "text": [
      "3\n"
     ]
    }
   ],
   "source": []
  },
  {
   "cell_type": "code",
   "execution_count": 0,
   "metadata": {
    "application/vnd.databricks.v1+cell": {
     "cellMetadata": {
      "byteLimit": 2048000,
      "rowLimit": 10000
     },
     "inputWidgets": {},
     "nuid": "1fb19f5c-ae90-43df-a88b-ecb042db742c",
     "showTitle": false,
     "title": ""
    }
   },
   "outputs": [],
   "source": []
  },
  {
   "cell_type": "code",
   "execution_count": 0,
   "metadata": {
    "application/vnd.databricks.v1+cell": {
     "cellMetadata": {},
     "inputWidgets": {},
     "nuid": "a3e7bf22-3fcd-4ae4-8c87-0120eace56da",
     "showTitle": false,
     "title": ""
    }
   },
   "outputs": [],
   "source": []
  }
 ],
 "metadata": {
  "application/vnd.databricks.v1+notebook": {
   "dashboards": [],
   "language": "python",
   "notebookMetadata": {
    "pythonIndentUnit": 4
   },
   "notebookName": "Data profiling (Practice)",
   "widgets": {}
  }
 },
 "nbformat": 4,
 "nbformat_minor": 0
}
