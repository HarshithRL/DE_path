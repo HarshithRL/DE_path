{
 "cells": [
  {
   "cell_type": "code",
   "execution_count": 0,
   "metadata": {
    "application/vnd.databricks.v1+cell": {
     "cellMetadata": {
      "byteLimit": 2048000,
      "rowLimit": 10000
     },
     "inputWidgets": {},
     "nuid": "077489b7-d5b6-4042-8b8a-899f957dffa4",
     "showTitle": false,
     "title": ""
    }
   },
   "outputs": [],
   "source": [
    "%run /Users/harshith.r@diggibyte.com/stream/functions_and_schema"
   ]
  },
  {
   "cell_type": "code",
   "execution_count": 0,
   "metadata": {
    "application/vnd.databricks.v1+cell": {
     "cellMetadata": {
      "byteLimit": 2048000,
      "rowLimit": 10000
     },
     "inputWidgets": {},
     "nuid": "70bd8d1f-2c27-49a9-b313-443842134d2a",
     "showTitle": false,
     "title": ""
    }
   },
   "outputs": [
    {
     "output_type": "stream",
     "name": "stdout",
     "output_type": "stream",
     "text": [
      "Out[24]: True"
     ]
    }
   ],
   "source": [
    "dbutils.fs.rm('dbfs:/FileStore/streaming_data/stream_read',True)"
   ]
  },
  {
   "cell_type": "code",
   "execution_count": 0,
   "metadata": {
    "application/vnd.databricks.v1+cell": {
     "cellMetadata": {
      "byteLimit": 2048000,
      "rowLimit": 10000
     },
     "inputWidgets": {},
     "nuid": "8c8fed60-174f-49c2-879a-bf53989213dc",
     "showTitle": false,
     "title": ""
    }
   },
   "outputs": [
    {
     "output_type": "stream",
     "name": "stdout",
     "output_type": "stream",
     "text": [
      "Out[10]: True"
     ]
    }
   ],
   "source": [
    "# dbutils.fs.mkdirs('dbfs:/FileStore/streaming_data/')"
   ]
  },
  {
   "cell_type": "code",
   "execution_count": 0,
   "metadata": {
    "application/vnd.databricks.v1+cell": {
     "cellMetadata": {
      "byteLimit": 2048000,
      "rowLimit": 10000
     },
     "inputWidgets": {},
     "nuid": "3dae99bb-2f31-4e83-a195-b50cee4cee59",
     "showTitle": false,
     "title": ""
    }
   },
   "outputs": [
    {
     "output_type": "stream",
     "name": "stdout",
     "output_type": "stream",
     "text": [
      "Out[25]: True"
     ]
    }
   ],
   "source": [
    "#dbutils.fs.mkdirs('dbfs:/FileStore/streaming_data/stream_checkpoint/')\n",
    "dbutils.fs.mkdirs('dbfs:/FileStore/streaming_data/stream_read/')\n",
    "# dbutils.fs.mkdirs('dbfs:/FileStore/streaming_data/stream_write/')"
   ]
  },
  {
   "cell_type": "code",
   "execution_count": 0,
   "metadata": {
    "application/vnd.databricks.v1+cell": {
     "cellMetadata": {
      "byteLimit": 2048000,
      "rowLimit": 10000
     },
     "inputWidgets": {},
     "nuid": "63b96ba5-e990-4675-a4f7-9c9eb2eab010",
     "showTitle": false,
     "title": ""
    }
   },
   "outputs": [],
   "source": [
    "form='csv'\n",
    "options={'header':True}\n",
    "path='dbfs:/FileStore/streaming_data/stream_read/'"
   ]
  },
  {
   "cell_type": "code",
   "execution_count": 0,
   "metadata": {
    "application/vnd.databricks.v1+cell": {
     "cellMetadata": {
      "byteLimit": 2048000,
      "rowLimit": 10000
     },
     "inputWidgets": {},
     "nuid": "fd963be1-3cf5-4dfb-b633-727d4af35a8d",
     "showTitle": false,
     "title": ""
    }
   },
   "outputs": [
    {
     "output_type": "display_data",
     "data": {
      "text/html": [
       "<style scoped>\n",
       "  .table-result-container {\n",
       "    max-height: 300px;\n",
       "    overflow: auto;\n",
       "  }\n",
       "  table, th, td {\n",
       "    border: 1px solid black;\n",
       "    border-collapse: collapse;\n",
       "  }\n",
       "  th, td {\n",
       "    padding: 5px;\n",
       "  }\n",
       "  th {\n",
       "    text-align: left;\n",
       "  }\n",
       "</style><div class='table-result-container'><table class='table-result'><thead style='background-color: white'><tr><th>id</th><th>name</th><th>gender</th><th>age</th></tr></thead><tbody><tr><td>1</td><td>   John   </td><td>  Male  </td><td>25</td></tr><tr><td>2</td><td>   Alice  </td><td> Female </td><td>30</td></tr><tr><td>3</td><td>   David  </td><td>  Male  </td><td>22</td></tr><tr><td>4</td><td>   Sarah  </td><td> Female </td><td>28</td></tr><tr><td>5</td><td>   Michael</td><td>  Male  </td><td>35</td></tr><tr><td>6</td><td>   Emily  </td><td> Female </td><td>26</td></tr><tr><td>7</td><td>   James  </td><td>  Male  </td><td>31</td></tr><tr><td>8</td><td>   Olivia </td><td> Female </td><td>29</td></tr><tr><td>9</td><td>   Ethan  </td><td>  Male  </td><td>24</td></tr><tr><td>10</td><td>   Sophia </td><td> Female </td><td>27</td></tr><tr><td>11</td><td>   Liam   </td><td>  Male  </td><td>32</td></tr><tr><td>12</td><td>   Ava    </td><td> Female </td><td>23</td></tr><tr><td>13</td><td>   Benjamin</td><td>  Male  </td><td>28</td></tr><tr><td>14</td><td>   Mia    </td><td> Female </td><td>33</td></tr><tr><td>15</td><td>   Jackson</td><td>  Male  </td><td>26</td></tr><tr><td>16</td><td>   Lily   </td><td> Female </td><td>29</td></tr><tr><td>17</td><td>   Logan  </td><td>  Male  </td><td>30</td></tr><tr><td>18</td><td>   Chloe  </td><td> Female </td><td>25</td></tr><tr><td>19</td><td>   Caleb  </td><td>  Male  </td><td>31</td></tr><tr><td>20</td><td>   Emma   </td><td> Female </td><td>27</td></tr><tr><td>21</td><td>   Daniel </td><td>  Male  </td><td>29</td></tr><tr><td>22</td><td>   Grace  </td><td> Female </td><td>34</td></tr><tr><td>23</td><td>   Noah   </td><td>  Male  </td><td>24</td></tr><tr><td>24</td><td>   Harper </td><td> Female </td><td>28</td></tr><tr><td>25</td><td>   Mason  </td><td>  Male  </td><td>33</td></tr><tr><td>26</td><td>   Aria   </td><td> Female </td><td>25</td></tr><tr><td>27</td><td>   Elijah </td><td>  Male  </td><td>30</td></tr><tr><td>28</td><td>   Zoey   </td><td> Female </td><td>26</td></tr><tr><td>29</td><td>   Oliver </td><td>  Male  </td><td>28</td></tr><tr><td>30</td><td>   Ava    </td><td> Female </td><td>31</td></tr></tbody></table></div>"
      ]
     },
     "metadata": {
      "application/vnd.databricks.v1+output": {
       "addedWidgets": {},
       "aggData": [],
       "aggError": "",
       "aggOverflow": false,
       "aggSchema": [],
       "aggSeriesLimitReached": false,
       "aggType": "",
       "arguments": {},
       "columnCustomDisplayInfos": {},
       "data": [
        [
         "1",
         "   John   ",
         "  Male  ",
         "25"
        ],
        [
         "2",
         "   Alice  ",
         " Female ",
         "30"
        ],
        [
         "3",
         "   David  ",
         "  Male  ",
         "22"
        ],
        [
         "4",
         "   Sarah  ",
         " Female ",
         "28"
        ],
        [
         "5",
         "   Michael",
         "  Male  ",
         "35"
        ],
        [
         "6",
         "   Emily  ",
         " Female ",
         "26"
        ],
        [
         "7",
         "   James  ",
         "  Male  ",
         "31"
        ],
        [
         "8",
         "   Olivia ",
         " Female ",
         "29"
        ],
        [
         "9",
         "   Ethan  ",
         "  Male  ",
         "24"
        ],
        [
         "10",
         "   Sophia ",
         " Female ",
         "27"
        ],
        [
         "11",
         "   Liam   ",
         "  Male  ",
         "32"
        ],
        [
         "12",
         "   Ava    ",
         " Female ",
         "23"
        ],
        [
         "13",
         "   Benjamin",
         "  Male  ",
         "28"
        ],
        [
         "14",
         "   Mia    ",
         " Female ",
         "33"
        ],
        [
         "15",
         "   Jackson",
         "  Male  ",
         "26"
        ],
        [
         "16",
         "   Lily   ",
         " Female ",
         "29"
        ],
        [
         "17",
         "   Logan  ",
         "  Male  ",
         "30"
        ],
        [
         "18",
         "   Chloe  ",
         " Female ",
         "25"
        ],
        [
         "19",
         "   Caleb  ",
         "  Male  ",
         "31"
        ],
        [
         "20",
         "   Emma   ",
         " Female ",
         "27"
        ],
        [
         "21",
         "   Daniel ",
         "  Male  ",
         "29"
        ],
        [
         "22",
         "   Grace  ",
         " Female ",
         "34"
        ],
        [
         "23",
         "   Noah   ",
         "  Male  ",
         "24"
        ],
        [
         "24",
         "   Harper ",
         " Female ",
         "28"
        ],
        [
         "25",
         "   Mason  ",
         "  Male  ",
         "33"
        ],
        [
         "26",
         "   Aria   ",
         " Female ",
         "25"
        ],
        [
         "27",
         "   Elijah ",
         "  Male  ",
         "30"
        ],
        [
         "28",
         "   Zoey   ",
         " Female ",
         "26"
        ],
        [
         "29",
         "   Oliver ",
         "  Male  ",
         "28"
        ],
        [
         "30",
         "   Ava    ",
         " Female ",
         "31"
        ]
       ],
       "datasetInfos": [],
       "dbfsResultPath": null,
       "isJsonSchema": true,
       "metadata": {
        "isDbfsCommandResult": false
       },
       "overflow": false,
       "plotOptions": {
        "customPlotOptions": {},
        "displayType": "table",
        "pivotAggregation": null,
        "pivotColumns": null,
        "xColumns": null,
        "yColumns": null
       },
       "removedWidgets": [],
       "schema": [
        {
         "metadata": "{}",
         "name": "id",
         "type": "\"string\""
        },
        {
         "metadata": "{}",
         "name": "name",
         "type": "\"string\""
        },
        {
         "metadata": "{}",
         "name": "gender",
         "type": "\"string\""
        },
        {
         "metadata": "{}",
         "name": "age",
         "type": "\"string\""
        }
       ],
       "type": "table"
      }
     },
     "output_type": "display_data"
    }
   ],
   "source": [
    "df=streamread(form,schema,path,header=True)\n",
    "df.display()"
   ]
  },
  {
   "cell_type": "code",
   "execution_count": 0,
   "metadata": {
    "application/vnd.databricks.v1+cell": {
     "cellMetadata": {
      "byteLimit": 2048000,
      "rowLimit": 10000
     },
     "collapsed": true,
     "inputWidgets": {},
     "nuid": "74305bd5-f492-4c85-952d-0a86dfc0d8d1",
     "showTitle": false,
     "title": ""
    }
   },
   "outputs": [
    {
     "output_type": "display_data",
     "data": {
      "text/html": [
       "<style scoped>\n",
       "  .table-result-container {\n",
       "    max-height: 300px;\n",
       "    overflow: auto;\n",
       "  }\n",
       "  table, th, td {\n",
       "    border: 1px solid black;\n",
       "    border-collapse: collapse;\n",
       "  }\n",
       "  th, td {\n",
       "    padding: 5px;\n",
       "  }\n",
       "  th {\n",
       "    text-align: left;\n",
       "  }\n",
       "</style><div class='table-result-container'><table class='table-result'><thead style='background-color: white'><tr><th>id</th><th>name</th><th>gender</th><th>age</th></tr></thead><tbody><tr><td>1</td><td>   John   </td><td>  Male  </td><td>25</td></tr><tr><td>2</td><td>   Alice  </td><td> Female </td><td>30</td></tr><tr><td>3</td><td>   David  </td><td>  Male  </td><td>22</td></tr><tr><td>4</td><td>   Sarah  </td><td> Female </td><td>28</td></tr><tr><td>5</td><td>   Michael</td><td>  Male  </td><td>35</td></tr><tr><td>6</td><td>   Emily  </td><td> Female </td><td>26</td></tr><tr><td>7</td><td>   James  </td><td>  Male  </td><td>31</td></tr><tr><td>8</td><td>   Olivia </td><td> Female </td><td>29</td></tr><tr><td>9</td><td>   Ethan  </td><td>  Male  </td><td>24</td></tr><tr><td>10</td><td>   Sophia </td><td> Female </td><td>27</td></tr><tr><td>11</td><td>   Liam   </td><td>  Male  </td><td>32</td></tr><tr><td>12</td><td>   Ava    </td><td> Female </td><td>23</td></tr><tr><td>13</td><td>   Benjamin</td><td>  Male  </td><td>28</td></tr><tr><td>14</td><td>   Mia    </td><td> Female </td><td>33</td></tr><tr><td>15</td><td>   Jackson</td><td>  Male  </td><td>26</td></tr><tr><td>16</td><td>   Lily   </td><td> Female </td><td>29</td></tr><tr><td>17</td><td>   Logan  </td><td>  Male  </td><td>30</td></tr><tr><td>18</td><td>   Chloe  </td><td> Female </td><td>25</td></tr><tr><td>19</td><td>   Caleb  </td><td>  Male  </td><td>31</td></tr><tr><td>20</td><td>   Emma   </td><td> Female </td><td>27</td></tr><tr><td>21</td><td>   Daniel </td><td>  Male  </td><td>29</td></tr><tr><td>22</td><td>   Grace  </td><td> Female </td><td>34</td></tr><tr><td>23</td><td>   Noah   </td><td>  Male  </td><td>24</td></tr><tr><td>24</td><td>   Harper </td><td> Female </td><td>28</td></tr><tr><td>25</td><td>   Mason  </td><td>  Male  </td><td>33</td></tr><tr><td>26</td><td>   Aria   </td><td> Female </td><td>25</td></tr><tr><td>27</td><td>   Elijah </td><td>  Male  </td><td>30</td></tr><tr><td>28</td><td>   Zoey   </td><td> Female </td><td>26</td></tr><tr><td>29</td><td>   Oliver </td><td>  Male  </td><td>28</td></tr><tr><td>30</td><td>   Ava    </td><td> Female </td><td>31</td></tr></tbody></table></div>"
      ]
     },
     "metadata": {
      "application/vnd.databricks.v1+output": {
       "addedWidgets": {},
       "aggData": [],
       "aggError": "",
       "aggOverflow": false,
       "aggSchema": [],
       "aggSeriesLimitReached": false,
       "aggType": "",
       "arguments": {},
       "columnCustomDisplayInfos": {},
       "data": [
        [
         "1",
         "   John   ",
         "  Male  ",
         "25"
        ],
        [
         "2",
         "   Alice  ",
         " Female ",
         "30"
        ],
        [
         "3",
         "   David  ",
         "  Male  ",
         "22"
        ],
        [
         "4",
         "   Sarah  ",
         " Female ",
         "28"
        ],
        [
         "5",
         "   Michael",
         "  Male  ",
         "35"
        ],
        [
         "6",
         "   Emily  ",
         " Female ",
         "26"
        ],
        [
         "7",
         "   James  ",
         "  Male  ",
         "31"
        ],
        [
         "8",
         "   Olivia ",
         " Female ",
         "29"
        ],
        [
         "9",
         "   Ethan  ",
         "  Male  ",
         "24"
        ],
        [
         "10",
         "   Sophia ",
         " Female ",
         "27"
        ],
        [
         "11",
         "   Liam   ",
         "  Male  ",
         "32"
        ],
        [
         "12",
         "   Ava    ",
         " Female ",
         "23"
        ],
        [
         "13",
         "   Benjamin",
         "  Male  ",
         "28"
        ],
        [
         "14",
         "   Mia    ",
         " Female ",
         "33"
        ],
        [
         "15",
         "   Jackson",
         "  Male  ",
         "26"
        ],
        [
         "16",
         "   Lily   ",
         " Female ",
         "29"
        ],
        [
         "17",
         "   Logan  ",
         "  Male  ",
         "30"
        ],
        [
         "18",
         "   Chloe  ",
         " Female ",
         "25"
        ],
        [
         "19",
         "   Caleb  ",
         "  Male  ",
         "31"
        ],
        [
         "20",
         "   Emma   ",
         " Female ",
         "27"
        ],
        [
         "21",
         "   Daniel ",
         "  Male  ",
         "29"
        ],
        [
         "22",
         "   Grace  ",
         " Female ",
         "34"
        ],
        [
         "23",
         "   Noah   ",
         "  Male  ",
         "24"
        ],
        [
         "24",
         "   Harper ",
         " Female ",
         "28"
        ],
        [
         "25",
         "   Mason  ",
         "  Male  ",
         "33"
        ],
        [
         "26",
         "   Aria   ",
         " Female ",
         "25"
        ],
        [
         "27",
         "   Elijah ",
         "  Male  ",
         "30"
        ],
        [
         "28",
         "   Zoey   ",
         " Female ",
         "26"
        ],
        [
         "29",
         "   Oliver ",
         "  Male  ",
         "28"
        ],
        [
         "30",
         "   Ava    ",
         " Female ",
         "31"
        ]
       ],
       "datasetInfos": [],
       "dbfsResultPath": null,
       "isJsonSchema": true,
       "metadata": {
        "isDbfsCommandResult": false
       },
       "overflow": false,
       "plotOptions": {
        "customPlotOptions": {},
        "displayType": "table",
        "pivotAggregation": null,
        "pivotColumns": null,
        "xColumns": null,
        "yColumns": null
       },
       "removedWidgets": [],
       "schema": [
        {
         "metadata": "{}",
         "name": "id",
         "type": "\"string\""
        },
        {
         "metadata": "{}",
         "name": "name",
         "type": "\"string\""
        },
        {
         "metadata": "{}",
         "name": "gender",
         "type": "\"string\""
        },
        {
         "metadata": "{}",
         "name": "age",
         "type": "\"string\""
        }
       ],
       "type": "table"
      }
     },
     "output_type": "display_data"
    }
   ],
   "source": [
    "df=spark.readStream.format('csv').schema(schema).option('header',True).load('dbfs:/FileStore/streaming_data/stream_read/')\n",
    "df.display()"
   ]
  },
  {
   "cell_type": "code",
   "execution_count": 0,
   "metadata": {
    "application/vnd.databricks.v1+cell": {
     "cellMetadata": {
      "byteLimit": 2048000,
      "rowLimit": 10000
     },
     "collapsed": true,
     "inputWidgets": {},
     "nuid": "4bec9a04-fbc7-4cda-9b54-8b65623af122",
     "showTitle": false,
     "title": ""
    }
   },
   "outputs": [
    {
     "output_type": "display_data",
     "data": {
      "text/plain": [
       "\u001B[0;36m  File \u001B[0;32m<command-688654249620499>:1\u001B[0;36m\u001B[0m\n",
       "\u001B[0;31m    writestream('delta','append',df,path='dbfs:/FileStore/streaming_data/stream_write/','checkpointLocation':'dbfs:/FileStore/streaming_data/stream_checkpoint/')\u001B[0m\n",
       "\u001B[0m                                                                                                            ^\u001B[0m\n",
       "\u001B[0;31mSyntaxError\u001B[0m\u001B[0;31m:\u001B[0m positional argument follows keyword argument\n"
      ]
     },
     "metadata": {
      "application/vnd.databricks.v1+output": {
       "arguments": {},
       "data": "\u001B[0;36m  File \u001B[0;32m<command-688654249620499>:1\u001B[0;36m\u001B[0m\n\u001B[0;31m    writestream('delta','append',df,path='dbfs:/FileStore/streaming_data/stream_write/','checkpointLocation':'dbfs:/FileStore/streaming_data/stream_checkpoint/')\u001B[0m\n\u001B[0m                                                                                                            ^\u001B[0m\n\u001B[0;31mSyntaxError\u001B[0m\u001B[0;31m:\u001B[0m positional argument follows keyword argument\n",
       "errorSummary": "<span class='ansi-red-fg'>SyntaxError</span>: positional argument follows keyword argument (<command-688654249620499>, line 1)",
       "errorTraceType": "ansi",
       "metadata": {},
       "type": "ipynbError"
      }
     },
     "output_type": "display_data"
    }
   ],
   "source": [
    "writestream('delta','append',df,path='dbfs:/FileStore/streaming_data/stream_write/','checkpointLocation':'dbfs:/FileStore/streaming_data/stream_checkpoint/')"
   ]
  },
  {
   "cell_type": "code",
   "execution_count": 0,
   "metadata": {
    "application/vnd.databricks.v1+cell": {
     "cellMetadata": {
      "byteLimit": 2048000,
      "rowLimit": 10000
     },
     "inputWidgets": {},
     "nuid": "02e79857-b173-42f9-a26c-4be17e08886e",
     "showTitle": false,
     "title": ""
    }
   },
   "outputs": [
    {
     "output_type": "display_data",
     "data": {
      "text/html": [
       "<style scoped>\n",
       "  .ansiout {\n",
       "    display: block;\n",
       "    unicode-bidi: embed;\n",
       "    white-space: pre-wrap;\n",
       "    word-wrap: break-word;\n",
       "    word-break: break-all;\n",
       "    font-family: \"Menlo\", \"Monaco\", \"Consolas\", \"Ubuntu Mono\", \"Source Code Pro\", monospace;\n",
       "    font-size: 13px;\n",
       "    color: #555;\n",
       "    margin-left: 4px;\n",
       "    line-height: 19px;\n",
       "  }\n",
       "</style>"
      ]
     },
     "metadata": {
      "application/vnd.databricks.v1+output": {
       "arguments": {},
       "data": "",
       "errorSummary": "Cancelled",
       "errorTraceType": "html",
       "metadata": {},
       "type": "ipynbError"
      }
     },
     "output_type": "display_data"
    }
   ],
   "source": [
    "q=writestream('delta', 'append', df, path='dbfs:/FileStore/streaming_data/stream_write/', checkpointLocation='dbfs:/FileStore/streaming_data/stream_checkpoint/')"
   ]
  },
  {
   "cell_type": "code",
   "execution_count": 0,
   "metadata": {
    "application/vnd.databricks.v1+cell": {
     "cellMetadata": {},
     "inputWidgets": {},
     "nuid": "6cd87262-c962-495a-b547-e657ca3566c0",
     "showTitle": false,
     "title": ""
    }
   },
   "outputs": [],
   "source": []
  },
  {
   "cell_type": "code",
   "execution_count": 0,
   "metadata": {
    "application/vnd.databricks.v1+cell": {
     "cellMetadata": {
      "byteLimit": 2048000,
      "rowLimit": 10000
     },
     "collapsed": true,
     "inputWidgets": {},
     "nuid": "12c8c813-4299-43a9-b7ff-50ccddd154ac",
     "showTitle": false,
     "title": ""
    }
   },
   "outputs": [
    {
     "output_type": "display_data",
     "data": {
      "text/html": [
       "<style scoped>\n",
       "  .ansiout {\n",
       "    display: block;\n",
       "    unicode-bidi: embed;\n",
       "    white-space: pre-wrap;\n",
       "    word-wrap: break-word;\n",
       "    word-break: break-all;\n",
       "    font-family: \"Menlo\", \"Monaco\", \"Consolas\", \"Ubuntu Mono\", \"Source Code Pro\", monospace;\n",
       "    font-size: 13px;\n",
       "    color: #555;\n",
       "    margin-left: 4px;\n",
       "    line-height: 19px;\n",
       "  }\n",
       "</style>"
      ]
     },
     "metadata": {
      "application/vnd.databricks.v1+output": {
       "arguments": {},
       "data": "",
       "errorSummary": "Cancelled",
       "errorTraceType": "html",
       "metadata": {},
       "type": "ipynbError"
      }
     },
     "output_type": "display_data"
    }
   ],
   "source": [
    "df4=df.writeStream.format('delta').outputMode('append').option('path','dbfs:/FileStore/streaming_data/stream_write/').option('checkpointLocation','dbfs:/FileStore/streaming_data/stream_checkpoint/').start().awaitTermination()"
   ]
  },
  {
   "cell_type": "code",
   "execution_count": 0,
   "metadata": {
    "application/vnd.databricks.v1+cell": {
     "cellMetadata": {
      "byteLimit": 2048000,
      "rowLimit": 10000
     },
     "collapsed": true,
     "inputWidgets": {},
     "nuid": "28de102a-2110-49fa-8852-b7629b0ee937",
     "showTitle": false,
     "title": ""
    }
   },
   "outputs": [],
   "source": [
    "df=spark.read.format('delta').load('dbfs:/FileStore/streaming_data/stream_write/')"
   ]
  },
  {
   "cell_type": "code",
   "execution_count": 0,
   "metadata": {
    "application/vnd.databricks.v1+cell": {
     "cellMetadata": {
      "byteLimit": 2048000,
      "rowLimit": 10000
     },
     "inputWidgets": {},
     "nuid": "a0a7d7cb-185d-4586-909d-23986c82f8e8",
     "showTitle": false,
     "title": ""
    }
   },
   "outputs": [
    {
     "output_type": "display_data",
     "data": {
      "text/html": [
       "<style scoped>\n",
       "  .ansiout {\n",
       "    display: block;\n",
       "    unicode-bidi: embed;\n",
       "    white-space: pre-wrap;\n",
       "    word-wrap: break-word;\n",
       "    word-break: break-all;\n",
       "    font-family: \"Menlo\", \"Monaco\", \"Consolas\", \"Ubuntu Mono\", \"Source Code Pro\", monospace;\n",
       "    font-size: 13px;\n",
       "    color: #555;\n",
       "    margin-left: 4px;\n",
       "    line-height: 19px;\n",
       "  }\n",
       "</style>"
      ]
     },
     "metadata": {
      "application/vnd.databricks.v1+output": {
       "arguments": {},
       "data": "",
       "errorSummary": "Cancelled",
       "errorTraceType": "html",
       "metadata": {},
       "type": "ipynbError"
      }
     },
     "output_type": "display_data"
    }
   ],
   "source": [
    "q.stop()"
   ]
  },
  {
   "cell_type": "code",
   "execution_count": 0,
   "metadata": {
    "application/vnd.databricks.v1+cell": {
     "cellMetadata": {
      "byteLimit": 2048000,
      "rowLimit": 10000
     },
     "inputWidgets": {},
     "nuid": "53374438-cb44-40e4-b05e-90637c78c20b",
     "showTitle": false,
     "title": ""
    }
   },
   "outputs": [
    {
     "output_type": "display_data",
     "data": {
      "text/html": [
       "<style scoped>\n",
       "  .ansiout {\n",
       "    display: block;\n",
       "    unicode-bidi: embed;\n",
       "    white-space: pre-wrap;\n",
       "    word-wrap: break-word;\n",
       "    word-break: break-all;\n",
       "    font-family: \"Menlo\", \"Monaco\", \"Consolas\", \"Ubuntu Mono\", \"Source Code Pro\", monospace;\n",
       "    font-size: 13px;\n",
       "    color: #555;\n",
       "    margin-left: 4px;\n",
       "    line-height: 19px;\n",
       "  }\n",
       "</style>"
      ]
     },
     "metadata": {
      "application/vnd.databricks.v1+output": {
       "arguments": {},
       "data": "",
       "errorSummary": "Cancelled",
       "errorTraceType": "html",
       "metadata": {},
       "type": "ipynbError"
      }
     },
     "output_type": "display_data"
    }
   ],
   "source": [
    "def quit():\n",
    "    query.stop()"
   ]
  },
  {
   "cell_type": "code",
   "execution_count": 0,
   "metadata": {
    "application/vnd.databricks.v1+cell": {
     "cellMetadata": {},
     "inputWidgets": {},
     "nuid": "5fdb599e-f9fd-488f-97d9-c1d0d79de5fc",
     "showTitle": false,
     "title": ""
    }
   },
   "outputs": [],
   "source": [
    "quit()"
   ]
  }
 ],
 "metadata": {
  "application/vnd.databricks.v1+notebook": {
   "dashboards": [],
   "language": "python",
   "notebookMetadata": {
    "pythonIndentUnit": 4
   },
   "notebookName": "Processer",
   "widgets": {}
  }
 },
 "nbformat": 4,
 "nbformat_minor": 0
}
