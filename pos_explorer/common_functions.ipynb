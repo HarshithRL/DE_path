{
 "cells": [
  {
   "cell_type": "code",
   "execution_count": 0,
   "metadata": {
    "application/vnd.databricks.v1+cell": {
     "cellMetadata": {
      "byteLimit": 2048000,
      "rowLimit": 10000
     },
     "inputWidgets": {},
     "nuid": "e273361c-4fff-4ca2-877a-19d4a5439285",
     "showTitle": false,
     "title": ""
    }
   },
   "outputs": [],
   "source": [
    "%run /Users/harshith.r@diggibyte.com/Posexpo/bronze_to_silver/custom_schema"
   ]
  },
  {
   "cell_type": "markdown",
   "metadata": {
    "application/vnd.databricks.v1+cell": {
     "cellMetadata": {},
     "inputWidgets": {},
     "nuid": "8ea7cf8c-c651-4961-917f-cef6ecda95c3",
     "showTitle": false,
     "title": ""
    }
   },
   "source": [
    "##Modules Needed"
   ]
  },
  {
   "cell_type": "code",
   "execution_count": 0,
   "metadata": {
    "application/vnd.databricks.v1+cell": {
     "cellMetadata": {
      "byteLimit": 2048000,
      "rowLimit": 10000
     },
     "inputWidgets": {},
     "nuid": "5ac21699-9d43-4b0f-8bb1-0683c4967c50",
     "showTitle": false,
     "title": ""
    }
   },
   "outputs": [],
   "source": [
    "from pyspark.sql.functions import *\n",
    "from pyspark.sql.types import *\n",
    "import re"
   ]
  },
  {
   "cell_type": "markdown",
   "metadata": {
    "application/vnd.databricks.v1+cell": {
     "cellMetadata": {},
     "inputWidgets": {},
     "nuid": "b3ed04bf-a301-42e5-8306-ee0311e37035",
     "showTitle": false,
     "title": ""
    }
   },
   "source": [
    "## Function to create DataFrame"
   ]
  },
  {
   "cell_type": "code",
   "execution_count": 0,
   "metadata": {
    "application/vnd.databricks.v1+cell": {
     "cellMetadata": {
      "byteLimit": 2048000,
      "rowLimit": 10000
     },
     "inputWidgets": {},
     "nuid": "fd538df6-860d-4b8f-b996-6621c37ba336",
     "showTitle": false,
     "title": ""
    }
   },
   "outputs": [],
   "source": [
    "def create_dataframe(path,format_name,schema):\n",
    "    return spark.read.format(format_name).option(\"multiline\",\"true\").schema(schema).load(path)"
   ]
  },
  {
   "cell_type": "markdown",
   "metadata": {
    "application/vnd.databricks.v1+cell": {
     "cellMetadata": {},
     "inputWidgets": {},
     "nuid": "9972b7d1-3890-4179-976b-2ec2e8ea5b41",
     "showTitle": false,
     "title": ""
    }
   },
   "source": [
    "## Function to Change the DataType of column in DataFrame"
   ]
  },
  {
   "cell_type": "code",
   "execution_count": 0,
   "metadata": {
    "application/vnd.databricks.v1+cell": {
     "cellMetadata": {
      "byteLimit": 2048000,
      "rowLimit": 10000
     },
     "inputWidgets": {},
     "nuid": "1f2c41bf-b79f-4934-b477-8591f81eb0fc",
     "showTitle": false,
     "title": ""
    }
   },
   "outputs": [],
   "source": [
    "def type_cast(df,col_name,cast_type):\n",
    "    return df.withColumn(col_name,col(col_name).cast(cast_type))\n"
   ]
  },
  {
   "cell_type": "markdown",
   "metadata": {
    "application/vnd.databricks.v1+cell": {
     "cellMetadata": {},
     "inputWidgets": {},
     "nuid": "1c37ebfd-35f1-4768-a7db-3995fbd96248",
     "showTitle": false,
     "title": ""
    }
   },
   "source": [
    "## Convert To Array Type"
   ]
  },
  {
   "cell_type": "code",
   "execution_count": 0,
   "metadata": {
    "application/vnd.databricks.v1+cell": {
     "cellMetadata": {
      "byteLimit": 2048000,
      "rowLimit": 10000
     },
     "inputWidgets": {},
     "nuid": "18ed0e80-07e4-4e48-9cf5-482717208f42",
     "showTitle": false,
     "title": ""
    }
   },
   "outputs": [],
   "source": [
    "def explode_split(df,columnnames,deliemeter):\n",
    "    return df.withColumn(columnnames, split(df[columnnames], deliemeter))"
   ]
  },
  {
   "cell_type": "markdown",
   "metadata": {
    "application/vnd.databricks.v1+cell": {
     "cellMetadata": {},
     "inputWidgets": {},
     "nuid": "7f51b0dd-f591-4ebf-86dd-dd23250f5aeb",
     "showTitle": false,
     "title": ""
    }
   },
   "source": [
    "##Flatten The Array"
   ]
  },
  {
   "cell_type": "code",
   "execution_count": 0,
   "metadata": {
    "application/vnd.databricks.v1+cell": {
     "cellMetadata": {
      "byteLimit": 2048000,
      "rowLimit": 10000
     },
     "inputWidgets": {},
     "nuid": "3911526c-177c-43a4-ba9d-ae1be29e694a",
     "showTitle": false,
     "title": ""
    }
   },
   "outputs": [],
   "source": [
    "def posexplode_array(df,col_name):\n",
    "    pos_col_name = f\"pos_{col_name}\"\n",
    "    explode_col_name = f\"{col_name}_col\"\n",
    "    new_columns=[pos_col_name,explode_col_name]\n",
    "    return df.select('*',posexplode(col_name).alias(*new_columns)).drop(col_name)"
   ]
  },
  {
   "cell_type": "markdown",
   "metadata": {
    "application/vnd.databricks.v1+cell": {
     "cellMetadata": {},
     "inputWidgets": {},
     "nuid": "881f9757-e379-4413-bdfa-d93e1a69939e",
     "showTitle": false,
     "title": ""
    }
   },
   "source": [
    "##Write as table"
   ]
  },
  {
   "cell_type": "code",
   "execution_count": 0,
   "metadata": {
    "application/vnd.databricks.v1+cell": {
     "cellMetadata": {
      "byteLimit": 2048000,
      "rowLimit": 10000
     },
     "inputWidgets": {},
     "nuid": "82db970e-8ec0-4b74-bff6-8e729f673aa0",
     "showTitle": false,
     "title": ""
    }
   },
   "outputs": [],
   "source": [
    "def write(df,tableName):\n",
    "    df.write.saveAsTable(tableName)"
   ]
  },
  {
   "cell_type": "markdown",
   "metadata": {
    "application/vnd.databricks.v1+cell": {
     "cellMetadata": {},
     "inputWidgets": {},
     "nuid": "42fefee7-4409-448d-b15d-ea95c46183b1",
     "showTitle": false,
     "title": ""
    }
   },
   "source": [
    "##Convert to Date Time formate"
   ]
  },
  {
   "cell_type": "code",
   "execution_count": 0,
   "metadata": {
    "application/vnd.databricks.v1+cell": {
     "cellMetadata": {
      "byteLimit": 2048000,
      "rowLimit": 10000
     },
     "inputWidgets": {},
     "nuid": "6da5e90a-be51-40d7-8bf2-088ef4333f82",
     "showTitle": false,
     "title": ""
    }
   },
   "outputs": [],
   "source": [
    "def date_format(df,col_name):\n",
    "    return df.withColumn(col_name, to_date(col(col_name), 'EEE MMM dd HH:mm:ss zzz yyyy'))"
   ]
  },
  {
   "cell_type": "markdown",
   "metadata": {
    "application/vnd.databricks.v1+cell": {
     "cellMetadata": {},
     "inputWidgets": {},
     "nuid": "e6a327e2-57da-4f5a-90ed-88cba1437793",
     "showTitle": false,
     "title": ""
    }
   },
   "source": [
    "##Convert the Column Names To Snake Case"
   ]
  },
  {
   "cell_type": "code",
   "execution_count": 0,
   "metadata": {
    "application/vnd.databricks.v1+cell": {
     "cellMetadata": {
      "byteLimit": 2048000,
      "rowLimit": 10000
     },
     "inputWidgets": {},
     "nuid": "9d28a95e-791a-4d52-94ff-96b810aac0fb",
     "showTitle": false,
     "title": ""
    }
   },
   "outputs": [],
   "source": [
    "def convert_to_snake_case(column_name):\n",
    "    return re.sub(r'\\s+|/+', '_', column_name).lower()\n",
    "\n",
    "def rename_all_columns_to_snake_case(df):\n",
    "    new_columns = [col(column).alias(convert_to_snake_case(column)) for column in df.columns]\n",
    "    return df.select(*new_columns)"
   ]
  },
  {
   "cell_type": "markdown",
   "metadata": {
    "application/vnd.databricks.v1+cell": {
     "cellMetadata": {},
     "inputWidgets": {},
     "nuid": "584f3906-7030-4ce2-b56d-114afa8b497c",
     "showTitle": false,
     "title": ""
    }
   },
   "source": [
    "##To Drop The Table"
   ]
  },
  {
   "cell_type": "code",
   "execution_count": 0,
   "metadata": {
    "application/vnd.databricks.v1+cell": {
     "cellMetadata": {
      "byteLimit": 2048000,
      "rowLimit": 10000
     },
     "inputWidgets": {},
     "nuid": "6cddc29a-fcb6-4a42-ac72-d3c45a0799a5",
     "showTitle": false,
     "title": ""
    }
   },
   "outputs": [],
   "source": [
    "def drop_colum(df,*colname):\n",
    "    return df.drop(*colname) "
   ]
  },
  {
   "cell_type": "markdown",
   "metadata": {
    "application/vnd.databricks.v1+cell": {
     "cellMetadata": {},
     "inputWidgets": {},
     "nuid": "4fb0e105-18e1-41b2-b46e-482f1d5c185d",
     "showTitle": false,
     "title": ""
    }
   },
   "source": [
    "##Filter Based On Column"
   ]
  },
  {
   "cell_type": "code",
   "execution_count": 0,
   "metadata": {
    "application/vnd.databricks.v1+cell": {
     "cellMetadata": {
      "byteLimit": 2048000,
      "rowLimit": 10000
     },
     "inputWidgets": {},
     "nuid": "5c7498a0-a809-45f3-a36f-fca4982ce8be",
     "showTitle": false,
     "title": ""
    }
   },
   "outputs": [],
   "source": [
    "def filter_on_pos(df, columns):\n",
    "    condition = (col(columns[0]) == col(columns[1])) & (col(columns[1]) == col(columns[2]))\n",
    "    filtered_df = df.filter(condition)\n",
    "    return filtered_df"
   ]
  },
  {
   "cell_type": "code",
   "execution_count": 0,
   "metadata": {
    "application/vnd.databricks.v1+cell": {
     "cellMetadata": {},
     "inputWidgets": {},
     "nuid": "ca6b3ed0-31b3-44df-85ba-9891a9cf933e",
     "showTitle": false,
     "title": ""
    }
   },
   "outputs": [],
   "source": []
  }
 ],
 "metadata": {
  "application/vnd.databricks.v1+notebook": {
   "dashboards": [],
   "language": "python",
   "notebookMetadata": {
    "pythonIndentUnit": 4
   },
   "notebookName": "common_functions",
   "widgets": {}
  }
 },
 "nbformat": 4,
 "nbformat_minor": 0
}
