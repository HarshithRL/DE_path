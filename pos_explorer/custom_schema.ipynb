{
 "cells": [
  {
   "cell_type": "code",
   "execution_count": 0,
   "metadata": {
    "application/vnd.databricks.v1+cell": {
     "cellMetadata": {
      "byteLimit": 2048000,
      "rowLimit": 10000
     },
     "inputWidgets": {},
     "nuid": "6c9ba00f-bfd3-4e9a-b071-8b4bd747d8d8",
     "showTitle": false,
     "title": ""
    }
   },
   "outputs": [],
   "source": [
    "from pyspark.sql.functions import *\n",
    "from pyspark.sql.types import *"
   ]
  },
  {
   "cell_type": "code",
   "execution_count": 0,
   "metadata": {
    "application/vnd.databricks.v1+cell": {
     "cellMetadata": {
      "byteLimit": 2048000,
      "rowLimit": 10000
     },
     "inputWidgets": {},
     "nuid": "5487e00f-3239-4277-ae89-9624476d2e4a",
     "showTitle": false,
     "title": ""
    }
   },
   "outputs": [],
   "source": [
    "schema = StructType([\n",
    "    StructField(\"ASM\", StringType(), True),\n",
    "    StructField(\"All Order Status\", StringType(), True),\n",
    "    StructField(\"Cart promotion rules\", StringType(), True),\n",
    "    StructField(\"Cart/voucher discount\", StringType(), True),\n",
    "    StructField(\"Consumer Email\", StringType(), True),\n",
    "    StructField(\"Consumer Id\", StringType(), True),\n",
    "    StructField(\"Currency\", StringType(), True),\n",
    "    StructField(\"Delivery city\", StringType(), True),\n",
    "    StructField(\"Delivery cost\", StringType(), True),\n",
    "    StructField(\"Delivery method\", StringType(), True),\n",
    "    StructField(\"Delivery postal code\", StringType(), True),\n",
    "    StructField(\"Final price\", StringType(), True),\n",
    "    StructField(\"Order Creation date\", StringType(), True),\n",
    "    StructField(\"Order Dispatch date\", StringType(), True),\n",
    "    StructField(\"Order ID\", StringType(), True),\n",
    "    StructField(\"Order Modification date\", StringType(), True),\n",
    "    StructField(\"Payment method\", StringType(), True),\n",
    "    StructField(\"Product Quantity\", StringType(), True),\n",
    "    StructField(\"Product basePrice\", StringType(), True),\n",
    "    StructField(\"Product promotion rules\", StringType(), True),\n",
    "    StructField(\"Rex Order ID\", StringType(), True),\n",
    "    StructField(\"SKU/PNC\", StringType(), True),\n",
    "    StructField(\"Source Code\", StringType(), True),\n",
    "    StructField(\"Source Name\", StringType(), True),\n",
    "    StructField(\"Total order discount\", StringType(), True),\n",
    "    StructField(\"Transaction amount\", StringType(), True),\n",
    "    StructField(\"VAT\", StringType(), True),\n",
    "    StructField(\"_corrupt_record\", StringType(), True),\n",
    "    StructField(\"country\", StringType(), True),\n",
    "    StructField(\"p_uid\", StringType(), True)\n",
    "])\n"
   ]
  },
  {
   "cell_type": "code",
   "execution_count": 0,
   "metadata": {
    "application/vnd.databricks.v1+cell": {
     "cellMetadata": {},
     "inputWidgets": {},
     "nuid": "3425dc8e-2b51-470d-9266-8f05642e6457",
     "showTitle": false,
     "title": ""
    }
   },
   "outputs": [],
   "source": []
  }
 ],
 "metadata": {
  "application/vnd.databricks.v1+notebook": {
   "dashboards": [],
   "language": "python",
   "notebookMetadata": {
    "pythonIndentUnit": 4
   },
   "notebookName": "custom_schema",
   "widgets": {}
  }
 },
 "nbformat": 4,
 "nbformat_minor": 0
}
